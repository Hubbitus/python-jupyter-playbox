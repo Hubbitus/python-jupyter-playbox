{
 "cells": [
  {
   "cell_type": "markdown",
   "metadata": {
    "tags": [],
    "toc": "true"
   },
   "source": [
    "<h1>Table of Contents<span class=\"tocSkip\"></span></h1>\n",
    "<div class=\"toc\"><ul class=\"toc-item\"><li><span><a href=\"#DataFrame\" data-toc-modified-id=\"DataFrame-1\"><span class=\"toc-item-num\">1&nbsp;&nbsp;</span>DataFrame</a></span><ul class=\"toc-item\"><li><span><a href=\"#Create\" data-toc-modified-id=\"Create-1.1\"><span class=\"toc-item-num\">1.1&nbsp;&nbsp;</span>Create</a></span><ul class=\"toc-item\"><li><span><a href=\"#DataFarme-dtypes-on-create\" data-toc-modified-id=\"DataFarme-dtypes-on-create-1.1.1\"><span class=\"toc-item-num\">1.1.1&nbsp;&nbsp;</span>DataFarme dtypes on create</a></span></li><li><span><a href=\"#Read-multiple-files-into-dataframe\" data-toc-modified-id=\"Read-multiple-files-into-dataframe-1.1.2\"><span class=\"toc-item-num\">1.1.2&nbsp;&nbsp;</span>Read multiple files into dataframe</a></span></li></ul></li><li><span><a href=\"#Indexing-/-Select-/-Search\" data-toc-modified-id=\"Indexing-/-Select-/-Search-1.2\"><span class=\"toc-item-num\">1.2&nbsp;&nbsp;</span>Indexing / Select / Search</a></span><ul class=\"toc-item\"><li><span><a href=\"#Row-(Строка)\" data-toc-modified-id=\"Row-(Строка)-1.2.1\"><span class=\"toc-item-num\">1.2.1&nbsp;&nbsp;</span>Row (Строка)</a></span></li><li><span><a href=\"#Column-(Столбец)\" data-toc-modified-id=\"Column-(Столбец)-1.2.2\"><span class=\"toc-item-num\">1.2.2&nbsp;&nbsp;</span>Column (Столбец)</a></span></li><li><span><a href=\"#Exact-point-(by-Row-and-Column)\" data-toc-modified-id=\"Exact-point-(by-Row-and-Column)-1.2.3\"><span class=\"toc-item-num\">1.2.3&nbsp;&nbsp;</span>Exact point (by Row and Column)</a></span></li><li><span><a href=\"#Select-columns-by-regex\" data-toc-modified-id=\"Select-columns-by-regex-1.2.4\"><span class=\"toc-item-num\">1.2.4&nbsp;&nbsp;</span>Select columns by regex</a></span><ul class=\"toc-item\"><li><span><a href=\"#Filter-rows\" data-toc-modified-id=\"Filter-rows-1.2.4.1\"><span class=\"toc-item-num\">1.2.4.1&nbsp;&nbsp;</span>Filter rows</a></span></li></ul></li><li><span><a href=\"#Selecting-Random-Samples\" data-toc-modified-id=\"Selecting-Random-Samples-1.2.5\"><span class=\"toc-item-num\">1.2.5&nbsp;&nbsp;</span>Selecting Random Samples</a></span></li><li><span><a href=\"#Max-by-Column\" data-toc-modified-id=\"Max-by-Column-1.2.6\"><span class=\"toc-item-num\">1.2.6&nbsp;&nbsp;</span>Max by Column</a></span></li><li><span><a href=\"#Search-by-complex-criteria-(+boolean-indexing).-Where-/-mask-/-query\" data-toc-modified-id=\"Search-by-complex-criteria-(+boolean-indexing).-Where-/-mask-/-query-1.2.7\"><span class=\"toc-item-num\">1.2.7&nbsp;&nbsp;</span>Search by complex criteria (+boolean indexing). Where / mask / query</a></span><ul class=\"toc-item\"><li><span><a href=\"#Where,-mask\" data-toc-modified-id=\"Where,-mask-1.2.7.1\"><span class=\"toc-item-num\">1.2.7.1&nbsp;&nbsp;</span>Where, mask</a></span></li><li><span><a href=\"#Query\" data-toc-modified-id=\"Query-1.2.7.2\"><span class=\"toc-item-num\">1.2.7.2&nbsp;&nbsp;</span>Query</a></span></li></ul></li><li><span><a href=\"#Stack-/-unstack\" data-toc-modified-id=\"Stack-/-unstack-1.2.8\"><span class=\"toc-item-num\">1.2.8&nbsp;&nbsp;</span>Stack / unstack</a></span></li></ul></li><li><span><a href=\"#Aggregate\" data-toc-modified-id=\"Aggregate-1.3\"><span class=\"toc-item-num\">1.3&nbsp;&nbsp;</span>Aggregate</a></span></li><li><span><a href=\"#Multiindex\" data-toc-modified-id=\"Multiindex-1.4\"><span class=\"toc-item-num\">1.4&nbsp;&nbsp;</span>Multiindex</a></span><ul class=\"toc-item\"><li><span><a href=\"#Simple-series\" data-toc-modified-id=\"Simple-series-1.4.1\"><span class=\"toc-item-num\">1.4.1&nbsp;&nbsp;</span>Simple series</a></span></li><li><span><a href=\"#DataFrame\" data-toc-modified-id=\"DataFrame-1.4.2\"><span class=\"toc-item-num\">1.4.2&nbsp;&nbsp;</span>DataFrame</a></span></li></ul></li><li><span><a href=\"#Манипуляции-с-DataFrame:-add-row/max/row-iteration\" data-toc-modified-id=\"Манипуляции-с-DataFrame:-add-row/max/row-iteration-1.5\"><span class=\"toc-item-num\">1.5&nbsp;&nbsp;</span>Манипуляции с DataFrame: add row/max/row iteration</a></span><ul class=\"toc-item\"><li><span><a href=\"#Create-from-nested-dict-(from_dict)\" data-toc-modified-id=\"Create-from-nested-dict-(from_dict)-1.5.1\"><span class=\"toc-item-num\">1.5.1&nbsp;&nbsp;</span>Create from nested dict (from_dict)</a></span><ul class=\"toc-item\"><li><span><a href=\"#DataFrame.from_records\" data-toc-modified-id=\"DataFrame.from_records-1.5.1.1\"><span class=\"toc-item-num\">1.5.1.1&nbsp;&nbsp;</span>DataFrame.from_records</a></span></li><li><span><a href=\"#DataFrame-concat\" data-toc-modified-id=\"DataFrame-concat-1.5.1.2\"><span class=\"toc-item-num\">1.5.1.2&nbsp;&nbsp;</span>DataFrame concat</a></span></li><li><span><a href=\"#DataFrame-apply(lambda)\" data-toc-modified-id=\"DataFrame-apply(lambda)-1.5.1.3\"><span class=\"toc-item-num\">1.5.1.3&nbsp;&nbsp;</span>DataFrame apply(lambda)</a></span></li><li><span><a href=\"#DataFrame-join()\" data-toc-modified-id=\"DataFrame-join()-1.5.1.4\"><span class=\"toc-item-num\">1.5.1.4&nbsp;&nbsp;</span>DataFrame join()</a></span></li></ul></li><li><span><a href=\"#Добавление-к-каждому-элементу-(elementwise-add)\" data-toc-modified-id=\"Добавление-к-каждому-элементу-(elementwise-add)-1.5.2\"><span class=\"toc-item-num\">1.5.2&nbsp;&nbsp;</span>Добавление к каждому элементу (elementwise add)</a></span></li><li><span><a href=\"#Добавление-строки-(add-row)\" data-toc-modified-id=\"Добавление-строки-(add-row)-1.5.3\"><span class=\"toc-item-num\">1.5.3&nbsp;&nbsp;</span>Добавление строки (add row)</a></span></li><li><span><a href=\"#Добавление-столбца-(add-column)\" data-toc-modified-id=\"Добавление-столбца-(add-column)-1.5.4\"><span class=\"toc-item-num\">1.5.4&nbsp;&nbsp;</span>Добавление столбца (add column)</a></span><ul class=\"toc-item\"><li><span><a href=\"#Добавление-нескольких-столбцов-(concat)\" data-toc-modified-id=\"Добавление-нескольких-столбцов-(concat)-1.5.4.1\"><span class=\"toc-item-num\">1.5.4.1&nbsp;&nbsp;</span>Добавление нескольких столбцов (concat)</a></span></li><li><span><a href=\"#Добавление-нескольких-столбцов-с-РАЗНОЙ-индексацией\" data-toc-modified-id=\"Добавление-нескольких-столбцов-с-РАЗНОЙ-индексацией-1.5.4.2\"><span class=\"toc-item-num\">1.5.4.2&nbsp;&nbsp;</span>Добавление нескольких столбцов с РАЗНОЙ индексацией</a></span></li></ul></li><li><span><a href=\"#Replace-columns\" data-toc-modified-id=\"Replace-columns-1.5.5\"><span class=\"toc-item-num\">1.5.5&nbsp;&nbsp;</span>Replace columns</a></span><ul class=\"toc-item\"><li><span><a href=\"#Same-amount\" data-toc-modified-id=\"Same-amount-1.5.5.1\"><span class=\"toc-item-num\">1.5.5.1&nbsp;&nbsp;</span>Same amount</a></span></li><li><span><a href=\"#Different-columns-(drop-2,-add-3)\" data-toc-modified-id=\"Different-columns-(drop-2,-add-3)-1.5.5.2\"><span class=\"toc-item-num\">1.5.5.2&nbsp;&nbsp;</span>Different columns (drop 2, add 3)</a></span></li><li><span><a href=\"#Do-NOT-preserve-indexes\" data-toc-modified-id=\"Do-NOT-preserve-indexes-1.5.5.3\"><span class=\"toc-item-num\">1.5.5.3&nbsp;&nbsp;</span>Do NOT preserve indexes</a></span></li></ul></li><li><span><a href=\"#Удаление-строк-(row-remove)\" data-toc-modified-id=\"Удаление-строк-(row-remove)-1.5.6\"><span class=\"toc-item-num\">1.5.6&nbsp;&nbsp;</span>Удаление строк (row remove)</a></span></li><li><span><a href=\"#Удаление-столбцов-(column-remove)\" data-toc-modified-id=\"Удаление-столбцов-(column-remove)-1.5.7\"><span class=\"toc-item-num\">1.5.7&nbsp;&nbsp;</span>Удаление столбцов (column remove)</a></span><ul class=\"toc-item\"><li><span><a href=\"#Safe-remove-if-exists\" data-toc-modified-id=\"Safe-remove-if-exists-1.5.7.1\"><span class=\"toc-item-num\">1.5.7.1&nbsp;&nbsp;</span>Safe remove if exists</a></span></li></ul></li><li><span><a href=\"#String-format-of-row-(row-unpacking)\" data-toc-modified-id=\"String-format-of-row-(row-unpacking)-1.5.8\"><span class=\"toc-item-num\">1.5.8&nbsp;&nbsp;</span>String format of row (row unpacking)</a></span></li><li><span><a href=\"#Columns-string-concat\" data-toc-modified-id=\"Columns-string-concat-1.5.9\"><span class=\"toc-item-num\">1.5.9&nbsp;&nbsp;</span>Columns string concat</a></span></li><li><span><a href=\"#Column-names-suffiexes/prefixes\" data-toc-modified-id=\"Column-names-suffiexes/prefixes-1.5.10\"><span class=\"toc-item-num\">1.5.10&nbsp;&nbsp;</span>Column names suffiexes/prefixes</a></span></li><li><span><a href=\"#Map,-apply\" data-toc-modified-id=\"Map,-apply-1.5.11\"><span class=\"toc-item-num\">1.5.11&nbsp;&nbsp;</span>Map, apply</a></span></li></ul></li><li><span><a href=\"#Nan,-Nulls\" data-toc-modified-id=\"Nan,-Nulls-1.6\"><span class=\"toc-item-num\">1.6&nbsp;&nbsp;</span>Nan, Nulls</a></span><ul class=\"toc-item\"><li><span><a href=\"#Count-nulls\" data-toc-modified-id=\"Count-nulls-1.6.1\"><span class=\"toc-item-num\">1.6.1&nbsp;&nbsp;</span>Count nulls</a></span></li><li><span><a href=\"#Rows-with-NaN-in-any-column\" data-toc-modified-id=\"Rows-with-NaN-in-any-column-1.6.2\"><span class=\"toc-item-num\">1.6.2&nbsp;&nbsp;</span>Rows with NaN in any column</a></span></li><li><span><a href=\"#Fillna-gaps\" data-toc-modified-id=\"Fillna-gaps-1.6.3\"><span class=\"toc-item-num\">1.6.3&nbsp;&nbsp;</span>Fillna gaps</a></span><ul class=\"toc-item\"><li><span><a href=\"#Interpolate\" data-toc-modified-id=\"Interpolate-1.6.3.1\"><span class=\"toc-item-num\">1.6.3.1&nbsp;&nbsp;</span>Interpolate</a></span></li></ul></li></ul></li><li><span><a href=\"#DataFrame-diff\" data-toc-modified-id=\"DataFrame-diff-1.7\"><span class=\"toc-item-num\">1.7&nbsp;&nbsp;</span>DataFrame diff</a></span><ul class=\"toc-item\"><li><span><a href=\"#Direct-!=\" data-toc-modified-id=\"Direct-!=-1.7.1\"><span class=\"toc-item-num\">1.7.1&nbsp;&nbsp;</span>Direct !=</a></span><ul class=\"toc-item\"><li><span><a href=\"#function-DataFrameDiff\" data-toc-modified-id=\"function-DataFrameDiff-1.7.1.1\"><span class=\"toc-item-num\">1.7.1.1&nbsp;&nbsp;</span>function DataFrameDiff</a></span></li></ul></li><li><span><a href=\"#Compare-not-identical-DataFrames\" data-toc-modified-id=\"Compare-not-identical-DataFrames-1.7.2\"><span class=\"toc-item-num\">1.7.2&nbsp;&nbsp;</span>Compare not identical DataFrames</a></span></li><li><span><a href=\"#Sort-columns-(Workaround-ValueError:-Can-only-compare-identically-labeled-DataFrame-objects)\" data-toc-modified-id=\"Sort-columns-(Workaround-ValueError:-Can-only-compare-identically-labeled-DataFrame-objects)-1.7.3\"><span class=\"toc-item-num\">1.7.3&nbsp;&nbsp;</span>Sort columns (Workaround ValueError: Can only compare identically-labeled DataFrame objects)</a></span></li><li><span><a href=\"#DataFrame-columns-correlations\" data-toc-modified-id=\"DataFrame-columns-correlations-1.7.4\"><span class=\"toc-item-num\">1.7.4&nbsp;&nbsp;</span>DataFrame columns correlations</a></span><ul class=\"toc-item\"><li><span><a href=\"#Find-tight-correlated:-Full-solution-http://stackoverflow.com/questions/24002820/returning-groups-of-correlated-columns-in-pandas-data-frame\" data-toc-modified-id=\"Find-tight-correlated:-Full-solution-http://stackoverflow.com/questions/24002820/returning-groups-of-correlated-columns-in-pandas-data-frame-1.7.4.1\"><span class=\"toc-item-num\">1.7.4.1&nbsp;&nbsp;</span>Find tight correlated: Full solution <a href=\"http://stackoverflow.com/questions/24002820/returning-groups-of-correlated-columns-in-pandas-data-frame\" target=\"_blank\">http://stackoverflow.com/questions/24002820/returning-groups-of-correlated-columns-in-pandas-data-frame</a></a></span></li></ul></li></ul></li><li><span><a href=\"#Statistics-statsmodel\" data-toc-modified-id=\"Statistics-statsmodel-1.8\"><span class=\"toc-item-num\">1.8&nbsp;&nbsp;</span>Statistics statsmodel</a></span><ul class=\"toc-item\"><li><span><a href=\"#Formulas\" data-toc-modified-id=\"Formulas-1.8.1\"><span class=\"toc-item-num\">1.8.1&nbsp;&nbsp;</span>Formulas</a></span></li></ul></li></ul></li><li><span><a href=\"#Dict\" data-toc-modified-id=\"Dict-2\"><span class=\"toc-item-num\">2&nbsp;&nbsp;</span>Dict</a></span><ul class=\"toc-item\"><li><span><a href=\"#Check-key-present\" data-toc-modified-id=\"Check-key-present-2.1\"><span class=\"toc-item-num\">2.1&nbsp;&nbsp;</span>Check key present</a></span></li></ul></li><li><span><a href=\"#Series\" data-toc-modified-id=\"Series-3\"><span class=\"toc-item-num\">3&nbsp;&nbsp;</span>Series</a></span><ul class=\"toc-item\"><li><span><a href=\"#Indexing\" data-toc-modified-id=\"Indexing-3.1\"><span class=\"toc-item-num\">3.1&nbsp;&nbsp;</span>Indexing</a></span><ul class=\"toc-item\"><li><span><a href=\"#is-in\" data-toc-modified-id=\"is-in-3.1.1\"><span class=\"toc-item-num\">3.1.1&nbsp;&nbsp;</span>is in</a></span></li></ul></li><li><span><a href=\"#Random\" data-toc-modified-id=\"Random-3.2\"><span class=\"toc-item-num\">3.2&nbsp;&nbsp;</span>Random</a></span></li><li><span><a href=\"#Time-series\" data-toc-modified-id=\"Time-series-3.3\"><span class=\"toc-item-num\">3.3&nbsp;&nbsp;</span>Time series</a></span><ul class=\"toc-item\"><li><span><a href=\"#Time-measure\" data-toc-modified-id=\"Time-measure-3.3.1\"><span class=\"toc-item-num\">3.3.1&nbsp;&nbsp;</span>Time measure</a></span></li></ul></li><li><span><a href=\"#Date,-Time\" data-toc-modified-id=\"Date,-Time-3.4\"><span class=\"toc-item-num\">3.4&nbsp;&nbsp;</span>Date, Time</a></span></li><li><span><a href=\"#numpy.zeros\" data-toc-modified-id=\"numpy.zeros-3.5\"><span class=\"toc-item-num\">3.5&nbsp;&nbsp;</span>numpy.zeros</a></span></li><li><span><a href=\"#Timedelta\" data-toc-modified-id=\"Timedelta-3.6\"><span class=\"toc-item-num\">3.6&nbsp;&nbsp;</span>Timedelta</a></span></li><li><span><a href=\"#Itertools\" data-toc-modified-id=\"Itertools-3.7\"><span class=\"toc-item-num\">3.7&nbsp;&nbsp;</span>Itertools</a></span></li></ul></li><li><span><a href=\"#Lists\" data-toc-modified-id=\"Lists-4\"><span class=\"toc-item-num\">4&nbsp;&nbsp;</span>Lists</a></span><ul class=\"toc-item\"><li><span><a href=\"#Intersection\" data-toc-modified-id=\"Intersection-4.1\"><span class=\"toc-item-num\">4.1&nbsp;&nbsp;</span>Intersection</a></span></li></ul></li><li><span><a href=\"#Formatting\" data-toc-modified-id=\"Formatting-5\"><span class=\"toc-item-num\">5&nbsp;&nbsp;</span>Formatting</a></span><ul class=\"toc-item\"><li><span><a href=\"#HTML,-%%asmarkdown-cell-magic\" data-toc-modified-id=\"HTML,-%%asmarkdown-cell-magic-5.1\"><span class=\"toc-item-num\">5.1&nbsp;&nbsp;</span>HTML, %%asmarkdown cell magic</a></span></li><li><span><a href=\"#DataFrame-formatting\" data-toc-modified-id=\"DataFrame-formatting-5.2\"><span class=\"toc-item-num\">5.2&nbsp;&nbsp;</span>DataFrame formatting</a></span></li></ul></li><li><span><a href=\"#Categorical-data\" data-toc-modified-id=\"Categorical-data-6\"><span class=\"toc-item-num\">6&nbsp;&nbsp;</span>Categorical data</a></span><ul class=\"toc-item\"><li><span><a href=\"#Cast-series\" data-toc-modified-id=\"Cast-series-6.1\"><span class=\"toc-item-num\">6.1&nbsp;&nbsp;</span>Cast series</a></span></li><li><span><a href=\"#Cast-DataFrame-columns\" data-toc-modified-id=\"Cast-DataFrame-columns-6.2\"><span class=\"toc-item-num\">6.2&nbsp;&nbsp;</span>Cast DataFrame columns</a></span></li><li><span><a href=\"#Pandas-get_dummies-(words-bag)\" data-toc-modified-id=\"Pandas-get_dummies-(words-bag)-6.3\"><span class=\"toc-item-num\">6.3&nbsp;&nbsp;</span>Pandas get_dummies (words bag)</a></span></li><li><span><a href=\"#sklearn.preprocessing.OneHotEncoder\" data-toc-modified-id=\"sklearn.preprocessing.OneHotEncoder-6.4\"><span class=\"toc-item-num\">6.4&nbsp;&nbsp;</span>sklearn.preprocessing.OneHotEncoder</a></span></li><li><span><a href=\"#Memory-consumption\" data-toc-modified-id=\"Memory-consumption-6.5\"><span class=\"toc-item-num\">6.5&nbsp;&nbsp;</span>Memory consumption</a></span></li><li><span><a href=\"#Cut-(bucket-ranging)\" data-toc-modified-id=\"Cut-(bucket-ranging)-6.6\"><span class=\"toc-item-num\">6.6&nbsp;&nbsp;</span>Cut (bucket ranging)</a></span></li></ul></li><li><span><a href=\"#Fitting\" data-toc-modified-id=\"Fitting-7\"><span class=\"toc-item-num\">7&nbsp;&nbsp;</span>Fitting</a></span><ul class=\"toc-item\"><li><span><a href=\"#GridSearchCV\" data-toc-modified-id=\"GridSearchCV-7.1\"><span class=\"toc-item-num\">7.1&nbsp;&nbsp;</span>GridSearchCV</a></span></li><li><span><a href=\"#LogisticRegressionCV\" data-toc-modified-id=\"LogisticRegressionCV-7.2\"><span class=\"toc-item-num\">7.2&nbsp;&nbsp;</span>LogisticRegressionCV</a></span></li></ul></li><li><span><a href=\"#Serialization\" data-toc-modified-id=\"Serialization-8\"><span class=\"toc-item-num\">8&nbsp;&nbsp;</span>Serialization</a></span><ul class=\"toc-item\"><li><span><a href=\"#Pickle\" data-toc-modified-id=\"Pickle-8.1\"><span class=\"toc-item-num\">8.1&nbsp;&nbsp;</span>Pickle</a></span><ul class=\"toc-item\"><li><span><a href=\"#So,-we-can't-save/restore-classes-which-changed-:(\" data-toc-modified-id=\"So,-we-can't-save/restore-classes-which-changed-:(-8.1.1\"><span class=\"toc-item-num\">8.1.1&nbsp;&nbsp;</span>So, we can't save/restore classes which changed :(</a></span></li></ul></li><li><span><a href=\"#Json\" data-toc-modified-id=\"Json-8.2\"><span class=\"toc-item-num\">8.2&nbsp;&nbsp;</span>Json</a></span><ul class=\"toc-item\"><li><span><a href=\"#jsonpickle\" data-toc-modified-id=\"jsonpickle-8.2.1\"><span class=\"toc-item-num\">8.2.1&nbsp;&nbsp;</span>jsonpickle</a></span></li></ul></li><li><span><a href=\"#Marshal\" data-toc-modified-id=\"Marshal-8.3\"><span class=\"toc-item-num\">8.3&nbsp;&nbsp;</span>Marshal</a></span></li></ul></li><li><span><a href=\"#Matching-vectorize\" data-toc-modified-id=\"Matching-vectorize-9\"><span class=\"toc-item-num\">9&nbsp;&nbsp;</span>Matching vectorize</a></span><ul class=\"toc-item\"><li><span><a href=\"#CrossValidationScorer-results\" data-toc-modified-id=\"CrossValidationScorer-results-9.1\"><span class=\"toc-item-num\">9.1&nbsp;&nbsp;</span>CrossValidationScorer results</a></span></li></ul></li><li><span><a href=\"#↡↡↡↡↡↡↡\" data-toc-modified-id=\"↡↡↡↡↡↡↡-10\"><span class=\"toc-item-num\">10&nbsp;&nbsp;</span>↡↡↡↡↡↡↡</a></span></li></ul></div>"
   ]
  },
  {
   "cell_type": "code",
   "execution_count": 1,
   "metadata": {
    "ExecuteTime": {
     "start_time": "2020-03-20T10:18:51.129Z"
    },
    "init_cell": true
   },
   "outputs": [],
   "source": [
    "import numpy\n",
    "import pandas\n",
    "from pandas import DataFrame"
   ]
  },
  {
   "cell_type": "markdown",
   "metadata": {},
   "source": [
    "# DataFrame"
   ]
  },
  {
   "cell_type": "markdown",
   "metadata": {},
   "source": [
    "## Create"
   ]
  },
  {
   "cell_type": "code",
   "execution_count": 2,
   "metadata": {
    "ExecuteTime": {
     "start_time": "2020-03-20T10:18:51.155Z"
    },
    "init_cell": true
   },
   "outputs": [
    {
     "data": {
      "text/plain": [
       "array([[ 1,  2,  3],\n",
       "       [11, 22, 33]])"
      ]
     },
     "execution_count": 2,
     "metadata": {},
     "output_type": "execute_result"
    }
   ],
   "source": [
    "a = numpy.array([[1, 2, 3], [11, 22, 33]])\n",
    "b = numpy.array([['a', 'b', 'c'], ['aa', 'bb', 'cc']])\n",
    "a"
   ]
  },
  {
   "cell_type": "code",
   "execution_count": 3,
   "metadata": {
    "ExecuteTime": {
     "start_time": "2020-03-20T10:18:51.171Z"
    }
   },
   "outputs": [
    {
     "data": {
      "text/plain": [
       "array([['a', 'b', 'c'],\n",
       "       ['aa', 'bb', 'cc']], dtype='<U2')"
      ]
     },
     "execution_count": 3,
     "metadata": {},
     "output_type": "execute_result"
    }
   ],
   "source": [
    "b"
   ]
  },
  {
   "cell_type": "code",
   "execution_count": 4,
   "metadata": {
    "ExecuteTime": {
     "start_time": "2020-03-20T10:18:51.188Z"
    }
   },
   "outputs": [
    {
     "data": {
      "text/html": [
       "<div>\n",
       "<style scoped>\n",
       "    .dataframe tbody tr th:only-of-type {\n",
       "        vertical-align: middle;\n",
       "    }\n",
       "\n",
       "    .dataframe tbody tr th {\n",
       "        vertical-align: top;\n",
       "    }\n",
       "\n",
       "    .dataframe thead th {\n",
       "        text-align: right;\n",
       "    }\n",
       "</style>\n",
       "<table border=\"1\" class=\"dataframe\">\n",
       "  <thead>\n",
       "    <tr style=\"text-align: right;\">\n",
       "      <th></th>\n",
       "      <th>0</th>\n",
       "      <th>1</th>\n",
       "      <th>2</th>\n",
       "    </tr>\n",
       "  </thead>\n",
       "  <tbody>\n",
       "    <tr>\n",
       "      <th>0</th>\n",
       "      <td>1</td>\n",
       "      <td>2</td>\n",
       "      <td>3</td>\n",
       "    </tr>\n",
       "    <tr>\n",
       "      <th>1</th>\n",
       "      <td>11</td>\n",
       "      <td>22</td>\n",
       "      <td>33</td>\n",
       "    </tr>\n",
       "  </tbody>\n",
       "</table>\n",
       "</div>"
      ],
      "text/plain": [
       "    0   1   2\n",
       "0   1   2   3\n",
       "1  11  22  33"
      ]
     },
     "execution_count": 4,
     "metadata": {},
     "output_type": "execute_result"
    }
   ],
   "source": [
    "DataFrame(a)"
   ]
  },
  {
   "cell_type": "code",
   "execution_count": 5,
   "metadata": {
    "ExecuteTime": {
     "start_time": "2020-03-20T10:18:51.206Z"
    }
   },
   "outputs": [
    {
     "data": {
      "text/html": [
       "<div>\n",
       "<style scoped>\n",
       "    .dataframe tbody tr th:only-of-type {\n",
       "        vertical-align: middle;\n",
       "    }\n",
       "\n",
       "    .dataframe tbody tr th {\n",
       "        vertical-align: top;\n",
       "    }\n",
       "\n",
       "    .dataframe thead th {\n",
       "        text-align: right;\n",
       "    }\n",
       "</style>\n",
       "<table border=\"1\" class=\"dataframe\">\n",
       "  <thead>\n",
       "    <tr style=\"text-align: right;\">\n",
       "      <th></th>\n",
       "      <th>0</th>\n",
       "      <th>1</th>\n",
       "      <th>2</th>\n",
       "    </tr>\n",
       "  </thead>\n",
       "  <tbody>\n",
       "    <tr>\n",
       "      <th>0</th>\n",
       "      <td>a</td>\n",
       "      <td>b</td>\n",
       "      <td>c</td>\n",
       "    </tr>\n",
       "    <tr>\n",
       "      <th>1</th>\n",
       "      <td>aa</td>\n",
       "      <td>bb</td>\n",
       "      <td>cc</td>\n",
       "    </tr>\n",
       "  </tbody>\n",
       "</table>\n",
       "</div>"
      ],
      "text/plain": [
       "    0   1   2\n",
       "0   a   b   c\n",
       "1  aa  bb  cc"
      ]
     },
     "execution_count": 5,
     "metadata": {},
     "output_type": "execute_result"
    }
   ],
   "source": [
    "DataFrame(b)"
   ]
  },
  {
   "cell_type": "code",
   "execution_count": 6,
   "metadata": {
    "ExecuteTime": {
     "start_time": "2020-03-20T10:18:51.222Z"
    }
   },
   "outputs": [
    {
     "data": {
      "text/plain": [
       "array([['1', '2', '3', 'a', 'b', 'c'],\n",
       "       ['11', '22', '33', 'aa', 'bb', 'cc']], dtype='<U21')"
      ]
     },
     "execution_count": 6,
     "metadata": {},
     "output_type": "execute_result"
    }
   ],
   "source": [
    "# http://docs.scipy.org/doc/numpy-1.10.0/reference/generated/numpy.hstack.html#numpy.hstack\n",
    "ab = numpy.hstack((a, b))\n",
    "ab"
   ]
  },
  {
   "cell_type": "code",
   "execution_count": 7,
   "metadata": {
    "ExecuteTime": {
     "start_time": "2020-03-20T10:18:51.235Z"
    }
   },
   "outputs": [
    {
     "data": {
      "text/html": [
       "<div>\n",
       "<style scoped>\n",
       "    .dataframe tbody tr th:only-of-type {\n",
       "        vertical-align: middle;\n",
       "    }\n",
       "\n",
       "    .dataframe tbody tr th {\n",
       "        vertical-align: top;\n",
       "    }\n",
       "\n",
       "    .dataframe thead th {\n",
       "        text-align: right;\n",
       "    }\n",
       "</style>\n",
       "<table border=\"1\" class=\"dataframe\">\n",
       "  <thead>\n",
       "    <tr style=\"text-align: right;\">\n",
       "      <th></th>\n",
       "      <th>0</th>\n",
       "      <th>1</th>\n",
       "      <th>2</th>\n",
       "      <th>3</th>\n",
       "      <th>4</th>\n",
       "      <th>5</th>\n",
       "    </tr>\n",
       "  </thead>\n",
       "  <tbody>\n",
       "    <tr>\n",
       "      <th>0</th>\n",
       "      <td>1</td>\n",
       "      <td>2</td>\n",
       "      <td>3</td>\n",
       "      <td>a</td>\n",
       "      <td>b</td>\n",
       "      <td>c</td>\n",
       "    </tr>\n",
       "    <tr>\n",
       "      <th>1</th>\n",
       "      <td>11</td>\n",
       "      <td>22</td>\n",
       "      <td>33</td>\n",
       "      <td>aa</td>\n",
       "      <td>bb</td>\n",
       "      <td>cc</td>\n",
       "    </tr>\n",
       "  </tbody>\n",
       "</table>\n",
       "</div>"
      ],
      "text/plain": [
       "    0   1   2   3   4   5\n",
       "0   1   2   3   a   b   c\n",
       "1  11  22  33  aa  bb  cc"
      ]
     },
     "execution_count": 7,
     "metadata": {},
     "output_type": "execute_result"
    }
   ],
   "source": [
    "DataFrame(ab)"
   ]
  },
  {
   "cell_type": "markdown",
   "metadata": {},
   "source": [
    "### DataFarme dtypes on create\n",
    "\n",
    "https://github.com/pydata/pandas/issues/9133"
   ]
  },
  {
   "cell_type": "code",
   "execution_count": 8,
   "metadata": {
    "ExecuteTime": {
     "start_time": "2020-03-20T10:18:51.256Z"
    },
    "scrolled": true
   },
   "outputs": [],
   "source": [
    "#df = DataFrame(index=range(0,4),columns=['A', 'B'], dtype={'A': 'int', 'B': 'float'})\n",
    "#df = DataFrame(index=range(0,4),columns=['A', 'B'], dtype=[('A', 'int'), ('B', 'float')])\n",
    "# Error: NotImplementedError: compound dtypes are not implementedin the DataFrame constructor\n",
    "#df.dtypes"
   ]
  },
  {
   "cell_type": "markdown",
   "metadata": {},
   "source": [
    "### Read multiple files into dataframe"
   ]
  },
  {
   "cell_type": "code",
   "execution_count": 9,
   "metadata": {
    "ExecuteTime": {
     "end_time": "2020-03-20T10:23:47.982902Z",
     "start_time": "2020-03-20T10:23:47.966336Z"
    }
   },
   "outputs": [
    {
     "name": "stdout",
     "output_type": "stream",
     "text": [
      "n_estimators      float64\n",
      "learning_rate     float64\n",
      "max_depth         float64\n",
      "subsample         float64\n",
      "max_features      float64\n",
      "auc_roc           float64\n",
      "time_elapsed       object\n",
      "cpu_time_spent     object\n",
      "dtype: object\n"
     ]
    },
    {
     "data": {
      "text/plain": [
       "pandas._libs.tslibs.timedeltas.Timedelta"
      ]
     },
     "execution_count": 9,
     "metadata": {},
     "output_type": "execute_result"
    }
   ],
   "source": [
    "_df = pandas.read_csv(\n",
    "    'data/gradient_cross_score_extended_n=10.csv'\n",
    "#            ,parse_dates=True, infer_datetime_format=True\n",
    ")\n",
    "print (_df.dtypes)\n",
    "type(pandas.to_timedelta(_df['time_elapsed'])[0])"
   ]
  },
  {
   "cell_type": "markdown",
   "metadata": {},
   "source": [
    "That magic will parse automatically dates, but NOT timedelta's! Spent many time understand. Bug still open: https://github.com/pydata/pandas/issues/8185 (see also explanation in https://github.com/pydata/pandas/issues/4378#issuecomment-24334259)\n",
    "And my comment: http://stackoverflow.com/questions/21906715/how-to-get-pandas-read-csv-to-infer-datetime-and-timedelta-types-from-csv-file#comment59643668_21907505\n",
    "!!!"
   ]
  },
  {
   "cell_type": "code",
   "execution_count": 10,
   "metadata": {
    "ExecuteTime": {
     "start_time": "2020-03-20T10:18:51.294Z"
    },
    "scrolled": true
   },
   "outputs": [
    {
     "name": "stdout",
     "output_type": "stream",
     "text": [
      "(324, 8)\n",
      "n_estimators      float64\n",
      "learning_rate     float64\n",
      "max_depth         float64\n",
      "subsample         float64\n",
      "max_features      float64\n",
      "auc_roc           float64\n",
      "time_elapsed       object\n",
      "cpu_time_spent     object\n",
      "dtype: object\n",
      "n_estimators              float64\n",
      "learning_rate             float64\n",
      "max_depth                 float64\n",
      "subsample                 float64\n",
      "max_features              float64\n",
      "auc_roc                   float64\n",
      "time_elapsed      timedelta64[ns]\n",
      "cpu_time_spent    timedelta64[ns]\n",
      "dtype: object\n"
     ]
    },
    {
     "data": {
      "text/html": [
       "<div>\n",
       "<style scoped>\n",
       "    .dataframe tbody tr th:only-of-type {\n",
       "        vertical-align: middle;\n",
       "    }\n",
       "\n",
       "    .dataframe tbody tr th {\n",
       "        vertical-align: top;\n",
       "    }\n",
       "\n",
       "    .dataframe thead th {\n",
       "        text-align: right;\n",
       "    }\n",
       "</style>\n",
       "<table border=\"1\" class=\"dataframe\">\n",
       "  <thead>\n",
       "    <tr style=\"text-align: right;\">\n",
       "      <th></th>\n",
       "      <th>n_estimators</th>\n",
       "      <th>learning_rate</th>\n",
       "      <th>max_depth</th>\n",
       "      <th>subsample</th>\n",
       "      <th>max_features</th>\n",
       "      <th>auc_roc</th>\n",
       "      <th>time_elapsed</th>\n",
       "      <th>cpu_time_spent</th>\n",
       "    </tr>\n",
       "  </thead>\n",
       "  <tbody>\n",
       "    <tr>\n",
       "      <th>0</th>\n",
       "      <td>10.0</td>\n",
       "      <td>0.1</td>\n",
       "      <td>0.1</td>\n",
       "      <td>0.1</td>\n",
       "      <td>0.1</td>\n",
       "      <td>0.5</td>\n",
       "      <td>0 days 00:00:09.297512</td>\n",
       "      <td>0 days 00:00:00.425086</td>\n",
       "    </tr>\n",
       "    <tr>\n",
       "      <th>1</th>\n",
       "      <td>10.0</td>\n",
       "      <td>0.1</td>\n",
       "      <td>0.1</td>\n",
       "      <td>0.1</td>\n",
       "      <td>0.5</td>\n",
       "      <td>0.5</td>\n",
       "      <td>0 days 00:00:10.224180</td>\n",
       "      <td>0 days 00:00:00.447232</td>\n",
       "    </tr>\n",
       "    <tr>\n",
       "      <th>2</th>\n",
       "      <td>10.0</td>\n",
       "      <td>0.1</td>\n",
       "      <td>0.1</td>\n",
       "      <td>0.1</td>\n",
       "      <td>1.0</td>\n",
       "      <td>0.5</td>\n",
       "      <td>0 days 00:00:10.204741</td>\n",
       "      <td>0 days 00:00:00.419867</td>\n",
       "    </tr>\n",
       "    <tr>\n",
       "      <th>3</th>\n",
       "      <td>10.0</td>\n",
       "      <td>0.1</td>\n",
       "      <td>0.1</td>\n",
       "      <td>0.5</td>\n",
       "      <td>0.1</td>\n",
       "      <td>0.5</td>\n",
       "      <td>0 days 00:00:10.406008</td>\n",
       "      <td>0 days 00:00:00.417316</td>\n",
       "    </tr>\n",
       "    <tr>\n",
       "      <th>4</th>\n",
       "      <td>10.0</td>\n",
       "      <td>0.1</td>\n",
       "      <td>0.1</td>\n",
       "      <td>0.5</td>\n",
       "      <td>0.5</td>\n",
       "      <td>0.5</td>\n",
       "      <td>0 days 00:00:09.697904</td>\n",
       "      <td>0 days 00:00:00.433964</td>\n",
       "    </tr>\n",
       "  </tbody>\n",
       "</table>\n",
       "</div>"
      ],
      "text/plain": [
       "   n_estimators  learning_rate  max_depth  subsample  max_features  auc_roc  \\\n",
       "0          10.0            0.1        0.1        0.1           0.1      0.5   \n",
       "1          10.0            0.1        0.1        0.1           0.5      0.5   \n",
       "2          10.0            0.1        0.1        0.1           1.0      0.5   \n",
       "3          10.0            0.1        0.1        0.5           0.1      0.5   \n",
       "4          10.0            0.1        0.1        0.5           0.5      0.5   \n",
       "\n",
       "            time_elapsed         cpu_time_spent  \n",
       "0 0 days 00:00:09.297512 0 days 00:00:00.425086  \n",
       "1 0 days 00:00:10.224180 0 days 00:00:00.447232  \n",
       "2 0 days 00:00:10.204741 0 days 00:00:00.419867  \n",
       "3 0 days 00:00:10.406008 0 days 00:00:00.417316  \n",
       "4 0 days 00:00:09.697904 0 days 00:00:00.433964  "
      ]
     },
     "execution_count": 10,
     "metadata": {},
     "output_type": "execute_result"
    }
   ],
   "source": [
    "# Read back multiple files into dataframe:\n",
    "# http://stackoverflow.com/questions/20906474/import-multiple-csv-files-into-pandas-and-concatenate-into-one-dataframe\n",
    "import glob\n",
    "df = pandas.concat(\n",
    "    (\n",
    "        pandas.read_csv(\n",
    "            f\n",
    "            ,parse_dates=['time_elapsed'], infer_datetime_format=True\n",
    "        ) for f in glob.glob(\"data/gradient_cross_score_extended_n=*.csv\")\n",
    "    )\n",
    "    ,ignore_index=True # Important to do not have dupes in indexes! See below.\n",
    ")\n",
    "print (df.shape)\n",
    "print (df.dtypes)\n",
    "df['time_elapsed'] = pandas.to_timedelta(df['time_elapsed'])\n",
    "df['cpu_time_spent'] = pandas.to_timedelta(df['cpu_time_spent'])\n",
    "print (df.dtypes)\n",
    "df.head()"
   ]
  },
  {
   "cell_type": "code",
   "execution_count": 11,
   "metadata": {
    "ExecuteTime": {
     "start_time": "2020-03-20T10:18:51.308Z"
    }
   },
   "outputs": [
    {
     "name": "stdout",
     "output_type": "stream",
     "text": [
      "(324, 8)\n"
     ]
    },
    {
     "data": {
      "text/plain": [
       "n_estimators                           10.0\n",
       "learning_rate                           0.1\n",
       "max_depth                               1.0\n",
       "subsample                               0.1\n",
       "max_features                            0.5\n",
       "auc_roc                            0.622976\n",
       "time_elapsed      0 days 00:00:10.431367000\n",
       "cpu_time_spent    0 days 00:00:00.450505000\n",
       "Name: 10, dtype: object"
      ]
     },
     "execution_count": 11,
     "metadata": {},
     "output_type": "execute_result"
    }
   ],
   "source": [
    "# ignore_index=True important!\n",
    "df = pandas.concat(\n",
    "    (pandas.read_csv(f) for f in glob.glob(\"data/gradient_cross_score_extended_n=*.csv\"))\n",
    "    , ignore_index=True\n",
    ")\n",
    "print (df.shape)\n",
    "df\n",
    "# 4 rows with index 10!!!\n",
    "df.loc[10]"
   ]
  },
  {
   "cell_type": "code",
   "execution_count": 12,
   "metadata": {
    "ExecuteTime": {
     "start_time": "2020-03-20T10:18:51.319Z"
    }
   },
   "outputs": [
    {
     "data": {
      "text/html": [
       "<div>\n",
       "<style scoped>\n",
       "    .dataframe tbody tr th:only-of-type {\n",
       "        vertical-align: middle;\n",
       "    }\n",
       "\n",
       "    .dataframe tbody tr th {\n",
       "        vertical-align: top;\n",
       "    }\n",
       "\n",
       "    .dataframe thead th {\n",
       "        text-align: right;\n",
       "    }\n",
       "</style>\n",
       "<table border=\"1\" class=\"dataframe\">\n",
       "  <thead>\n",
       "    <tr style=\"text-align: right;\">\n",
       "      <th></th>\n",
       "      <th>n_estimators</th>\n",
       "      <th>learning_rate</th>\n",
       "      <th>max_depth</th>\n",
       "      <th>subsample</th>\n",
       "      <th>max_features</th>\n",
       "      <th>auc_roc</th>\n",
       "      <th>time_elapsed</th>\n",
       "      <th>cpu_time_spent</th>\n",
       "    </tr>\n",
       "  </thead>\n",
       "  <tbody>\n",
       "    <tr>\n",
       "      <th>0</th>\n",
       "      <td>10.0</td>\n",
       "      <td>0.1</td>\n",
       "      <td>0.1</td>\n",
       "      <td>0.1</td>\n",
       "      <td>0.1</td>\n",
       "      <td>0.5</td>\n",
       "      <td>0 days 00:00:09.297512000</td>\n",
       "      <td>0 days 00:00:00.425086000</td>\n",
       "    </tr>\n",
       "    <tr>\n",
       "      <th>1</th>\n",
       "      <td>10.0</td>\n",
       "      <td>0.1</td>\n",
       "      <td>0.1</td>\n",
       "      <td>0.1</td>\n",
       "      <td>0.5</td>\n",
       "      <td>0.5</td>\n",
       "      <td>0 days 00:00:10.224180000</td>\n",
       "      <td>0 days 00:00:00.447232000</td>\n",
       "    </tr>\n",
       "    <tr>\n",
       "      <th>2</th>\n",
       "      <td>10.0</td>\n",
       "      <td>0.1</td>\n",
       "      <td>0.1</td>\n",
       "      <td>0.1</td>\n",
       "      <td>1.0</td>\n",
       "      <td>0.5</td>\n",
       "      <td>0 days 00:00:10.204741000</td>\n",
       "      <td>0 days 00:00:00.419867000</td>\n",
       "    </tr>\n",
       "    <tr>\n",
       "      <th>3</th>\n",
       "      <td>10.0</td>\n",
       "      <td>0.1</td>\n",
       "      <td>0.1</td>\n",
       "      <td>0.5</td>\n",
       "      <td>0.1</td>\n",
       "      <td>0.5</td>\n",
       "      <td>0 days 00:00:10.406008000</td>\n",
       "      <td>0 days 00:00:00.417316000</td>\n",
       "    </tr>\n",
       "    <tr>\n",
       "      <th>4</th>\n",
       "      <td>10.0</td>\n",
       "      <td>0.1</td>\n",
       "      <td>0.1</td>\n",
       "      <td>0.5</td>\n",
       "      <td>0.5</td>\n",
       "      <td>0.5</td>\n",
       "      <td>0 days 00:00:09.697904000</td>\n",
       "      <td>0 days 00:00:00.433964000</td>\n",
       "    </tr>\n",
       "  </tbody>\n",
       "</table>\n",
       "</div>"
      ],
      "text/plain": [
       "   n_estimators  learning_rate  max_depth  subsample  max_features  auc_roc  \\\n",
       "0          10.0            0.1        0.1        0.1           0.1      0.5   \n",
       "1          10.0            0.1        0.1        0.1           0.5      0.5   \n",
       "2          10.0            0.1        0.1        0.1           1.0      0.5   \n",
       "3          10.0            0.1        0.1        0.5           0.1      0.5   \n",
       "4          10.0            0.1        0.1        0.5           0.5      0.5   \n",
       "\n",
       "                time_elapsed             cpu_time_spent  \n",
       "0  0 days 00:00:09.297512000  0 days 00:00:00.425086000  \n",
       "1  0 days 00:00:10.224180000  0 days 00:00:00.447232000  \n",
       "2  0 days 00:00:10.204741000  0 days 00:00:00.419867000  \n",
       "3  0 days 00:00:10.406008000  0 days 00:00:00.417316000  \n",
       "4  0 days 00:00:09.697904000  0 days 00:00:00.433964000  "
      ]
     },
     "execution_count": 12,
     "metadata": {},
     "output_type": "execute_result"
    }
   ],
   "source": [
    "df.index = range(df.shape[0])\n",
    "df.head()"
   ]
  },
  {
   "cell_type": "code",
   "execution_count": 13,
   "metadata": {
    "ExecuteTime": {
     "start_time": "2020-03-20T10:18:51.330Z"
    },
    "scrolled": true
   },
   "outputs": [
    {
     "data": {
      "text/plain": [
       "n_estimators                           10.0\n",
       "learning_rate                           0.1\n",
       "max_depth                               1.0\n",
       "subsample                               0.1\n",
       "max_features                            0.5\n",
       "auc_roc                            0.622976\n",
       "time_elapsed      0 days 00:00:10.431367000\n",
       "cpu_time_spent    0 days 00:00:00.450505000\n",
       "Name: 10, dtype: object"
      ]
     },
     "execution_count": 13,
     "metadata": {},
     "output_type": "execute_result"
    }
   ],
   "source": [
    "# Now one row!\n",
    "df.loc[10]"
   ]
  },
  {
   "cell_type": "markdown",
   "metadata": {},
   "source": [
    "## Indexing / Select / Search"
   ]
  },
  {
   "cell_type": "code",
   "execution_count": 14,
   "metadata": {
    "ExecuteTime": {
     "start_time": "2020-03-20T10:18:51.347Z"
    },
    "init_cell": true
   },
   "outputs": [
    {
     "data": {
      "text/html": [
       "<div>\n",
       "<style scoped>\n",
       "    .dataframe tbody tr th:only-of-type {\n",
       "        vertical-align: middle;\n",
       "    }\n",
       "\n",
       "    .dataframe tbody tr th {\n",
       "        vertical-align: top;\n",
       "    }\n",
       "\n",
       "    .dataframe thead th {\n",
       "        text-align: right;\n",
       "    }\n",
       "</style>\n",
       "<table border=\"1\" class=\"dataframe\">\n",
       "  <thead>\n",
       "    <tr style=\"text-align: right;\">\n",
       "      <th></th>\n",
       "      <th>train</th>\n",
       "      <th>test</th>\n",
       "    </tr>\n",
       "  </thead>\n",
       "  <tbody>\n",
       "    <tr>\n",
       "      <th>10</th>\n",
       "      <td>1</td>\n",
       "      <td>2</td>\n",
       "    </tr>\n",
       "    <tr>\n",
       "      <th>20</th>\n",
       "      <td>3</td>\n",
       "      <td>8</td>\n",
       "    </tr>\n",
       "    <tr>\n",
       "      <th>30</th>\n",
       "      <td>7</td>\n",
       "      <td>8</td>\n",
       "    </tr>\n",
       "    <tr>\n",
       "      <th>40</th>\n",
       "      <td>12</td>\n",
       "      <td>9</td>\n",
       "    </tr>\n",
       "    <tr>\n",
       "      <th>50</th>\n",
       "      <td>17</td>\n",
       "      <td>18</td>\n",
       "    </tr>\n",
       "  </tbody>\n",
       "</table>\n",
       "</div>"
      ],
      "text/plain": [
       "    train  test\n",
       "10      1     2\n",
       "20      3     8\n",
       "30      7     8\n",
       "40     12     9\n",
       "50     17    18"
      ]
     },
     "execution_count": 14,
     "metadata": {},
     "output_type": "execute_result"
    }
   ],
   "source": [
    "d = DataFrame([[1, 2], [3, 8], [7, 8], [12, 9], [17, 18]], columns=['train', 'test'])\n",
    "d.index = [10, 20, 30, 40, 50]\n",
    "d"
   ]
  },
  {
   "cell_type": "markdown",
   "metadata": {},
   "source": [
    "### Row (Строка)"
   ]
  },
  {
   "cell_type": "code",
   "execution_count": 15,
   "metadata": {
    "ExecuteTime": {
     "start_time": "2020-03-20T10:18:51.365Z"
    }
   },
   "outputs": [
    {
     "data": {
      "text/plain": [
       "train    1\n",
       "test     2\n",
       "Name: 10, dtype: int64"
      ]
     },
     "execution_count": 15,
     "metadata": {},
     "output_type": "execute_result"
    }
   ],
   "source": [
    "# 0 row:\n",
    "d.loc[10]"
   ]
  },
  {
   "cell_type": "code",
   "execution_count": 16,
   "metadata": {
    "ExecuteTime": {
     "start_time": "2020-03-20T10:18:51.390Z"
    }
   },
   "outputs": [
    {
     "data": {
      "text/html": [
       "<div>\n",
       "<style scoped>\n",
       "    .dataframe tbody tr th:only-of-type {\n",
       "        vertical-align: middle;\n",
       "    }\n",
       "\n",
       "    .dataframe tbody tr th {\n",
       "        vertical-align: top;\n",
       "    }\n",
       "\n",
       "    .dataframe thead th {\n",
       "        text-align: right;\n",
       "    }\n",
       "</style>\n",
       "<table border=\"1\" class=\"dataframe\">\n",
       "  <thead>\n",
       "    <tr style=\"text-align: right;\">\n",
       "      <th></th>\n",
       "      <th>train</th>\n",
       "      <th>test</th>\n",
       "    </tr>\n",
       "  </thead>\n",
       "  <tbody>\n",
       "    <tr>\n",
       "      <th>10</th>\n",
       "      <td>1</td>\n",
       "      <td>2</td>\n",
       "    </tr>\n",
       "    <tr>\n",
       "      <th>20</th>\n",
       "      <td>3</td>\n",
       "      <td>8</td>\n",
       "    </tr>\n",
       "    <tr>\n",
       "      <th>30</th>\n",
       "      <td>7</td>\n",
       "      <td>8</td>\n",
       "    </tr>\n",
       "  </tbody>\n",
       "</table>\n",
       "</div>"
      ],
      "text/plain": [
       "    train  test\n",
       "10      1     2\n",
       "20      3     8\n",
       "30      7     8"
      ]
     },
     "execution_count": 16,
     "metadata": {},
     "output_type": "execute_result"
    }
   ],
   "source": [
    "# 3 rows:\n",
    "d.loc[10:30]"
   ]
  },
  {
   "cell_type": "markdown",
   "metadata": {},
   "source": [
    "### Column (Столбец)"
   ]
  },
  {
   "cell_type": "code",
   "execution_count": 17,
   "metadata": {
    "ExecuteTime": {
     "start_time": "2020-03-20T10:18:51.419Z"
    }
   },
   "outputs": [
    {
     "data": {
      "text/plain": [
       "10     1\n",
       "20     3\n",
       "30     7\n",
       "40    12\n",
       "50    17\n",
       "Name: train, dtype: int64"
      ]
     },
     "execution_count": 17,
     "metadata": {},
     "output_type": "execute_result"
    }
   ],
   "source": [
    "d.train"
   ]
  },
  {
   "cell_type": "code",
   "execution_count": 18,
   "metadata": {
    "ExecuteTime": {
     "start_time": "2020-03-20T10:18:51.430Z"
    }
   },
   "outputs": [
    {
     "data": {
      "text/plain": [
       "10     1\n",
       "20     3\n",
       "30     7\n",
       "40    12\n",
       "50    17\n",
       "Name: train, dtype: int64"
      ]
     },
     "execution_count": 18,
     "metadata": {},
     "output_type": "execute_result"
    }
   ],
   "source": [
    "d['train']"
   ]
  },
  {
   "cell_type": "code",
   "execution_count": 19,
   "metadata": {
    "ExecuteTime": {
     "start_time": "2020-03-20T10:18:51.443Z"
    }
   },
   "outputs": [
    {
     "data": {
      "text/plain": [
       "10     1\n",
       "20     3\n",
       "30     7\n",
       "40    12\n",
       "50    17\n",
       "Name: train, dtype: int64"
      ]
     },
     "execution_count": 19,
     "metadata": {},
     "output_type": "execute_result"
    }
   ],
   "source": [
    "d.loc[:,'train']"
   ]
  },
  {
   "cell_type": "code",
   "execution_count": 20,
   "metadata": {
    "ExecuteTime": {
     "start_time": "2020-03-20T10:18:51.453Z"
    }
   },
   "outputs": [
    {
     "data": {
      "text/html": [
       "<div>\n",
       "<style scoped>\n",
       "    .dataframe tbody tr th:only-of-type {\n",
       "        vertical-align: middle;\n",
       "    }\n",
       "\n",
       "    .dataframe tbody tr th {\n",
       "        vertical-align: top;\n",
       "    }\n",
       "\n",
       "    .dataframe thead th {\n",
       "        text-align: right;\n",
       "    }\n",
       "</style>\n",
       "<table border=\"1\" class=\"dataframe\">\n",
       "  <thead>\n",
       "    <tr style=\"text-align: right;\">\n",
       "      <th></th>\n",
       "      <th>train</th>\n",
       "      <th>test</th>\n",
       "    </tr>\n",
       "  </thead>\n",
       "  <tbody>\n",
       "    <tr>\n",
       "      <th>10</th>\n",
       "      <td>1</td>\n",
       "      <td>2</td>\n",
       "    </tr>\n",
       "    <tr>\n",
       "      <th>20</th>\n",
       "      <td>3</td>\n",
       "      <td>8</td>\n",
       "    </tr>\n",
       "    <tr>\n",
       "      <th>30</th>\n",
       "      <td>7</td>\n",
       "      <td>8</td>\n",
       "    </tr>\n",
       "    <tr>\n",
       "      <th>40</th>\n",
       "      <td>12</td>\n",
       "      <td>9</td>\n",
       "    </tr>\n",
       "    <tr>\n",
       "      <th>50</th>\n",
       "      <td>17</td>\n",
       "      <td>18</td>\n",
       "    </tr>\n",
       "  </tbody>\n",
       "</table>\n",
       "</div>"
      ],
      "text/plain": [
       "    train  test\n",
       "10      1     2\n",
       "20      3     8\n",
       "30      7     8\n",
       "40     12     9\n",
       "50     17    18"
      ]
     },
     "execution_count": 20,
     "metadata": {},
     "output_type": "execute_result"
    }
   ],
   "source": [
    "d.loc[:,'train':'test']"
   ]
  },
  {
   "cell_type": "code",
   "execution_count": 21,
   "metadata": {
    "ExecuteTime": {
     "start_time": "2020-03-20T10:18:51.473Z"
    }
   },
   "outputs": [
    {
     "data": {
      "text/html": [
       "<div>\n",
       "<style scoped>\n",
       "    .dataframe tbody tr th:only-of-type {\n",
       "        vertical-align: middle;\n",
       "    }\n",
       "\n",
       "    .dataframe tbody tr th {\n",
       "        vertical-align: top;\n",
       "    }\n",
       "\n",
       "    .dataframe thead th {\n",
       "        text-align: right;\n",
       "    }\n",
       "</style>\n",
       "<table border=\"1\" class=\"dataframe\">\n",
       "  <thead>\n",
       "    <tr style=\"text-align: right;\">\n",
       "      <th></th>\n",
       "      <th>train</th>\n",
       "      <th>test</th>\n",
       "    </tr>\n",
       "  </thead>\n",
       "  <tbody>\n",
       "    <tr>\n",
       "      <th>10</th>\n",
       "      <td>1</td>\n",
       "      <td>2</td>\n",
       "    </tr>\n",
       "    <tr>\n",
       "      <th>20</th>\n",
       "      <td>3</td>\n",
       "      <td>8</td>\n",
       "    </tr>\n",
       "    <tr>\n",
       "      <th>30</th>\n",
       "      <td>7</td>\n",
       "      <td>8</td>\n",
       "    </tr>\n",
       "    <tr>\n",
       "      <th>40</th>\n",
       "      <td>12</td>\n",
       "      <td>9</td>\n",
       "    </tr>\n",
       "    <tr>\n",
       "      <th>50</th>\n",
       "      <td>17</td>\n",
       "      <td>18</td>\n",
       "    </tr>\n",
       "  </tbody>\n",
       "</table>\n",
       "</div>"
      ],
      "text/plain": [
       "    train  test\n",
       "10      1     2\n",
       "20      3     8\n",
       "30      7     8\n",
       "40     12     9\n",
       "50     17    18"
      ]
     },
     "execution_count": 21,
     "metadata": {},
     "output_type": "execute_result"
    }
   ],
   "source": [
    "# List syntax\n",
    "d[['train','test']]"
   ]
  },
  {
   "cell_type": "markdown",
   "metadata": {},
   "source": [
    "### Exact point (by Row and Column)\n",
    "\n",
    "http://pandas.pydata.org/pandas-docs/stable/indexing.html#fast-scalar-value-getting-and-setting"
   ]
  },
  {
   "cell_type": "code",
   "execution_count": 22,
   "metadata": {
    "ExecuteTime": {
     "start_time": "2020-03-20T10:18:51.489Z"
    },
    "scrolled": true
   },
   "outputs": [
    {
     "data": {
      "text/plain": [
       "3"
      ]
     },
     "execution_count": 22,
     "metadata": {},
     "output_type": "execute_result"
    }
   ],
   "source": [
    "d.loc[20, 'train']"
   ]
  },
  {
   "cell_type": "code",
   "execution_count": 23,
   "metadata": {
    "ExecuteTime": {
     "start_time": "2020-03-20T10:18:51.499Z"
    },
    "scrolled": true
   },
   "outputs": [
    {
     "data": {
      "text/plain": [
       "3"
      ]
     },
     "execution_count": 23,
     "metadata": {},
     "output_type": "execute_result"
    }
   ],
   "source": [
    "d.iloc[1, 0]"
   ]
  },
  {
   "cell_type": "code",
   "execution_count": 24,
   "metadata": {
    "ExecuteTime": {
     "start_time": "2020-03-20T10:18:51.510Z"
    },
    "scrolled": true
   },
   "outputs": [
    {
     "data": {
      "text/plain": [
       "3"
      ]
     },
     "execution_count": 24,
     "metadata": {},
     "output_type": "execute_result"
    }
   ],
   "source": [
    "d.iat[1, 0]"
   ]
  },
  {
   "cell_type": "code",
   "execution_count": 25,
   "metadata": {
    "ExecuteTime": {
     "start_time": "2020-03-20T10:18:51.531Z"
    },
    "scrolled": true
   },
   "outputs": [
    {
     "data": {
      "text/plain": [
       "3"
      ]
     },
     "execution_count": 25,
     "metadata": {},
     "output_type": "execute_result"
    }
   ],
   "source": [
    "d.at[20, 'train']"
   ]
  },
  {
   "cell_type": "markdown",
   "metadata": {},
   "source": [
    "### Select columns by regex\n",
    "\n",
    "http://stackoverflow.com/questions/30808430/how-to-select-columns-from-dataframe-by-regex"
   ]
  },
  {
   "cell_type": "code",
   "execution_count": 26,
   "metadata": {
    "ExecuteTime": {
     "start_time": "2020-03-20T10:18:51.546Z"
    }
   },
   "outputs": [
    {
     "data": {
      "text/html": [
       "<div>\n",
       "<style scoped>\n",
       "    .dataframe tbody tr th:only-of-type {\n",
       "        vertical-align: middle;\n",
       "    }\n",
       "\n",
       "    .dataframe tbody tr th {\n",
       "        vertical-align: top;\n",
       "    }\n",
       "\n",
       "    .dataframe thead th {\n",
       "        text-align: right;\n",
       "    }\n",
       "</style>\n",
       "<table border=\"1\" class=\"dataframe\">\n",
       "  <thead>\n",
       "    <tr style=\"text-align: right;\">\n",
       "      <th></th>\n",
       "      <th>d</th>\n",
       "      <th>didi</th>\n",
       "    </tr>\n",
       "  </thead>\n",
       "  <tbody>\n",
       "    <tr>\n",
       "      <th>0</th>\n",
       "      <td>8</td>\n",
       "      <td>2</td>\n",
       "    </tr>\n",
       "    <tr>\n",
       "      <th>1</th>\n",
       "      <td>4</td>\n",
       "      <td>5</td>\n",
       "    </tr>\n",
       "    <tr>\n",
       "      <th>2</th>\n",
       "      <td>8</td>\n",
       "      <td>2</td>\n",
       "    </tr>\n",
       "    <tr>\n",
       "      <th>3</th>\n",
       "      <td>7</td>\n",
       "      <td>3</td>\n",
       "    </tr>\n",
       "    <tr>\n",
       "      <th>4</th>\n",
       "      <td>5</td>\n",
       "      <td>1</td>\n",
       "    </tr>\n",
       "    <tr>\n",
       "      <th>5</th>\n",
       "      <td>1</td>\n",
       "      <td>3</td>\n",
       "    </tr>\n",
       "    <tr>\n",
       "      <th>6</th>\n",
       "      <td>5</td>\n",
       "      <td>9</td>\n",
       "    </tr>\n",
       "    <tr>\n",
       "      <th>7</th>\n",
       "      <td>9</td>\n",
       "      <td>3</td>\n",
       "    </tr>\n",
       "    <tr>\n",
       "      <th>8</th>\n",
       "      <td>8</td>\n",
       "      <td>6</td>\n",
       "    </tr>\n",
       "    <tr>\n",
       "      <th>9</th>\n",
       "      <td>2</td>\n",
       "      <td>9</td>\n",
       "    </tr>\n",
       "    <tr>\n",
       "      <th>10</th>\n",
       "      <td>2</td>\n",
       "      <td>7</td>\n",
       "    </tr>\n",
       "    <tr>\n",
       "      <th>11</th>\n",
       "      <td>3</td>\n",
       "      <td>1</td>\n",
       "    </tr>\n",
       "  </tbody>\n",
       "</table>\n",
       "</div>"
      ],
      "text/plain": [
       "    d  didi\n",
       "0   8     2\n",
       "1   4     5\n",
       "2   8     2\n",
       "3   7     3\n",
       "4   5     1\n",
       "5   1     3\n",
       "6   5     9\n",
       "7   9     3\n",
       "8   8     6\n",
       "9   2     9\n",
       "10  2     7\n",
       "11  3     1"
      ]
     },
     "execution_count": 26,
     "metadata": {},
     "output_type": "execute_result"
    }
   ],
   "source": [
    "df = pandas.DataFrame(numpy.random.randint(1, 10, size=(12, 3)),columns=['d','t','didi'])\n",
    "\n",
    "df.filter(regex=('d.*'))"
   ]
  },
  {
   "cell_type": "markdown",
   "metadata": {},
   "source": [
    "#### Filter rows"
   ]
  },
  {
   "cell_type": "code",
   "execution_count": 27,
   "metadata": {
    "ExecuteTime": {
     "start_time": "2020-03-20T10:18:51.561Z"
    }
   },
   "outputs": [
    {
     "data": {
      "text/html": [
       "<div>\n",
       "<style scoped>\n",
       "    .dataframe tbody tr th:only-of-type {\n",
       "        vertical-align: middle;\n",
       "    }\n",
       "\n",
       "    .dataframe tbody tr th {\n",
       "        vertical-align: top;\n",
       "    }\n",
       "\n",
       "    .dataframe thead th {\n",
       "        text-align: right;\n",
       "    }\n",
       "</style>\n",
       "<table border=\"1\" class=\"dataframe\">\n",
       "  <thead>\n",
       "    <tr style=\"text-align: right;\">\n",
       "      <th></th>\n",
       "      <th>d</th>\n",
       "      <th>t</th>\n",
       "      <th>didi</th>\n",
       "    </tr>\n",
       "  </thead>\n",
       "  <tbody>\n",
       "    <tr>\n",
       "      <th>1</th>\n",
       "      <td>4</td>\n",
       "      <td>5</td>\n",
       "      <td>5</td>\n",
       "    </tr>\n",
       "    <tr>\n",
       "      <th>10</th>\n",
       "      <td>2</td>\n",
       "      <td>4</td>\n",
       "      <td>7</td>\n",
       "    </tr>\n",
       "    <tr>\n",
       "      <th>11</th>\n",
       "      <td>3</td>\n",
       "      <td>9</td>\n",
       "      <td>1</td>\n",
       "    </tr>\n",
       "  </tbody>\n",
       "</table>\n",
       "</div>"
      ],
      "text/plain": [
       "    d  t  didi\n",
       "1   4  5     5\n",
       "10  2  4     7\n",
       "11  3  9     1"
      ]
     },
     "execution_count": 27,
     "metadata": {},
     "output_type": "execute_result"
    }
   ],
   "source": [
    "df.filter(regex=('1.*'), axis=0)"
   ]
  },
  {
   "cell_type": "markdown",
   "metadata": {},
   "source": [
    "### Selecting Random Samples\n",
    "\n",
    "http://pandas.pydata.org/pandas-docs/stable/indexing.html#selecting-random-samples"
   ]
  },
  {
   "cell_type": "code",
   "execution_count": 28,
   "metadata": {
    "ExecuteTime": {
     "start_time": "2020-03-20T10:18:51.577Z"
    },
    "init_cell": true
   },
   "outputs": [
    {
     "data": {
      "text/html": [
       "<div>\n",
       "<style scoped>\n",
       "    .dataframe tbody tr th:only-of-type {\n",
       "        vertical-align: middle;\n",
       "    }\n",
       "\n",
       "    .dataframe tbody tr th {\n",
       "        vertical-align: top;\n",
       "    }\n",
       "\n",
       "    .dataframe thead th {\n",
       "        text-align: right;\n",
       "    }\n",
       "</style>\n",
       "<table border=\"1\" class=\"dataframe\">\n",
       "  <thead>\n",
       "    <tr style=\"text-align: right;\">\n",
       "      <th></th>\n",
       "      <th>A</th>\n",
       "      <th>B</th>\n",
       "      <th>C</th>\n",
       "      <th>D</th>\n",
       "    </tr>\n",
       "  </thead>\n",
       "  <tbody>\n",
       "    <tr>\n",
       "      <th>0</th>\n",
       "      <td>6</td>\n",
       "      <td>9</td>\n",
       "      <td>8</td>\n",
       "      <td>2</td>\n",
       "    </tr>\n",
       "    <tr>\n",
       "      <th>1</th>\n",
       "      <td>3</td>\n",
       "      <td>8</td>\n",
       "      <td>1</td>\n",
       "      <td>5</td>\n",
       "    </tr>\n",
       "    <tr>\n",
       "      <th>2</th>\n",
       "      <td>9</td>\n",
       "      <td>9</td>\n",
       "      <td>3</td>\n",
       "      <td>1</td>\n",
       "    </tr>\n",
       "    <tr>\n",
       "      <th>3</th>\n",
       "      <td>7</td>\n",
       "      <td>2</td>\n",
       "      <td>5</td>\n",
       "      <td>9</td>\n",
       "    </tr>\n",
       "    <tr>\n",
       "      <th>4</th>\n",
       "      <td>7</td>\n",
       "      <td>3</td>\n",
       "      <td>9</td>\n",
       "      <td>1</td>\n",
       "    </tr>\n",
       "    <tr>\n",
       "      <th>...</th>\n",
       "      <td>...</td>\n",
       "      <td>...</td>\n",
       "      <td>...</td>\n",
       "      <td>...</td>\n",
       "    </tr>\n",
       "    <tr>\n",
       "      <th>95</th>\n",
       "      <td>5</td>\n",
       "      <td>5</td>\n",
       "      <td>9</td>\n",
       "      <td>2</td>\n",
       "    </tr>\n",
       "    <tr>\n",
       "      <th>96</th>\n",
       "      <td>5</td>\n",
       "      <td>2</td>\n",
       "      <td>3</td>\n",
       "      <td>9</td>\n",
       "    </tr>\n",
       "    <tr>\n",
       "      <th>97</th>\n",
       "      <td>9</td>\n",
       "      <td>8</td>\n",
       "      <td>9</td>\n",
       "      <td>7</td>\n",
       "    </tr>\n",
       "    <tr>\n",
       "      <th>98</th>\n",
       "      <td>2</td>\n",
       "      <td>8</td>\n",
       "      <td>2</td>\n",
       "      <td>6</td>\n",
       "    </tr>\n",
       "    <tr>\n",
       "      <th>99</th>\n",
       "      <td>3</td>\n",
       "      <td>4</td>\n",
       "      <td>8</td>\n",
       "      <td>6</td>\n",
       "    </tr>\n",
       "  </tbody>\n",
       "</table>\n",
       "<p>100 rows × 4 columns</p>\n",
       "</div>"
      ],
      "text/plain": [
       "    A  B  C  D\n",
       "0   6  9  8  2\n",
       "1   3  8  1  5\n",
       "2   9  9  3  1\n",
       "3   7  2  5  9\n",
       "4   7  3  9  1\n",
       ".. .. .. .. ..\n",
       "95  5  5  9  2\n",
       "96  5  2  3  9\n",
       "97  9  8  9  7\n",
       "98  2  8  2  6\n",
       "99  3  4  8  6\n",
       "\n",
       "[100 rows x 4 columns]"
      ]
     },
     "execution_count": 28,
     "metadata": {},
     "output_type": "execute_result"
    }
   ],
   "source": [
    "sdf = DataFrame(numpy.random.randint(1, 10, size=(100, 4)), columns=list('ABCD'))\n",
    "sdf"
   ]
  },
  {
   "cell_type": "code",
   "execution_count": 29,
   "metadata": {
    "ExecuteTime": {
     "start_time": "2020-03-20T10:18:51.594Z"
    }
   },
   "outputs": [
    {
     "data": {
      "text/html": [
       "<div>\n",
       "<style scoped>\n",
       "    .dataframe tbody tr th:only-of-type {\n",
       "        vertical-align: middle;\n",
       "    }\n",
       "\n",
       "    .dataframe tbody tr th {\n",
       "        vertical-align: top;\n",
       "    }\n",
       "\n",
       "    .dataframe thead th {\n",
       "        text-align: right;\n",
       "    }\n",
       "</style>\n",
       "<table border=\"1\" class=\"dataframe\">\n",
       "  <thead>\n",
       "    <tr style=\"text-align: right;\">\n",
       "      <th></th>\n",
       "      <th>A</th>\n",
       "      <th>B</th>\n",
       "      <th>C</th>\n",
       "      <th>D</th>\n",
       "    </tr>\n",
       "  </thead>\n",
       "  <tbody>\n",
       "    <tr>\n",
       "      <th>count</th>\n",
       "      <td>100.000000</td>\n",
       "      <td>100.000000</td>\n",
       "      <td>100.000000</td>\n",
       "      <td>100.00000</td>\n",
       "    </tr>\n",
       "    <tr>\n",
       "      <th>mean</th>\n",
       "      <td>5.110000</td>\n",
       "      <td>5.270000</td>\n",
       "      <td>5.300000</td>\n",
       "      <td>4.97000</td>\n",
       "    </tr>\n",
       "    <tr>\n",
       "      <th>std</th>\n",
       "      <td>2.628111</td>\n",
       "      <td>2.557836</td>\n",
       "      <td>2.603417</td>\n",
       "      <td>2.68725</td>\n",
       "    </tr>\n",
       "    <tr>\n",
       "      <th>min</th>\n",
       "      <td>1.000000</td>\n",
       "      <td>1.000000</td>\n",
       "      <td>1.000000</td>\n",
       "      <td>1.00000</td>\n",
       "    </tr>\n",
       "    <tr>\n",
       "      <th>25%</th>\n",
       "      <td>3.000000</td>\n",
       "      <td>3.000000</td>\n",
       "      <td>3.000000</td>\n",
       "      <td>2.00000</td>\n",
       "    </tr>\n",
       "    <tr>\n",
       "      <th>50%</th>\n",
       "      <td>5.000000</td>\n",
       "      <td>5.500000</td>\n",
       "      <td>5.000000</td>\n",
       "      <td>5.00000</td>\n",
       "    </tr>\n",
       "    <tr>\n",
       "      <th>75%</th>\n",
       "      <td>7.250000</td>\n",
       "      <td>8.000000</td>\n",
       "      <td>8.000000</td>\n",
       "      <td>7.00000</td>\n",
       "    </tr>\n",
       "    <tr>\n",
       "      <th>max</th>\n",
       "      <td>9.000000</td>\n",
       "      <td>9.000000</td>\n",
       "      <td>9.000000</td>\n",
       "      <td>9.00000</td>\n",
       "    </tr>\n",
       "  </tbody>\n",
       "</table>\n",
       "</div>"
      ],
      "text/plain": [
       "                A           B           C          D\n",
       "count  100.000000  100.000000  100.000000  100.00000\n",
       "mean     5.110000    5.270000    5.300000    4.97000\n",
       "std      2.628111    2.557836    2.603417    2.68725\n",
       "min      1.000000    1.000000    1.000000    1.00000\n",
       "25%      3.000000    3.000000    3.000000    2.00000\n",
       "50%      5.000000    5.500000    5.000000    5.00000\n",
       "75%      7.250000    8.000000    8.000000    7.00000\n",
       "max      9.000000    9.000000    9.000000    9.00000"
      ]
     },
     "execution_count": 29,
     "metadata": {},
     "output_type": "execute_result"
    }
   ],
   "source": [
    "sdf.describe()"
   ]
  },
  {
   "cell_type": "code",
   "execution_count": 30,
   "metadata": {
    "ExecuteTime": {
     "start_time": "2020-03-20T10:18:51.603Z"
    }
   },
   "outputs": [
    {
     "data": {
      "text/html": [
       "<div>\n",
       "<style scoped>\n",
       "    .dataframe tbody tr th:only-of-type {\n",
       "        vertical-align: middle;\n",
       "    }\n",
       "\n",
       "    .dataframe tbody tr th {\n",
       "        vertical-align: top;\n",
       "    }\n",
       "\n",
       "    .dataframe thead th {\n",
       "        text-align: right;\n",
       "    }\n",
       "</style>\n",
       "<table border=\"1\" class=\"dataframe\">\n",
       "  <thead>\n",
       "    <tr style=\"text-align: right;\">\n",
       "      <th></th>\n",
       "      <th>A</th>\n",
       "      <th>B</th>\n",
       "      <th>C</th>\n",
       "      <th>D</th>\n",
       "    </tr>\n",
       "  </thead>\n",
       "  <tbody>\n",
       "    <tr>\n",
       "      <th>6</th>\n",
       "      <td>1</td>\n",
       "      <td>7</td>\n",
       "      <td>8</td>\n",
       "      <td>5</td>\n",
       "    </tr>\n",
       "  </tbody>\n",
       "</table>\n",
       "</div>"
      ],
      "text/plain": [
       "   A  B  C  D\n",
       "6  1  7  8  5"
      ]
     },
     "execution_count": 30,
     "metadata": {},
     "output_type": "execute_result"
    }
   ],
   "source": [
    "sdf.sample(n=1)"
   ]
  },
  {
   "cell_type": "code",
   "execution_count": 31,
   "metadata": {
    "ExecuteTime": {
     "start_time": "2020-03-20T10:18:51.614Z"
    }
   },
   "outputs": [
    {
     "data": {
      "text/html": [
       "<div>\n",
       "<style scoped>\n",
       "    .dataframe tbody tr th:only-of-type {\n",
       "        vertical-align: middle;\n",
       "    }\n",
       "\n",
       "    .dataframe tbody tr th {\n",
       "        vertical-align: top;\n",
       "    }\n",
       "\n",
       "    .dataframe thead th {\n",
       "        text-align: right;\n",
       "    }\n",
       "</style>\n",
       "<table border=\"1\" class=\"dataframe\">\n",
       "  <thead>\n",
       "    <tr style=\"text-align: right;\">\n",
       "      <th></th>\n",
       "      <th>A</th>\n",
       "      <th>B</th>\n",
       "      <th>C</th>\n",
       "      <th>D</th>\n",
       "    </tr>\n",
       "  </thead>\n",
       "  <tbody>\n",
       "    <tr>\n",
       "      <th>29</th>\n",
       "      <td>8</td>\n",
       "      <td>4</td>\n",
       "      <td>3</td>\n",
       "      <td>2</td>\n",
       "    </tr>\n",
       "    <tr>\n",
       "      <th>50</th>\n",
       "      <td>4</td>\n",
       "      <td>7</td>\n",
       "      <td>7</td>\n",
       "      <td>2</td>\n",
       "    </tr>\n",
       "    <tr>\n",
       "      <th>46</th>\n",
       "      <td>4</td>\n",
       "      <td>8</td>\n",
       "      <td>5</td>\n",
       "      <td>5</td>\n",
       "    </tr>\n",
       "    <tr>\n",
       "      <th>97</th>\n",
       "      <td>9</td>\n",
       "      <td>8</td>\n",
       "      <td>9</td>\n",
       "      <td>7</td>\n",
       "    </tr>\n",
       "    <tr>\n",
       "      <th>63</th>\n",
       "      <td>3</td>\n",
       "      <td>7</td>\n",
       "      <td>9</td>\n",
       "      <td>6</td>\n",
       "    </tr>\n",
       "  </tbody>\n",
       "</table>\n",
       "</div>"
      ],
      "text/plain": [
       "    A  B  C  D\n",
       "29  8  4  3  2\n",
       "50  4  7  7  2\n",
       "46  4  8  5  5\n",
       "97  9  8  9  7\n",
       "63  3  7  9  6"
      ]
     },
     "execution_count": 31,
     "metadata": {},
     "output_type": "execute_result"
    }
   ],
   "source": [
    "sdf.sample(n=5)"
   ]
  },
  {
   "cell_type": "code",
   "execution_count": 32,
   "metadata": {
    "ExecuteTime": {
     "start_time": "2020-03-20T10:18:51.624Z"
    }
   },
   "outputs": [
    {
     "data": {
      "text/html": [
       "<div>\n",
       "<style scoped>\n",
       "    .dataframe tbody tr th:only-of-type {\n",
       "        vertical-align: middle;\n",
       "    }\n",
       "\n",
       "    .dataframe tbody tr th {\n",
       "        vertical-align: top;\n",
       "    }\n",
       "\n",
       "    .dataframe thead th {\n",
       "        text-align: right;\n",
       "    }\n",
       "</style>\n",
       "<table border=\"1\" class=\"dataframe\">\n",
       "  <thead>\n",
       "    <tr style=\"text-align: right;\">\n",
       "      <th></th>\n",
       "      <th>A</th>\n",
       "      <th>B</th>\n",
       "      <th>C</th>\n",
       "      <th>D</th>\n",
       "    </tr>\n",
       "  </thead>\n",
       "  <tbody>\n",
       "    <tr>\n",
       "      <th>43</th>\n",
       "      <td>1</td>\n",
       "      <td>5</td>\n",
       "      <td>6</td>\n",
       "      <td>5</td>\n",
       "    </tr>\n",
       "    <tr>\n",
       "      <th>54</th>\n",
       "      <td>4</td>\n",
       "      <td>8</td>\n",
       "      <td>9</td>\n",
       "      <td>1</td>\n",
       "    </tr>\n",
       "    <tr>\n",
       "      <th>81</th>\n",
       "      <td>6</td>\n",
       "      <td>9</td>\n",
       "      <td>4</td>\n",
       "      <td>3</td>\n",
       "    </tr>\n",
       "    <tr>\n",
       "      <th>94</th>\n",
       "      <td>3</td>\n",
       "      <td>6</td>\n",
       "      <td>5</td>\n",
       "      <td>6</td>\n",
       "    </tr>\n",
       "    <tr>\n",
       "      <th>71</th>\n",
       "      <td>5</td>\n",
       "      <td>8</td>\n",
       "      <td>9</td>\n",
       "      <td>6</td>\n",
       "    </tr>\n",
       "  </tbody>\n",
       "</table>\n",
       "</div>"
      ],
      "text/plain": [
       "    A  B  C  D\n",
       "43  1  5  6  5\n",
       "54  4  8  9  1\n",
       "81  6  9  4  3\n",
       "94  3  6  5  6\n",
       "71  5  8  9  6"
      ]
     },
     "execution_count": 32,
     "metadata": {},
     "output_type": "execute_result"
    }
   ],
   "source": [
    "sdf.sample(frac=0.05)"
   ]
  },
  {
   "cell_type": "markdown",
   "metadata": {},
   "source": [
    "### Max by Column"
   ]
  },
  {
   "cell_type": "code",
   "execution_count": 33,
   "metadata": {
    "ExecuteTime": {
     "start_time": "2020-03-20T10:18:51.639Z"
    },
    "init_cell": true,
    "scrolled": true
   },
   "outputs": [
    {
     "data": {
      "text/html": [
       "<div>\n",
       "<style scoped>\n",
       "    .dataframe tbody tr th:only-of-type {\n",
       "        vertical-align: middle;\n",
       "    }\n",
       "\n",
       "    .dataframe tbody tr th {\n",
       "        vertical-align: top;\n",
       "    }\n",
       "\n",
       "    .dataframe thead th {\n",
       "        text-align: right;\n",
       "    }\n",
       "</style>\n",
       "<table border=\"1\" class=\"dataframe\">\n",
       "  <thead>\n",
       "    <tr style=\"text-align: right;\">\n",
       "      <th></th>\n",
       "      <th>n_estimators</th>\n",
       "      <th>auc_roc</th>\n",
       "      <th>time_elapsed</th>\n",
       "    </tr>\n",
       "  </thead>\n",
       "  <tbody>\n",
       "    <tr>\n",
       "      <th>0</th>\n",
       "      <td>10.0</td>\n",
       "      <td>0.71</td>\n",
       "      <td>100.0</td>\n",
       "    </tr>\n",
       "    <tr>\n",
       "      <th>1</th>\n",
       "      <td>20.0</td>\n",
       "      <td>0.72</td>\n",
       "      <td>200.0</td>\n",
       "    </tr>\n",
       "    <tr>\n",
       "      <th>2</th>\n",
       "      <td>30.0</td>\n",
       "      <td>0.73</td>\n",
       "      <td>300.0</td>\n",
       "    </tr>\n",
       "    <tr>\n",
       "      <th>4</th>\n",
       "      <td>40.0</td>\n",
       "      <td>0.74</td>\n",
       "      <td>400.0</td>\n",
       "    </tr>\n",
       "    <tr>\n",
       "      <th>6</th>\n",
       "      <td>50.0</td>\n",
       "      <td>0.70</td>\n",
       "      <td>500.0</td>\n",
       "    </tr>\n",
       "  </tbody>\n",
       "</table>\n",
       "</div>"
      ],
      "text/plain": [
       "   n_estimators  auc_roc  time_elapsed\n",
       "0          10.0     0.71         100.0\n",
       "1          20.0     0.72         200.0\n",
       "2          30.0     0.73         300.0\n",
       "4          40.0     0.74         400.0\n",
       "6          50.0     0.70         500.0"
      ]
     },
     "execution_count": 33,
     "metadata": {},
     "output_type": "execute_result"
    }
   ],
   "source": [
    "res = DataFrame(columns=['n_estimators', 'auc_roc', 'time_elapsed']);\n",
    "res.loc[len(res)] = [ 10, 0.71, 100 ]\n",
    "res.loc[len(res)] = [ 20, 0.72, 200 ]\n",
    "res.loc[len(res)] = [ 30, 0.73, 300 ]\n",
    "res.loc[len(res)+1] = [ 40, 0.74, 400 ]\n",
    "res.loc[len(res)+2] = [ 50, 0.70, 500 ]\n",
    "res\n",
    "#print ('Maximum auc_roc: n={n_estimators}; auc_roc={auc_roc}; time_elapsed={time_elapsed}'.format(**max(res, key=lambda k: k['auc_roc'])) )"
   ]
  },
  {
   "cell_type": "code",
   "execution_count": 34,
   "metadata": {
    "ExecuteTime": {
     "start_time": "2020-03-20T10:18:51.651Z"
    },
    "scrolled": true
   },
   "outputs": [
    {
     "data": {
      "text/plain": [
       "500.0"
      ]
     },
     "execution_count": 34,
     "metadata": {},
     "output_type": "execute_result"
    }
   ],
   "source": [
    "res.max().max()"
   ]
  },
  {
   "cell_type": "code",
   "execution_count": 35,
   "metadata": {
    "ExecuteTime": {
     "start_time": "2020-03-20T10:18:51.662Z"
    },
    "scrolled": true
   },
   "outputs": [
    {
     "data": {
      "text/plain": [
       "n_estimators     40.00\n",
       "auc_roc           0.74\n",
       "time_elapsed    400.00\n",
       "Name: 4, dtype: float64"
      ]
     },
     "execution_count": 35,
     "metadata": {},
     "output_type": "execute_result"
    }
   ],
   "source": [
    "max(res.iterrows(), key=lambda k: k[1]['auc_roc'])[1]"
   ]
  },
  {
   "cell_type": "code",
   "execution_count": 36,
   "metadata": {
    "ExecuteTime": {
     "start_time": "2020-03-20T10:18:51.671Z"
    },
    "scrolled": true
   },
   "outputs": [
    {
     "name": "stdout",
     "output_type": "stream",
     "text": [
      "Maximum auc_roc: n=40.0; auc_roc=0.74; time_elapsed=400.0\n"
     ]
    }
   ],
   "source": [
    "print ('Maximum auc_roc: n={n_estimators}; auc_roc={auc_roc}; time_elapsed={time_elapsed}'.format(\n",
    "            **max(res.iterrows(), key=lambda k: k[1]['auc_roc'])[1] # See ArraysSandbox for indexing magic\n",
    "        )\n",
    "    )"
   ]
  },
  {
   "cell_type": "markdown",
   "metadata": {},
   "source": [
    "### Search by complex criteria (+boolean indexing). Where / mask / query\n",
    "\n",
    "http://pandas.pydata.org/pandas-docs/stable/indexing.html#boolean-indexing\n",
    "\n",
    "http://pandas.pydata.org/pandas-docs/stable/indexing.html#the-where-method-and-masking"
   ]
  },
  {
   "cell_type": "markdown",
   "metadata": {},
   "source": [
    "#### Where, mask"
   ]
  },
  {
   "cell_type": "code",
   "execution_count": 37,
   "metadata": {
    "ExecuteTime": {
     "start_time": "2020-03-20T10:18:51.685Z"
    },
    "init_cell": true
   },
   "outputs": [
    {
     "data": {
      "text/html": [
       "<div>\n",
       "<style scoped>\n",
       "    .dataframe tbody tr th:only-of-type {\n",
       "        vertical-align: middle;\n",
       "    }\n",
       "\n",
       "    .dataframe tbody tr th {\n",
       "        vertical-align: top;\n",
       "    }\n",
       "\n",
       "    .dataframe thead th {\n",
       "        text-align: right;\n",
       "    }\n",
       "</style>\n",
       "<table border=\"1\" class=\"dataframe\">\n",
       "  <thead>\n",
       "    <tr style=\"text-align: right;\">\n",
       "      <th></th>\n",
       "      <th>A</th>\n",
       "      <th>B</th>\n",
       "      <th>C</th>\n",
       "      <th>D</th>\n",
       "    </tr>\n",
       "  </thead>\n",
       "  <tbody>\n",
       "    <tr>\n",
       "      <th>0</th>\n",
       "      <td>9</td>\n",
       "      <td>8</td>\n",
       "      <td>3</td>\n",
       "      <td>1</td>\n",
       "    </tr>\n",
       "    <tr>\n",
       "      <th>1</th>\n",
       "      <td>4</td>\n",
       "      <td>2</td>\n",
       "      <td>4</td>\n",
       "      <td>8</td>\n",
       "    </tr>\n",
       "    <tr>\n",
       "      <th>2</th>\n",
       "      <td>5</td>\n",
       "      <td>6</td>\n",
       "      <td>5</td>\n",
       "      <td>4</td>\n",
       "    </tr>\n",
       "    <tr>\n",
       "      <th>3</th>\n",
       "      <td>4</td>\n",
       "      <td>5</td>\n",
       "      <td>5</td>\n",
       "      <td>1</td>\n",
       "    </tr>\n",
       "    <tr>\n",
       "      <th>4</th>\n",
       "      <td>2</td>\n",
       "      <td>3</td>\n",
       "      <td>6</td>\n",
       "      <td>2</td>\n",
       "    </tr>\n",
       "    <tr>\n",
       "      <th>5</th>\n",
       "      <td>8</td>\n",
       "      <td>5</td>\n",
       "      <td>2</td>\n",
       "      <td>5</td>\n",
       "    </tr>\n",
       "    <tr>\n",
       "      <th>6</th>\n",
       "      <td>3</td>\n",
       "      <td>6</td>\n",
       "      <td>2</td>\n",
       "      <td>5</td>\n",
       "    </tr>\n",
       "    <tr>\n",
       "      <th>7</th>\n",
       "      <td>2</td>\n",
       "      <td>9</td>\n",
       "      <td>3</td>\n",
       "      <td>4</td>\n",
       "    </tr>\n",
       "    <tr>\n",
       "      <th>8</th>\n",
       "      <td>5</td>\n",
       "      <td>5</td>\n",
       "      <td>1</td>\n",
       "      <td>7</td>\n",
       "    </tr>\n",
       "    <tr>\n",
       "      <th>9</th>\n",
       "      <td>8</td>\n",
       "      <td>1</td>\n",
       "      <td>4</td>\n",
       "      <td>3</td>\n",
       "    </tr>\n",
       "  </tbody>\n",
       "</table>\n",
       "</div>"
      ],
      "text/plain": [
       "   A  B  C  D\n",
       "0  9  8  3  1\n",
       "1  4  2  4  8\n",
       "2  5  6  5  4\n",
       "3  4  5  5  1\n",
       "4  2  3  6  2\n",
       "5  8  5  2  5\n",
       "6  3  6  2  5\n",
       "7  2  9  3  4\n",
       "8  5  5  1  7\n",
       "9  8  1  4  3"
      ]
     },
     "execution_count": 37,
     "metadata": {},
     "output_type": "execute_result"
    }
   ],
   "source": [
    "w = DataFrame(numpy.random.randint(1, 10, size=(10, 4)), columns=list('ABCD'))\n",
    "w"
   ]
  },
  {
   "cell_type": "code",
   "execution_count": 38,
   "metadata": {
    "ExecuteTime": {
     "start_time": "2020-03-20T10:18:51.693Z"
    }
   },
   "outputs": [
    {
     "data": {
      "text/html": [
       "<div>\n",
       "<style scoped>\n",
       "    .dataframe tbody tr th:only-of-type {\n",
       "        vertical-align: middle;\n",
       "    }\n",
       "\n",
       "    .dataframe tbody tr th {\n",
       "        vertical-align: top;\n",
       "    }\n",
       "\n",
       "    .dataframe thead th {\n",
       "        text-align: right;\n",
       "    }\n",
       "</style>\n",
       "<table border=\"1\" class=\"dataframe\">\n",
       "  <thead>\n",
       "    <tr style=\"text-align: right;\">\n",
       "      <th></th>\n",
       "      <th>A</th>\n",
       "      <th>B</th>\n",
       "      <th>C</th>\n",
       "      <th>D</th>\n",
       "    </tr>\n",
       "  </thead>\n",
       "  <tbody>\n",
       "    <tr>\n",
       "      <th>0</th>\n",
       "      <td>9.0</td>\n",
       "      <td>8.0</td>\n",
       "      <td>NaN</td>\n",
       "      <td>NaN</td>\n",
       "    </tr>\n",
       "    <tr>\n",
       "      <th>1</th>\n",
       "      <td>NaN</td>\n",
       "      <td>NaN</td>\n",
       "      <td>NaN</td>\n",
       "      <td>8.0</td>\n",
       "    </tr>\n",
       "    <tr>\n",
       "      <th>2</th>\n",
       "      <td>NaN</td>\n",
       "      <td>NaN</td>\n",
       "      <td>NaN</td>\n",
       "      <td>NaN</td>\n",
       "    </tr>\n",
       "    <tr>\n",
       "      <th>3</th>\n",
       "      <td>NaN</td>\n",
       "      <td>NaN</td>\n",
       "      <td>NaN</td>\n",
       "      <td>NaN</td>\n",
       "    </tr>\n",
       "    <tr>\n",
       "      <th>4</th>\n",
       "      <td>NaN</td>\n",
       "      <td>NaN</td>\n",
       "      <td>NaN</td>\n",
       "      <td>NaN</td>\n",
       "    </tr>\n",
       "    <tr>\n",
       "      <th>5</th>\n",
       "      <td>8.0</td>\n",
       "      <td>NaN</td>\n",
       "      <td>NaN</td>\n",
       "      <td>NaN</td>\n",
       "    </tr>\n",
       "    <tr>\n",
       "      <th>6</th>\n",
       "      <td>NaN</td>\n",
       "      <td>NaN</td>\n",
       "      <td>NaN</td>\n",
       "      <td>NaN</td>\n",
       "    </tr>\n",
       "    <tr>\n",
       "      <th>7</th>\n",
       "      <td>NaN</td>\n",
       "      <td>9.0</td>\n",
       "      <td>NaN</td>\n",
       "      <td>NaN</td>\n",
       "    </tr>\n",
       "    <tr>\n",
       "      <th>8</th>\n",
       "      <td>NaN</td>\n",
       "      <td>NaN</td>\n",
       "      <td>NaN</td>\n",
       "      <td>NaN</td>\n",
       "    </tr>\n",
       "    <tr>\n",
       "      <th>9</th>\n",
       "      <td>8.0</td>\n",
       "      <td>NaN</td>\n",
       "      <td>NaN</td>\n",
       "      <td>NaN</td>\n",
       "    </tr>\n",
       "  </tbody>\n",
       "</table>\n",
       "</div>"
      ],
      "text/plain": [
       "     A    B   C    D\n",
       "0  9.0  8.0 NaN  NaN\n",
       "1  NaN  NaN NaN  8.0\n",
       "2  NaN  NaN NaN  NaN\n",
       "3  NaN  NaN NaN  NaN\n",
       "4  NaN  NaN NaN  NaN\n",
       "5  8.0  NaN NaN  NaN\n",
       "6  NaN  NaN NaN  NaN\n",
       "7  NaN  9.0 NaN  NaN\n",
       "8  NaN  NaN NaN  NaN\n",
       "9  8.0  NaN NaN  NaN"
      ]
     },
     "execution_count": 38,
     "metadata": {},
     "output_type": "execute_result"
    }
   ],
   "source": [
    "w[w > 7]"
   ]
  },
  {
   "cell_type": "code",
   "execution_count": 39,
   "metadata": {
    "ExecuteTime": {
     "start_time": "2020-03-20T10:18:51.700Z"
    }
   },
   "outputs": [
    {
     "data": {
      "text/html": [
       "<div>\n",
       "<style scoped>\n",
       "    .dataframe tbody tr th:only-of-type {\n",
       "        vertical-align: middle;\n",
       "    }\n",
       "\n",
       "    .dataframe tbody tr th {\n",
       "        vertical-align: top;\n",
       "    }\n",
       "\n",
       "    .dataframe thead th {\n",
       "        text-align: right;\n",
       "    }\n",
       "</style>\n",
       "<table border=\"1\" class=\"dataframe\">\n",
       "  <thead>\n",
       "    <tr style=\"text-align: right;\">\n",
       "      <th></th>\n",
       "      <th>A</th>\n",
       "      <th>B</th>\n",
       "      <th>C</th>\n",
       "      <th>D</th>\n",
       "    </tr>\n",
       "  </thead>\n",
       "  <tbody>\n",
       "    <tr>\n",
       "      <th>0</th>\n",
       "      <td>9.0</td>\n",
       "      <td>8.0</td>\n",
       "      <td>NaN</td>\n",
       "      <td>NaN</td>\n",
       "    </tr>\n",
       "    <tr>\n",
       "      <th>1</th>\n",
       "      <td>NaN</td>\n",
       "      <td>NaN</td>\n",
       "      <td>NaN</td>\n",
       "      <td>8.0</td>\n",
       "    </tr>\n",
       "    <tr>\n",
       "      <th>2</th>\n",
       "      <td>NaN</td>\n",
       "      <td>NaN</td>\n",
       "      <td>NaN</td>\n",
       "      <td>NaN</td>\n",
       "    </tr>\n",
       "    <tr>\n",
       "      <th>3</th>\n",
       "      <td>NaN</td>\n",
       "      <td>NaN</td>\n",
       "      <td>NaN</td>\n",
       "      <td>NaN</td>\n",
       "    </tr>\n",
       "    <tr>\n",
       "      <th>4</th>\n",
       "      <td>NaN</td>\n",
       "      <td>NaN</td>\n",
       "      <td>NaN</td>\n",
       "      <td>NaN</td>\n",
       "    </tr>\n",
       "    <tr>\n",
       "      <th>5</th>\n",
       "      <td>8.0</td>\n",
       "      <td>NaN</td>\n",
       "      <td>NaN</td>\n",
       "      <td>NaN</td>\n",
       "    </tr>\n",
       "    <tr>\n",
       "      <th>6</th>\n",
       "      <td>NaN</td>\n",
       "      <td>NaN</td>\n",
       "      <td>NaN</td>\n",
       "      <td>NaN</td>\n",
       "    </tr>\n",
       "    <tr>\n",
       "      <th>7</th>\n",
       "      <td>NaN</td>\n",
       "      <td>9.0</td>\n",
       "      <td>NaN</td>\n",
       "      <td>NaN</td>\n",
       "    </tr>\n",
       "    <tr>\n",
       "      <th>8</th>\n",
       "      <td>NaN</td>\n",
       "      <td>NaN</td>\n",
       "      <td>NaN</td>\n",
       "      <td>NaN</td>\n",
       "    </tr>\n",
       "    <tr>\n",
       "      <th>9</th>\n",
       "      <td>8.0</td>\n",
       "      <td>NaN</td>\n",
       "      <td>NaN</td>\n",
       "      <td>NaN</td>\n",
       "    </tr>\n",
       "  </tbody>\n",
       "</table>\n",
       "</div>"
      ],
      "text/plain": [
       "     A    B   C    D\n",
       "0  9.0  8.0 NaN  NaN\n",
       "1  NaN  NaN NaN  8.0\n",
       "2  NaN  NaN NaN  NaN\n",
       "3  NaN  NaN NaN  NaN\n",
       "4  NaN  NaN NaN  NaN\n",
       "5  8.0  NaN NaN  NaN\n",
       "6  NaN  NaN NaN  NaN\n",
       "7  NaN  9.0 NaN  NaN\n",
       "8  NaN  NaN NaN  NaN\n",
       "9  8.0  NaN NaN  NaN"
      ]
     },
     "execution_count": 39,
     "metadata": {},
     "output_type": "execute_result"
    }
   ],
   "source": [
    "w.where(w > 7)"
   ]
  },
  {
   "cell_type": "code",
   "execution_count": 40,
   "metadata": {
    "ExecuteTime": {
     "start_time": "2020-03-20T10:18:51.708Z"
    }
   },
   "outputs": [
    {
     "data": {
      "text/html": [
       "<div>\n",
       "<style scoped>\n",
       "    .dataframe tbody tr th:only-of-type {\n",
       "        vertical-align: middle;\n",
       "    }\n",
       "\n",
       "    .dataframe tbody tr th {\n",
       "        vertical-align: top;\n",
       "    }\n",
       "\n",
       "    .dataframe thead th {\n",
       "        text-align: right;\n",
       "    }\n",
       "</style>\n",
       "<table border=\"1\" class=\"dataframe\">\n",
       "  <thead>\n",
       "    <tr style=\"text-align: right;\">\n",
       "      <th></th>\n",
       "      <th>A</th>\n",
       "      <th>B</th>\n",
       "      <th>C</th>\n",
       "      <th>D</th>\n",
       "    </tr>\n",
       "  </thead>\n",
       "  <tbody>\n",
       "    <tr>\n",
       "      <th>0</th>\n",
       "      <td>9</td>\n",
       "      <td>8</td>\n",
       "      <td>-77</td>\n",
       "      <td>-77</td>\n",
       "    </tr>\n",
       "    <tr>\n",
       "      <th>1</th>\n",
       "      <td>-77</td>\n",
       "      <td>-77</td>\n",
       "      <td>-77</td>\n",
       "      <td>8</td>\n",
       "    </tr>\n",
       "    <tr>\n",
       "      <th>2</th>\n",
       "      <td>-77</td>\n",
       "      <td>6</td>\n",
       "      <td>-77</td>\n",
       "      <td>-77</td>\n",
       "    </tr>\n",
       "    <tr>\n",
       "      <th>3</th>\n",
       "      <td>-77</td>\n",
       "      <td>-77</td>\n",
       "      <td>-77</td>\n",
       "      <td>-77</td>\n",
       "    </tr>\n",
       "    <tr>\n",
       "      <th>4</th>\n",
       "      <td>-77</td>\n",
       "      <td>-77</td>\n",
       "      <td>6</td>\n",
       "      <td>-77</td>\n",
       "    </tr>\n",
       "    <tr>\n",
       "      <th>5</th>\n",
       "      <td>8</td>\n",
       "      <td>-77</td>\n",
       "      <td>-77</td>\n",
       "      <td>-77</td>\n",
       "    </tr>\n",
       "    <tr>\n",
       "      <th>6</th>\n",
       "      <td>-77</td>\n",
       "      <td>6</td>\n",
       "      <td>-77</td>\n",
       "      <td>-77</td>\n",
       "    </tr>\n",
       "    <tr>\n",
       "      <th>7</th>\n",
       "      <td>-77</td>\n",
       "      <td>9</td>\n",
       "      <td>-77</td>\n",
       "      <td>-77</td>\n",
       "    </tr>\n",
       "    <tr>\n",
       "      <th>8</th>\n",
       "      <td>-77</td>\n",
       "      <td>-77</td>\n",
       "      <td>-77</td>\n",
       "      <td>7</td>\n",
       "    </tr>\n",
       "    <tr>\n",
       "      <th>9</th>\n",
       "      <td>8</td>\n",
       "      <td>-77</td>\n",
       "      <td>-77</td>\n",
       "      <td>-77</td>\n",
       "    </tr>\n",
       "  </tbody>\n",
       "</table>\n",
       "</div>"
      ],
      "text/plain": [
       "    A   B   C   D\n",
       "0   9   8 -77 -77\n",
       "1 -77 -77 -77   8\n",
       "2 -77   6 -77 -77\n",
       "3 -77 -77 -77 -77\n",
       "4 -77 -77   6 -77\n",
       "5   8 -77 -77 -77\n",
       "6 -77   6 -77 -77\n",
       "7 -77   9 -77 -77\n",
       "8 -77 -77 -77   7\n",
       "9   8 -77 -77 -77"
      ]
     },
     "execution_count": 40,
     "metadata": {},
     "output_type": "execute_result"
    }
   ],
   "source": [
    "w.where(w > 5, -77)"
   ]
  },
  {
   "cell_type": "code",
   "execution_count": 41,
   "metadata": {
    "ExecuteTime": {
     "start_time": "2020-03-20T10:18:51.715Z"
    }
   },
   "outputs": [
    {
     "data": {
      "text/html": [
       "<div>\n",
       "<style scoped>\n",
       "    .dataframe tbody tr th:only-of-type {\n",
       "        vertical-align: middle;\n",
       "    }\n",
       "\n",
       "    .dataframe tbody tr th {\n",
       "        vertical-align: top;\n",
       "    }\n",
       "\n",
       "    .dataframe thead th {\n",
       "        text-align: right;\n",
       "    }\n",
       "</style>\n",
       "<table border=\"1\" class=\"dataframe\">\n",
       "  <thead>\n",
       "    <tr style=\"text-align: right;\">\n",
       "      <th></th>\n",
       "      <th>A</th>\n",
       "      <th>B</th>\n",
       "      <th>C</th>\n",
       "      <th>D</th>\n",
       "    </tr>\n",
       "  </thead>\n",
       "  <tbody>\n",
       "    <tr>\n",
       "      <th>0</th>\n",
       "      <td>NaN</td>\n",
       "      <td>NaN</td>\n",
       "      <td>3.0</td>\n",
       "      <td>1.0</td>\n",
       "    </tr>\n",
       "    <tr>\n",
       "      <th>1</th>\n",
       "      <td>4.0</td>\n",
       "      <td>2.0</td>\n",
       "      <td>4.0</td>\n",
       "      <td>NaN</td>\n",
       "    </tr>\n",
       "    <tr>\n",
       "      <th>2</th>\n",
       "      <td>5.0</td>\n",
       "      <td>NaN</td>\n",
       "      <td>5.0</td>\n",
       "      <td>4.0</td>\n",
       "    </tr>\n",
       "    <tr>\n",
       "      <th>3</th>\n",
       "      <td>4.0</td>\n",
       "      <td>5.0</td>\n",
       "      <td>5.0</td>\n",
       "      <td>1.0</td>\n",
       "    </tr>\n",
       "    <tr>\n",
       "      <th>4</th>\n",
       "      <td>2.0</td>\n",
       "      <td>3.0</td>\n",
       "      <td>NaN</td>\n",
       "      <td>2.0</td>\n",
       "    </tr>\n",
       "    <tr>\n",
       "      <th>5</th>\n",
       "      <td>NaN</td>\n",
       "      <td>5.0</td>\n",
       "      <td>2.0</td>\n",
       "      <td>5.0</td>\n",
       "    </tr>\n",
       "    <tr>\n",
       "      <th>6</th>\n",
       "      <td>3.0</td>\n",
       "      <td>NaN</td>\n",
       "      <td>2.0</td>\n",
       "      <td>5.0</td>\n",
       "    </tr>\n",
       "    <tr>\n",
       "      <th>7</th>\n",
       "      <td>2.0</td>\n",
       "      <td>NaN</td>\n",
       "      <td>3.0</td>\n",
       "      <td>4.0</td>\n",
       "    </tr>\n",
       "    <tr>\n",
       "      <th>8</th>\n",
       "      <td>5.0</td>\n",
       "      <td>5.0</td>\n",
       "      <td>1.0</td>\n",
       "      <td>NaN</td>\n",
       "    </tr>\n",
       "    <tr>\n",
       "      <th>9</th>\n",
       "      <td>NaN</td>\n",
       "      <td>1.0</td>\n",
       "      <td>4.0</td>\n",
       "      <td>3.0</td>\n",
       "    </tr>\n",
       "  </tbody>\n",
       "</table>\n",
       "</div>"
      ],
      "text/plain": [
       "     A    B    C    D\n",
       "0  NaN  NaN  3.0  1.0\n",
       "1  4.0  2.0  4.0  NaN\n",
       "2  5.0  NaN  5.0  4.0\n",
       "3  4.0  5.0  5.0  1.0\n",
       "4  2.0  3.0  NaN  2.0\n",
       "5  NaN  5.0  2.0  5.0\n",
       "6  3.0  NaN  2.0  5.0\n",
       "7  2.0  NaN  3.0  4.0\n",
       "8  5.0  5.0  1.0  NaN\n",
       "9  NaN  1.0  4.0  3.0"
      ]
     },
     "execution_count": 41,
     "metadata": {},
     "output_type": "execute_result"
    }
   ],
   "source": [
    "w.mask(w > 5)"
   ]
  },
  {
   "cell_type": "markdown",
   "metadata": {},
   "source": [
    "#### Query"
   ]
  },
  {
   "cell_type": "code",
   "execution_count": 42,
   "metadata": {
    "ExecuteTime": {
     "start_time": "2020-03-20T10:18:51.727Z"
    }
   },
   "outputs": [
    {
     "data": {
      "text/html": [
       "<div>\n",
       "<style scoped>\n",
       "    .dataframe tbody tr th:only-of-type {\n",
       "        vertical-align: middle;\n",
       "    }\n",
       "\n",
       "    .dataframe tbody tr th {\n",
       "        vertical-align: top;\n",
       "    }\n",
       "\n",
       "    .dataframe thead th {\n",
       "        text-align: right;\n",
       "    }\n",
       "</style>\n",
       "<table border=\"1\" class=\"dataframe\">\n",
       "  <thead>\n",
       "    <tr style=\"text-align: right;\">\n",
       "      <th></th>\n",
       "      <th>A</th>\n",
       "      <th>B</th>\n",
       "      <th>C</th>\n",
       "      <th>D</th>\n",
       "    </tr>\n",
       "  </thead>\n",
       "  <tbody>\n",
       "    <tr>\n",
       "      <th>4</th>\n",
       "      <td>2</td>\n",
       "      <td>3</td>\n",
       "      <td>6</td>\n",
       "      <td>2</td>\n",
       "    </tr>\n",
       "  </tbody>\n",
       "</table>\n",
       "</div>"
      ],
      "text/plain": [
       "   A  B  C  D\n",
       "4  2  3  6  2"
      ]
     },
     "execution_count": 42,
     "metadata": {},
     "output_type": "execute_result"
    }
   ],
   "source": [
    "w[(w.A < w.B) & (w.B < w.C)]"
   ]
  },
  {
   "cell_type": "code",
   "execution_count": 43,
   "metadata": {
    "ExecuteTime": {
     "start_time": "2020-03-20T10:18:51.735Z"
    }
   },
   "outputs": [
    {
     "data": {
      "text/html": [
       "<div>\n",
       "<style scoped>\n",
       "    .dataframe tbody tr th:only-of-type {\n",
       "        vertical-align: middle;\n",
       "    }\n",
       "\n",
       "    .dataframe tbody tr th {\n",
       "        vertical-align: top;\n",
       "    }\n",
       "\n",
       "    .dataframe thead th {\n",
       "        text-align: right;\n",
       "    }\n",
       "</style>\n",
       "<table border=\"1\" class=\"dataframe\">\n",
       "  <thead>\n",
       "    <tr style=\"text-align: right;\">\n",
       "      <th></th>\n",
       "      <th>A</th>\n",
       "      <th>B</th>\n",
       "      <th>C</th>\n",
       "      <th>D</th>\n",
       "    </tr>\n",
       "  </thead>\n",
       "  <tbody>\n",
       "    <tr>\n",
       "      <th>4</th>\n",
       "      <td>2</td>\n",
       "      <td>3</td>\n",
       "      <td>6</td>\n",
       "      <td>2</td>\n",
       "    </tr>\n",
       "  </tbody>\n",
       "</table>\n",
       "</div>"
      ],
      "text/plain": [
       "   A  B  C  D\n",
       "4  2  3  6  2"
      ]
     },
     "execution_count": 43,
     "metadata": {},
     "output_type": "execute_result"
    }
   ],
   "source": [
    "w.query('(A < B) & (B < C)')"
   ]
  },
  {
   "cell_type": "code",
   "execution_count": 44,
   "metadata": {
    "ExecuteTime": {
     "start_time": "2020-03-20T10:18:51.744Z"
    }
   },
   "outputs": [
    {
     "data": {
      "text/html": [
       "<div>\n",
       "<style scoped>\n",
       "    .dataframe tbody tr th:only-of-type {\n",
       "        vertical-align: middle;\n",
       "    }\n",
       "\n",
       "    .dataframe tbody tr th {\n",
       "        vertical-align: top;\n",
       "    }\n",
       "\n",
       "    .dataframe thead th {\n",
       "        text-align: right;\n",
       "    }\n",
       "</style>\n",
       "<table border=\"1\" class=\"dataframe\">\n",
       "  <thead>\n",
       "    <tr style=\"text-align: right;\">\n",
       "      <th></th>\n",
       "      <th>A</th>\n",
       "      <th>B</th>\n",
       "      <th>C</th>\n",
       "      <th>D</th>\n",
       "    </tr>\n",
       "  </thead>\n",
       "  <tbody>\n",
       "    <tr>\n",
       "      <th>4</th>\n",
       "      <td>2</td>\n",
       "      <td>3</td>\n",
       "      <td>6</td>\n",
       "      <td>2</td>\n",
       "    </tr>\n",
       "  </tbody>\n",
       "</table>\n",
       "</div>"
      ],
      "text/plain": [
       "   A  B  C  D\n",
       "4  2  3  6  2"
      ]
     },
     "execution_count": 44,
     "metadata": {},
     "output_type": "execute_result"
    }
   ],
   "source": [
    "w.query('A < B & B < C')"
   ]
  },
  {
   "cell_type": "code",
   "execution_count": 45,
   "metadata": {
    "ExecuteTime": {
     "start_time": "2020-03-20T10:18:51.753Z"
    }
   },
   "outputs": [
    {
     "data": {
      "text/html": [
       "<div>\n",
       "<style scoped>\n",
       "    .dataframe tbody tr th:only-of-type {\n",
       "        vertical-align: middle;\n",
       "    }\n",
       "\n",
       "    .dataframe tbody tr th {\n",
       "        vertical-align: top;\n",
       "    }\n",
       "\n",
       "    .dataframe thead th {\n",
       "        text-align: right;\n",
       "    }\n",
       "</style>\n",
       "<table border=\"1\" class=\"dataframe\">\n",
       "  <thead>\n",
       "    <tr style=\"text-align: right;\">\n",
       "      <th></th>\n",
       "      <th>A</th>\n",
       "      <th>B</th>\n",
       "      <th>C</th>\n",
       "      <th>D</th>\n",
       "    </tr>\n",
       "  </thead>\n",
       "  <tbody>\n",
       "    <tr>\n",
       "      <th>4</th>\n",
       "      <td>2</td>\n",
       "      <td>3</td>\n",
       "      <td>6</td>\n",
       "      <td>2</td>\n",
       "    </tr>\n",
       "  </tbody>\n",
       "</table>\n",
       "</div>"
      ],
      "text/plain": [
       "   A  B  C  D\n",
       "4  2  3  6  2"
      ]
     },
     "execution_count": 45,
     "metadata": {},
     "output_type": "execute_result"
    }
   ],
   "source": [
    "w.query('A < B and B < C')"
   ]
  },
  {
   "cell_type": "code",
   "execution_count": 46,
   "metadata": {
    "ExecuteTime": {
     "start_time": "2020-03-20T10:18:51.762Z"
    }
   },
   "outputs": [
    {
     "data": {
      "text/html": [
       "<div>\n",
       "<style scoped>\n",
       "    .dataframe tbody tr th:only-of-type {\n",
       "        vertical-align: middle;\n",
       "    }\n",
       "\n",
       "    .dataframe tbody tr th {\n",
       "        vertical-align: top;\n",
       "    }\n",
       "\n",
       "    .dataframe thead th {\n",
       "        text-align: right;\n",
       "    }\n",
       "</style>\n",
       "<table border=\"1\" class=\"dataframe\">\n",
       "  <thead>\n",
       "    <tr style=\"text-align: right;\">\n",
       "      <th></th>\n",
       "      <th>A</th>\n",
       "      <th>B</th>\n",
       "      <th>C</th>\n",
       "      <th>D</th>\n",
       "    </tr>\n",
       "  </thead>\n",
       "  <tbody>\n",
       "    <tr>\n",
       "      <th>4</th>\n",
       "      <td>2</td>\n",
       "      <td>3</td>\n",
       "      <td>6</td>\n",
       "      <td>2</td>\n",
       "    </tr>\n",
       "  </tbody>\n",
       "</table>\n",
       "</div>"
      ],
      "text/plain": [
       "   A  B  C  D\n",
       "4  2  3  6  2"
      ]
     },
     "execution_count": 46,
     "metadata": {},
     "output_type": "execute_result"
    }
   ],
   "source": [
    "w.query('A < B < C')"
   ]
  },
  {
   "cell_type": "code",
   "execution_count": 47,
   "metadata": {
    "ExecuteTime": {
     "start_time": "2020-03-20T10:18:51.771Z"
    }
   },
   "outputs": [
    {
     "data": {
      "text/html": [
       "<div>\n",
       "<style scoped>\n",
       "    .dataframe tbody tr th:only-of-type {\n",
       "        vertical-align: middle;\n",
       "    }\n",
       "\n",
       "    .dataframe tbody tr th {\n",
       "        vertical-align: top;\n",
       "    }\n",
       "\n",
       "    .dataframe thead th {\n",
       "        text-align: right;\n",
       "    }\n",
       "</style>\n",
       "<table border=\"1\" class=\"dataframe\">\n",
       "  <thead>\n",
       "    <tr style=\"text-align: right;\">\n",
       "      <th></th>\n",
       "      <th>A</th>\n",
       "      <th>B</th>\n",
       "      <th>C</th>\n",
       "      <th>D</th>\n",
       "    </tr>\n",
       "  </thead>\n",
       "  <tbody>\n",
       "    <tr>\n",
       "      <th>1</th>\n",
       "      <td>4</td>\n",
       "      <td>2</td>\n",
       "      <td>4</td>\n",
       "      <td>8</td>\n",
       "    </tr>\n",
       "    <tr>\n",
       "      <th>3</th>\n",
       "      <td>4</td>\n",
       "      <td>5</td>\n",
       "      <td>5</td>\n",
       "      <td>1</td>\n",
       "    </tr>\n",
       "  </tbody>\n",
       "</table>\n",
       "</div>"
      ],
      "text/plain": [
       "   A  B  C  D\n",
       "1  4  2  4  8\n",
       "3  4  5  5  1"
      ]
     },
     "execution_count": 47,
     "metadata": {},
     "output_type": "execute_result"
    }
   ],
   "source": [
    "w.query('A not in B')"
   ]
  },
  {
   "cell_type": "code",
   "execution_count": 48,
   "metadata": {
    "ExecuteTime": {
     "start_time": "2020-03-20T10:18:51.777Z"
    }
   },
   "outputs": [
    {
     "data": {
      "text/html": [
       "<div>\n",
       "<style scoped>\n",
       "    .dataframe tbody tr th:only-of-type {\n",
       "        vertical-align: middle;\n",
       "    }\n",
       "\n",
       "    .dataframe tbody tr th {\n",
       "        vertical-align: top;\n",
       "    }\n",
       "\n",
       "    .dataframe thead th {\n",
       "        text-align: right;\n",
       "    }\n",
       "</style>\n",
       "<table border=\"1\" class=\"dataframe\">\n",
       "  <thead>\n",
       "    <tr style=\"text-align: right;\">\n",
       "      <th></th>\n",
       "      <th>A</th>\n",
       "      <th>B</th>\n",
       "      <th>C</th>\n",
       "      <th>D</th>\n",
       "    </tr>\n",
       "  </thead>\n",
       "  <tbody>\n",
       "    <tr>\n",
       "      <th>0</th>\n",
       "      <td>9</td>\n",
       "      <td>8</td>\n",
       "      <td>3</td>\n",
       "      <td>1</td>\n",
       "    </tr>\n",
       "    <tr>\n",
       "      <th>1</th>\n",
       "      <td>4</td>\n",
       "      <td>2</td>\n",
       "      <td>4</td>\n",
       "      <td>8</td>\n",
       "    </tr>\n",
       "    <tr>\n",
       "      <th>2</th>\n",
       "      <td>5</td>\n",
       "      <td>6</td>\n",
       "      <td>5</td>\n",
       "      <td>4</td>\n",
       "    </tr>\n",
       "    <tr>\n",
       "      <th>3</th>\n",
       "      <td>4</td>\n",
       "      <td>5</td>\n",
       "      <td>5</td>\n",
       "      <td>1</td>\n",
       "    </tr>\n",
       "    <tr>\n",
       "      <th>5</th>\n",
       "      <td>8</td>\n",
       "      <td>5</td>\n",
       "      <td>2</td>\n",
       "      <td>5</td>\n",
       "    </tr>\n",
       "    <tr>\n",
       "      <th>8</th>\n",
       "      <td>5</td>\n",
       "      <td>5</td>\n",
       "      <td>1</td>\n",
       "      <td>7</td>\n",
       "    </tr>\n",
       "    <tr>\n",
       "      <th>9</th>\n",
       "      <td>8</td>\n",
       "      <td>1</td>\n",
       "      <td>4</td>\n",
       "      <td>3</td>\n",
       "    </tr>\n",
       "  </tbody>\n",
       "</table>\n",
       "</div>"
      ],
      "text/plain": [
       "   A  B  C  D\n",
       "0  9  8  3  1\n",
       "1  4  2  4  8\n",
       "2  5  6  5  4\n",
       "3  4  5  5  1\n",
       "5  8  5  2  5\n",
       "8  5  5  1  7\n",
       "9  8  1  4  3"
      ]
     },
     "execution_count": 48,
     "metadata": {},
     "output_type": "execute_result"
    }
   ],
   "source": [
    "w.query('A not in [1, 2, 3]')"
   ]
  },
  {
   "cell_type": "code",
   "execution_count": 49,
   "metadata": {
    "ExecuteTime": {
     "start_time": "2020-03-20T10:18:51.786Z"
    },
    "scrolled": true
   },
   "outputs": [
    {
     "data": {
      "text/html": [
       "<div>\n",
       "<style scoped>\n",
       "    .dataframe tbody tr th:only-of-type {\n",
       "        vertical-align: middle;\n",
       "    }\n",
       "\n",
       "    .dataframe tbody tr th {\n",
       "        vertical-align: top;\n",
       "    }\n",
       "\n",
       "    .dataframe thead th {\n",
       "        text-align: right;\n",
       "    }\n",
       "</style>\n",
       "<table border=\"1\" class=\"dataframe\">\n",
       "  <thead>\n",
       "    <tr style=\"text-align: right;\">\n",
       "      <th></th>\n",
       "      <th>A</th>\n",
       "      <th>B</th>\n",
       "      <th>C</th>\n",
       "      <th>D</th>\n",
       "    </tr>\n",
       "  </thead>\n",
       "  <tbody>\n",
       "    <tr>\n",
       "      <th>0</th>\n",
       "      <td>9</td>\n",
       "      <td>8</td>\n",
       "      <td>3</td>\n",
       "      <td>1</td>\n",
       "    </tr>\n",
       "    <tr>\n",
       "      <th>1</th>\n",
       "      <td>4</td>\n",
       "      <td>2</td>\n",
       "      <td>4</td>\n",
       "      <td>8</td>\n",
       "    </tr>\n",
       "    <tr>\n",
       "      <th>2</th>\n",
       "      <td>5</td>\n",
       "      <td>6</td>\n",
       "      <td>5</td>\n",
       "      <td>4</td>\n",
       "    </tr>\n",
       "    <tr>\n",
       "      <th>3</th>\n",
       "      <td>4</td>\n",
       "      <td>5</td>\n",
       "      <td>5</td>\n",
       "      <td>1</td>\n",
       "    </tr>\n",
       "    <tr>\n",
       "      <th>5</th>\n",
       "      <td>8</td>\n",
       "      <td>5</td>\n",
       "      <td>2</td>\n",
       "      <td>5</td>\n",
       "    </tr>\n",
       "    <tr>\n",
       "      <th>8</th>\n",
       "      <td>5</td>\n",
       "      <td>5</td>\n",
       "      <td>1</td>\n",
       "      <td>7</td>\n",
       "    </tr>\n",
       "    <tr>\n",
       "      <th>9</th>\n",
       "      <td>8</td>\n",
       "      <td>1</td>\n",
       "      <td>4</td>\n",
       "      <td>3</td>\n",
       "    </tr>\n",
       "  </tbody>\n",
       "</table>\n",
       "</div>"
      ],
      "text/plain": [
       "   A  B  C  D\n",
       "0  9  8  3  1\n",
       "1  4  2  4  8\n",
       "2  5  6  5  4\n",
       "3  4  5  5  1\n",
       "5  8  5  2  5\n",
       "8  5  5  1  7\n",
       "9  8  1  4  3"
      ]
     },
     "execution_count": 49,
     "metadata": {},
     "output_type": "execute_result"
    }
   ],
   "source": [
    "w.query('A != [1, 2, 3]')"
   ]
  },
  {
   "cell_type": "markdown",
   "metadata": {},
   "source": [
    "### Stack / unstack"
   ]
  },
  {
   "cell_type": "code",
   "execution_count": 50,
   "metadata": {
    "ExecuteTime": {
     "start_time": "2020-03-20T10:18:51.808Z"
    },
    "init_cell": true
   },
   "outputs": [
    {
     "data": {
      "text/html": [
       "<div>\n",
       "<style scoped>\n",
       "    .dataframe tbody tr th:only-of-type {\n",
       "        vertical-align: middle;\n",
       "    }\n",
       "\n",
       "    .dataframe tbody tr th {\n",
       "        vertical-align: top;\n",
       "    }\n",
       "\n",
       "    .dataframe thead th {\n",
       "        text-align: right;\n",
       "    }\n",
       "</style>\n",
       "<table border=\"1\" class=\"dataframe\">\n",
       "  <thead>\n",
       "    <tr style=\"text-align: right;\">\n",
       "      <th></th>\n",
       "      <th>A</th>\n",
       "      <th>B</th>\n",
       "      <th>C</th>\n",
       "      <th>D</th>\n",
       "    </tr>\n",
       "  </thead>\n",
       "  <tbody>\n",
       "    <tr>\n",
       "      <th>0</th>\n",
       "      <td>12</td>\n",
       "      <td>19</td>\n",
       "      <td>14</td>\n",
       "      <td>13</td>\n",
       "    </tr>\n",
       "    <tr>\n",
       "      <th>1</th>\n",
       "      <td>13</td>\n",
       "      <td>12</td>\n",
       "      <td>10</td>\n",
       "      <td>14</td>\n",
       "    </tr>\n",
       "    <tr>\n",
       "      <th>2</th>\n",
       "      <td>10</td>\n",
       "      <td>11</td>\n",
       "      <td>15</td>\n",
       "      <td>19</td>\n",
       "    </tr>\n",
       "    <tr>\n",
       "      <th>3</th>\n",
       "      <td>11</td>\n",
       "      <td>14</td>\n",
       "      <td>15</td>\n",
       "      <td>15</td>\n",
       "    </tr>\n",
       "    <tr>\n",
       "      <th>4</th>\n",
       "      <td>17</td>\n",
       "      <td>10</td>\n",
       "      <td>12</td>\n",
       "      <td>16</td>\n",
       "    </tr>\n",
       "  </tbody>\n",
       "</table>\n",
       "</div>"
      ],
      "text/plain": [
       "    A   B   C   D\n",
       "0  12  19  14  13\n",
       "1  13  12  10  14\n",
       "2  10  11  15  19\n",
       "3  11  14  15  15\n",
       "4  17  10  12  16"
      ]
     },
     "execution_count": 50,
     "metadata": {},
     "output_type": "execute_result"
    }
   ],
   "source": [
    "s = DataFrame(numpy.random.randint(10, 20, size=(5, 4)), columns=list('ABCD'))\n",
    "s"
   ]
  },
  {
   "cell_type": "code",
   "execution_count": 51,
   "metadata": {
    "ExecuteTime": {
     "start_time": "2020-03-20T10:18:51.816Z"
    }
   },
   "outputs": [
    {
     "data": {
      "text/plain": [
       "0  A    12\n",
       "   B    19\n",
       "   C    14\n",
       "   D    13\n",
       "1  A    13\n",
       "   B    12\n",
       "   C    10\n",
       "   D    14\n",
       "2  A    10\n",
       "   B    11\n",
       "   C    15\n",
       "   D    19\n",
       "3  A    11\n",
       "   B    14\n",
       "   C    15\n",
       "   D    15\n",
       "4  A    17\n",
       "   B    10\n",
       "   C    12\n",
       "   D    16\n",
       "dtype: int64"
      ]
     },
     "execution_count": 51,
     "metadata": {},
     "output_type": "execute_result"
    }
   ],
   "source": [
    "s.stack()"
   ]
  },
  {
   "cell_type": "code",
   "execution_count": 52,
   "metadata": {
    "ExecuteTime": {
     "start_time": "2020-03-20T10:18:51.823Z"
    }
   },
   "outputs": [
    {
     "data": {
      "text/plain": [
       "A  0    12\n",
       "   1    13\n",
       "   2    10\n",
       "   3    11\n",
       "   4    17\n",
       "B  0    19\n",
       "   1    12\n",
       "   2    11\n",
       "   3    14\n",
       "   4    10\n",
       "C  0    14\n",
       "   1    10\n",
       "   2    15\n",
       "   3    15\n",
       "   4    12\n",
       "D  0    13\n",
       "   1    14\n",
       "   2    19\n",
       "   3    15\n",
       "   4    16\n",
       "dtype: int64"
      ]
     },
     "execution_count": 52,
     "metadata": {},
     "output_type": "execute_result"
    }
   ],
   "source": [
    "s.unstack()"
   ]
  },
  {
   "cell_type": "markdown",
   "metadata": {},
   "source": [
    "## Aggregate"
   ]
  },
  {
   "cell_type": "code",
   "execution_count": 53,
   "metadata": {
    "ExecuteTime": {
     "start_time": "2020-03-20T10:18:51.835Z"
    },
    "init_cell": true
   },
   "outputs": [
    {
     "data": {
      "text/html": [
       "<div>\n",
       "<style scoped>\n",
       "    .dataframe tbody tr th:only-of-type {\n",
       "        vertical-align: middle;\n",
       "    }\n",
       "\n",
       "    .dataframe tbody tr th {\n",
       "        vertical-align: top;\n",
       "    }\n",
       "\n",
       "    .dataframe thead th {\n",
       "        text-align: right;\n",
       "    }\n",
       "</style>\n",
       "<table border=\"1\" class=\"dataframe\">\n",
       "  <thead>\n",
       "    <tr style=\"text-align: right;\">\n",
       "      <th></th>\n",
       "      <th>A</th>\n",
       "      <th>B</th>\n",
       "      <th>C</th>\n",
       "      <th>D</th>\n",
       "    </tr>\n",
       "  </thead>\n",
       "  <tbody>\n",
       "    <tr>\n",
       "      <th>0</th>\n",
       "      <td>13.0</td>\n",
       "      <td>11.0</td>\n",
       "      <td>13.0</td>\n",
       "      <td>11</td>\n",
       "    </tr>\n",
       "    <tr>\n",
       "      <th>1</th>\n",
       "      <td>14.0</td>\n",
       "      <td>16.0</td>\n",
       "      <td>11.0</td>\n",
       "      <td>19</td>\n",
       "    </tr>\n",
       "    <tr>\n",
       "      <th>2</th>\n",
       "      <td>19.0</td>\n",
       "      <td>11.0</td>\n",
       "      <td>12.0</td>\n",
       "      <td>10</td>\n",
       "    </tr>\n",
       "    <tr>\n",
       "      <th>3</th>\n",
       "      <td>NaN</td>\n",
       "      <td>12.0</td>\n",
       "      <td>11.0</td>\n",
       "      <td>18</td>\n",
       "    </tr>\n",
       "    <tr>\n",
       "      <th>4</th>\n",
       "      <td>NaN</td>\n",
       "      <td>NaN</td>\n",
       "      <td>11.0</td>\n",
       "      <td>13</td>\n",
       "    </tr>\n",
       "    <tr>\n",
       "      <th>5</th>\n",
       "      <td>15.0</td>\n",
       "      <td>NaN</td>\n",
       "      <td>NaN</td>\n",
       "      <td>11</td>\n",
       "    </tr>\n",
       "    <tr>\n",
       "      <th>6</th>\n",
       "      <td>17.0</td>\n",
       "      <td>17.0</td>\n",
       "      <td>NaN</td>\n",
       "      <td>17</td>\n",
       "    </tr>\n",
       "    <tr>\n",
       "      <th>7</th>\n",
       "      <td>15.0</td>\n",
       "      <td>13.0</td>\n",
       "      <td>NaN</td>\n",
       "      <td>11</td>\n",
       "    </tr>\n",
       "    <tr>\n",
       "      <th>8</th>\n",
       "      <td>18.0</td>\n",
       "      <td>16.0</td>\n",
       "      <td>17.0</td>\n",
       "      <td>17</td>\n",
       "    </tr>\n",
       "    <tr>\n",
       "      <th>9</th>\n",
       "      <td>17.0</td>\n",
       "      <td>16.0</td>\n",
       "      <td>11.0</td>\n",
       "      <td>16</td>\n",
       "    </tr>\n",
       "  </tbody>\n",
       "</table>\n",
       "</div>"
      ],
      "text/plain": [
       "      A     B     C   D\n",
       "0  13.0  11.0  13.0  11\n",
       "1  14.0  16.0  11.0  19\n",
       "2  19.0  11.0  12.0  10\n",
       "3   NaN  12.0  11.0  18\n",
       "4   NaN   NaN  11.0  13\n",
       "5  15.0   NaN   NaN  11\n",
       "6  17.0  17.0   NaN  17\n",
       "7  15.0  13.0   NaN  11\n",
       "8  18.0  16.0  17.0  17\n",
       "9  17.0  16.0  11.0  16"
      ]
     },
     "execution_count": 53,
     "metadata": {},
     "output_type": "execute_result"
    }
   ],
   "source": [
    "adf = DataFrame(numpy.random.randint(10, 20, size=(10, 4)), columns=list('ABCD'))\n",
    "\n",
    "adf.iloc[3:5,0] = numpy.nan\n",
    "adf.iloc[4:6,1] = numpy.nan\n",
    "adf.iloc[5:8,2] = numpy.nan\n",
    "adf"
   ]
  },
  {
   "cell_type": "code",
   "execution_count": 54,
   "metadata": {
    "ExecuteTime": {
     "start_time": "2020-03-20T10:18:51.843Z"
    }
   },
   "outputs": [
    {
     "data": {
      "text/plain": [
       "A    16.000000\n",
       "B    14.000000\n",
       "C    12.285714\n",
       "D    14.300000\n",
       "dtype: float64"
      ]
     },
     "execution_count": 54,
     "metadata": {},
     "output_type": "execute_result"
    }
   ],
   "source": [
    "adf.mean()"
   ]
  },
  {
   "cell_type": "code",
   "execution_count": 55,
   "metadata": {
    "ExecuteTime": {
     "start_time": "2020-03-20T10:18:51.850Z"
    }
   },
   "outputs": [
    {
     "data": {
      "text/plain": [
       "A    16.000000\n",
       "B    14.000000\n",
       "C    12.285714\n",
       "D    14.300000\n",
       "dtype: float64"
      ]
     },
     "execution_count": 55,
     "metadata": {},
     "output_type": "execute_result"
    }
   ],
   "source": [
    "adf.mean(numeric_only=True)"
   ]
  },
  {
   "cell_type": "code",
   "execution_count": 56,
   "metadata": {
    "ExecuteTime": {
     "start_time": "2020-03-20T10:18:51.857Z"
    }
   },
   "outputs": [
    {
     "data": {
      "text/plain": [
       "A    16.0\n",
       "B    14.5\n",
       "C    11.0\n",
       "D    14.5\n",
       "dtype: float64"
      ]
     },
     "execution_count": 56,
     "metadata": {},
     "output_type": "execute_result"
    }
   ],
   "source": [
    "adf.median()"
   ]
  },
  {
   "cell_type": "code",
   "execution_count": 57,
   "metadata": {
    "ExecuteTime": {
     "start_time": "2020-03-20T10:18:51.866Z"
    }
   },
   "outputs": [
    {
     "data": {
      "text/plain": [
       "A     4.285714\n",
       "B     6.285714\n",
       "C     4.904762\n",
       "D    11.788889\n",
       "dtype: float64"
      ]
     },
     "execution_count": 57,
     "metadata": {},
     "output_type": "execute_result"
    }
   ],
   "source": [
    "adf.var()"
   ]
  },
  {
   "cell_type": "markdown",
   "metadata": {},
   "source": [
    "## Multiindex\n",
    "\n",
    "http://pandas.pydata.org/pandas-docs/stable/advanced.html"
   ]
  },
  {
   "cell_type": "markdown",
   "metadata": {},
   "source": [
    "### Simple series"
   ]
  },
  {
   "cell_type": "code",
   "execution_count": 58,
   "metadata": {
    "ExecuteTime": {
     "start_time": "2020-03-20T10:18:51.881Z"
    },
    "init_cell": true
   },
   "outputs": [
    {
     "data": {
      "text/plain": [
       "[('bar', 'one'),\n",
       " ('bar', 'two'),\n",
       " ('baz', 'one'),\n",
       " ('baz', 'two'),\n",
       " ('foo', 'one'),\n",
       " ('foo', 'two'),\n",
       " ('qux', 'one'),\n",
       " ('qux', 'two')]"
      ]
     },
     "execution_count": 58,
     "metadata": {},
     "output_type": "execute_result"
    }
   ],
   "source": [
    "arrays = [['bar', 'bar', 'baz', 'baz', 'foo', 'foo', 'qux', 'qux'],\n",
    "          ['one', 'two', 'one', 'two', 'one', 'two', 'one', 'two']]\n",
    "\n",
    "tuples = list(zip(*arrays))\n",
    "tuples"
   ]
  },
  {
   "cell_type": "code",
   "execution_count": 59,
   "metadata": {
    "ExecuteTime": {
     "start_time": "2020-03-20T10:18:51.891Z"
    },
    "init_cell": true
   },
   "outputs": [
    {
     "data": {
      "text/plain": [
       "MultiIndex([('bar', 'one'),\n",
       "            ('bar', 'two'),\n",
       "            ('baz', 'one'),\n",
       "            ('baz', 'two'),\n",
       "            ('foo', 'one'),\n",
       "            ('foo', 'two'),\n",
       "            ('qux', 'one'),\n",
       "            ('qux', 'two')],\n",
       "           names=['first', 'second'])"
      ]
     },
     "execution_count": 59,
     "metadata": {},
     "output_type": "execute_result"
    }
   ],
   "source": [
    "index = pandas.MultiIndex.from_tuples(tuples, names=['first', 'second'])\n",
    "index"
   ]
  },
  {
   "cell_type": "code",
   "execution_count": 60,
   "metadata": {
    "ExecuteTime": {
     "start_time": "2020-03-20T10:18:51.900Z"
    }
   },
   "outputs": [
    {
     "data": {
      "text/plain": [
       "first  second\n",
       "bar    one       0.063511\n",
       "       two      -0.522251\n",
       "baz    one       0.680658\n",
       "       two      -0.580190\n",
       "foo    one       0.725483\n",
       "       two       0.019940\n",
       "qux    one       0.776960\n",
       "       two       1.200772\n",
       "dtype: float64"
      ]
     },
     "execution_count": 60,
     "metadata": {},
     "output_type": "execute_result"
    }
   ],
   "source": [
    "s = pandas.Series(numpy.random.randn(8), index=index)\n",
    "s"
   ]
  },
  {
   "cell_type": "code",
   "execution_count": 61,
   "metadata": {
    "ExecuteTime": {
     "start_time": "2020-03-20T10:18:51.910Z"
    },
    "init_cell": true
   },
   "outputs": [
    {
     "data": {
      "text/html": [
       "<div>\n",
       "<style scoped>\n",
       "    .dataframe tbody tr th:only-of-type {\n",
       "        vertical-align: middle;\n",
       "    }\n",
       "\n",
       "    .dataframe tbody tr th {\n",
       "        vertical-align: top;\n",
       "    }\n",
       "\n",
       "    .dataframe thead th {\n",
       "        text-align: right;\n",
       "    }\n",
       "</style>\n",
       "<table border=\"1\" class=\"dataframe\">\n",
       "  <thead>\n",
       "    <tr style=\"text-align: right;\">\n",
       "      <th></th>\n",
       "      <th></th>\n",
       "      <th>data</th>\n",
       "    </tr>\n",
       "    <tr>\n",
       "      <th>first</th>\n",
       "      <th>second</th>\n",
       "      <th></th>\n",
       "    </tr>\n",
       "  </thead>\n",
       "  <tbody>\n",
       "    <tr>\n",
       "      <th rowspan=\"2\" valign=\"top\">bar</th>\n",
       "      <th>one</th>\n",
       "      <td>0.419952</td>\n",
       "    </tr>\n",
       "    <tr>\n",
       "      <th>two</th>\n",
       "      <td>0.688526</td>\n",
       "    </tr>\n",
       "    <tr>\n",
       "      <th rowspan=\"2\" valign=\"top\">baz</th>\n",
       "      <th>one</th>\n",
       "      <td>-0.241666</td>\n",
       "    </tr>\n",
       "    <tr>\n",
       "      <th>two</th>\n",
       "      <td>-0.704115</td>\n",
       "    </tr>\n",
       "    <tr>\n",
       "      <th rowspan=\"2\" valign=\"top\">foo</th>\n",
       "      <th>one</th>\n",
       "      <td>-1.643062</td>\n",
       "    </tr>\n",
       "    <tr>\n",
       "      <th>two</th>\n",
       "      <td>0.117126</td>\n",
       "    </tr>\n",
       "    <tr>\n",
       "      <th rowspan=\"2\" valign=\"top\">qux</th>\n",
       "      <th>one</th>\n",
       "      <td>1.409073</td>\n",
       "    </tr>\n",
       "    <tr>\n",
       "      <th>two</th>\n",
       "      <td>-1.090796</td>\n",
       "    </tr>\n",
       "  </tbody>\n",
       "</table>\n",
       "</div>"
      ],
      "text/plain": [
       "                  data\n",
       "first second          \n",
       "bar   one     0.419952\n",
       "      two     0.688526\n",
       "baz   one    -0.241666\n",
       "      two    -0.704115\n",
       "foo   one    -1.643062\n",
       "      two     0.117126\n",
       "qux   one     1.409073\n",
       "      two    -1.090796"
      ]
     },
     "execution_count": 61,
     "metadata": {},
     "output_type": "execute_result"
    }
   ],
   "source": [
    "d = DataFrame(numpy.random.randn(8), index=index, columns=['data'])\n",
    "d"
   ]
  },
  {
   "cell_type": "code",
   "execution_count": 62,
   "metadata": {
    "ExecuteTime": {
     "start_time": "2020-03-20T10:18:51.918Z"
    }
   },
   "outputs": [
    {
     "data": {
      "text/html": [
       "<div>\n",
       "<style scoped>\n",
       "    .dataframe tbody tr th:only-of-type {\n",
       "        vertical-align: middle;\n",
       "    }\n",
       "\n",
       "    .dataframe tbody tr th {\n",
       "        vertical-align: top;\n",
       "    }\n",
       "\n",
       "    .dataframe thead th {\n",
       "        text-align: right;\n",
       "    }\n",
       "</style>\n",
       "<table border=\"1\" class=\"dataframe\">\n",
       "  <thead>\n",
       "    <tr style=\"text-align: right;\">\n",
       "      <th></th>\n",
       "      <th></th>\n",
       "      <th>data</th>\n",
       "    </tr>\n",
       "    <tr>\n",
       "      <th>first</th>\n",
       "      <th>second</th>\n",
       "      <th></th>\n",
       "    </tr>\n",
       "  </thead>\n",
       "  <tbody>\n",
       "    <tr>\n",
       "      <th rowspan=\"2\" valign=\"top\">foo</th>\n",
       "      <th>one</th>\n",
       "      <td>-1.643062</td>\n",
       "    </tr>\n",
       "    <tr>\n",
       "      <th>two</th>\n",
       "      <td>0.117126</td>\n",
       "    </tr>\n",
       "  </tbody>\n",
       "</table>\n",
       "</div>"
      ],
      "text/plain": [
       "                  data\n",
       "first second          \n",
       "foo   one    -1.643062\n",
       "      two     0.117126"
      ]
     },
     "execution_count": 62,
     "metadata": {},
     "output_type": "execute_result"
    }
   ],
   "source": [
    "d['foo':'one']"
   ]
  },
  {
   "cell_type": "markdown",
   "metadata": {},
   "source": [
    "### DataFrame"
   ]
  },
  {
   "cell_type": "code",
   "execution_count": 63,
   "metadata": {
    "ExecuteTime": {
     "start_time": "2020-03-20T10:18:51.929Z"
    },
    "init_cell": false
   },
   "outputs": [
    {
     "data": {
      "text/plain": [
       "[array(['bar', 'bar', 'baz', 'baz', 'foo', 'foo', 'qux', 'qux'],\n",
       "       dtype='<U3'),\n",
       " array(['one', 'two', 'one', 'two', 'one', 'two', 'one', 'two'],\n",
       "       dtype='<U3')]"
      ]
     },
     "execution_count": 63,
     "metadata": {},
     "output_type": "execute_result"
    }
   ],
   "source": [
    "arrays = [numpy.array(['bar', 'bar', 'baz', 'baz', 'foo', 'foo', 'qux', 'qux']),\n",
    "          numpy.array(['one', 'two', 'one', 'two', 'one', 'two', 'one', 'two'])]\n",
    "arrays"
   ]
  },
  {
   "cell_type": "code",
   "execution_count": 64,
   "metadata": {
    "ExecuteTime": {
     "start_time": "2020-03-20T10:18:51.937Z"
    }
   },
   "outputs": [
    {
     "data": {
      "text/plain": [
       "[['bar', 'bar', 'baz', 'baz', 'foo', 'foo', 'qux', 'qux'],\n",
       " ['one', 'two', 'one', 'two', 'one', 'two', 'one', 'two']]"
      ]
     },
     "execution_count": 64,
     "metadata": {},
     "output_type": "execute_result"
    }
   ],
   "source": [
    "# And directly from array:\n",
    "arrays = [['bar', 'bar', 'baz', 'baz', 'foo', 'foo', 'qux', 'qux'],\n",
    "          ['one', 'two', 'one', 'two', 'one', 'two', 'one', 'two']]\n",
    "arrays"
   ]
  },
  {
   "cell_type": "code",
   "execution_count": 65,
   "metadata": {
    "ExecuteTime": {
     "start_time": "2020-03-20T10:18:51.944Z"
    }
   },
   "outputs": [
    {
     "data": {
      "text/html": [
       "<div>\n",
       "<style scoped>\n",
       "    .dataframe tbody tr th:only-of-type {\n",
       "        vertical-align: middle;\n",
       "    }\n",
       "\n",
       "    .dataframe tbody tr th {\n",
       "        vertical-align: top;\n",
       "    }\n",
       "\n",
       "    .dataframe thead th {\n",
       "        text-align: right;\n",
       "    }\n",
       "</style>\n",
       "<table border=\"1\" class=\"dataframe\">\n",
       "  <thead>\n",
       "    <tr style=\"text-align: right;\">\n",
       "      <th></th>\n",
       "      <th></th>\n",
       "      <th>A</th>\n",
       "      <th>B</th>\n",
       "      <th>C</th>\n",
       "      <th>D</th>\n",
       "    </tr>\n",
       "  </thead>\n",
       "  <tbody>\n",
       "    <tr>\n",
       "      <th rowspan=\"2\" valign=\"top\">bar</th>\n",
       "      <th>one</th>\n",
       "      <td>0.547425</td>\n",
       "      <td>0.290054</td>\n",
       "      <td>-0.947405</td>\n",
       "      <td>0.661457</td>\n",
       "    </tr>\n",
       "    <tr>\n",
       "      <th>two</th>\n",
       "      <td>1.009571</td>\n",
       "      <td>0.359683</td>\n",
       "      <td>-2.021147</td>\n",
       "      <td>-1.768442</td>\n",
       "    </tr>\n",
       "    <tr>\n",
       "      <th rowspan=\"2\" valign=\"top\">baz</th>\n",
       "      <th>one</th>\n",
       "      <td>2.523674</td>\n",
       "      <td>-0.154706</td>\n",
       "      <td>0.519911</td>\n",
       "      <td>0.756369</td>\n",
       "    </tr>\n",
       "    <tr>\n",
       "      <th>two</th>\n",
       "      <td>0.386879</td>\n",
       "      <td>0.277442</td>\n",
       "      <td>2.128242</td>\n",
       "      <td>-0.171450</td>\n",
       "    </tr>\n",
       "    <tr>\n",
       "      <th rowspan=\"2\" valign=\"top\">foo</th>\n",
       "      <th>one</th>\n",
       "      <td>-1.918744</td>\n",
       "      <td>-0.160499</td>\n",
       "      <td>2.010559</td>\n",
       "      <td>-0.932456</td>\n",
       "    </tr>\n",
       "    <tr>\n",
       "      <th>two</th>\n",
       "      <td>0.551167</td>\n",
       "      <td>-1.475519</td>\n",
       "      <td>0.933105</td>\n",
       "      <td>-0.214632</td>\n",
       "    </tr>\n",
       "    <tr>\n",
       "      <th rowspan=\"2\" valign=\"top\">qux</th>\n",
       "      <th>one</th>\n",
       "      <td>-0.274099</td>\n",
       "      <td>0.685282</td>\n",
       "      <td>-0.599483</td>\n",
       "      <td>-1.591447</td>\n",
       "    </tr>\n",
       "    <tr>\n",
       "      <th>two</th>\n",
       "      <td>1.706555</td>\n",
       "      <td>0.866375</td>\n",
       "      <td>1.028268</td>\n",
       "      <td>-0.399431</td>\n",
       "    </tr>\n",
       "  </tbody>\n",
       "</table>\n",
       "</div>"
      ],
      "text/plain": [
       "                A         B         C         D\n",
       "bar one  0.547425  0.290054 -0.947405  0.661457\n",
       "    two  1.009571  0.359683 -2.021147 -1.768442\n",
       "baz one  2.523674 -0.154706  0.519911  0.756369\n",
       "    two  0.386879  0.277442  2.128242 -0.171450\n",
       "foo one -1.918744 -0.160499  2.010559 -0.932456\n",
       "    two  0.551167 -1.475519  0.933105 -0.214632\n",
       "qux one -0.274099  0.685282 -0.599483 -1.591447\n",
       "    two  1.706555  0.866375  1.028268 -0.399431"
      ]
     },
     "execution_count": 65,
     "metadata": {},
     "output_type": "execute_result"
    }
   ],
   "source": [
    "df = pandas.DataFrame(numpy.random.randn(8, 4), index=arrays, columns=list('ABCD'))\n",
    "df"
   ]
  },
  {
   "cell_type": "code",
   "execution_count": 66,
   "metadata": {
    "ExecuteTime": {
     "start_time": "2020-03-20T10:18:51.951Z"
    }
   },
   "outputs": [
    {
     "data": {
      "text/plain": [
       "bar  one    0.547425\n",
       "     two    1.009571\n",
       "baz  one    2.523674\n",
       "     two    0.386879\n",
       "foo  one   -1.918744\n",
       "     two    0.551167\n",
       "qux  one   -0.274099\n",
       "     two    1.706555\n",
       "Name: A, dtype: float64"
      ]
     },
     "execution_count": 66,
     "metadata": {},
     "output_type": "execute_result"
    }
   ],
   "source": [
    "df.A"
   ]
  },
  {
   "cell_type": "code",
   "execution_count": 67,
   "metadata": {
    "ExecuteTime": {
     "start_time": "2020-03-20T10:18:51.958Z"
    }
   },
   "outputs": [
    {
     "data": {
      "text/plain": [
       "one    0.547425\n",
       "two    1.009571\n",
       "Name: A, dtype: float64"
      ]
     },
     "execution_count": 67,
     "metadata": {},
     "output_type": "execute_result"
    }
   ],
   "source": [
    "df.A['bar']"
   ]
  },
  {
   "cell_type": "markdown",
   "metadata": {},
   "source": [
    "## Манипуляции с DataFrame: add row/max/row iteration"
   ]
  },
  {
   "cell_type": "markdown",
   "metadata": {},
   "source": [
    "### Create from nested dict (from_dict)"
   ]
  },
  {
   "cell_type": "code",
   "execution_count": 68,
   "metadata": {
    "ExecuteTime": {
     "start_time": "2020-03-20T10:18:51.973Z"
    },
    "init_cell": true
   },
   "outputs": [
    {
     "data": {
      "text/plain": [
       "{'one': {'A': 1, 'B': 2, 'C': [1, 2, 3], 'D': {'res': 123, 'res1': 321}},\n",
       " 'two': {'A': 11, 'B': 22, 'C': [11, 22, 33], 'D': {'res': 1230}},\n",
       " 'three': {'A': 111, 'B': 222, 'C': [111, 222, 333], 'D': {'res': 12300}},\n",
       " 'four': {'A': 1111, 'B': 2222, 'C': [1111, 2222, 3333], 'D': {'res': 123000}}}"
      ]
     },
     "execution_count": 68,
     "metadata": {},
     "output_type": "execute_result"
    }
   ],
   "source": [
    "res = {\n",
    "    'one': {'A': 1, 'B': 2, 'C': [1, 2, 3], 'D': {'res': 123, 'res1': 321}}\n",
    "    ,'two': {'A': 11, 'B': 22, 'C': [11, 22, 33], 'D': {'res': 1230}}\n",
    "    ,'three': {'A': 111, 'B': 222, 'C': [111, 222, 333], 'D': {'res': 12300}}\n",
    "    ,'four': {'A': 1111, 'B': 2222, 'C': [1111, 2222, 3333], 'D': {'res': 123000}}\n",
    "}\n",
    "res"
   ]
  },
  {
   "cell_type": "code",
   "execution_count": 69,
   "metadata": {
    "ExecuteTime": {
     "start_time": "2020-03-20T10:18:51.982Z"
    }
   },
   "outputs": [
    {
     "data": {
      "text/html": [
       "<div>\n",
       "<style scoped>\n",
       "    .dataframe tbody tr th:only-of-type {\n",
       "        vertical-align: middle;\n",
       "    }\n",
       "\n",
       "    .dataframe tbody tr th {\n",
       "        vertical-align: top;\n",
       "    }\n",
       "\n",
       "    .dataframe thead th {\n",
       "        text-align: right;\n",
       "    }\n",
       "</style>\n",
       "<table border=\"1\" class=\"dataframe\">\n",
       "  <thead>\n",
       "    <tr style=\"text-align: right;\">\n",
       "      <th></th>\n",
       "      <th>one</th>\n",
       "      <th>two</th>\n",
       "      <th>three</th>\n",
       "      <th>four</th>\n",
       "    </tr>\n",
       "  </thead>\n",
       "  <tbody>\n",
       "    <tr>\n",
       "      <th>A</th>\n",
       "      <td>1</td>\n",
       "      <td>11</td>\n",
       "      <td>111</td>\n",
       "      <td>1111</td>\n",
       "    </tr>\n",
       "    <tr>\n",
       "      <th>B</th>\n",
       "      <td>2</td>\n",
       "      <td>22</td>\n",
       "      <td>222</td>\n",
       "      <td>2222</td>\n",
       "    </tr>\n",
       "    <tr>\n",
       "      <th>C</th>\n",
       "      <td>[1, 2, 3]</td>\n",
       "      <td>[11, 22, 33]</td>\n",
       "      <td>[111, 222, 333]</td>\n",
       "      <td>[1111, 2222, 3333]</td>\n",
       "    </tr>\n",
       "    <tr>\n",
       "      <th>D</th>\n",
       "      <td>{'res': 123, 'res1': 321}</td>\n",
       "      <td>{'res': 1230}</td>\n",
       "      <td>{'res': 12300}</td>\n",
       "      <td>{'res': 123000}</td>\n",
       "    </tr>\n",
       "  </tbody>\n",
       "</table>\n",
       "</div>"
      ],
      "text/plain": [
       "                         one            two            three  \\\n",
       "A                          1             11              111   \n",
       "B                          2             22              222   \n",
       "C                  [1, 2, 3]   [11, 22, 33]  [111, 222, 333]   \n",
       "D  {'res': 123, 'res1': 321}  {'res': 1230}   {'res': 12300}   \n",
       "\n",
       "                 four  \n",
       "A                1111  \n",
       "B                2222  \n",
       "C  [1111, 2222, 3333]  \n",
       "D     {'res': 123000}  "
      ]
     },
     "execution_count": 69,
     "metadata": {},
     "output_type": "execute_result"
    }
   ],
   "source": [
    "df = DataFrame(res)\n",
    "df"
   ]
  },
  {
   "cell_type": "code",
   "execution_count": 70,
   "metadata": {
    "ExecuteTime": {
     "start_time": "2020-03-20T10:18:51.990Z"
    }
   },
   "outputs": [
    {
     "data": {
      "text/html": [
       "<div>\n",
       "<style scoped>\n",
       "    .dataframe tbody tr th:only-of-type {\n",
       "        vertical-align: middle;\n",
       "    }\n",
       "\n",
       "    .dataframe tbody tr th {\n",
       "        vertical-align: top;\n",
       "    }\n",
       "\n",
       "    .dataframe thead th {\n",
       "        text-align: right;\n",
       "    }\n",
       "</style>\n",
       "<table border=\"1\" class=\"dataframe\">\n",
       "  <thead>\n",
       "    <tr style=\"text-align: right;\">\n",
       "      <th></th>\n",
       "      <th>A</th>\n",
       "      <th>B</th>\n",
       "      <th>C</th>\n",
       "      <th>D</th>\n",
       "    </tr>\n",
       "  </thead>\n",
       "  <tbody>\n",
       "    <tr>\n",
       "      <th>one</th>\n",
       "      <td>1</td>\n",
       "      <td>2</td>\n",
       "      <td>[1, 2, 3]</td>\n",
       "      <td>{'res': 123, 'res1': 321}</td>\n",
       "    </tr>\n",
       "    <tr>\n",
       "      <th>two</th>\n",
       "      <td>11</td>\n",
       "      <td>22</td>\n",
       "      <td>[11, 22, 33]</td>\n",
       "      <td>{'res': 1230}</td>\n",
       "    </tr>\n",
       "    <tr>\n",
       "      <th>three</th>\n",
       "      <td>111</td>\n",
       "      <td>222</td>\n",
       "      <td>[111, 222, 333]</td>\n",
       "      <td>{'res': 12300}</td>\n",
       "    </tr>\n",
       "    <tr>\n",
       "      <th>four</th>\n",
       "      <td>1111</td>\n",
       "      <td>2222</td>\n",
       "      <td>[1111, 2222, 3333]</td>\n",
       "      <td>{'res': 123000}</td>\n",
       "    </tr>\n",
       "  </tbody>\n",
       "</table>\n",
       "</div>"
      ],
      "text/plain": [
       "          A     B                   C                          D\n",
       "one       1     2           [1, 2, 3]  {'res': 123, 'res1': 321}\n",
       "two      11    22        [11, 22, 33]              {'res': 1230}\n",
       "three   111   222     [111, 222, 333]             {'res': 12300}\n",
       "four   1111  2222  [1111, 2222, 3333]            {'res': 123000}"
      ]
     },
     "execution_count": 70,
     "metadata": {},
     "output_type": "execute_result"
    }
   ],
   "source": [
    "df.T"
   ]
  },
  {
   "cell_type": "code",
   "execution_count": 71,
   "metadata": {
    "ExecuteTime": {
     "start_time": "2020-03-20T10:18:51.999Z"
    },
    "init_cell": true
   },
   "outputs": [
    {
     "data": {
      "text/html": [
       "<div>\n",
       "<style scoped>\n",
       "    .dataframe tbody tr th:only-of-type {\n",
       "        vertical-align: middle;\n",
       "    }\n",
       "\n",
       "    .dataframe tbody tr th {\n",
       "        vertical-align: top;\n",
       "    }\n",
       "\n",
       "    .dataframe thead th {\n",
       "        text-align: right;\n",
       "    }\n",
       "</style>\n",
       "<table border=\"1\" class=\"dataframe\">\n",
       "  <thead>\n",
       "    <tr style=\"text-align: right;\">\n",
       "      <th></th>\n",
       "      <th>A</th>\n",
       "      <th>B</th>\n",
       "      <th>C</th>\n",
       "      <th>D</th>\n",
       "    </tr>\n",
       "  </thead>\n",
       "  <tbody>\n",
       "    <tr>\n",
       "      <th>one</th>\n",
       "      <td>1</td>\n",
       "      <td>2</td>\n",
       "      <td>[1, 2, 3]</td>\n",
       "      <td>{'res': 123, 'res1': 321}</td>\n",
       "    </tr>\n",
       "    <tr>\n",
       "      <th>two</th>\n",
       "      <td>11</td>\n",
       "      <td>22</td>\n",
       "      <td>[11, 22, 33]</td>\n",
       "      <td>{'res': 1230}</td>\n",
       "    </tr>\n",
       "    <tr>\n",
       "      <th>three</th>\n",
       "      <td>111</td>\n",
       "      <td>222</td>\n",
       "      <td>[111, 222, 333]</td>\n",
       "      <td>{'res': 12300}</td>\n",
       "    </tr>\n",
       "    <tr>\n",
       "      <th>four</th>\n",
       "      <td>1111</td>\n",
       "      <td>2222</td>\n",
       "      <td>[1111, 2222, 3333]</td>\n",
       "      <td>{'res': 123000}</td>\n",
       "    </tr>\n",
       "  </tbody>\n",
       "</table>\n",
       "</div>"
      ],
      "text/plain": [
       "          A     B                   C                          D\n",
       "one       1     2           [1, 2, 3]  {'res': 123, 'res1': 321}\n",
       "two      11    22        [11, 22, 33]              {'res': 1230}\n",
       "three   111   222     [111, 222, 333]             {'res': 12300}\n",
       "four   1111  2222  [1111, 2222, 3333]            {'res': 123000}"
      ]
     },
     "execution_count": 71,
     "metadata": {},
     "output_type": "execute_result"
    }
   ],
   "source": [
    "# http://pandas.pydata.org/pandas-docs/stable/generated/pandas.DataFrame.from_dict.html\n",
    "df = DataFrame.from_dict(res, orient='index').sort_index(axis=1)\n",
    "df"
   ]
  },
  {
   "cell_type": "markdown",
   "metadata": {},
   "source": [
    "#### DataFrame.from_records\n",
    "\n",
    "https://github.com/pydata/pandas/issues/1744"
   ]
  },
  {
   "cell_type": "code",
   "execution_count": 72,
   "metadata": {
    "ExecuteTime": {
     "start_time": "2020-03-20T10:18:52.010Z"
    },
    "init_cell": true,
    "scrolled": true
   },
   "outputs": [
    {
     "data": {
      "text/html": [
       "<div>\n",
       "<style scoped>\n",
       "    .dataframe tbody tr th:only-of-type {\n",
       "        vertical-align: middle;\n",
       "    }\n",
       "\n",
       "    .dataframe tbody tr th {\n",
       "        vertical-align: top;\n",
       "    }\n",
       "\n",
       "    .dataframe thead th {\n",
       "        text-align: right;\n",
       "    }\n",
       "</style>\n",
       "<table border=\"1\" class=\"dataframe\">\n",
       "  <thead>\n",
       "    <tr style=\"text-align: right;\">\n",
       "      <th></th>\n",
       "      <th>res</th>\n",
       "      <th>res1</th>\n",
       "    </tr>\n",
       "  </thead>\n",
       "  <tbody>\n",
       "    <tr>\n",
       "      <th>one</th>\n",
       "      <td>123</td>\n",
       "      <td>321.0</td>\n",
       "    </tr>\n",
       "    <tr>\n",
       "      <th>two</th>\n",
       "      <td>1230</td>\n",
       "      <td>NaN</td>\n",
       "    </tr>\n",
       "    <tr>\n",
       "      <th>three</th>\n",
       "      <td>12300</td>\n",
       "      <td>NaN</td>\n",
       "    </tr>\n",
       "    <tr>\n",
       "      <th>four</th>\n",
       "      <td>123000</td>\n",
       "      <td>NaN</td>\n",
       "    </tr>\n",
       "  </tbody>\n",
       "</table>\n",
       "</div>"
      ],
      "text/plain": [
       "          res   res1\n",
       "one       123  321.0\n",
       "two      1230    NaN\n",
       "three   12300    NaN\n",
       "four   123000    NaN"
      ]
     },
     "execution_count": 72,
     "metadata": {},
     "output_type": "execute_result"
    }
   ],
   "source": [
    "d = DataFrame.from_records(df.D.values, index=df.D.index)\n",
    "d"
   ]
  },
  {
   "cell_type": "markdown",
   "metadata": {},
   "source": [
    "#### DataFrame concat"
   ]
  },
  {
   "cell_type": "code",
   "execution_count": 73,
   "metadata": {
    "ExecuteTime": {
     "start_time": "2020-03-20T10:18:52.018Z"
    },
    "scrolled": true
   },
   "outputs": [
    {
     "data": {
      "text/html": [
       "<div>\n",
       "<style scoped>\n",
       "    .dataframe tbody tr th:only-of-type {\n",
       "        vertical-align: middle;\n",
       "    }\n",
       "\n",
       "    .dataframe tbody tr th {\n",
       "        vertical-align: top;\n",
       "    }\n",
       "\n",
       "    .dataframe thead th {\n",
       "        text-align: right;\n",
       "    }\n",
       "</style>\n",
       "<table border=\"1\" class=\"dataframe\">\n",
       "  <thead>\n",
       "    <tr style=\"text-align: right;\">\n",
       "      <th></th>\n",
       "      <th>A</th>\n",
       "      <th>B</th>\n",
       "      <th>C</th>\n",
       "      <th>D</th>\n",
       "      <th>res</th>\n",
       "      <th>res1</th>\n",
       "    </tr>\n",
       "  </thead>\n",
       "  <tbody>\n",
       "    <tr>\n",
       "      <th>one</th>\n",
       "      <td>1</td>\n",
       "      <td>2</td>\n",
       "      <td>[1, 2, 3]</td>\n",
       "      <td>{'res': 123, 'res1': 321}</td>\n",
       "      <td>123</td>\n",
       "      <td>321.0</td>\n",
       "    </tr>\n",
       "    <tr>\n",
       "      <th>two</th>\n",
       "      <td>11</td>\n",
       "      <td>22</td>\n",
       "      <td>[11, 22, 33]</td>\n",
       "      <td>{'res': 1230}</td>\n",
       "      <td>1230</td>\n",
       "      <td>NaN</td>\n",
       "    </tr>\n",
       "    <tr>\n",
       "      <th>three</th>\n",
       "      <td>111</td>\n",
       "      <td>222</td>\n",
       "      <td>[111, 222, 333]</td>\n",
       "      <td>{'res': 12300}</td>\n",
       "      <td>12300</td>\n",
       "      <td>NaN</td>\n",
       "    </tr>\n",
       "    <tr>\n",
       "      <th>four</th>\n",
       "      <td>1111</td>\n",
       "      <td>2222</td>\n",
       "      <td>[1111, 2222, 3333]</td>\n",
       "      <td>{'res': 123000}</td>\n",
       "      <td>123000</td>\n",
       "      <td>NaN</td>\n",
       "    </tr>\n",
       "  </tbody>\n",
       "</table>\n",
       "</div>"
      ],
      "text/plain": [
       "          A     B                   C                          D     res  \\\n",
       "one       1     2           [1, 2, 3]  {'res': 123, 'res1': 321}     123   \n",
       "two      11    22        [11, 22, 33]              {'res': 1230}    1230   \n",
       "three   111   222     [111, 222, 333]             {'res': 12300}   12300   \n",
       "four   1111  2222  [1111, 2222, 3333]            {'res': 123000}  123000   \n",
       "\n",
       "        res1  \n",
       "one    321.0  \n",
       "two      NaN  \n",
       "three    NaN  \n",
       "four     NaN  "
      ]
     },
     "execution_count": 73,
     "metadata": {},
     "output_type": "execute_result"
    }
   ],
   "source": [
    "pandas.concat([df, d], axis=1)"
   ]
  },
  {
   "cell_type": "markdown",
   "metadata": {},
   "source": [
    "#### DataFrame apply(lambda)"
   ]
  },
  {
   "cell_type": "code",
   "execution_count": 74,
   "metadata": {
    "ExecuteTime": {
     "start_time": "2020-03-20T10:18:52.030Z"
    }
   },
   "outputs": [
    {
     "data": {
      "text/plain": [
       "one         123\n",
       "two        1230\n",
       "three     12300\n",
       "four     123000\n",
       "Name: D, dtype: int64"
      ]
     },
     "execution_count": 74,
     "metadata": {},
     "output_type": "execute_result"
    }
   ],
   "source": [
    "d1 = df.D.apply(lambda it: it['res'])\n",
    "d1"
   ]
  },
  {
   "cell_type": "code",
   "execution_count": 75,
   "metadata": {
    "ExecuteTime": {
     "start_time": "2020-03-20T10:18:52.038Z"
    }
   },
   "outputs": [
    {
     "data": {
      "text/html": [
       "<div>\n",
       "<style scoped>\n",
       "    .dataframe tbody tr th:only-of-type {\n",
       "        vertical-align: middle;\n",
       "    }\n",
       "\n",
       "    .dataframe tbody tr th {\n",
       "        vertical-align: top;\n",
       "    }\n",
       "\n",
       "    .dataframe thead th {\n",
       "        text-align: right;\n",
       "    }\n",
       "</style>\n",
       "<table border=\"1\" class=\"dataframe\">\n",
       "  <thead>\n",
       "    <tr style=\"text-align: right;\">\n",
       "      <th></th>\n",
       "      <th>A</th>\n",
       "      <th>B</th>\n",
       "      <th>C</th>\n",
       "      <th>D</th>\n",
       "      <th>D</th>\n",
       "    </tr>\n",
       "  </thead>\n",
       "  <tbody>\n",
       "    <tr>\n",
       "      <th>one</th>\n",
       "      <td>1</td>\n",
       "      <td>2</td>\n",
       "      <td>[1, 2, 3]</td>\n",
       "      <td>{'res': 123, 'res1': 321}</td>\n",
       "      <td>123</td>\n",
       "    </tr>\n",
       "    <tr>\n",
       "      <th>two</th>\n",
       "      <td>11</td>\n",
       "      <td>22</td>\n",
       "      <td>[11, 22, 33]</td>\n",
       "      <td>{'res': 1230}</td>\n",
       "      <td>1230</td>\n",
       "    </tr>\n",
       "    <tr>\n",
       "      <th>three</th>\n",
       "      <td>111</td>\n",
       "      <td>222</td>\n",
       "      <td>[111, 222, 333]</td>\n",
       "      <td>{'res': 12300}</td>\n",
       "      <td>12300</td>\n",
       "    </tr>\n",
       "    <tr>\n",
       "      <th>four</th>\n",
       "      <td>1111</td>\n",
       "      <td>2222</td>\n",
       "      <td>[1111, 2222, 3333]</td>\n",
       "      <td>{'res': 123000}</td>\n",
       "      <td>123000</td>\n",
       "    </tr>\n",
       "  </tbody>\n",
       "</table>\n",
       "</div>"
      ],
      "text/plain": [
       "          A     B                   C                          D       D\n",
       "one       1     2           [1, 2, 3]  {'res': 123, 'res1': 321}     123\n",
       "two      11    22        [11, 22, 33]              {'res': 1230}    1230\n",
       "three   111   222     [111, 222, 333]             {'res': 12300}   12300\n",
       "four   1111  2222  [1111, 2222, 3333]            {'res': 123000}  123000"
      ]
     },
     "execution_count": 75,
     "metadata": {},
     "output_type": "execute_result"
    }
   ],
   "source": [
    "pandas.concat([df, d1], axis=1)"
   ]
  },
  {
   "cell_type": "markdown",
   "metadata": {},
   "source": [
    "#### DataFrame join()"
   ]
  },
  {
   "cell_type": "code",
   "execution_count": 76,
   "metadata": {
    "ExecuteTime": {
     "start_time": "2020-03-20T10:18:52.046Z"
    }
   },
   "outputs": [
    {
     "data": {
      "text/html": [
       "<div>\n",
       "<style scoped>\n",
       "    .dataframe tbody tr th:only-of-type {\n",
       "        vertical-align: middle;\n",
       "    }\n",
       "\n",
       "    .dataframe tbody tr th {\n",
       "        vertical-align: top;\n",
       "    }\n",
       "\n",
       "    .dataframe thead th {\n",
       "        text-align: right;\n",
       "    }\n",
       "</style>\n",
       "<table border=\"1\" class=\"dataframe\">\n",
       "  <thead>\n",
       "    <tr style=\"text-align: right;\">\n",
       "      <th></th>\n",
       "      <th>A</th>\n",
       "      <th>B</th>\n",
       "      <th>C</th>\n",
       "      <th>D</th>\n",
       "      <th>Dscore</th>\n",
       "    </tr>\n",
       "  </thead>\n",
       "  <tbody>\n",
       "    <tr>\n",
       "      <th>one</th>\n",
       "      <td>1</td>\n",
       "      <td>2</td>\n",
       "      <td>[1, 2, 3]</td>\n",
       "      <td>{'res': 123, 'res1': 321}</td>\n",
       "      <td>123</td>\n",
       "    </tr>\n",
       "    <tr>\n",
       "      <th>two</th>\n",
       "      <td>11</td>\n",
       "      <td>22</td>\n",
       "      <td>[11, 22, 33]</td>\n",
       "      <td>{'res': 1230}</td>\n",
       "      <td>1230</td>\n",
       "    </tr>\n",
       "    <tr>\n",
       "      <th>three</th>\n",
       "      <td>111</td>\n",
       "      <td>222</td>\n",
       "      <td>[111, 222, 333]</td>\n",
       "      <td>{'res': 12300}</td>\n",
       "      <td>12300</td>\n",
       "    </tr>\n",
       "    <tr>\n",
       "      <th>four</th>\n",
       "      <td>1111</td>\n",
       "      <td>2222</td>\n",
       "      <td>[1111, 2222, 3333]</td>\n",
       "      <td>{'res': 123000}</td>\n",
       "      <td>123000</td>\n",
       "    </tr>\n",
       "  </tbody>\n",
       "</table>\n",
       "</div>"
      ],
      "text/plain": [
       "          A     B                   C                          D  Dscore\n",
       "one       1     2           [1, 2, 3]  {'res': 123, 'res1': 321}     123\n",
       "two      11    22        [11, 22, 33]              {'res': 1230}    1230\n",
       "three   111   222     [111, 222, 333]             {'res': 12300}   12300\n",
       "four   1111  2222  [1111, 2222, 3333]            {'res': 123000}  123000"
      ]
     },
     "execution_count": 76,
     "metadata": {},
     "output_type": "execute_result"
    }
   ],
   "source": [
    "df.join(d1, rsuffix='score')"
   ]
  },
  {
   "cell_type": "code",
   "execution_count": 77,
   "metadata": {
    "ExecuteTime": {
     "start_time": "2020-03-20T10:18:52.054Z"
    }
   },
   "outputs": [
    {
     "data": {
      "text/html": [
       "<div>\n",
       "<style scoped>\n",
       "    .dataframe tbody tr th:only-of-type {\n",
       "        vertical-align: middle;\n",
       "    }\n",
       "\n",
       "    .dataframe tbody tr th {\n",
       "        vertical-align: top;\n",
       "    }\n",
       "\n",
       "    .dataframe thead th {\n",
       "        text-align: right;\n",
       "    }\n",
       "</style>\n",
       "<table border=\"1\" class=\"dataframe\">\n",
       "  <thead>\n",
       "    <tr style=\"text-align: right;\">\n",
       "      <th></th>\n",
       "      <th>A</th>\n",
       "      <th>B</th>\n",
       "      <th>C</th>\n",
       "      <th>D</th>\n",
       "      <th>res</th>\n",
       "    </tr>\n",
       "  </thead>\n",
       "  <tbody>\n",
       "    <tr>\n",
       "      <th>one</th>\n",
       "      <td>1</td>\n",
       "      <td>2</td>\n",
       "      <td>[1, 2, 3]</td>\n",
       "      <td>{'res': 123, 'res1': 321}</td>\n",
       "      <td>123</td>\n",
       "    </tr>\n",
       "    <tr>\n",
       "      <th>two</th>\n",
       "      <td>11</td>\n",
       "      <td>22</td>\n",
       "      <td>[11, 22, 33]</td>\n",
       "      <td>{'res': 1230}</td>\n",
       "      <td>1230</td>\n",
       "    </tr>\n",
       "    <tr>\n",
       "      <th>three</th>\n",
       "      <td>111</td>\n",
       "      <td>222</td>\n",
       "      <td>[111, 222, 333]</td>\n",
       "      <td>{'res': 12300}</td>\n",
       "      <td>12300</td>\n",
       "    </tr>\n",
       "    <tr>\n",
       "      <th>four</th>\n",
       "      <td>1111</td>\n",
       "      <td>2222</td>\n",
       "      <td>[1111, 2222, 3333]</td>\n",
       "      <td>{'res': 123000}</td>\n",
       "      <td>123000</td>\n",
       "    </tr>\n",
       "  </tbody>\n",
       "</table>\n",
       "</div>"
      ],
      "text/plain": [
       "          A     B                   C                          D     res\n",
       "one       1     2           [1, 2, 3]  {'res': 123, 'res1': 321}     123\n",
       "two      11    22        [11, 22, 33]              {'res': 1230}    1230\n",
       "three   111   222     [111, 222, 333]             {'res': 12300}   12300\n",
       "four   1111  2222  [1111, 2222, 3333]            {'res': 123000}  123000"
      ]
     },
     "execution_count": 77,
     "metadata": {},
     "output_type": "execute_result"
    }
   ],
   "source": [
    "# http://stackoverflow.com/questions/19758364/python-rename-single-column-header-in-pandas-dataframe\n",
    "df.join(d1, rsuffix='score').rename(columns={'Dscore': 'res'})"
   ]
  },
  {
   "cell_type": "markdown",
   "metadata": {},
   "source": [
    "### Добавление к каждому элементу (elementwise add)"
   ]
  },
  {
   "cell_type": "code",
   "execution_count": 78,
   "metadata": {
    "ExecuteTime": {
     "start_time": "2020-03-20T10:18:52.065Z"
    }
   },
   "outputs": [
    {
     "data": {
      "text/html": [
       "<div>\n",
       "<style scoped>\n",
       "    .dataframe tbody tr th:only-of-type {\n",
       "        vertical-align: middle;\n",
       "    }\n",
       "\n",
       "    .dataframe tbody tr th {\n",
       "        vertical-align: top;\n",
       "    }\n",
       "\n",
       "    .dataframe thead th {\n",
       "        text-align: right;\n",
       "    }\n",
       "</style>\n",
       "<table border=\"1\" class=\"dataframe\">\n",
       "  <thead>\n",
       "    <tr style=\"text-align: right;\">\n",
       "      <th></th>\n",
       "      <th>res</th>\n",
       "      <th>res1</th>\n",
       "    </tr>\n",
       "  </thead>\n",
       "  <tbody>\n",
       "    <tr>\n",
       "      <th>one</th>\n",
       "      <td>134</td>\n",
       "      <td>332.0</td>\n",
       "    </tr>\n",
       "    <tr>\n",
       "      <th>two</th>\n",
       "      <td>1241</td>\n",
       "      <td>NaN</td>\n",
       "    </tr>\n",
       "    <tr>\n",
       "      <th>three</th>\n",
       "      <td>12311</td>\n",
       "      <td>NaN</td>\n",
       "    </tr>\n",
       "    <tr>\n",
       "      <th>four</th>\n",
       "      <td>123011</td>\n",
       "      <td>NaN</td>\n",
       "    </tr>\n",
       "  </tbody>\n",
       "</table>\n",
       "</div>"
      ],
      "text/plain": [
       "          res   res1\n",
       "one       134  332.0\n",
       "two      1241    NaN\n",
       "three   12311    NaN\n",
       "four   123011    NaN"
      ]
     },
     "execution_count": 78,
     "metadata": {},
     "output_type": "execute_result"
    }
   ],
   "source": [
    "d.add(11)"
   ]
  },
  {
   "cell_type": "code",
   "execution_count": 79,
   "metadata": {
    "ExecuteTime": {
     "start_time": "2020-03-20T10:18:52.073Z"
    },
    "scrolled": true
   },
   "outputs": [
    {
     "data": {
      "text/html": [
       "<div>\n",
       "<style scoped>\n",
       "    .dataframe tbody tr th:only-of-type {\n",
       "        vertical-align: middle;\n",
       "    }\n",
       "\n",
       "    .dataframe tbody tr th {\n",
       "        vertical-align: top;\n",
       "    }\n",
       "\n",
       "    .dataframe thead th {\n",
       "        text-align: right;\n",
       "    }\n",
       "</style>\n",
       "<table border=\"1\" class=\"dataframe\">\n",
       "  <thead>\n",
       "    <tr style=\"text-align: right;\">\n",
       "      <th></th>\n",
       "      <th>res</th>\n",
       "      <th>res1</th>\n",
       "    </tr>\n",
       "  </thead>\n",
       "  <tbody>\n",
       "    <tr>\n",
       "      <th>one</th>\n",
       "      <td>133</td>\n",
       "      <td>331.0</td>\n",
       "    </tr>\n",
       "    <tr>\n",
       "      <th>two</th>\n",
       "      <td>1240</td>\n",
       "      <td>NaN</td>\n",
       "    </tr>\n",
       "    <tr>\n",
       "      <th>three</th>\n",
       "      <td>12310</td>\n",
       "      <td>NaN</td>\n",
       "    </tr>\n",
       "    <tr>\n",
       "      <th>four</th>\n",
       "      <td>123010</td>\n",
       "      <td>NaN</td>\n",
       "    </tr>\n",
       "  </tbody>\n",
       "</table>\n",
       "</div>"
      ],
      "text/plain": [
       "          res   res1\n",
       "one       133  331.0\n",
       "two      1240    NaN\n",
       "three   12310    NaN\n",
       "four   123010    NaN"
      ]
     },
     "execution_count": 79,
     "metadata": {},
     "output_type": "execute_result"
    }
   ],
   "source": [
    "d.radd(10)"
   ]
  },
  {
   "cell_type": "code",
   "execution_count": 80,
   "metadata": {
    "ExecuteTime": {
     "start_time": "2020-03-20T10:18:52.081Z"
    }
   },
   "outputs": [
    {
     "data": {
      "text/html": [
       "<div>\n",
       "<style scoped>\n",
       "    .dataframe tbody tr th:only-of-type {\n",
       "        vertical-align: middle;\n",
       "    }\n",
       "\n",
       "    .dataframe tbody tr th {\n",
       "        vertical-align: top;\n",
       "    }\n",
       "\n",
       "    .dataframe thead th {\n",
       "        text-align: right;\n",
       "    }\n",
       "</style>\n",
       "<table border=\"1\" class=\"dataframe\">\n",
       "  <thead>\n",
       "    <tr style=\"text-align: right;\">\n",
       "      <th></th>\n",
       "      <th>res</th>\n",
       "      <th>res1</th>\n",
       "    </tr>\n",
       "  </thead>\n",
       "  <tbody>\n",
       "    <tr>\n",
       "      <th>one</th>\n",
       "      <td>133</td>\n",
       "      <td>421.0</td>\n",
       "    </tr>\n",
       "    <tr>\n",
       "      <th>two</th>\n",
       "      <td>1240</td>\n",
       "      <td>NaN</td>\n",
       "    </tr>\n",
       "    <tr>\n",
       "      <th>three</th>\n",
       "      <td>12310</td>\n",
       "      <td>NaN</td>\n",
       "    </tr>\n",
       "    <tr>\n",
       "      <th>four</th>\n",
       "      <td>123010</td>\n",
       "      <td>NaN</td>\n",
       "    </tr>\n",
       "  </tbody>\n",
       "</table>\n",
       "</div>"
      ],
      "text/plain": [
       "          res   res1\n",
       "one       133  421.0\n",
       "two      1240    NaN\n",
       "three   12310    NaN\n",
       "four   123010    NaN"
      ]
     },
     "execution_count": 80,
     "metadata": {},
     "output_type": "execute_result"
    }
   ],
   "source": [
    "d += [ 10, 100 ]\n",
    "d"
   ]
  },
  {
   "cell_type": "markdown",
   "metadata": {},
   "source": [
    "### Добавление строки (add row)"
   ]
  },
  {
   "cell_type": "code",
   "execution_count": 81,
   "metadata": {
    "ExecuteTime": {
     "start_time": "2020-03-20T10:18:52.094Z"
    },
    "scrolled": true
   },
   "outputs": [
    {
     "data": {
      "text/html": [
       "<div>\n",
       "<style scoped>\n",
       "    .dataframe tbody tr th:only-of-type {\n",
       "        vertical-align: middle;\n",
       "    }\n",
       "\n",
       "    .dataframe tbody tr th {\n",
       "        vertical-align: top;\n",
       "    }\n",
       "\n",
       "    .dataframe thead th {\n",
       "        text-align: right;\n",
       "    }\n",
       "</style>\n",
       "<table border=\"1\" class=\"dataframe\">\n",
       "  <thead>\n",
       "    <tr style=\"text-align: right;\">\n",
       "      <th></th>\n",
       "      <th>res</th>\n",
       "      <th>res1</th>\n",
       "    </tr>\n",
       "  </thead>\n",
       "  <tbody>\n",
       "    <tr>\n",
       "      <th>one</th>\n",
       "      <td>133</td>\n",
       "      <td>421.0</td>\n",
       "    </tr>\n",
       "    <tr>\n",
       "      <th>two</th>\n",
       "      <td>1240</td>\n",
       "      <td>NaN</td>\n",
       "    </tr>\n",
       "    <tr>\n",
       "      <th>three</th>\n",
       "      <td>12310</td>\n",
       "      <td>NaN</td>\n",
       "    </tr>\n",
       "    <tr>\n",
       "      <th>four</th>\n",
       "      <td>123010</td>\n",
       "      <td>NaN</td>\n",
       "    </tr>\n",
       "    <tr>\n",
       "      <th>4</th>\n",
       "      <td>10</td>\n",
       "      <td>20.0</td>\n",
       "    </tr>\n",
       "  </tbody>\n",
       "</table>\n",
       "</div>"
      ],
      "text/plain": [
       "          res   res1\n",
       "one       133  421.0\n",
       "two      1240    NaN\n",
       "three   12310    NaN\n",
       "four   123010    NaN\n",
       "4          10   20.0"
      ]
     },
     "execution_count": 81,
     "metadata": {},
     "output_type": "execute_result"
    }
   ],
   "source": [
    "d.loc[len(d)] = (10, 20)\n",
    "d"
   ]
  },
  {
   "cell_type": "markdown",
   "metadata": {},
   "source": [
    "### Добавление столбца (add column)\n",
    "\n",
    "http://pandas.pydata.org/pandas-docs/stable/indexing.html#attribute-access"
   ]
  },
  {
   "cell_type": "code",
   "execution_count": 82,
   "metadata": {
    "ExecuteTime": {
     "start_time": "2020-03-20T10:18:52.107Z"
    },
    "scrolled": true
   },
   "outputs": [],
   "source": [
    "# d.addon = ...\n",
    "# d['addon'] = numpy.random.randint(1, 10, size=5)\n",
    "# Will lead: ValueError: Length of values does not match length of index"
   ]
  },
  {
   "cell_type": "markdown",
   "metadata": {},
   "source": [
    "#### Добавление нескольких столбцов (concat)"
   ]
  },
  {
   "cell_type": "code",
   "execution_count": 83,
   "metadata": {
    "ExecuteTime": {
     "start_time": "2020-03-20T10:18:52.118Z"
    },
    "init_cell": false,
    "scrolled": true
   },
   "outputs": [
    {
     "data": {
      "text/html": [
       "<div>\n",
       "<style scoped>\n",
       "    .dataframe tbody tr th:only-of-type {\n",
       "        vertical-align: middle;\n",
       "    }\n",
       "\n",
       "    .dataframe tbody tr th {\n",
       "        vertical-align: top;\n",
       "    }\n",
       "\n",
       "    .dataframe thead th {\n",
       "        text-align: right;\n",
       "    }\n",
       "</style>\n",
       "<table border=\"1\" class=\"dataframe\">\n",
       "  <thead>\n",
       "    <tr style=\"text-align: right;\">\n",
       "      <th></th>\n",
       "      <th>A</th>\n",
       "      <th>B</th>\n",
       "      <th>C</th>\n",
       "      <th>D</th>\n",
       "    </tr>\n",
       "  </thead>\n",
       "  <tbody>\n",
       "    <tr>\n",
       "      <th>one</th>\n",
       "      <td>3</td>\n",
       "      <td>7</td>\n",
       "      <td>4</td>\n",
       "      <td>7</td>\n",
       "    </tr>\n",
       "    <tr>\n",
       "      <th>two</th>\n",
       "      <td>2</td>\n",
       "      <td>4</td>\n",
       "      <td>7</td>\n",
       "      <td>5</td>\n",
       "    </tr>\n",
       "    <tr>\n",
       "      <th>three</th>\n",
       "      <td>6</td>\n",
       "      <td>4</td>\n",
       "      <td>8</td>\n",
       "      <td>5</td>\n",
       "    </tr>\n",
       "    <tr>\n",
       "      <th>four</th>\n",
       "      <td>6</td>\n",
       "      <td>4</td>\n",
       "      <td>5</td>\n",
       "      <td>5</td>\n",
       "    </tr>\n",
       "    <tr>\n",
       "      <th>4</th>\n",
       "      <td>6</td>\n",
       "      <td>2</td>\n",
       "      <td>2</td>\n",
       "      <td>4</td>\n",
       "    </tr>\n",
       "  </tbody>\n",
       "</table>\n",
       "</div>"
      ],
      "text/plain": [
       "       A  B  C  D\n",
       "one    3  7  4  7\n",
       "two    2  4  7  5\n",
       "three  6  4  8  5\n",
       "four   6  4  5  5\n",
       "4      6  2  2  4"
      ]
     },
     "execution_count": 83,
     "metadata": {},
     "output_type": "execute_result"
    }
   ],
   "source": [
    "add = DataFrame(numpy.random.randint(1, 10, size=(5, 4)), columns=list('ABCD'), index=d.index)\n",
    "#add.drop(add.index[[4,5]], inplace=True)\n",
    "add"
   ]
  },
  {
   "cell_type": "code",
   "execution_count": 84,
   "metadata": {
    "ExecuteTime": {
     "start_time": "2020-03-20T10:18:52.126Z"
    },
    "scrolled": true
   },
   "outputs": [
    {
     "data": {
      "text/html": [
       "<div>\n",
       "<style scoped>\n",
       "    .dataframe tbody tr th:only-of-type {\n",
       "        vertical-align: middle;\n",
       "    }\n",
       "\n",
       "    .dataframe tbody tr th {\n",
       "        vertical-align: top;\n",
       "    }\n",
       "\n",
       "    .dataframe thead th {\n",
       "        text-align: right;\n",
       "    }\n",
       "</style>\n",
       "<table border=\"1\" class=\"dataframe\">\n",
       "  <thead>\n",
       "    <tr style=\"text-align: right;\">\n",
       "      <th></th>\n",
       "      <th>res</th>\n",
       "      <th>res1</th>\n",
       "      <th>A</th>\n",
       "      <th>B</th>\n",
       "      <th>C</th>\n",
       "      <th>D</th>\n",
       "    </tr>\n",
       "  </thead>\n",
       "  <tbody>\n",
       "    <tr>\n",
       "      <th>one</th>\n",
       "      <td>133</td>\n",
       "      <td>421.0</td>\n",
       "      <td>3</td>\n",
       "      <td>7</td>\n",
       "      <td>4</td>\n",
       "      <td>7</td>\n",
       "    </tr>\n",
       "    <tr>\n",
       "      <th>two</th>\n",
       "      <td>1240</td>\n",
       "      <td>NaN</td>\n",
       "      <td>2</td>\n",
       "      <td>4</td>\n",
       "      <td>7</td>\n",
       "      <td>5</td>\n",
       "    </tr>\n",
       "    <tr>\n",
       "      <th>three</th>\n",
       "      <td>12310</td>\n",
       "      <td>NaN</td>\n",
       "      <td>6</td>\n",
       "      <td>4</td>\n",
       "      <td>8</td>\n",
       "      <td>5</td>\n",
       "    </tr>\n",
       "    <tr>\n",
       "      <th>four</th>\n",
       "      <td>123010</td>\n",
       "      <td>NaN</td>\n",
       "      <td>6</td>\n",
       "      <td>4</td>\n",
       "      <td>5</td>\n",
       "      <td>5</td>\n",
       "    </tr>\n",
       "    <tr>\n",
       "      <th>4</th>\n",
       "      <td>10</td>\n",
       "      <td>20.0</td>\n",
       "      <td>6</td>\n",
       "      <td>2</td>\n",
       "      <td>2</td>\n",
       "      <td>4</td>\n",
       "    </tr>\n",
       "  </tbody>\n",
       "</table>\n",
       "</div>"
      ],
      "text/plain": [
       "          res   res1  A  B  C  D\n",
       "one       133  421.0  3  7  4  7\n",
       "two      1240    NaN  2  4  7  5\n",
       "three   12310    NaN  6  4  8  5\n",
       "four   123010    NaN  6  4  5  5\n",
       "4          10   20.0  6  2  2  4"
      ]
     },
     "execution_count": 84,
     "metadata": {},
     "output_type": "execute_result"
    }
   ],
   "source": [
    "pandas.concat([d, add], axis=1)"
   ]
  },
  {
   "cell_type": "markdown",
   "metadata": {},
   "source": [
    "#### Добавление нескольких столбцов с РАЗНОЙ индексацией"
   ]
  },
  {
   "cell_type": "code",
   "execution_count": 85,
   "metadata": {
    "ExecuteTime": {
     "start_time": "2020-03-20T10:18:52.137Z"
    },
    "scrolled": true
   },
   "outputs": [
    {
     "data": {
      "text/html": [
       "<div>\n",
       "<style scoped>\n",
       "    .dataframe tbody tr th:only-of-type {\n",
       "        vertical-align: middle;\n",
       "    }\n",
       "\n",
       "    .dataframe tbody tr th {\n",
       "        vertical-align: top;\n",
       "    }\n",
       "\n",
       "    .dataframe thead th {\n",
       "        text-align: right;\n",
       "    }\n",
       "</style>\n",
       "<table border=\"1\" class=\"dataframe\">\n",
       "  <thead>\n",
       "    <tr style=\"text-align: right;\">\n",
       "      <th></th>\n",
       "      <th>A</th>\n",
       "      <th>B</th>\n",
       "      <th>C</th>\n",
       "      <th>D</th>\n",
       "    </tr>\n",
       "  </thead>\n",
       "  <tbody>\n",
       "    <tr>\n",
       "      <th>1</th>\n",
       "      <td>9</td>\n",
       "      <td>6</td>\n",
       "      <td>4</td>\n",
       "      <td>5</td>\n",
       "    </tr>\n",
       "    <tr>\n",
       "      <th>2</th>\n",
       "      <td>9</td>\n",
       "      <td>5</td>\n",
       "      <td>9</td>\n",
       "      <td>7</td>\n",
       "    </tr>\n",
       "    <tr>\n",
       "      <th>3</th>\n",
       "      <td>5</td>\n",
       "      <td>9</td>\n",
       "      <td>2</td>\n",
       "      <td>8</td>\n",
       "    </tr>\n",
       "    <tr>\n",
       "      <th>7</th>\n",
       "      <td>6</td>\n",
       "      <td>9</td>\n",
       "      <td>1</td>\n",
       "      <td>4</td>\n",
       "    </tr>\n",
       "    <tr>\n",
       "      <th>9</th>\n",
       "      <td>9</td>\n",
       "      <td>2</td>\n",
       "      <td>7</td>\n",
       "      <td>1</td>\n",
       "    </tr>\n",
       "  </tbody>\n",
       "</table>\n",
       "</div>"
      ],
      "text/plain": [
       "   A  B  C  D\n",
       "1  9  6  4  5\n",
       "2  9  5  9  7\n",
       "3  5  9  2  8\n",
       "7  6  9  1  4\n",
       "9  9  2  7  1"
      ]
     },
     "execution_count": 85,
     "metadata": {},
     "output_type": "execute_result"
    }
   ],
   "source": [
    "add = DataFrame(numpy.random.randint(1, 10, size=(5, 4)), columns=list('ABCD'), index=[1, 2, 3, 7, 9])\n",
    "#add.drop(add.index[[4,5]], inplace=True)\n",
    "add"
   ]
  },
  {
   "cell_type": "code",
   "execution_count": 86,
   "metadata": {
    "ExecuteTime": {
     "start_time": "2020-03-20T10:18:52.145Z"
    },
    "scrolled": true
   },
   "outputs": [
    {
     "data": {
      "text/html": [
       "<div>\n",
       "<style scoped>\n",
       "    .dataframe tbody tr th:only-of-type {\n",
       "        vertical-align: middle;\n",
       "    }\n",
       "\n",
       "    .dataframe tbody tr th {\n",
       "        vertical-align: top;\n",
       "    }\n",
       "\n",
       "    .dataframe thead th {\n",
       "        text-align: right;\n",
       "    }\n",
       "</style>\n",
       "<table border=\"1\" class=\"dataframe\">\n",
       "  <thead>\n",
       "    <tr style=\"text-align: right;\">\n",
       "      <th></th>\n",
       "      <th>res</th>\n",
       "      <th>res1</th>\n",
       "      <th>A</th>\n",
       "      <th>B</th>\n",
       "      <th>C</th>\n",
       "      <th>D</th>\n",
       "    </tr>\n",
       "  </thead>\n",
       "  <tbody>\n",
       "    <tr>\n",
       "      <th>one</th>\n",
       "      <td>133.0</td>\n",
       "      <td>421.0</td>\n",
       "      <td>NaN</td>\n",
       "      <td>NaN</td>\n",
       "      <td>NaN</td>\n",
       "      <td>NaN</td>\n",
       "    </tr>\n",
       "    <tr>\n",
       "      <th>two</th>\n",
       "      <td>1240.0</td>\n",
       "      <td>NaN</td>\n",
       "      <td>NaN</td>\n",
       "      <td>NaN</td>\n",
       "      <td>NaN</td>\n",
       "      <td>NaN</td>\n",
       "    </tr>\n",
       "    <tr>\n",
       "      <th>three</th>\n",
       "      <td>12310.0</td>\n",
       "      <td>NaN</td>\n",
       "      <td>NaN</td>\n",
       "      <td>NaN</td>\n",
       "      <td>NaN</td>\n",
       "      <td>NaN</td>\n",
       "    </tr>\n",
       "    <tr>\n",
       "      <th>four</th>\n",
       "      <td>123010.0</td>\n",
       "      <td>NaN</td>\n",
       "      <td>NaN</td>\n",
       "      <td>NaN</td>\n",
       "      <td>NaN</td>\n",
       "      <td>NaN</td>\n",
       "    </tr>\n",
       "    <tr>\n",
       "      <th>4</th>\n",
       "      <td>10.0</td>\n",
       "      <td>20.0</td>\n",
       "      <td>NaN</td>\n",
       "      <td>NaN</td>\n",
       "      <td>NaN</td>\n",
       "      <td>NaN</td>\n",
       "    </tr>\n",
       "    <tr>\n",
       "      <th>1</th>\n",
       "      <td>NaN</td>\n",
       "      <td>NaN</td>\n",
       "      <td>9.0</td>\n",
       "      <td>6.0</td>\n",
       "      <td>4.0</td>\n",
       "      <td>5.0</td>\n",
       "    </tr>\n",
       "    <tr>\n",
       "      <th>2</th>\n",
       "      <td>NaN</td>\n",
       "      <td>NaN</td>\n",
       "      <td>9.0</td>\n",
       "      <td>5.0</td>\n",
       "      <td>9.0</td>\n",
       "      <td>7.0</td>\n",
       "    </tr>\n",
       "    <tr>\n",
       "      <th>3</th>\n",
       "      <td>NaN</td>\n",
       "      <td>NaN</td>\n",
       "      <td>5.0</td>\n",
       "      <td>9.0</td>\n",
       "      <td>2.0</td>\n",
       "      <td>8.0</td>\n",
       "    </tr>\n",
       "    <tr>\n",
       "      <th>7</th>\n",
       "      <td>NaN</td>\n",
       "      <td>NaN</td>\n",
       "      <td>6.0</td>\n",
       "      <td>9.0</td>\n",
       "      <td>1.0</td>\n",
       "      <td>4.0</td>\n",
       "    </tr>\n",
       "    <tr>\n",
       "      <th>9</th>\n",
       "      <td>NaN</td>\n",
       "      <td>NaN</td>\n",
       "      <td>9.0</td>\n",
       "      <td>2.0</td>\n",
       "      <td>7.0</td>\n",
       "      <td>1.0</td>\n",
       "    </tr>\n",
       "  </tbody>\n",
       "</table>\n",
       "</div>"
      ],
      "text/plain": [
       "            res   res1    A    B    C    D\n",
       "one       133.0  421.0  NaN  NaN  NaN  NaN\n",
       "two      1240.0    NaN  NaN  NaN  NaN  NaN\n",
       "three   12310.0    NaN  NaN  NaN  NaN  NaN\n",
       "four   123010.0    NaN  NaN  NaN  NaN  NaN\n",
       "4          10.0   20.0  NaN  NaN  NaN  NaN\n",
       "1           NaN    NaN  9.0  6.0  4.0  5.0\n",
       "2           NaN    NaN  9.0  5.0  9.0  7.0\n",
       "3           NaN    NaN  5.0  9.0  2.0  8.0\n",
       "7           NaN    NaN  6.0  9.0  1.0  4.0\n",
       "9           NaN    NaN  9.0  2.0  7.0  1.0"
      ]
     },
     "execution_count": 86,
     "metadata": {},
     "output_type": "execute_result"
    }
   ],
   "source": [
    "pandas.concat([d, add], axis=1)"
   ]
  },
  {
   "cell_type": "code",
   "execution_count": 87,
   "metadata": {
    "ExecuteTime": {
     "start_time": "2020-03-20T10:18:52.156Z"
    },
    "scrolled": true
   },
   "outputs": [],
   "source": [
    "# pandas.concat([d, add], axis=1, join_axes=[d.index])\n",
    "#??? TypeError: concat() got an unexpected keyword argument 'join_axes'"
   ]
  },
  {
   "cell_type": "code",
   "execution_count": 88,
   "metadata": {
    "ExecuteTime": {
     "start_time": "2020-03-20T10:18:52.163Z"
    },
    "scrolled": true
   },
   "outputs": [
    {
     "data": {
      "text/html": [
       "<div>\n",
       "<style scoped>\n",
       "    .dataframe tbody tr th:only-of-type {\n",
       "        vertical-align: middle;\n",
       "    }\n",
       "\n",
       "    .dataframe tbody tr th {\n",
       "        vertical-align: top;\n",
       "    }\n",
       "\n",
       "    .dataframe thead th {\n",
       "        text-align: right;\n",
       "    }\n",
       "</style>\n",
       "<table border=\"1\" class=\"dataframe\">\n",
       "  <thead>\n",
       "    <tr style=\"text-align: right;\">\n",
       "      <th></th>\n",
       "      <th>0</th>\n",
       "      <th>1</th>\n",
       "      <th>2</th>\n",
       "      <th>3</th>\n",
       "      <th>4</th>\n",
       "      <th>5</th>\n",
       "    </tr>\n",
       "  </thead>\n",
       "  <tbody>\n",
       "    <tr>\n",
       "      <th>one</th>\n",
       "      <td>133.0</td>\n",
       "      <td>421.0</td>\n",
       "      <td>NaN</td>\n",
       "      <td>NaN</td>\n",
       "      <td>NaN</td>\n",
       "      <td>NaN</td>\n",
       "    </tr>\n",
       "    <tr>\n",
       "      <th>two</th>\n",
       "      <td>1240.0</td>\n",
       "      <td>NaN</td>\n",
       "      <td>NaN</td>\n",
       "      <td>NaN</td>\n",
       "      <td>NaN</td>\n",
       "      <td>NaN</td>\n",
       "    </tr>\n",
       "    <tr>\n",
       "      <th>three</th>\n",
       "      <td>12310.0</td>\n",
       "      <td>NaN</td>\n",
       "      <td>NaN</td>\n",
       "      <td>NaN</td>\n",
       "      <td>NaN</td>\n",
       "      <td>NaN</td>\n",
       "    </tr>\n",
       "    <tr>\n",
       "      <th>four</th>\n",
       "      <td>123010.0</td>\n",
       "      <td>NaN</td>\n",
       "      <td>NaN</td>\n",
       "      <td>NaN</td>\n",
       "      <td>NaN</td>\n",
       "      <td>NaN</td>\n",
       "    </tr>\n",
       "    <tr>\n",
       "      <th>4</th>\n",
       "      <td>10.0</td>\n",
       "      <td>20.0</td>\n",
       "      <td>NaN</td>\n",
       "      <td>NaN</td>\n",
       "      <td>NaN</td>\n",
       "      <td>NaN</td>\n",
       "    </tr>\n",
       "    <tr>\n",
       "      <th>1</th>\n",
       "      <td>NaN</td>\n",
       "      <td>NaN</td>\n",
       "      <td>9.0</td>\n",
       "      <td>6.0</td>\n",
       "      <td>4.0</td>\n",
       "      <td>5.0</td>\n",
       "    </tr>\n",
       "    <tr>\n",
       "      <th>2</th>\n",
       "      <td>NaN</td>\n",
       "      <td>NaN</td>\n",
       "      <td>9.0</td>\n",
       "      <td>5.0</td>\n",
       "      <td>9.0</td>\n",
       "      <td>7.0</td>\n",
       "    </tr>\n",
       "    <tr>\n",
       "      <th>3</th>\n",
       "      <td>NaN</td>\n",
       "      <td>NaN</td>\n",
       "      <td>5.0</td>\n",
       "      <td>9.0</td>\n",
       "      <td>2.0</td>\n",
       "      <td>8.0</td>\n",
       "    </tr>\n",
       "    <tr>\n",
       "      <th>7</th>\n",
       "      <td>NaN</td>\n",
       "      <td>NaN</td>\n",
       "      <td>6.0</td>\n",
       "      <td>9.0</td>\n",
       "      <td>1.0</td>\n",
       "      <td>4.0</td>\n",
       "    </tr>\n",
       "    <tr>\n",
       "      <th>9</th>\n",
       "      <td>NaN</td>\n",
       "      <td>NaN</td>\n",
       "      <td>9.0</td>\n",
       "      <td>2.0</td>\n",
       "      <td>7.0</td>\n",
       "      <td>1.0</td>\n",
       "    </tr>\n",
       "  </tbody>\n",
       "</table>\n",
       "</div>"
      ],
      "text/plain": [
       "              0      1    2    3    4    5\n",
       "one       133.0  421.0  NaN  NaN  NaN  NaN\n",
       "two      1240.0    NaN  NaN  NaN  NaN  NaN\n",
       "three   12310.0    NaN  NaN  NaN  NaN  NaN\n",
       "four   123010.0    NaN  NaN  NaN  NaN  NaN\n",
       "4          10.0   20.0  NaN  NaN  NaN  NaN\n",
       "1           NaN    NaN  9.0  6.0  4.0  5.0\n",
       "2           NaN    NaN  9.0  5.0  9.0  7.0\n",
       "3           NaN    NaN  5.0  9.0  2.0  8.0\n",
       "7           NaN    NaN  6.0  9.0  1.0  4.0\n",
       "9           NaN    NaN  9.0  2.0  7.0  1.0"
      ]
     },
     "execution_count": 88,
     "metadata": {},
     "output_type": "execute_result"
    }
   ],
   "source": [
    "pandas.concat([d, add], axis=1, ignore_index=True)"
   ]
  },
  {
   "cell_type": "code",
   "execution_count": 89,
   "metadata": {
    "ExecuteTime": {
     "start_time": "2020-03-20T10:18:52.171Z"
    }
   },
   "outputs": [
    {
     "data": {
      "text/html": [
       "<div>\n",
       "<style scoped>\n",
       "    .dataframe tbody tr th:only-of-type {\n",
       "        vertical-align: middle;\n",
       "    }\n",
       "\n",
       "    .dataframe tbody tr th {\n",
       "        vertical-align: top;\n",
       "    }\n",
       "\n",
       "    .dataframe thead th {\n",
       "        text-align: right;\n",
       "    }\n",
       "</style>\n",
       "<table border=\"1\" class=\"dataframe\">\n",
       "  <thead>\n",
       "    <tr style=\"text-align: right;\">\n",
       "      <th></th>\n",
       "      <th>res</th>\n",
       "      <th>res1</th>\n",
       "      <th>A</th>\n",
       "      <th>B</th>\n",
       "      <th>C</th>\n",
       "      <th>D</th>\n",
       "    </tr>\n",
       "  </thead>\n",
       "  <tbody>\n",
       "    <tr>\n",
       "      <th>one</th>\n",
       "      <td>133</td>\n",
       "      <td>421.0</td>\n",
       "      <td>9</td>\n",
       "      <td>6</td>\n",
       "      <td>4</td>\n",
       "      <td>5</td>\n",
       "    </tr>\n",
       "    <tr>\n",
       "      <th>two</th>\n",
       "      <td>1240</td>\n",
       "      <td>NaN</td>\n",
       "      <td>9</td>\n",
       "      <td>5</td>\n",
       "      <td>9</td>\n",
       "      <td>7</td>\n",
       "    </tr>\n",
       "    <tr>\n",
       "      <th>three</th>\n",
       "      <td>12310</td>\n",
       "      <td>NaN</td>\n",
       "      <td>5</td>\n",
       "      <td>9</td>\n",
       "      <td>2</td>\n",
       "      <td>8</td>\n",
       "    </tr>\n",
       "    <tr>\n",
       "      <th>four</th>\n",
       "      <td>123010</td>\n",
       "      <td>NaN</td>\n",
       "      <td>6</td>\n",
       "      <td>9</td>\n",
       "      <td>1</td>\n",
       "      <td>4</td>\n",
       "    </tr>\n",
       "    <tr>\n",
       "      <th>4</th>\n",
       "      <td>10</td>\n",
       "      <td>20.0</td>\n",
       "      <td>9</td>\n",
       "      <td>2</td>\n",
       "      <td>7</td>\n",
       "      <td>1</td>\n",
       "    </tr>\n",
       "  </tbody>\n",
       "</table>\n",
       "</div>"
      ],
      "text/plain": [
       "          res   res1  A  B  C  D\n",
       "one       133  421.0  9  6  4  5\n",
       "two      1240    NaN  9  5  9  7\n",
       "three   12310    NaN  5  9  2  8\n",
       "four   123010    NaN  6  9  1  4\n",
       "4          10   20.0  9  2  7  1"
      ]
     },
     "execution_count": 89,
     "metadata": {},
     "output_type": "execute_result"
    }
   ],
   "source": [
    "add.index=d.index\n",
    "pandas.concat([d, add], axis=1)"
   ]
  },
  {
   "cell_type": "markdown",
   "metadata": {},
   "source": [
    "### Replace columns"
   ]
  },
  {
   "cell_type": "markdown",
   "metadata": {},
   "source": [
    "#### Same amount"
   ]
  },
  {
   "cell_type": "code",
   "execution_count": 90,
   "metadata": {
    "ExecuteTime": {
     "start_time": "2020-03-20T10:18:52.188Z"
    },
    "scrolled": true
   },
   "outputs": [
    {
     "data": {
      "text/html": [
       "<div>\n",
       "<style scoped>\n",
       "    .dataframe tbody tr th:only-of-type {\n",
       "        vertical-align: middle;\n",
       "    }\n",
       "\n",
       "    .dataframe tbody tr th {\n",
       "        vertical-align: top;\n",
       "    }\n",
       "\n",
       "    .dataframe thead th {\n",
       "        text-align: right;\n",
       "    }\n",
       "</style>\n",
       "<table border=\"1\" class=\"dataframe\">\n",
       "  <thead>\n",
       "    <tr style=\"text-align: right;\">\n",
       "      <th></th>\n",
       "      <th>A</th>\n",
       "      <th>B</th>\n",
       "      <th>C</th>\n",
       "      <th>D</th>\n",
       "      <th>E</th>\n",
       "    </tr>\n",
       "  </thead>\n",
       "  <tbody>\n",
       "    <tr>\n",
       "      <th>0</th>\n",
       "      <td>1</td>\n",
       "      <td>4</td>\n",
       "      <td>3</td>\n",
       "      <td>8</td>\n",
       "      <td>2</td>\n",
       "    </tr>\n",
       "    <tr>\n",
       "      <th>1</th>\n",
       "      <td>3</td>\n",
       "      <td>3</td>\n",
       "      <td>1</td>\n",
       "      <td>3</td>\n",
       "      <td>1</td>\n",
       "    </tr>\n",
       "    <tr>\n",
       "      <th>2</th>\n",
       "      <td>3</td>\n",
       "      <td>1</td>\n",
       "      <td>1</td>\n",
       "      <td>5</td>\n",
       "      <td>8</td>\n",
       "    </tr>\n",
       "    <tr>\n",
       "      <th>3</th>\n",
       "      <td>7</td>\n",
       "      <td>7</td>\n",
       "      <td>3</td>\n",
       "      <td>4</td>\n",
       "      <td>8</td>\n",
       "    </tr>\n",
       "    <tr>\n",
       "      <th>6</th>\n",
       "      <td>4</td>\n",
       "      <td>5</td>\n",
       "      <td>4</td>\n",
       "      <td>6</td>\n",
       "      <td>6</td>\n",
       "    </tr>\n",
       "    <tr>\n",
       "      <th>7</th>\n",
       "      <td>1</td>\n",
       "      <td>3</td>\n",
       "      <td>1</td>\n",
       "      <td>4</td>\n",
       "      <td>3</td>\n",
       "    </tr>\n",
       "  </tbody>\n",
       "</table>\n",
       "</div>"
      ],
      "text/plain": [
       "   A  B  C  D  E\n",
       "0  1  4  3  8  2\n",
       "1  3  3  1  3  1\n",
       "2  3  1  1  5  8\n",
       "3  7  7  3  4  8\n",
       "6  4  5  4  6  6\n",
       "7  1  3  1  4  3"
      ]
     },
     "execution_count": 90,
     "metadata": {},
     "output_type": "execute_result"
    }
   ],
   "source": [
    "df = DataFrame(numpy.random.randint(1, 10, size=(8, 5)), columns=list('ABCDE'))\n",
    "df.drop(df.index[[4,5]], inplace=True)\n",
    "df"
   ]
  },
  {
   "cell_type": "code",
   "execution_count": 91,
   "metadata": {
    "ExecuteTime": {
     "start_time": "2020-03-20T10:18:52.195Z"
    }
   },
   "outputs": [
    {
     "data": {
      "text/html": [
       "<div>\n",
       "<style scoped>\n",
       "    .dataframe tbody tr th:only-of-type {\n",
       "        vertical-align: middle;\n",
       "    }\n",
       "\n",
       "    .dataframe tbody tr th {\n",
       "        vertical-align: top;\n",
       "    }\n",
       "\n",
       "    .dataframe thead th {\n",
       "        text-align: right;\n",
       "    }\n",
       "</style>\n",
       "<table border=\"1\" class=\"dataframe\">\n",
       "  <thead>\n",
       "    <tr style=\"text-align: right;\">\n",
       "      <th></th>\n",
       "      <th>a</th>\n",
       "      <th>b</th>\n",
       "      <th>c</th>\n",
       "    </tr>\n",
       "  </thead>\n",
       "  <tbody>\n",
       "    <tr>\n",
       "      <th>0</th>\n",
       "      <td>-0.467420</td>\n",
       "      <td>0.980075</td>\n",
       "      <td>1.132774</td>\n",
       "    </tr>\n",
       "    <tr>\n",
       "      <th>1</th>\n",
       "      <td>0.030080</td>\n",
       "      <td>0.749537</td>\n",
       "      <td>0.602268</td>\n",
       "    </tr>\n",
       "    <tr>\n",
       "      <th>2</th>\n",
       "      <td>0.253541</td>\n",
       "      <td>0.780536</td>\n",
       "      <td>1.008344</td>\n",
       "    </tr>\n",
       "    <tr>\n",
       "      <th>3</th>\n",
       "      <td>-0.403511</td>\n",
       "      <td>-0.710367</td>\n",
       "      <td>0.355082</td>\n",
       "    </tr>\n",
       "    <tr>\n",
       "      <th>4</th>\n",
       "      <td>-0.689728</td>\n",
       "      <td>2.121673</td>\n",
       "      <td>0.651264</td>\n",
       "    </tr>\n",
       "    <tr>\n",
       "      <th>5</th>\n",
       "      <td>-0.129477</td>\n",
       "      <td>1.347369</td>\n",
       "      <td>-0.039613</td>\n",
       "    </tr>\n",
       "  </tbody>\n",
       "</table>\n",
       "</div>"
      ],
      "text/plain": [
       "          a         b         c\n",
       "0 -0.467420  0.980075  1.132774\n",
       "1  0.030080  0.749537  0.602268\n",
       "2  0.253541  0.780536  1.008344\n",
       "3 -0.403511 -0.710367  0.355082\n",
       "4 -0.689728  2.121673  0.651264\n",
       "5 -0.129477  1.347369 -0.039613"
      ]
     },
     "execution_count": 91,
     "metadata": {},
     "output_type": "execute_result"
    }
   ],
   "source": [
    "rep = DataFrame(numpy.random.randn(6,3), columns=list('abc'))\n",
    "rep"
   ]
  },
  {
   "cell_type": "code",
   "execution_count": 92,
   "metadata": {
    "ExecuteTime": {
     "start_time": "2020-03-20T10:18:52.204Z"
    }
   },
   "outputs": [
    {
     "data": {
      "text/html": [
       "<div>\n",
       "<style scoped>\n",
       "    .dataframe tbody tr th:only-of-type {\n",
       "        vertical-align: middle;\n",
       "    }\n",
       "\n",
       "    .dataframe tbody tr th {\n",
       "        vertical-align: top;\n",
       "    }\n",
       "\n",
       "    .dataframe thead th {\n",
       "        text-align: right;\n",
       "    }\n",
       "</style>\n",
       "<table border=\"1\" class=\"dataframe\">\n",
       "  <thead>\n",
       "    <tr style=\"text-align: right;\">\n",
       "      <th></th>\n",
       "      <th>A</th>\n",
       "      <th>B</th>\n",
       "      <th>C</th>\n",
       "      <th>D</th>\n",
       "      <th>E</th>\n",
       "    </tr>\n",
       "  </thead>\n",
       "  <tbody>\n",
       "    <tr>\n",
       "      <th>0</th>\n",
       "      <td>1</td>\n",
       "      <td>0.980075</td>\n",
       "      <td>1.132774</td>\n",
       "      <td>8</td>\n",
       "      <td>2</td>\n",
       "    </tr>\n",
       "    <tr>\n",
       "      <th>1</th>\n",
       "      <td>3</td>\n",
       "      <td>0.749537</td>\n",
       "      <td>0.602268</td>\n",
       "      <td>3</td>\n",
       "      <td>1</td>\n",
       "    </tr>\n",
       "    <tr>\n",
       "      <th>2</th>\n",
       "      <td>3</td>\n",
       "      <td>0.780536</td>\n",
       "      <td>1.008344</td>\n",
       "      <td>5</td>\n",
       "      <td>8</td>\n",
       "    </tr>\n",
       "    <tr>\n",
       "      <th>3</th>\n",
       "      <td>7</td>\n",
       "      <td>-0.710367</td>\n",
       "      <td>0.355082</td>\n",
       "      <td>4</td>\n",
       "      <td>8</td>\n",
       "    </tr>\n",
       "    <tr>\n",
       "      <th>6</th>\n",
       "      <td>4</td>\n",
       "      <td>NaN</td>\n",
       "      <td>NaN</td>\n",
       "      <td>6</td>\n",
       "      <td>6</td>\n",
       "    </tr>\n",
       "    <tr>\n",
       "      <th>7</th>\n",
       "      <td>1</td>\n",
       "      <td>NaN</td>\n",
       "      <td>NaN</td>\n",
       "      <td>4</td>\n",
       "      <td>3</td>\n",
       "    </tr>\n",
       "  </tbody>\n",
       "</table>\n",
       "</div>"
      ],
      "text/plain": [
       "   A         B         C  D  E\n",
       "0  1  0.980075  1.132774  8  2\n",
       "1  3  0.749537  0.602268  3  1\n",
       "2  3  0.780536  1.008344  5  8\n",
       "3  7 -0.710367  0.355082  4  8\n",
       "6  4       NaN       NaN  6  6\n",
       "7  1       NaN       NaN  4  3"
      ]
     },
     "execution_count": 92,
     "metadata": {},
     "output_type": "execute_result"
    }
   ],
   "source": [
    "df[['B','C']] = rep[['b', 'c']]\n",
    "df\n",
    "# Unfortunately only same amount of rows. So:\n",
    "# res[['auc_roc','time_elapsed']] = rep\n",
    "# will lead to error: ValueError: Columns must be same length as key"
   ]
  },
  {
   "cell_type": "markdown",
   "metadata": {},
   "source": [
    "#### Different columns (drop 2, add 3)"
   ]
  },
  {
   "cell_type": "code",
   "execution_count": 93,
   "metadata": {
    "ExecuteTime": {
     "start_time": "2020-03-20T10:18:52.216Z"
    },
    "scrolled": true
   },
   "outputs": [
    {
     "data": {
      "text/html": [
       "<div>\n",
       "<style scoped>\n",
       "    .dataframe tbody tr th:only-of-type {\n",
       "        vertical-align: middle;\n",
       "    }\n",
       "\n",
       "    .dataframe tbody tr th {\n",
       "        vertical-align: top;\n",
       "    }\n",
       "\n",
       "    .dataframe thead th {\n",
       "        text-align: right;\n",
       "    }\n",
       "</style>\n",
       "<table border=\"1\" class=\"dataframe\">\n",
       "  <thead>\n",
       "    <tr style=\"text-align: right;\">\n",
       "      <th></th>\n",
       "      <th>A</th>\n",
       "      <th>D</th>\n",
       "      <th>E</th>\n",
       "      <th>a</th>\n",
       "      <th>b</th>\n",
       "      <th>c</th>\n",
       "    </tr>\n",
       "  </thead>\n",
       "  <tbody>\n",
       "    <tr>\n",
       "      <th>0</th>\n",
       "      <td>1</td>\n",
       "      <td>8</td>\n",
       "      <td>2</td>\n",
       "      <td>-0.467420</td>\n",
       "      <td>0.980075</td>\n",
       "      <td>1.132774</td>\n",
       "    </tr>\n",
       "    <tr>\n",
       "      <th>1</th>\n",
       "      <td>3</td>\n",
       "      <td>3</td>\n",
       "      <td>1</td>\n",
       "      <td>0.030080</td>\n",
       "      <td>0.749537</td>\n",
       "      <td>0.602268</td>\n",
       "    </tr>\n",
       "    <tr>\n",
       "      <th>2</th>\n",
       "      <td>3</td>\n",
       "      <td>5</td>\n",
       "      <td>8</td>\n",
       "      <td>0.253541</td>\n",
       "      <td>0.780536</td>\n",
       "      <td>1.008344</td>\n",
       "    </tr>\n",
       "    <tr>\n",
       "      <th>3</th>\n",
       "      <td>7</td>\n",
       "      <td>4</td>\n",
       "      <td>8</td>\n",
       "      <td>-0.403511</td>\n",
       "      <td>-0.710367</td>\n",
       "      <td>0.355082</td>\n",
       "    </tr>\n",
       "    <tr>\n",
       "      <th>6</th>\n",
       "      <td>4</td>\n",
       "      <td>6</td>\n",
       "      <td>6</td>\n",
       "      <td>NaN</td>\n",
       "      <td>NaN</td>\n",
       "      <td>NaN</td>\n",
       "    </tr>\n",
       "    <tr>\n",
       "      <th>7</th>\n",
       "      <td>1</td>\n",
       "      <td>4</td>\n",
       "      <td>3</td>\n",
       "      <td>NaN</td>\n",
       "      <td>NaN</td>\n",
       "      <td>NaN</td>\n",
       "    </tr>\n",
       "  </tbody>\n",
       "</table>\n",
       "</div>"
      ],
      "text/plain": [
       "   A  D  E         a         b         c\n",
       "0  1  8  2 -0.467420  0.980075  1.132774\n",
       "1  3  3  1  0.030080  0.749537  0.602268\n",
       "2  3  5  8  0.253541  0.780536  1.008344\n",
       "3  7  4  8 -0.403511 -0.710367  0.355082\n",
       "6  4  6  6       NaN       NaN       NaN\n",
       "7  1  4  3       NaN       NaN       NaN"
      ]
     },
     "execution_count": 93,
     "metadata": {},
     "output_type": "execute_result"
    }
   ],
   "source": [
    "df.drop(\n",
    "    ['B','C'], axis=1\n",
    "    #, inplace=True\n",
    ").join(rep)"
   ]
  },
  {
   "cell_type": "markdown",
   "metadata": {},
   "source": [
    "#### Do NOT preserve indexes"
   ]
  },
  {
   "cell_type": "code",
   "execution_count": 94,
   "metadata": {
    "ExecuteTime": {
     "start_time": "2020-03-20T10:18:52.228Z"
    }
   },
   "outputs": [
    {
     "data": {
      "text/html": [
       "<div>\n",
       "<style scoped>\n",
       "    .dataframe tbody tr th:only-of-type {\n",
       "        vertical-align: middle;\n",
       "    }\n",
       "\n",
       "    .dataframe tbody tr th {\n",
       "        vertical-align: top;\n",
       "    }\n",
       "\n",
       "    .dataframe thead th {\n",
       "        text-align: right;\n",
       "    }\n",
       "</style>\n",
       "<table border=\"1\" class=\"dataframe\">\n",
       "  <thead>\n",
       "    <tr style=\"text-align: right;\">\n",
       "      <th></th>\n",
       "      <th>A</th>\n",
       "      <th>B</th>\n",
       "      <th>C</th>\n",
       "      <th>D</th>\n",
       "      <th>E</th>\n",
       "    </tr>\n",
       "  </thead>\n",
       "  <tbody>\n",
       "    <tr>\n",
       "      <th>0</th>\n",
       "      <td>1</td>\n",
       "      <td>0.980075</td>\n",
       "      <td>1.132774</td>\n",
       "      <td>8</td>\n",
       "      <td>2</td>\n",
       "    </tr>\n",
       "    <tr>\n",
       "      <th>1</th>\n",
       "      <td>3</td>\n",
       "      <td>0.749537</td>\n",
       "      <td>0.602268</td>\n",
       "      <td>3</td>\n",
       "      <td>1</td>\n",
       "    </tr>\n",
       "    <tr>\n",
       "      <th>2</th>\n",
       "      <td>3</td>\n",
       "      <td>0.780536</td>\n",
       "      <td>1.008344</td>\n",
       "      <td>5</td>\n",
       "      <td>8</td>\n",
       "    </tr>\n",
       "    <tr>\n",
       "      <th>3</th>\n",
       "      <td>7</td>\n",
       "      <td>-0.710367</td>\n",
       "      <td>0.355082</td>\n",
       "      <td>4</td>\n",
       "      <td>8</td>\n",
       "    </tr>\n",
       "    <tr>\n",
       "      <th>6</th>\n",
       "      <td>4</td>\n",
       "      <td>2.121673</td>\n",
       "      <td>0.651264</td>\n",
       "      <td>6</td>\n",
       "      <td>6</td>\n",
       "    </tr>\n",
       "    <tr>\n",
       "      <th>7</th>\n",
       "      <td>1</td>\n",
       "      <td>1.347369</td>\n",
       "      <td>-0.039613</td>\n",
       "      <td>4</td>\n",
       "      <td>3</td>\n",
       "    </tr>\n",
       "  </tbody>\n",
       "</table>\n",
       "</div>"
      ],
      "text/plain": [
       "   A         B         C  D  E\n",
       "0  1  0.980075  1.132774  8  2\n",
       "1  3  0.749537  0.602268  3  1\n",
       "2  3  0.780536  1.008344  5  8\n",
       "3  7 -0.710367  0.355082  4  8\n",
       "6  4  2.121673  0.651264  6  6\n",
       "7  1  1.347369 -0.039613  4  3"
      ]
     },
     "execution_count": 94,
     "metadata": {},
     "output_type": "execute_result"
    }
   ],
   "source": [
    "rep_ = rep[['b', 'c']]\n",
    "rep_.index = df[['B','C']].index\n",
    "rep_\n",
    "df[['B','C']] = rep_\n",
    "df"
   ]
  },
  {
   "cell_type": "code",
   "execution_count": 95,
   "metadata": {
    "ExecuteTime": {
     "start_time": "2020-03-20T10:18:52.236Z"
    },
    "scrolled": true
   },
   "outputs": [],
   "source": [
    "#rep_ = rep[['b', 'c']]\n",
    "#rep_.index = df[['B','C']].index\n",
    "#rep_\n",
    "#df << rep_\n",
    "#df\n",
    "\n",
    "#??? TypeError: unsupported operand type(s) for <<: 'DataFrame' and 'DataFrame'"
   ]
  },
  {
   "cell_type": "markdown",
   "metadata": {},
   "source": [
    "### Удаление строк (row remove)\n",
    "\n",
    "http://stackoverflow.com/questions/14661701/how-to-drop-a-list-of-rows-from-pandas-dataframe"
   ]
  },
  {
   "cell_type": "code",
   "execution_count": 96,
   "metadata": {
    "ExecuteTime": {
     "start_time": "2020-03-20T10:18:52.250Z"
    },
    "scrolled": true
   },
   "outputs": [
    {
     "data": {
      "text/html": [
       "<div>\n",
       "<style scoped>\n",
       "    .dataframe tbody tr th:only-of-type {\n",
       "        vertical-align: middle;\n",
       "    }\n",
       "\n",
       "    .dataframe tbody tr th {\n",
       "        vertical-align: top;\n",
       "    }\n",
       "\n",
       "    .dataframe thead th {\n",
       "        text-align: right;\n",
       "    }\n",
       "</style>\n",
       "<table border=\"1\" class=\"dataframe\">\n",
       "  <thead>\n",
       "    <tr style=\"text-align: right;\">\n",
       "      <th></th>\n",
       "      <th>res</th>\n",
       "      <th>res1</th>\n",
       "    </tr>\n",
       "  </thead>\n",
       "  <tbody>\n",
       "    <tr>\n",
       "      <th>one</th>\n",
       "      <td>133</td>\n",
       "      <td>421.0</td>\n",
       "    </tr>\n",
       "    <tr>\n",
       "      <th>three</th>\n",
       "      <td>12310</td>\n",
       "      <td>NaN</td>\n",
       "    </tr>\n",
       "    <tr>\n",
       "      <th>4</th>\n",
       "      <td>10</td>\n",
       "      <td>20.0</td>\n",
       "    </tr>\n",
       "  </tbody>\n",
       "</table>\n",
       "</div>"
      ],
      "text/plain": [
       "         res   res1\n",
       "one      133  421.0\n",
       "three  12310    NaN\n",
       "4         10   20.0"
      ]
     },
     "execution_count": 96,
     "metadata": {},
     "output_type": "execute_result"
    }
   ],
   "source": [
    "d.drop(d.index[[1,3]])"
   ]
  },
  {
   "cell_type": "code",
   "execution_count": 97,
   "metadata": {
    "ExecuteTime": {
     "start_time": "2020-03-20T10:18:52.259Z"
    }
   },
   "outputs": [
    {
     "data": {
      "text/plain": [
       "Index(['two', 'four'], dtype='object')"
      ]
     },
     "execution_count": 97,
     "metadata": {},
     "output_type": "execute_result"
    }
   ],
   "source": [
    "d.index[[1,3]]"
   ]
  },
  {
   "cell_type": "code",
   "execution_count": 98,
   "metadata": {
    "ExecuteTime": {
     "start_time": "2020-03-20T10:18:52.266Z"
    }
   },
   "outputs": [
    {
     "data": {
      "text/html": [
       "<div>\n",
       "<style scoped>\n",
       "    .dataframe tbody tr th:only-of-type {\n",
       "        vertical-align: middle;\n",
       "    }\n",
       "\n",
       "    .dataframe tbody tr th {\n",
       "        vertical-align: top;\n",
       "    }\n",
       "\n",
       "    .dataframe thead th {\n",
       "        text-align: right;\n",
       "    }\n",
       "</style>\n",
       "<table border=\"1\" class=\"dataframe\">\n",
       "  <thead>\n",
       "    <tr style=\"text-align: right;\">\n",
       "      <th></th>\n",
       "      <th>res</th>\n",
       "      <th>res1</th>\n",
       "    </tr>\n",
       "  </thead>\n",
       "  <tbody>\n",
       "    <tr>\n",
       "      <th>one</th>\n",
       "      <td>133</td>\n",
       "      <td>421.0</td>\n",
       "    </tr>\n",
       "    <tr>\n",
       "      <th>two</th>\n",
       "      <td>1240</td>\n",
       "      <td>NaN</td>\n",
       "    </tr>\n",
       "    <tr>\n",
       "      <th>four</th>\n",
       "      <td>123010</td>\n",
       "      <td>NaN</td>\n",
       "    </tr>\n",
       "    <tr>\n",
       "      <th>4</th>\n",
       "      <td>10</td>\n",
       "      <td>20.0</td>\n",
       "    </tr>\n",
       "  </tbody>\n",
       "</table>\n",
       "</div>"
      ],
      "text/plain": [
       "         res   res1\n",
       "one      133  421.0\n",
       "two     1240    NaN\n",
       "four  123010    NaN\n",
       "4         10   20.0"
      ]
     },
     "execution_count": 98,
     "metadata": {},
     "output_type": "execute_result"
    }
   ],
   "source": [
    "d.drop(d.index[[2]])"
   ]
  },
  {
   "cell_type": "code",
   "execution_count": 99,
   "metadata": {
    "ExecuteTime": {
     "start_time": "2020-03-20T10:18:52.274Z"
    }
   },
   "outputs": [
    {
     "data": {
      "text/html": [
       "<div>\n",
       "<style scoped>\n",
       "    .dataframe tbody tr th:only-of-type {\n",
       "        vertical-align: middle;\n",
       "    }\n",
       "\n",
       "    .dataframe tbody tr th {\n",
       "        vertical-align: top;\n",
       "    }\n",
       "\n",
       "    .dataframe thead th {\n",
       "        text-align: right;\n",
       "    }\n",
       "</style>\n",
       "<table border=\"1\" class=\"dataframe\">\n",
       "  <thead>\n",
       "    <tr style=\"text-align: right;\">\n",
       "      <th></th>\n",
       "      <th>res</th>\n",
       "      <th>res1</th>\n",
       "    </tr>\n",
       "  </thead>\n",
       "  <tbody>\n",
       "    <tr>\n",
       "      <th>one</th>\n",
       "      <td>133</td>\n",
       "      <td>421.0</td>\n",
       "    </tr>\n",
       "    <tr>\n",
       "      <th>two</th>\n",
       "      <td>1240</td>\n",
       "      <td>NaN</td>\n",
       "    </tr>\n",
       "    <tr>\n",
       "      <th>four</th>\n",
       "      <td>123010</td>\n",
       "      <td>NaN</td>\n",
       "    </tr>\n",
       "    <tr>\n",
       "      <th>4</th>\n",
       "      <td>10</td>\n",
       "      <td>20.0</td>\n",
       "    </tr>\n",
       "  </tbody>\n",
       "</table>\n",
       "</div>"
      ],
      "text/plain": [
       "         res   res1\n",
       "one      133  421.0\n",
       "two     1240    NaN\n",
       "four  123010    NaN\n",
       "4         10   20.0"
      ]
     },
     "execution_count": 99,
     "metadata": {},
     "output_type": "execute_result"
    }
   ],
   "source": [
    "d.drop(d.index[2])"
   ]
  },
  {
   "cell_type": "markdown",
   "metadata": {},
   "source": [
    "### Удаление столбцов (column remove)"
   ]
  },
  {
   "cell_type": "code",
   "execution_count": 100,
   "metadata": {
    "ExecuteTime": {
     "start_time": "2020-03-20T10:18:52.287Z"
    }
   },
   "outputs": [
    {
     "data": {
      "text/html": [
       "<div>\n",
       "<style scoped>\n",
       "    .dataframe tbody tr th:only-of-type {\n",
       "        vertical-align: middle;\n",
       "    }\n",
       "\n",
       "    .dataframe tbody tr th {\n",
       "        vertical-align: top;\n",
       "    }\n",
       "\n",
       "    .dataframe thead th {\n",
       "        text-align: right;\n",
       "    }\n",
       "</style>\n",
       "<table border=\"1\" class=\"dataframe\">\n",
       "  <thead>\n",
       "    <tr style=\"text-align: right;\">\n",
       "      <th></th>\n",
       "      <th>A</th>\n",
       "      <th>B</th>\n",
       "      <th>C</th>\n",
       "    </tr>\n",
       "  </thead>\n",
       "  <tbody>\n",
       "    <tr>\n",
       "      <th>0</th>\n",
       "      <td>-1.519901</td>\n",
       "      <td>0.118439</td>\n",
       "      <td>-1.119317</td>\n",
       "    </tr>\n",
       "    <tr>\n",
       "      <th>1</th>\n",
       "      <td>-0.201274</td>\n",
       "      <td>-0.049488</td>\n",
       "      <td>0.867008</td>\n",
       "    </tr>\n",
       "    <tr>\n",
       "      <th>2</th>\n",
       "      <td>-0.027098</td>\n",
       "      <td>-1.200005</td>\n",
       "      <td>0.093906</td>\n",
       "    </tr>\n",
       "    <tr>\n",
       "      <th>3</th>\n",
       "      <td>1.521414</td>\n",
       "      <td>1.110423</td>\n",
       "      <td>-0.616792</td>\n",
       "    </tr>\n",
       "    <tr>\n",
       "      <th>4</th>\n",
       "      <td>-0.222455</td>\n",
       "      <td>-0.317767</td>\n",
       "      <td>1.240088</td>\n",
       "    </tr>\n",
       "    <tr>\n",
       "      <th>5</th>\n",
       "      <td>1.540407</td>\n",
       "      <td>0.732096</td>\n",
       "      <td>0.150991</td>\n",
       "    </tr>\n",
       "    <tr>\n",
       "      <th>6</th>\n",
       "      <td>-0.388311</td>\n",
       "      <td>-0.377940</td>\n",
       "      <td>-1.348323</td>\n",
       "    </tr>\n",
       "    <tr>\n",
       "      <th>7</th>\n",
       "      <td>1.727138</td>\n",
       "      <td>-1.805591</td>\n",
       "      <td>0.221858</td>\n",
       "    </tr>\n",
       "    <tr>\n",
       "      <th>8</th>\n",
       "      <td>0.380700</td>\n",
       "      <td>-1.046781</td>\n",
       "      <td>1.132963</td>\n",
       "    </tr>\n",
       "    <tr>\n",
       "      <th>9</th>\n",
       "      <td>-1.137980</td>\n",
       "      <td>-0.595706</td>\n",
       "      <td>0.166073</td>\n",
       "    </tr>\n",
       "  </tbody>\n",
       "</table>\n",
       "</div>"
      ],
      "text/plain": [
       "          A         B         C\n",
       "0 -1.519901  0.118439 -1.119317\n",
       "1 -0.201274 -0.049488  0.867008\n",
       "2 -0.027098 -1.200005  0.093906\n",
       "3  1.521414  1.110423 -0.616792\n",
       "4 -0.222455 -0.317767  1.240088\n",
       "5  1.540407  0.732096  0.150991\n",
       "6 -0.388311 -0.377940 -1.348323\n",
       "7  1.727138 -1.805591  0.221858\n",
       "8  0.380700 -1.046781  1.132963\n",
       "9 -1.137980 -0.595706  0.166073"
      ]
     },
     "execution_count": 100,
     "metadata": {},
     "output_type": "execute_result"
    }
   ],
   "source": [
    "rm = DataFrame(numpy.random.randn(10,3), columns=list('ABC'))\n",
    "rm"
   ]
  },
  {
   "cell_type": "markdown",
   "metadata": {},
   "source": [
    "#### Safe remove if exists"
   ]
  },
  {
   "cell_type": "code",
   "execution_count": 101,
   "metadata": {
    "ExecuteTime": {
     "start_time": "2020-03-20T10:18:52.299Z"
    }
   },
   "outputs": [
    {
     "data": {
      "text/html": [
       "<div>\n",
       "<style scoped>\n",
       "    .dataframe tbody tr th:only-of-type {\n",
       "        vertical-align: middle;\n",
       "    }\n",
       "\n",
       "    .dataframe tbody tr th {\n",
       "        vertical-align: top;\n",
       "    }\n",
       "\n",
       "    .dataframe thead th {\n",
       "        text-align: right;\n",
       "    }\n",
       "</style>\n",
       "<table border=\"1\" class=\"dataframe\">\n",
       "  <thead>\n",
       "    <tr style=\"text-align: right;\">\n",
       "      <th></th>\n",
       "      <th>A</th>\n",
       "    </tr>\n",
       "  </thead>\n",
       "  <tbody>\n",
       "    <tr>\n",
       "      <th>0</th>\n",
       "      <td>-1.519901</td>\n",
       "    </tr>\n",
       "    <tr>\n",
       "      <th>1</th>\n",
       "      <td>-0.201274</td>\n",
       "    </tr>\n",
       "    <tr>\n",
       "      <th>2</th>\n",
       "      <td>-0.027098</td>\n",
       "    </tr>\n",
       "    <tr>\n",
       "      <th>3</th>\n",
       "      <td>1.521414</td>\n",
       "    </tr>\n",
       "    <tr>\n",
       "      <th>4</th>\n",
       "      <td>-0.222455</td>\n",
       "    </tr>\n",
       "    <tr>\n",
       "      <th>5</th>\n",
       "      <td>1.540407</td>\n",
       "    </tr>\n",
       "    <tr>\n",
       "      <th>6</th>\n",
       "      <td>-0.388311</td>\n",
       "    </tr>\n",
       "    <tr>\n",
       "      <th>7</th>\n",
       "      <td>1.727138</td>\n",
       "    </tr>\n",
       "    <tr>\n",
       "      <th>8</th>\n",
       "      <td>0.380700</td>\n",
       "    </tr>\n",
       "    <tr>\n",
       "      <th>9</th>\n",
       "      <td>-1.137980</td>\n",
       "    </tr>\n",
       "  </tbody>\n",
       "</table>\n",
       "</div>"
      ],
      "text/plain": [
       "          A\n",
       "0 -1.519901\n",
       "1 -0.201274\n",
       "2 -0.027098\n",
       "3  1.521414\n",
       "4 -0.222455\n",
       "5  1.540407\n",
       "6 -0.388311\n",
       "7  1.727138\n",
       "8  0.380700\n",
       "9 -1.137980"
      ]
     },
     "execution_count": 101,
     "metadata": {},
     "output_type": "execute_result"
    }
   ],
   "source": [
    "# Second time:\n",
    "rm.drop(['B', 'C'], axis=1, inplace=True)\n",
    "rm\n",
    "# ValueError: labels ['B' 'C'] not contained in axis"
   ]
  },
  {
   "cell_type": "code",
   "execution_count": 102,
   "metadata": {
    "ExecuteTime": {
     "start_time": "2020-03-20T10:18:52.309Z"
    }
   },
   "outputs": [
    {
     "data": {
      "text/html": [
       "<div>\n",
       "<style scoped>\n",
       "    .dataframe tbody tr th:only-of-type {\n",
       "        vertical-align: middle;\n",
       "    }\n",
       "\n",
       "    .dataframe tbody tr th {\n",
       "        vertical-align: top;\n",
       "    }\n",
       "\n",
       "    .dataframe thead th {\n",
       "        text-align: right;\n",
       "    }\n",
       "</style>\n",
       "<table border=\"1\" class=\"dataframe\">\n",
       "  <thead>\n",
       "    <tr style=\"text-align: right;\">\n",
       "      <th></th>\n",
       "      <th>A</th>\n",
       "    </tr>\n",
       "  </thead>\n",
       "  <tbody>\n",
       "    <tr>\n",
       "      <th>0</th>\n",
       "      <td>-1.519901</td>\n",
       "    </tr>\n",
       "    <tr>\n",
       "      <th>1</th>\n",
       "      <td>-0.201274</td>\n",
       "    </tr>\n",
       "    <tr>\n",
       "      <th>2</th>\n",
       "      <td>-0.027098</td>\n",
       "    </tr>\n",
       "    <tr>\n",
       "      <th>3</th>\n",
       "      <td>1.521414</td>\n",
       "    </tr>\n",
       "    <tr>\n",
       "      <th>4</th>\n",
       "      <td>-0.222455</td>\n",
       "    </tr>\n",
       "    <tr>\n",
       "      <th>5</th>\n",
       "      <td>1.540407</td>\n",
       "    </tr>\n",
       "    <tr>\n",
       "      <th>6</th>\n",
       "      <td>-0.388311</td>\n",
       "    </tr>\n",
       "    <tr>\n",
       "      <th>7</th>\n",
       "      <td>1.727138</td>\n",
       "    </tr>\n",
       "    <tr>\n",
       "      <th>8</th>\n",
       "      <td>0.380700</td>\n",
       "    </tr>\n",
       "    <tr>\n",
       "      <th>9</th>\n",
       "      <td>-1.137980</td>\n",
       "    </tr>\n",
       "  </tbody>\n",
       "</table>\n",
       "</div>"
      ],
      "text/plain": [
       "          A\n",
       "0 -1.519901\n",
       "1 -0.201274\n",
       "2 -0.027098\n",
       "3  1.521414\n",
       "4 -0.222455\n",
       "5  1.540407\n",
       "6 -0.388311\n",
       "7  1.727138\n",
       "8  0.380700\n",
       "9 -1.137980"
      ]
     },
     "execution_count": 102,
     "metadata": {},
     "output_type": "execute_result"
    }
   ],
   "source": [
    "# For intersection see http://localhost:8888/notebooks/final.assignment/Kaggle/ArraysSandbox.ipynb#Intersection\n",
    "rm.drop(set(rm.columns) & set(['B', 'C']), axis=1, inplace=True)\n",
    "rm"
   ]
  },
  {
   "cell_type": "markdown",
   "metadata": {},
   "source": [
    "### String format of row (row unpacking)"
   ]
  },
  {
   "cell_type": "code",
   "execution_count": 103,
   "metadata": {},
   "outputs": [],
   "source": [
    "d = DataFrame([[1, 2], [3, 8], [7, 8], [12, 9], [17, 18]], columns=['train', 'test'])\n",
    "d.index = [10, 20, 30, 40, 50]"
   ]
  },
  {
   "cell_type": "code",
   "execution_count": 104,
   "metadata": {
    "ExecuteTime": {
     "start_time": "2020-03-20T10:18:52.321Z"
    }
   },
   "outputs": [
    {
     "data": {
      "text/plain": [
       "'train=1; test=2'"
      ]
     },
     "execution_count": 104,
     "metadata": {},
     "output_type": "execute_result"
    }
   ],
   "source": [
    "\"train={train}; test={test}\".format(**d.loc[10])"
   ]
  },
  {
   "cell_type": "markdown",
   "metadata": {},
   "source": [
    "### Columns string concat\n",
    "\n",
    "https://stackoverflow.com/questions/19377969/combine-two-columns-of-text-in-pandas-dataframe/36911306#36911306 - contains multiple variants with sppeed comparison!"
   ]
  },
  {
   "cell_type": "code",
   "execution_count": 105,
   "metadata": {
    "ExecuteTime": {
     "start_time": "2020-03-20T10:18:52.331Z"
    }
   },
   "outputs": [
    {
     "data": {
      "text/html": [
       "<div>\n",
       "<style scoped>\n",
       "    .dataframe tbody tr th:only-of-type {\n",
       "        vertical-align: middle;\n",
       "    }\n",
       "\n",
       "    .dataframe tbody tr th {\n",
       "        vertical-align: top;\n",
       "    }\n",
       "\n",
       "    .dataframe thead th {\n",
       "        text-align: right;\n",
       "    }\n",
       "</style>\n",
       "<table border=\"1\" class=\"dataframe\">\n",
       "  <thead>\n",
       "    <tr style=\"text-align: right;\">\n",
       "      <th></th>\n",
       "      <th>A</th>\n",
       "      <th>B</th>\n",
       "    </tr>\n",
       "  </thead>\n",
       "  <tbody>\n",
       "    <tr>\n",
       "      <th>one</th>\n",
       "      <td>1</td>\n",
       "      <td>2</td>\n",
       "    </tr>\n",
       "    <tr>\n",
       "      <th>two</th>\n",
       "      <td>11</td>\n",
       "      <td>22</td>\n",
       "    </tr>\n",
       "    <tr>\n",
       "      <th>three</th>\n",
       "      <td>111</td>\n",
       "      <td>222</td>\n",
       "    </tr>\n",
       "    <tr>\n",
       "      <th>four</th>\n",
       "      <td>1111</td>\n",
       "      <td>2222</td>\n",
       "    </tr>\n",
       "  </tbody>\n",
       "</table>\n",
       "</div>"
      ],
      "text/plain": [
       "          A     B\n",
       "one       1     2\n",
       "two      11    22\n",
       "three   111   222\n",
       "four   1111  2222"
      ]
     },
     "execution_count": 105,
     "metadata": {},
     "output_type": "execute_result"
    }
   ],
   "source": [
    "# Given:\n",
    "df = DataFrame({\n",
    "    'one': {'A': 1, 'B': 2}\n",
    "    ,'two': {'A': 11, 'B': 22}\n",
    "    ,'three': {'A': 111, 'B': 222}\n",
    "    ,'four': {'A': 1111, 'B': 2222}\n",
    "})\n",
    "df = df.T\n",
    "df"
   ]
  },
  {
   "cell_type": "code",
   "execution_count": 106,
   "metadata": {},
   "outputs": [
    {
     "data": {
      "text/html": [
       "<div>\n",
       "<style scoped>\n",
       "    .dataframe tbody tr th:only-of-type {\n",
       "        vertical-align: middle;\n",
       "    }\n",
       "\n",
       "    .dataframe tbody tr th {\n",
       "        vertical-align: top;\n",
       "    }\n",
       "\n",
       "    .dataframe thead th {\n",
       "        text-align: right;\n",
       "    }\n",
       "</style>\n",
       "<table border=\"1\" class=\"dataframe\">\n",
       "  <thead>\n",
       "    <tr style=\"text-align: right;\">\n",
       "      <th></th>\n",
       "      <th>A</th>\n",
       "      <th>B</th>\n",
       "      <th>A:B</th>\n",
       "    </tr>\n",
       "  </thead>\n",
       "  <tbody>\n",
       "    <tr>\n",
       "      <th>one</th>\n",
       "      <td>1</td>\n",
       "      <td>2</td>\n",
       "      <td>1:2</td>\n",
       "    </tr>\n",
       "    <tr>\n",
       "      <th>two</th>\n",
       "      <td>11</td>\n",
       "      <td>22</td>\n",
       "      <td>11:22</td>\n",
       "    </tr>\n",
       "    <tr>\n",
       "      <th>three</th>\n",
       "      <td>111</td>\n",
       "      <td>222</td>\n",
       "      <td>111:222</td>\n",
       "    </tr>\n",
       "    <tr>\n",
       "      <th>four</th>\n",
       "      <td>1111</td>\n",
       "      <td>2222</td>\n",
       "      <td>1111:2222</td>\n",
       "    </tr>\n",
       "  </tbody>\n",
       "</table>\n",
       "</div>"
      ],
      "text/plain": [
       "          A     B        A:B\n",
       "one       1     2        1:2\n",
       "two      11    22      11:22\n",
       "three   111   222    111:222\n",
       "four   1111  2222  1111:2222"
      ]
     },
     "execution_count": 106,
     "metadata": {},
     "output_type": "execute_result"
    }
   ],
   "source": [
    "df['A:B'] = df[['A','B']].apply(lambda x: f'{x[0]}:{x[1]}', axis=1)\n",
    "df"
   ]
  },
  {
   "cell_type": "markdown",
   "metadata": {},
   "source": [
    "### Column names suffiexes/prefixes"
   ]
  },
  {
   "cell_type": "code",
   "execution_count": 107,
   "metadata": {
    "ExecuteTime": {
     "start_time": "2020-03-20T10:18:52.331Z"
    }
   },
   "outputs": [
    {
     "data": {
      "text/html": [
       "<div>\n",
       "<style scoped>\n",
       "    .dataframe tbody tr th:only-of-type {\n",
       "        vertical-align: middle;\n",
       "    }\n",
       "\n",
       "    .dataframe tbody tr th {\n",
       "        vertical-align: top;\n",
       "    }\n",
       "\n",
       "    .dataframe thead th {\n",
       "        text-align: right;\n",
       "    }\n",
       "</style>\n",
       "<table border=\"1\" class=\"dataframe\">\n",
       "  <thead>\n",
       "    <tr style=\"text-align: right;\">\n",
       "      <th></th>\n",
       "      <th>A</th>\n",
       "      <th>B</th>\n",
       "    </tr>\n",
       "  </thead>\n",
       "  <tbody>\n",
       "    <tr>\n",
       "      <th>0</th>\n",
       "      <td>1</td>\n",
       "      <td>3</td>\n",
       "    </tr>\n",
       "    <tr>\n",
       "      <th>1</th>\n",
       "      <td>2</td>\n",
       "      <td>4</td>\n",
       "    </tr>\n",
       "    <tr>\n",
       "      <th>2</th>\n",
       "      <td>3</td>\n",
       "      <td>5</td>\n",
       "    </tr>\n",
       "    <tr>\n",
       "      <th>3</th>\n",
       "      <td>4</td>\n",
       "      <td>6</td>\n",
       "    </tr>\n",
       "  </tbody>\n",
       "</table>\n",
       "</div>"
      ],
      "text/plain": [
       "   A  B\n",
       "0  1  3\n",
       "1  2  4\n",
       "2  3  5\n",
       "3  4  6"
      ]
     },
     "execution_count": 107,
     "metadata": {},
     "output_type": "execute_result"
    }
   ],
   "source": [
    "# Given:\n",
    "df = DataFrame({'A': [1, 2, 3, 4], 'B': [3, 4, 5, 6]})\n",
    "df"
   ]
  },
  {
   "cell_type": "code",
   "execution_count": 108,
   "metadata": {},
   "outputs": [
    {
     "data": {
      "text/html": [
       "<div>\n",
       "<style scoped>\n",
       "    .dataframe tbody tr th:only-of-type {\n",
       "        vertical-align: middle;\n",
       "    }\n",
       "\n",
       "    .dataframe tbody tr th {\n",
       "        vertical-align: top;\n",
       "    }\n",
       "\n",
       "    .dataframe thead th {\n",
       "        text-align: right;\n",
       "    }\n",
       "</style>\n",
       "<table border=\"1\" class=\"dataframe\">\n",
       "  <thead>\n",
       "    <tr style=\"text-align: right;\">\n",
       "      <th></th>\n",
       "      <th>A:some</th>\n",
       "      <th>B:some</th>\n",
       "    </tr>\n",
       "  </thead>\n",
       "  <tbody>\n",
       "    <tr>\n",
       "      <th>0</th>\n",
       "      <td>1</td>\n",
       "      <td>3</td>\n",
       "    </tr>\n",
       "    <tr>\n",
       "      <th>1</th>\n",
       "      <td>2</td>\n",
       "      <td>4</td>\n",
       "    </tr>\n",
       "    <tr>\n",
       "      <th>2</th>\n",
       "      <td>3</td>\n",
       "      <td>5</td>\n",
       "    </tr>\n",
       "    <tr>\n",
       "      <th>3</th>\n",
       "      <td>4</td>\n",
       "      <td>6</td>\n",
       "    </tr>\n",
       "  </tbody>\n",
       "</table>\n",
       "</div>"
      ],
      "text/plain": [
       "   A:some  B:some\n",
       "0       1       3\n",
       "1       2       4\n",
       "2       3       5\n",
       "3       4       6"
      ]
     },
     "execution_count": 108,
     "metadata": {},
     "output_type": "execute_result"
    }
   ],
   "source": [
    "df = df.add_suffix(':some')\n",
    "df"
   ]
  },
  {
   "cell_type": "code",
   "execution_count": 109,
   "metadata": {},
   "outputs": [
    {
     "data": {
      "text/html": [
       "<div>\n",
       "<style scoped>\n",
       "    .dataframe tbody tr th:only-of-type {\n",
       "        vertical-align: middle;\n",
       "    }\n",
       "\n",
       "    .dataframe tbody tr th {\n",
       "        vertical-align: top;\n",
       "    }\n",
       "\n",
       "    .dataframe thead th {\n",
       "        text-align: right;\n",
       "    }\n",
       "</style>\n",
       "<table border=\"1\" class=\"dataframe\">\n",
       "  <thead>\n",
       "    <tr style=\"text-align: right;\">\n",
       "      <th></th>\n",
       "      <th>some:A:some</th>\n",
       "      <th>some:B:some</th>\n",
       "    </tr>\n",
       "  </thead>\n",
       "  <tbody>\n",
       "    <tr>\n",
       "      <th>0</th>\n",
       "      <td>1</td>\n",
       "      <td>3</td>\n",
       "    </tr>\n",
       "    <tr>\n",
       "      <th>1</th>\n",
       "      <td>2</td>\n",
       "      <td>4</td>\n",
       "    </tr>\n",
       "    <tr>\n",
       "      <th>2</th>\n",
       "      <td>3</td>\n",
       "      <td>5</td>\n",
       "    </tr>\n",
       "    <tr>\n",
       "      <th>3</th>\n",
       "      <td>4</td>\n",
       "      <td>6</td>\n",
       "    </tr>\n",
       "  </tbody>\n",
       "</table>\n",
       "</div>"
      ],
      "text/plain": [
       "   some:A:some  some:B:some\n",
       "0            1            3\n",
       "1            2            4\n",
       "2            3            5\n",
       "3            4            6"
      ]
     },
     "execution_count": 109,
     "metadata": {},
     "output_type": "execute_result"
    }
   ],
   "source": [
    "df.add_prefix('some:')"
   ]
  },
  {
   "cell_type": "markdown",
   "metadata": {},
   "source": [
    "### Map, apply"
   ]
  },
  {
   "cell_type": "code",
   "execution_count": 112,
   "metadata": {
    "ExecuteTime": {
     "start_time": "2020-03-20T10:18:52.331Z"
    }
   },
   "outputs": [
    {
     "data": {
      "text/html": [
       "<div>\n",
       "<style scoped>\n",
       "    .dataframe tbody tr th:only-of-type {\n",
       "        vertical-align: middle;\n",
       "    }\n",
       "\n",
       "    .dataframe tbody tr th {\n",
       "        vertical-align: top;\n",
       "    }\n",
       "\n",
       "    .dataframe thead th {\n",
       "        text-align: right;\n",
       "    }\n",
       "</style>\n",
       "<table border=\"1\" class=\"dataframe\">\n",
       "  <thead>\n",
       "    <tr style=\"text-align: right;\">\n",
       "      <th></th>\n",
       "      <th>A</th>\n",
       "      <th>B</th>\n",
       "    </tr>\n",
       "  </thead>\n",
       "  <tbody>\n",
       "    <tr>\n",
       "      <th>0</th>\n",
       "      <td>1</td>\n",
       "      <td>3</td>\n",
       "    </tr>\n",
       "    <tr>\n",
       "      <th>1</th>\n",
       "      <td>2</td>\n",
       "      <td>4</td>\n",
       "    </tr>\n",
       "    <tr>\n",
       "      <th>2</th>\n",
       "      <td>3</td>\n",
       "      <td>5</td>\n",
       "    </tr>\n",
       "    <tr>\n",
       "      <th>3</th>\n",
       "      <td>4</td>\n",
       "      <td>6</td>\n",
       "    </tr>\n",
       "  </tbody>\n",
       "</table>\n",
       "</div>"
      ],
      "text/plain": [
       "   A  B\n",
       "0  1  3\n",
       "1  2  4\n",
       "2  3  5\n",
       "3  4  6"
      ]
     },
     "execution_count": 112,
     "metadata": {},
     "output_type": "execute_result"
    }
   ],
   "source": [
    "# Given:\n",
    "df = DataFrame({'A': [1, 2, 3, 4], 'B': [3, 4, 5, 6]})\n",
    "df"
   ]
  },
  {
   "cell_type": "code",
   "execution_count": 114,
   "metadata": {
    "ExecuteTime": {
     "start_time": "2020-03-20T10:18:52.381Z"
    },
    "scrolled": true
   },
   "outputs": [
    {
     "data": {
      "text/plain": [
       "0    False\n",
       "1    False\n",
       "2     True\n",
       "3     True\n",
       "Name: B, dtype: bool"
      ]
     },
     "execution_count": 114,
     "metadata": {},
     "output_type": "execute_result"
    }
   ],
   "source": [
    "df.B.map(lambda x: x > 4)"
   ]
  },
  {
   "cell_type": "code",
   "execution_count": 116,
   "metadata": {
    "ExecuteTime": {
     "start_time": "2020-03-20T10:18:52.389Z"
    }
   },
   "outputs": [
    {
     "data": {
      "text/plain": [
       "0    B=3\n",
       "1    B=4\n",
       "2    B=5\n",
       "3    B=6\n",
       "Name: B, dtype: object"
      ]
     },
     "execution_count": 116,
     "metadata": {},
     "output_type": "execute_result"
    }
   ],
   "source": [
    "df1 = df.B.apply(lambda it: f'B={it}')\n",
    "df1"
   ]
  },
  {
   "cell_type": "markdown",
   "metadata": {},
   "source": [
    "## Nan, Nulls\n",
    "\n",
    "http://pandas.pydata.org/pandas-docs/stable/missing_data.html#filling-with-a-pandasobject\n",
    "\n",
    "Good example: http://chrisalbon.com/python/pandas_missing_data.html"
   ]
  },
  {
   "cell_type": "code",
   "execution_count": 117,
   "metadata": {
    "ExecuteTime": {
     "start_time": "2020-03-20T10:18:52.402Z"
    }
   },
   "outputs": [
    {
     "data": {
      "text/html": [
       "<div>\n",
       "<style scoped>\n",
       "    .dataframe tbody tr th:only-of-type {\n",
       "        vertical-align: middle;\n",
       "    }\n",
       "\n",
       "    .dataframe tbody tr th {\n",
       "        vertical-align: top;\n",
       "    }\n",
       "\n",
       "    .dataframe thead th {\n",
       "        text-align: right;\n",
       "    }\n",
       "</style>\n",
       "<table border=\"1\" class=\"dataframe\">\n",
       "  <thead>\n",
       "    <tr style=\"text-align: right;\">\n",
       "      <th></th>\n",
       "      <th>A</th>\n",
       "      <th>B</th>\n",
       "      <th>C</th>\n",
       "    </tr>\n",
       "  </thead>\n",
       "  <tbody>\n",
       "    <tr>\n",
       "      <th>0</th>\n",
       "      <td>-1.421552</td>\n",
       "      <td>-0.252070</td>\n",
       "      <td>-0.061940</td>\n",
       "    </tr>\n",
       "    <tr>\n",
       "      <th>1</th>\n",
       "      <td>-0.100569</td>\n",
       "      <td>0.944141</td>\n",
       "      <td>-0.622212</td>\n",
       "    </tr>\n",
       "    <tr>\n",
       "      <th>2</th>\n",
       "      <td>1.625183</td>\n",
       "      <td>-1.152647</td>\n",
       "      <td>0.572937</td>\n",
       "    </tr>\n",
       "    <tr>\n",
       "      <th>3</th>\n",
       "      <td>NaN</td>\n",
       "      <td>-1.249505</td>\n",
       "      <td>-0.153468</td>\n",
       "    </tr>\n",
       "    <tr>\n",
       "      <th>4</th>\n",
       "      <td>NaN</td>\n",
       "      <td>NaN</td>\n",
       "      <td>-0.345275</td>\n",
       "    </tr>\n",
       "    <tr>\n",
       "      <th>5</th>\n",
       "      <td>-0.463313</td>\n",
       "      <td>NaN</td>\n",
       "      <td>NaN</td>\n",
       "    </tr>\n",
       "    <tr>\n",
       "      <th>6</th>\n",
       "      <td>0.044233</td>\n",
       "      <td>-1.042456</td>\n",
       "      <td>NaN</td>\n",
       "    </tr>\n",
       "    <tr>\n",
       "      <th>7</th>\n",
       "      <td>-0.194189</td>\n",
       "      <td>0.796054</td>\n",
       "      <td>NaN</td>\n",
       "    </tr>\n",
       "    <tr>\n",
       "      <th>8</th>\n",
       "      <td>1.477986</td>\n",
       "      <td>-0.219382</td>\n",
       "      <td>-0.228109</td>\n",
       "    </tr>\n",
       "    <tr>\n",
       "      <th>9</th>\n",
       "      <td>-1.295837</td>\n",
       "      <td>0.497312</td>\n",
       "      <td>0.258086</td>\n",
       "    </tr>\n",
       "  </tbody>\n",
       "</table>\n",
       "</div>"
      ],
      "text/plain": [
       "          A         B         C\n",
       "0 -1.421552 -0.252070 -0.061940\n",
       "1 -0.100569  0.944141 -0.622212\n",
       "2  1.625183 -1.152647  0.572937\n",
       "3       NaN -1.249505 -0.153468\n",
       "4       NaN       NaN -0.345275\n",
       "5 -0.463313       NaN       NaN\n",
       "6  0.044233 -1.042456       NaN\n",
       "7 -0.194189  0.796054       NaN\n",
       "8  1.477986 -0.219382 -0.228109\n",
       "9 -1.295837  0.497312  0.258086"
      ]
     },
     "execution_count": 117,
     "metadata": {},
     "output_type": "execute_result"
    }
   ],
   "source": [
    "dff = DataFrame(numpy.random.randn(10,3), columns=list('ABC'))\n",
    "dff.iloc[3:5,0] = numpy.nan\n",
    "dff.iloc[4:6,1] = numpy.nan\n",
    "dff.iloc[5:8,2] = numpy.nan\n",
    "dff"
   ]
  },
  {
   "cell_type": "code",
   "execution_count": 118,
   "metadata": {
    "ExecuteTime": {
     "start_time": "2020-03-20T10:18:52.409Z"
    }
   },
   "outputs": [
    {
     "data": {
      "text/html": [
       "<div>\n",
       "<style scoped>\n",
       "    .dataframe tbody tr th:only-of-type {\n",
       "        vertical-align: middle;\n",
       "    }\n",
       "\n",
       "    .dataframe tbody tr th {\n",
       "        vertical-align: top;\n",
       "    }\n",
       "\n",
       "    .dataframe thead th {\n",
       "        text-align: right;\n",
       "    }\n",
       "</style>\n",
       "<table border=\"1\" class=\"dataframe\">\n",
       "  <thead>\n",
       "    <tr style=\"text-align: right;\">\n",
       "      <th></th>\n",
       "      <th>A</th>\n",
       "      <th>B</th>\n",
       "      <th>C</th>\n",
       "    </tr>\n",
       "  </thead>\n",
       "  <tbody>\n",
       "    <tr>\n",
       "      <th>0</th>\n",
       "      <td>False</td>\n",
       "      <td>False</td>\n",
       "      <td>False</td>\n",
       "    </tr>\n",
       "    <tr>\n",
       "      <th>1</th>\n",
       "      <td>False</td>\n",
       "      <td>False</td>\n",
       "      <td>False</td>\n",
       "    </tr>\n",
       "    <tr>\n",
       "      <th>2</th>\n",
       "      <td>False</td>\n",
       "      <td>False</td>\n",
       "      <td>False</td>\n",
       "    </tr>\n",
       "    <tr>\n",
       "      <th>3</th>\n",
       "      <td>True</td>\n",
       "      <td>False</td>\n",
       "      <td>False</td>\n",
       "    </tr>\n",
       "    <tr>\n",
       "      <th>4</th>\n",
       "      <td>True</td>\n",
       "      <td>True</td>\n",
       "      <td>False</td>\n",
       "    </tr>\n",
       "    <tr>\n",
       "      <th>5</th>\n",
       "      <td>False</td>\n",
       "      <td>True</td>\n",
       "      <td>True</td>\n",
       "    </tr>\n",
       "    <tr>\n",
       "      <th>6</th>\n",
       "      <td>False</td>\n",
       "      <td>False</td>\n",
       "      <td>True</td>\n",
       "    </tr>\n",
       "    <tr>\n",
       "      <th>7</th>\n",
       "      <td>False</td>\n",
       "      <td>False</td>\n",
       "      <td>True</td>\n",
       "    </tr>\n",
       "    <tr>\n",
       "      <th>8</th>\n",
       "      <td>False</td>\n",
       "      <td>False</td>\n",
       "      <td>False</td>\n",
       "    </tr>\n",
       "    <tr>\n",
       "      <th>9</th>\n",
       "      <td>False</td>\n",
       "      <td>False</td>\n",
       "      <td>False</td>\n",
       "    </tr>\n",
       "  </tbody>\n",
       "</table>\n",
       "</div>"
      ],
      "text/plain": [
       "       A      B      C\n",
       "0  False  False  False\n",
       "1  False  False  False\n",
       "2  False  False  False\n",
       "3   True  False  False\n",
       "4   True   True  False\n",
       "5  False   True   True\n",
       "6  False  False   True\n",
       "7  False  False   True\n",
       "8  False  False  False\n",
       "9  False  False  False"
      ]
     },
     "execution_count": 118,
     "metadata": {},
     "output_type": "execute_result"
    }
   ],
   "source": [
    "pandas.isnull(dff)"
   ]
  },
  {
   "cell_type": "code",
   "execution_count": 119,
   "metadata": {
    "ExecuteTime": {
     "start_time": "2020-03-20T10:18:52.417Z"
    },
    "scrolled": true
   },
   "outputs": [
    {
     "data": {
      "text/html": [
       "<div>\n",
       "<style scoped>\n",
       "    .dataframe tbody tr th:only-of-type {\n",
       "        vertical-align: middle;\n",
       "    }\n",
       "\n",
       "    .dataframe tbody tr th {\n",
       "        vertical-align: top;\n",
       "    }\n",
       "\n",
       "    .dataframe thead th {\n",
       "        text-align: right;\n",
       "    }\n",
       "</style>\n",
       "<table border=\"1\" class=\"dataframe\">\n",
       "  <thead>\n",
       "    <tr style=\"text-align: right;\">\n",
       "      <th></th>\n",
       "      <th>A</th>\n",
       "      <th>B</th>\n",
       "      <th>C</th>\n",
       "    </tr>\n",
       "  </thead>\n",
       "  <tbody>\n",
       "    <tr>\n",
       "      <th>0</th>\n",
       "      <td>False</td>\n",
       "      <td>False</td>\n",
       "      <td>False</td>\n",
       "    </tr>\n",
       "    <tr>\n",
       "      <th>1</th>\n",
       "      <td>False</td>\n",
       "      <td>False</td>\n",
       "      <td>False</td>\n",
       "    </tr>\n",
       "    <tr>\n",
       "      <th>2</th>\n",
       "      <td>False</td>\n",
       "      <td>False</td>\n",
       "      <td>False</td>\n",
       "    </tr>\n",
       "    <tr>\n",
       "      <th>3</th>\n",
       "      <td>True</td>\n",
       "      <td>False</td>\n",
       "      <td>False</td>\n",
       "    </tr>\n",
       "    <tr>\n",
       "      <th>4</th>\n",
       "      <td>True</td>\n",
       "      <td>True</td>\n",
       "      <td>False</td>\n",
       "    </tr>\n",
       "    <tr>\n",
       "      <th>5</th>\n",
       "      <td>False</td>\n",
       "      <td>True</td>\n",
       "      <td>True</td>\n",
       "    </tr>\n",
       "    <tr>\n",
       "      <th>6</th>\n",
       "      <td>False</td>\n",
       "      <td>False</td>\n",
       "      <td>True</td>\n",
       "    </tr>\n",
       "    <tr>\n",
       "      <th>7</th>\n",
       "      <td>False</td>\n",
       "      <td>False</td>\n",
       "      <td>True</td>\n",
       "    </tr>\n",
       "    <tr>\n",
       "      <th>8</th>\n",
       "      <td>False</td>\n",
       "      <td>False</td>\n",
       "      <td>False</td>\n",
       "    </tr>\n",
       "    <tr>\n",
       "      <th>9</th>\n",
       "      <td>False</td>\n",
       "      <td>False</td>\n",
       "      <td>False</td>\n",
       "    </tr>\n",
       "  </tbody>\n",
       "</table>\n",
       "</div>"
      ],
      "text/plain": [
       "       A      B      C\n",
       "0  False  False  False\n",
       "1  False  False  False\n",
       "2  False  False  False\n",
       "3   True  False  False\n",
       "4   True   True  False\n",
       "5  False   True   True\n",
       "6  False  False   True\n",
       "7  False  False   True\n",
       "8  False  False  False\n",
       "9  False  False  False"
      ]
     },
     "execution_count": 119,
     "metadata": {},
     "output_type": "execute_result"
    }
   ],
   "source": [
    "dff.isnull()"
   ]
  },
  {
   "cell_type": "code",
   "execution_count": 120,
   "metadata": {
    "ExecuteTime": {
     "start_time": "2020-03-20T10:18:52.426Z"
    }
   },
   "outputs": [
    {
     "data": {
      "text/plain": [
       "0    False\n",
       "1    False\n",
       "2    False\n",
       "3     True\n",
       "4     True\n",
       "5     True\n",
       "6     True\n",
       "7     True\n",
       "8    False\n",
       "9    False\n",
       "dtype: bool"
      ]
     },
     "execution_count": 120,
     "metadata": {},
     "output_type": "execute_result"
    }
   ],
   "source": [
    "# http://stackoverflow.com/questions/14247586/python-pandas-how-to-select-rows-with-one-or-more-nulls-from-a-dataframe-without\n",
    "dff.isnull().any(axis=1)"
   ]
  },
  {
   "cell_type": "code",
   "execution_count": 121,
   "metadata": {
    "ExecuteTime": {
     "start_time": "2020-03-20T10:18:52.435Z"
    }
   },
   "outputs": [
    {
     "data": {
      "text/plain": [
       "A    True\n",
       "B    True\n",
       "C    True\n",
       "dtype: bool"
      ]
     },
     "execution_count": 121,
     "metadata": {},
     "output_type": "execute_result"
    }
   ],
   "source": [
    "dff.isnull().any(axis=0)"
   ]
  },
  {
   "cell_type": "markdown",
   "metadata": {},
   "source": [
    "### Count nulls\n",
    "\n",
    "http://stackoverflow.com/questions/29971075/count-number-of-non-nan-entries-in-every-column-of-dataframe\n",
    "\n",
    "Count not-Nulls:\n",
    "http://pandas.pydata.org/pandas-docs/stable/generated/pandas.DataFrame.count.html\n",
    "\n",
    "Count Nulls:\n",
    "http://stackoverflow.com/questions/30059260/python-pandas-counting-the-number-of-nan-in-each-row"
   ]
  },
  {
   "cell_type": "code",
   "execution_count": 122,
   "metadata": {
    "ExecuteTime": {
     "start_time": "2020-03-20T10:18:52.445Z"
    }
   },
   "outputs": [
    {
     "data": {
      "text/html": [
       "<div>\n",
       "<style scoped>\n",
       "    .dataframe tbody tr th:only-of-type {\n",
       "        vertical-align: middle;\n",
       "    }\n",
       "\n",
       "    .dataframe tbody tr th {\n",
       "        vertical-align: top;\n",
       "    }\n",
       "\n",
       "    .dataframe thead th {\n",
       "        text-align: right;\n",
       "    }\n",
       "</style>\n",
       "<table border=\"1\" class=\"dataframe\">\n",
       "  <thead>\n",
       "    <tr style=\"text-align: right;\">\n",
       "      <th></th>\n",
       "      <th>A</th>\n",
       "      <th>B</th>\n",
       "      <th>C</th>\n",
       "    </tr>\n",
       "  </thead>\n",
       "  <tbody>\n",
       "    <tr>\n",
       "      <th>0</th>\n",
       "      <td>-1.421552</td>\n",
       "      <td>-0.252070</td>\n",
       "      <td>-0.061940</td>\n",
       "    </tr>\n",
       "    <tr>\n",
       "      <th>1</th>\n",
       "      <td>-0.100569</td>\n",
       "      <td>0.944141</td>\n",
       "      <td>-0.622212</td>\n",
       "    </tr>\n",
       "    <tr>\n",
       "      <th>2</th>\n",
       "      <td>1.625183</td>\n",
       "      <td>-1.152647</td>\n",
       "      <td>0.572937</td>\n",
       "    </tr>\n",
       "    <tr>\n",
       "      <th>3</th>\n",
       "      <td>NaN</td>\n",
       "      <td>-1.249505</td>\n",
       "      <td>-0.153468</td>\n",
       "    </tr>\n",
       "    <tr>\n",
       "      <th>4</th>\n",
       "      <td>NaN</td>\n",
       "      <td>NaN</td>\n",
       "      <td>-0.345275</td>\n",
       "    </tr>\n",
       "    <tr>\n",
       "      <th>5</th>\n",
       "      <td>-0.463313</td>\n",
       "      <td>NaN</td>\n",
       "      <td>NaN</td>\n",
       "    </tr>\n",
       "    <tr>\n",
       "      <th>6</th>\n",
       "      <td>0.044233</td>\n",
       "      <td>-1.042456</td>\n",
       "      <td>NaN</td>\n",
       "    </tr>\n",
       "    <tr>\n",
       "      <th>7</th>\n",
       "      <td>-0.194189</td>\n",
       "      <td>0.796054</td>\n",
       "      <td>NaN</td>\n",
       "    </tr>\n",
       "    <tr>\n",
       "      <th>8</th>\n",
       "      <td>1.477986</td>\n",
       "      <td>-0.219382</td>\n",
       "      <td>-0.228109</td>\n",
       "    </tr>\n",
       "    <tr>\n",
       "      <th>9</th>\n",
       "      <td>-1.295837</td>\n",
       "      <td>0.497312</td>\n",
       "      <td>0.258086</td>\n",
       "    </tr>\n",
       "  </tbody>\n",
       "</table>\n",
       "</div>"
      ],
      "text/plain": [
       "          A         B         C\n",
       "0 -1.421552 -0.252070 -0.061940\n",
       "1 -0.100569  0.944141 -0.622212\n",
       "2  1.625183 -1.152647  0.572937\n",
       "3       NaN -1.249505 -0.153468\n",
       "4       NaN       NaN -0.345275\n",
       "5 -0.463313       NaN       NaN\n",
       "6  0.044233 -1.042456       NaN\n",
       "7 -0.194189  0.796054       NaN\n",
       "8  1.477986 -0.219382 -0.228109\n",
       "9 -1.295837  0.497312  0.258086"
      ]
     },
     "execution_count": 122,
     "metadata": {},
     "output_type": "execute_result"
    }
   ],
   "source": [
    "dff"
   ]
  },
  {
   "cell_type": "code",
   "execution_count": 123,
   "metadata": {
    "ExecuteTime": {
     "start_time": "2020-03-20T10:18:52.453Z"
    }
   },
   "outputs": [
    {
     "data": {
      "text/plain": [
       "A    8\n",
       "B    8\n",
       "C    7\n",
       "dtype: int64"
      ]
     },
     "execution_count": 123,
     "metadata": {},
     "output_type": "execute_result"
    }
   ],
   "source": [
    "# Count not-Nulls by column\n",
    "dff.count(axis=0)"
   ]
  },
  {
   "cell_type": "code",
   "execution_count": 124,
   "metadata": {
    "ExecuteTime": {
     "start_time": "2020-03-20T10:18:52.462Z"
    }
   },
   "outputs": [
    {
     "data": {
      "text/plain": [
       "0    3\n",
       "1    3\n",
       "2    3\n",
       "3    2\n",
       "4    1\n",
       "5    1\n",
       "6    2\n",
       "7    2\n",
       "8    3\n",
       "9    3\n",
       "dtype: int64"
      ]
     },
     "execution_count": 124,
     "metadata": {},
     "output_type": "execute_result"
    }
   ],
   "source": [
    "# Count not-Nulls by row\n",
    "dff.count(axis=1)"
   ]
  },
  {
   "cell_type": "code",
   "execution_count": 125,
   "metadata": {
    "ExecuteTime": {
     "start_time": "2020-03-20T10:18:52.469Z"
    }
   },
   "outputs": [
    {
     "data": {
      "text/plain": [
       "A    2\n",
       "B    2\n",
       "C    3\n",
       "dtype: int64"
      ]
     },
     "execution_count": 125,
     "metadata": {},
     "output_type": "execute_result"
    }
   ],
   "source": [
    "# http://stackoverflow.com/questions/30059260/python-pandas-counting-the-number-of-nan-in-each-row\n",
    "# Count Nulls\n",
    "dff.isnull().sum()"
   ]
  },
  {
   "cell_type": "markdown",
   "metadata": {},
   "source": [
    "### Rows with NaN in any column\n",
    "\n",
    "http://stackoverflow.com/questions/14247586/python-pandas-how-to-select-rows-with-one-or-more-nulls-from-a-dataframe-without"
   ]
  },
  {
   "cell_type": "code",
   "execution_count": 126,
   "metadata": {
    "ExecuteTime": {
     "start_time": "2020-03-20T10:18:52.482Z"
    }
   },
   "outputs": [
    {
     "data": {
      "text/html": [
       "<div>\n",
       "<style scoped>\n",
       "    .dataframe tbody tr th:only-of-type {\n",
       "        vertical-align: middle;\n",
       "    }\n",
       "\n",
       "    .dataframe tbody tr th {\n",
       "        vertical-align: top;\n",
       "    }\n",
       "\n",
       "    .dataframe thead th {\n",
       "        text-align: right;\n",
       "    }\n",
       "</style>\n",
       "<table border=\"1\" class=\"dataframe\">\n",
       "  <thead>\n",
       "    <tr style=\"text-align: right;\">\n",
       "      <th></th>\n",
       "      <th>A</th>\n",
       "      <th>B</th>\n",
       "      <th>C</th>\n",
       "    </tr>\n",
       "  </thead>\n",
       "  <tbody>\n",
       "    <tr>\n",
       "      <th>3</th>\n",
       "      <td>NaN</td>\n",
       "      <td>-1.249505</td>\n",
       "      <td>-0.153468</td>\n",
       "    </tr>\n",
       "    <tr>\n",
       "      <th>4</th>\n",
       "      <td>NaN</td>\n",
       "      <td>NaN</td>\n",
       "      <td>-0.345275</td>\n",
       "    </tr>\n",
       "    <tr>\n",
       "      <th>5</th>\n",
       "      <td>-0.463313</td>\n",
       "      <td>NaN</td>\n",
       "      <td>NaN</td>\n",
       "    </tr>\n",
       "    <tr>\n",
       "      <th>6</th>\n",
       "      <td>0.044233</td>\n",
       "      <td>-1.042456</td>\n",
       "      <td>NaN</td>\n",
       "    </tr>\n",
       "    <tr>\n",
       "      <th>7</th>\n",
       "      <td>-0.194189</td>\n",
       "      <td>0.796054</td>\n",
       "      <td>NaN</td>\n",
       "    </tr>\n",
       "  </tbody>\n",
       "</table>\n",
       "</div>"
      ],
      "text/plain": [
       "          A         B         C\n",
       "3       NaN -1.249505 -0.153468\n",
       "4       NaN       NaN -0.345275\n",
       "5 -0.463313       NaN       NaN\n",
       "6  0.044233 -1.042456       NaN\n",
       "7 -0.194189  0.796054       NaN"
      ]
     },
     "execution_count": 126,
     "metadata": {},
     "output_type": "execute_result"
    }
   ],
   "source": [
    "dff[ dff.isnull().any(axis=1) ]"
   ]
  },
  {
   "cell_type": "markdown",
   "metadata": {},
   "source": [
    "### Fillna gaps\n",
    "\n",
    "http://pandas.pydata.org/pandas-docs/stable/missing_data.html#filling-with-a-pandasobject"
   ]
  },
  {
   "cell_type": "code",
   "execution_count": 127,
   "metadata": {
    "ExecuteTime": {
     "start_time": "2020-03-20T10:18:52.493Z"
    },
    "init_cell": true
   },
   "outputs": [
    {
     "data": {
      "text/html": [
       "<div>\n",
       "<style scoped>\n",
       "    .dataframe tbody tr th:only-of-type {\n",
       "        vertical-align: middle;\n",
       "    }\n",
       "\n",
       "    .dataframe tbody tr th {\n",
       "        vertical-align: top;\n",
       "    }\n",
       "\n",
       "    .dataframe thead th {\n",
       "        text-align: right;\n",
       "    }\n",
       "</style>\n",
       "<table border=\"1\" class=\"dataframe\">\n",
       "  <thead>\n",
       "    <tr style=\"text-align: right;\">\n",
       "      <th></th>\n",
       "      <th>A</th>\n",
       "      <th>B</th>\n",
       "      <th>C</th>\n",
       "    </tr>\n",
       "  </thead>\n",
       "  <tbody>\n",
       "    <tr>\n",
       "      <th>0</th>\n",
       "      <td>-0.425790</td>\n",
       "      <td>-0.119797</td>\n",
       "      <td>-0.635973</td>\n",
       "    </tr>\n",
       "    <tr>\n",
       "      <th>1</th>\n",
       "      <td>0.534413</td>\n",
       "      <td>-0.643220</td>\n",
       "      <td>-2.213205</td>\n",
       "    </tr>\n",
       "    <tr>\n",
       "      <th>2</th>\n",
       "      <td>0.196834</td>\n",
       "      <td>-1.899989</td>\n",
       "      <td>-1.092823</td>\n",
       "    </tr>\n",
       "    <tr>\n",
       "      <th>3</th>\n",
       "      <td>NaN</td>\n",
       "      <td>-0.098760</td>\n",
       "      <td>0.445538</td>\n",
       "    </tr>\n",
       "    <tr>\n",
       "      <th>4</th>\n",
       "      <td>NaN</td>\n",
       "      <td>NaN</td>\n",
       "      <td>-1.172993</td>\n",
       "    </tr>\n",
       "    <tr>\n",
       "      <th>5</th>\n",
       "      <td>0.059875</td>\n",
       "      <td>NaN</td>\n",
       "      <td>NaN</td>\n",
       "    </tr>\n",
       "    <tr>\n",
       "      <th>6</th>\n",
       "      <td>-0.755916</td>\n",
       "      <td>-1.020486</td>\n",
       "      <td>NaN</td>\n",
       "    </tr>\n",
       "    <tr>\n",
       "      <th>7</th>\n",
       "      <td>-0.460132</td>\n",
       "      <td>0.731846</td>\n",
       "      <td>NaN</td>\n",
       "    </tr>\n",
       "    <tr>\n",
       "      <th>8</th>\n",
       "      <td>1.505374</td>\n",
       "      <td>1.195343</td>\n",
       "      <td>0.487398</td>\n",
       "    </tr>\n",
       "    <tr>\n",
       "      <th>9</th>\n",
       "      <td>0.578877</td>\n",
       "      <td>-1.187527</td>\n",
       "      <td>-0.172081</td>\n",
       "    </tr>\n",
       "  </tbody>\n",
       "</table>\n",
       "</div>"
      ],
      "text/plain": [
       "          A         B         C\n",
       "0 -0.425790 -0.119797 -0.635973\n",
       "1  0.534413 -0.643220 -2.213205\n",
       "2  0.196834 -1.899989 -1.092823\n",
       "3       NaN -0.098760  0.445538\n",
       "4       NaN       NaN -1.172993\n",
       "5  0.059875       NaN       NaN\n",
       "6 -0.755916 -1.020486       NaN\n",
       "7 -0.460132  0.731846       NaN\n",
       "8  1.505374  1.195343  0.487398\n",
       "9  0.578877 -1.187527 -0.172081"
      ]
     },
     "execution_count": 127,
     "metadata": {},
     "output_type": "execute_result"
    }
   ],
   "source": [
    "dff = DataFrame(numpy.random.randn(10,3), columns=list('ABC'))\n",
    "dff.iloc[3:5,0] = numpy.nan\n",
    "dff.iloc[4:6,1] = numpy.nan\n",
    "dff.iloc[5:8,2] = numpy.nan\n",
    "dff"
   ]
  },
  {
   "cell_type": "code",
   "execution_count": 128,
   "metadata": {
    "ExecuteTime": {
     "start_time": "2020-03-20T10:18:52.501Z"
    },
    "scrolled": true
   },
   "outputs": [
    {
     "data": {
      "text/plain": [
       "A    0.154192\n",
       "B   -0.380324\n",
       "C   -0.622020\n",
       "dtype: float64"
      ]
     },
     "execution_count": 128,
     "metadata": {},
     "output_type": "execute_result"
    }
   ],
   "source": [
    "dff.mean()"
   ]
  },
  {
   "cell_type": "code",
   "execution_count": 129,
   "metadata": {
    "ExecuteTime": {
     "start_time": "2020-03-20T10:18:52.509Z"
    },
    "scrolled": true
   },
   "outputs": [
    {
     "data": {
      "text/html": [
       "<div>\n",
       "<style scoped>\n",
       "    .dataframe tbody tr th:only-of-type {\n",
       "        vertical-align: middle;\n",
       "    }\n",
       "\n",
       "    .dataframe tbody tr th {\n",
       "        vertical-align: top;\n",
       "    }\n",
       "\n",
       "    .dataframe thead th {\n",
       "        text-align: right;\n",
       "    }\n",
       "</style>\n",
       "<table border=\"1\" class=\"dataframe\">\n",
       "  <thead>\n",
       "    <tr style=\"text-align: right;\">\n",
       "      <th></th>\n",
       "      <th>A</th>\n",
       "      <th>B</th>\n",
       "      <th>C</th>\n",
       "    </tr>\n",
       "  </thead>\n",
       "  <tbody>\n",
       "    <tr>\n",
       "      <th>0</th>\n",
       "      <td>-0.425790</td>\n",
       "      <td>-0.119797</td>\n",
       "      <td>-0.635973</td>\n",
       "    </tr>\n",
       "    <tr>\n",
       "      <th>1</th>\n",
       "      <td>0.534413</td>\n",
       "      <td>-0.643220</td>\n",
       "      <td>-2.213205</td>\n",
       "    </tr>\n",
       "    <tr>\n",
       "      <th>2</th>\n",
       "      <td>0.196834</td>\n",
       "      <td>-1.899989</td>\n",
       "      <td>-1.092823</td>\n",
       "    </tr>\n",
       "    <tr>\n",
       "      <th>3</th>\n",
       "      <td>0.154192</td>\n",
       "      <td>-0.098760</td>\n",
       "      <td>0.445538</td>\n",
       "    </tr>\n",
       "    <tr>\n",
       "      <th>4</th>\n",
       "      <td>0.154192</td>\n",
       "      <td>-0.380324</td>\n",
       "      <td>-1.172993</td>\n",
       "    </tr>\n",
       "    <tr>\n",
       "      <th>5</th>\n",
       "      <td>0.059875</td>\n",
       "      <td>-0.380324</td>\n",
       "      <td>-0.622020</td>\n",
       "    </tr>\n",
       "    <tr>\n",
       "      <th>6</th>\n",
       "      <td>-0.755916</td>\n",
       "      <td>-1.020486</td>\n",
       "      <td>-0.622020</td>\n",
       "    </tr>\n",
       "    <tr>\n",
       "      <th>7</th>\n",
       "      <td>-0.460132</td>\n",
       "      <td>0.731846</td>\n",
       "      <td>-0.622020</td>\n",
       "    </tr>\n",
       "    <tr>\n",
       "      <th>8</th>\n",
       "      <td>1.505374</td>\n",
       "      <td>1.195343</td>\n",
       "      <td>0.487398</td>\n",
       "    </tr>\n",
       "    <tr>\n",
       "      <th>9</th>\n",
       "      <td>0.578877</td>\n",
       "      <td>-1.187527</td>\n",
       "      <td>-0.172081</td>\n",
       "    </tr>\n",
       "  </tbody>\n",
       "</table>\n",
       "</div>"
      ],
      "text/plain": [
       "          A         B         C\n",
       "0 -0.425790 -0.119797 -0.635973\n",
       "1  0.534413 -0.643220 -2.213205\n",
       "2  0.196834 -1.899989 -1.092823\n",
       "3  0.154192 -0.098760  0.445538\n",
       "4  0.154192 -0.380324 -1.172993\n",
       "5  0.059875 -0.380324 -0.622020\n",
       "6 -0.755916 -1.020486 -0.622020\n",
       "7 -0.460132  0.731846 -0.622020\n",
       "8  1.505374  1.195343  0.487398\n",
       "9  0.578877 -1.187527 -0.172081"
      ]
     },
     "execution_count": 129,
     "metadata": {},
     "output_type": "execute_result"
    }
   ],
   "source": [
    "dff.fillna(dff.mean())"
   ]
  },
  {
   "cell_type": "code",
   "execution_count": 130,
   "metadata": {
    "ExecuteTime": {
     "start_time": "2020-03-20T10:18:52.516Z"
    },
    "scrolled": true
   },
   "outputs": [
    {
     "data": {
      "text/html": [
       "<div>\n",
       "<style scoped>\n",
       "    .dataframe tbody tr th:only-of-type {\n",
       "        vertical-align: middle;\n",
       "    }\n",
       "\n",
       "    .dataframe tbody tr th {\n",
       "        vertical-align: top;\n",
       "    }\n",
       "\n",
       "    .dataframe thead th {\n",
       "        text-align: right;\n",
       "    }\n",
       "</style>\n",
       "<table border=\"1\" class=\"dataframe\">\n",
       "  <thead>\n",
       "    <tr style=\"text-align: right;\">\n",
       "      <th></th>\n",
       "      <th>A</th>\n",
       "      <th>B</th>\n",
       "      <th>C</th>\n",
       "    </tr>\n",
       "  </thead>\n",
       "  <tbody>\n",
       "    <tr>\n",
       "      <th>0</th>\n",
       "      <td>-0.425790</td>\n",
       "      <td>-0.119797</td>\n",
       "      <td>-0.635973</td>\n",
       "    </tr>\n",
       "    <tr>\n",
       "      <th>1</th>\n",
       "      <td>0.534413</td>\n",
       "      <td>-0.643220</td>\n",
       "      <td>-2.213205</td>\n",
       "    </tr>\n",
       "    <tr>\n",
       "      <th>2</th>\n",
       "      <td>0.196834</td>\n",
       "      <td>-1.899989</td>\n",
       "      <td>-1.092823</td>\n",
       "    </tr>\n",
       "    <tr>\n",
       "      <th>3</th>\n",
       "      <td>NaN</td>\n",
       "      <td>-0.098760</td>\n",
       "      <td>0.445538</td>\n",
       "    </tr>\n",
       "    <tr>\n",
       "      <th>4</th>\n",
       "      <td>NaN</td>\n",
       "      <td>-0.380324</td>\n",
       "      <td>-1.172993</td>\n",
       "    </tr>\n",
       "    <tr>\n",
       "      <th>5</th>\n",
       "      <td>0.059875</td>\n",
       "      <td>-0.380324</td>\n",
       "      <td>-0.622020</td>\n",
       "    </tr>\n",
       "    <tr>\n",
       "      <th>6</th>\n",
       "      <td>-0.755916</td>\n",
       "      <td>-1.020486</td>\n",
       "      <td>-0.622020</td>\n",
       "    </tr>\n",
       "    <tr>\n",
       "      <th>7</th>\n",
       "      <td>-0.460132</td>\n",
       "      <td>0.731846</td>\n",
       "      <td>-0.622020</td>\n",
       "    </tr>\n",
       "    <tr>\n",
       "      <th>8</th>\n",
       "      <td>1.505374</td>\n",
       "      <td>1.195343</td>\n",
       "      <td>0.487398</td>\n",
       "    </tr>\n",
       "    <tr>\n",
       "      <th>9</th>\n",
       "      <td>0.578877</td>\n",
       "      <td>-1.187527</td>\n",
       "      <td>-0.172081</td>\n",
       "    </tr>\n",
       "  </tbody>\n",
       "</table>\n",
       "</div>"
      ],
      "text/plain": [
       "          A         B         C\n",
       "0 -0.425790 -0.119797 -0.635973\n",
       "1  0.534413 -0.643220 -2.213205\n",
       "2  0.196834 -1.899989 -1.092823\n",
       "3       NaN -0.098760  0.445538\n",
       "4       NaN -0.380324 -1.172993\n",
       "5  0.059875 -0.380324 -0.622020\n",
       "6 -0.755916 -1.020486 -0.622020\n",
       "7 -0.460132  0.731846 -0.622020\n",
       "8  1.505374  1.195343  0.487398\n",
       "9  0.578877 -1.187527 -0.172081"
      ]
     },
     "execution_count": 130,
     "metadata": {},
     "output_type": "execute_result"
    }
   ],
   "source": [
    "dff.fillna(dff.mean()['B':'C'])"
   ]
  },
  {
   "cell_type": "markdown",
   "metadata": {},
   "source": [
    "#### Interpolate\n",
    "http://pandas.pydata.org/pandas-docs/stable/missing_data.html#interpolation"
   ]
  },
  {
   "cell_type": "code",
   "execution_count": 131,
   "metadata": {
    "ExecuteTime": {
     "start_time": "2020-03-20T10:18:52.528Z"
    }
   },
   "outputs": [
    {
     "data": {
      "text/html": [
       "<div>\n",
       "<style scoped>\n",
       "    .dataframe tbody tr th:only-of-type {\n",
       "        vertical-align: middle;\n",
       "    }\n",
       "\n",
       "    .dataframe tbody tr th {\n",
       "        vertical-align: top;\n",
       "    }\n",
       "\n",
       "    .dataframe thead th {\n",
       "        text-align: right;\n",
       "    }\n",
       "</style>\n",
       "<table border=\"1\" class=\"dataframe\">\n",
       "  <thead>\n",
       "    <tr style=\"text-align: right;\">\n",
       "      <th></th>\n",
       "      <th>A</th>\n",
       "      <th>B</th>\n",
       "      <th>C</th>\n",
       "    </tr>\n",
       "  </thead>\n",
       "  <tbody>\n",
       "    <tr>\n",
       "      <th>0</th>\n",
       "      <td>-0.425790</td>\n",
       "      <td>-0.119797</td>\n",
       "      <td>-0.635973</td>\n",
       "    </tr>\n",
       "    <tr>\n",
       "      <th>1</th>\n",
       "      <td>0.534413</td>\n",
       "      <td>-0.643220</td>\n",
       "      <td>-2.213205</td>\n",
       "    </tr>\n",
       "    <tr>\n",
       "      <th>2</th>\n",
       "      <td>0.196834</td>\n",
       "      <td>-1.899989</td>\n",
       "      <td>-1.092823</td>\n",
       "    </tr>\n",
       "    <tr>\n",
       "      <th>3</th>\n",
       "      <td>NaN</td>\n",
       "      <td>-0.098760</td>\n",
       "      <td>0.445538</td>\n",
       "    </tr>\n",
       "    <tr>\n",
       "      <th>4</th>\n",
       "      <td>NaN</td>\n",
       "      <td>NaN</td>\n",
       "      <td>-1.172993</td>\n",
       "    </tr>\n",
       "    <tr>\n",
       "      <th>5</th>\n",
       "      <td>0.059875</td>\n",
       "      <td>NaN</td>\n",
       "      <td>NaN</td>\n",
       "    </tr>\n",
       "    <tr>\n",
       "      <th>6</th>\n",
       "      <td>-0.755916</td>\n",
       "      <td>-1.020486</td>\n",
       "      <td>NaN</td>\n",
       "    </tr>\n",
       "    <tr>\n",
       "      <th>7</th>\n",
       "      <td>-0.460132</td>\n",
       "      <td>0.731846</td>\n",
       "      <td>NaN</td>\n",
       "    </tr>\n",
       "    <tr>\n",
       "      <th>8</th>\n",
       "      <td>1.505374</td>\n",
       "      <td>1.195343</td>\n",
       "      <td>0.487398</td>\n",
       "    </tr>\n",
       "    <tr>\n",
       "      <th>9</th>\n",
       "      <td>0.578877</td>\n",
       "      <td>-1.187527</td>\n",
       "      <td>-0.172081</td>\n",
       "    </tr>\n",
       "  </tbody>\n",
       "</table>\n",
       "</div>"
      ],
      "text/plain": [
       "          A         B         C\n",
       "0 -0.425790 -0.119797 -0.635973\n",
       "1  0.534413 -0.643220 -2.213205\n",
       "2  0.196834 -1.899989 -1.092823\n",
       "3       NaN -0.098760  0.445538\n",
       "4       NaN       NaN -1.172993\n",
       "5  0.059875       NaN       NaN\n",
       "6 -0.755916 -1.020486       NaN\n",
       "7 -0.460132  0.731846       NaN\n",
       "8  1.505374  1.195343  0.487398\n",
       "9  0.578877 -1.187527 -0.172081"
      ]
     },
     "execution_count": 131,
     "metadata": {},
     "output_type": "execute_result"
    }
   ],
   "source": [
    "dff"
   ]
  },
  {
   "cell_type": "code",
   "execution_count": 132,
   "metadata": {
    "ExecuteTime": {
     "start_time": "2020-03-20T10:18:52.536Z"
    }
   },
   "outputs": [
    {
     "data": {
      "text/html": [
       "<div>\n",
       "<style scoped>\n",
       "    .dataframe tbody tr th:only-of-type {\n",
       "        vertical-align: middle;\n",
       "    }\n",
       "\n",
       "    .dataframe tbody tr th {\n",
       "        vertical-align: top;\n",
       "    }\n",
       "\n",
       "    .dataframe thead th {\n",
       "        text-align: right;\n",
       "    }\n",
       "</style>\n",
       "<table border=\"1\" class=\"dataframe\">\n",
       "  <thead>\n",
       "    <tr style=\"text-align: right;\">\n",
       "      <th></th>\n",
       "      <th>A</th>\n",
       "      <th>B</th>\n",
       "      <th>C</th>\n",
       "    </tr>\n",
       "  </thead>\n",
       "  <tbody>\n",
       "    <tr>\n",
       "      <th>0</th>\n",
       "      <td>-0.425790</td>\n",
       "      <td>-0.119797</td>\n",
       "      <td>-0.635973</td>\n",
       "    </tr>\n",
       "    <tr>\n",
       "      <th>1</th>\n",
       "      <td>0.534413</td>\n",
       "      <td>-0.643220</td>\n",
       "      <td>-2.213205</td>\n",
       "    </tr>\n",
       "    <tr>\n",
       "      <th>2</th>\n",
       "      <td>0.196834</td>\n",
       "      <td>-1.899989</td>\n",
       "      <td>-1.092823</td>\n",
       "    </tr>\n",
       "    <tr>\n",
       "      <th>3</th>\n",
       "      <td>0.151181</td>\n",
       "      <td>-0.098760</td>\n",
       "      <td>0.445538</td>\n",
       "    </tr>\n",
       "    <tr>\n",
       "      <th>4</th>\n",
       "      <td>0.105528</td>\n",
       "      <td>-0.406002</td>\n",
       "      <td>-1.172993</td>\n",
       "    </tr>\n",
       "    <tr>\n",
       "      <th>5</th>\n",
       "      <td>0.059875</td>\n",
       "      <td>-0.713244</td>\n",
       "      <td>-0.757896</td>\n",
       "    </tr>\n",
       "    <tr>\n",
       "      <th>6</th>\n",
       "      <td>-0.755916</td>\n",
       "      <td>-1.020486</td>\n",
       "      <td>-0.342798</td>\n",
       "    </tr>\n",
       "    <tr>\n",
       "      <th>7</th>\n",
       "      <td>-0.460132</td>\n",
       "      <td>0.731846</td>\n",
       "      <td>0.072300</td>\n",
       "    </tr>\n",
       "    <tr>\n",
       "      <th>8</th>\n",
       "      <td>1.505374</td>\n",
       "      <td>1.195343</td>\n",
       "      <td>0.487398</td>\n",
       "    </tr>\n",
       "    <tr>\n",
       "      <th>9</th>\n",
       "      <td>0.578877</td>\n",
       "      <td>-1.187527</td>\n",
       "      <td>-0.172081</td>\n",
       "    </tr>\n",
       "  </tbody>\n",
       "</table>\n",
       "</div>"
      ],
      "text/plain": [
       "          A         B         C\n",
       "0 -0.425790 -0.119797 -0.635973\n",
       "1  0.534413 -0.643220 -2.213205\n",
       "2  0.196834 -1.899989 -1.092823\n",
       "3  0.151181 -0.098760  0.445538\n",
       "4  0.105528 -0.406002 -1.172993\n",
       "5  0.059875 -0.713244 -0.757896\n",
       "6 -0.755916 -1.020486 -0.342798\n",
       "7 -0.460132  0.731846  0.072300\n",
       "8  1.505374  1.195343  0.487398\n",
       "9  0.578877 -1.187527 -0.172081"
      ]
     },
     "execution_count": 132,
     "metadata": {},
     "output_type": "execute_result"
    }
   ],
   "source": [
    "dff.interpolate()"
   ]
  },
  {
   "cell_type": "code",
   "execution_count": 133,
   "metadata": {
    "ExecuteTime": {
     "start_time": "2020-03-20T10:18:52.546Z"
    },
    "scrolled": true
   },
   "outputs": [
    {
     "data": {
      "text/plain": [
       "<AxesSubplot:title={'center':\"method='quadratic'\"}>"
      ]
     },
     "execution_count": 133,
     "metadata": {},
     "output_type": "execute_result"
    },
    {
     "data": {
      "image/png": "[encoded data removed]",
      "text/plain": [
       "<Figure size 432x288 with 1 Axes>"
      ]
     },
     "metadata": {
      "needs_background": "light"
     },
     "output_type": "display_data"
    },
    {
     "data": {
      "image/png": "[encoded data removed]",
      "text/plain": [
       "<Figure size 432x288 with 1 Axes>"
      ]
     },
     "metadata": {
      "needs_background": "light"
     },
     "output_type": "display_data"
    },
    {
     "data": {
      "image/png": "[encoded data removed]",
      "text/plain": [
       "<Figure size 432x288 with 1 Axes>"
      ]
     },
     "metadata": {
      "needs_background": "light"
     },
     "output_type": "display_data"
    }
   ],
   "source": [
    "#%matplotlib notebook\n",
    "%matplotlib inline\n",
    "dff.plot(title=\"Original data\")\n",
    "dff.interpolate().plot(title=\"Base interpolate (values?)\")\n",
    "dff.interpolate(method='quadratic').plot(title=\"method='quadratic'\")"
   ]
  },
  {
   "cell_type": "code",
   "execution_count": 134,
   "metadata": {
    "ExecuteTime": {
     "start_time": "2020-03-20T10:18:52.553Z"
    }
   },
   "outputs": [
    {
     "data": {
      "text/plain": [
       "<AxesSubplot:title={'center':'Original data'}>"
      ]
     },
     "execution_count": 134,
     "metadata": {},
     "output_type": "execute_result"
    },
    {
     "data": {
      "image/png": "[encoded data removed]",
      "text/plain": [
       "<Figure size 432x288 with 1 Axes>"
      ]
     },
     "metadata": {
      "needs_background": "light"
     },
     "output_type": "display_data"
    }
   ],
   "source": [
    "dff.plot(title=\"Original data\")"
   ]
  },
  {
   "cell_type": "code",
   "execution_count": 135,
   "metadata": {
    "ExecuteTime": {
     "start_time": "2020-03-20T10:18:52.561Z"
    }
   },
   "outputs": [
    {
     "name": "stdout",
     "output_type": "stream",
     "text": [
      "linear\n",
      "index\n",
      "values\n",
      "nearest\n",
      "zero\n",
      "slinear\n",
      "quadratic\n",
      "cubic\n",
      "barycentric\n",
      "krogh\n",
      "pchip\n",
      "polynomial 1\n",
      "polynomial 2\n",
      "polynomial 3\n",
      "polynomial 4\n"
     ]
    },
    {
     "ename": "ValueError",
     "evalue": "Odd degree for now only. Got 4.",
     "output_type": "error",
     "traceback": [
      "\u001b[0;31m---------------------------------------------------------------------------\u001b[0m",
      "\u001b[0;31mValueError\u001b[0m                                Traceback (most recent call last)",
      "Input \u001b[0;32mIn [135]\u001b[0m, in \u001b[0;36m<cell line: 8>\u001b[0;34m()\u001b[0m\n\u001b[1;32m      9\u001b[0m \u001b[38;5;28;01mfor\u001b[39;00m order \u001b[38;5;129;01min\u001b[39;00m \u001b[38;5;28mrange\u001b[39m(\u001b[38;5;241m1\u001b[39m, \u001b[38;5;241m5\u001b[39m):\n\u001b[1;32m     10\u001b[0m     \u001b[38;5;28mprint\u001b[39m (method, order)\n\u001b[0;32m---> 11\u001b[0m     \u001b[43mdff\u001b[49m\u001b[38;5;241;43m.\u001b[39;49m\u001b[43minterpolate\u001b[49m\u001b[43m(\u001b[49m\u001b[43mmethod\u001b[49m\u001b[38;5;241;43m=\u001b[39;49m\u001b[43mmethod\u001b[49m\u001b[43m,\u001b[49m\u001b[43m \u001b[49m\u001b[43morder\u001b[49m\u001b[38;5;241;43m=\u001b[39;49m\u001b[43morder\u001b[49m\u001b[43m)\u001b[49m\u001b[38;5;241m.\u001b[39mplot(title\u001b[38;5;241m=\u001b[39m\u001b[38;5;124m\"\u001b[39m\u001b[38;5;124mmethod=\u001b[39m\u001b[38;5;124m'\u001b[39m\u001b[38;5;132;01m{}\u001b[39;00m\u001b[38;5;124m'\u001b[39m\u001b[38;5;124m, order=\u001b[39m\u001b[38;5;132;01m{}\u001b[39;00m\u001b[38;5;124m\"\u001b[39m\u001b[38;5;241m.\u001b[39mformat(method, order))\n",
      "File \u001b[0;32m/opt/conda/lib/python3.10/site-packages/pandas/util/_decorators.py:311\u001b[0m, in \u001b[0;36mdeprecate_nonkeyword_arguments.<locals>.decorate.<locals>.wrapper\u001b[0;34m(*args, **kwargs)\u001b[0m\n\u001b[1;32m    305\u001b[0m \u001b[38;5;28;01mif\u001b[39;00m \u001b[38;5;28mlen\u001b[39m(args) \u001b[38;5;241m>\u001b[39m num_allow_args:\n\u001b[1;32m    306\u001b[0m     warnings\u001b[38;5;241m.\u001b[39mwarn(\n\u001b[1;32m    307\u001b[0m         msg\u001b[38;5;241m.\u001b[39mformat(arguments\u001b[38;5;241m=\u001b[39marguments),\n\u001b[1;32m    308\u001b[0m         \u001b[38;5;167;01mFutureWarning\u001b[39;00m,\n\u001b[1;32m    309\u001b[0m         stacklevel\u001b[38;5;241m=\u001b[39mstacklevel,\n\u001b[1;32m    310\u001b[0m     )\n\u001b[0;32m--> 311\u001b[0m \u001b[38;5;28;01mreturn\u001b[39;00m \u001b[43mfunc\u001b[49m\u001b[43m(\u001b[49m\u001b[38;5;241;43m*\u001b[39;49m\u001b[43margs\u001b[49m\u001b[43m,\u001b[49m\u001b[43m \u001b[49m\u001b[38;5;241;43m*\u001b[39;49m\u001b[38;5;241;43m*\u001b[39;49m\u001b[43mkwargs\u001b[49m\u001b[43m)\u001b[49m\n",
      "File \u001b[0;32m/opt/conda/lib/python3.10/site-packages/pandas/core/frame.py:10937\u001b[0m, in \u001b[0;36mDataFrame.interpolate\u001b[0;34m(self, method, axis, limit, inplace, limit_direction, limit_area, downcast, **kwargs)\u001b[0m\n\u001b[1;32m  10925\u001b[0m \u001b[38;5;129m@deprecate_nonkeyword_arguments\u001b[39m(version\u001b[38;5;241m=\u001b[39m\u001b[38;5;28;01mNone\u001b[39;00m, allowed_args\u001b[38;5;241m=\u001b[39m[\u001b[38;5;124m\"\u001b[39m\u001b[38;5;124mself\u001b[39m\u001b[38;5;124m\"\u001b[39m, \u001b[38;5;124m\"\u001b[39m\u001b[38;5;124mmethod\u001b[39m\u001b[38;5;124m\"\u001b[39m])\n\u001b[1;32m  10926\u001b[0m \u001b[38;5;28;01mdef\u001b[39;00m \u001b[38;5;21minterpolate\u001b[39m(\n\u001b[1;32m  10927\u001b[0m     \u001b[38;5;28mself\u001b[39m: DataFrame,\n\u001b[0;32m   (...)\u001b[0m\n\u001b[1;32m  10935\u001b[0m     \u001b[38;5;241m*\u001b[39m\u001b[38;5;241m*\u001b[39mkwargs,\n\u001b[1;32m  10936\u001b[0m ) \u001b[38;5;241m-\u001b[39m\u001b[38;5;241m>\u001b[39m DataFrame \u001b[38;5;241m|\u001b[39m \u001b[38;5;28;01mNone\u001b[39;00m:\n\u001b[0;32m> 10937\u001b[0m     \u001b[38;5;28;01mreturn\u001b[39;00m \u001b[38;5;28;43msuper\u001b[39;49m\u001b[43m(\u001b[49m\u001b[43m)\u001b[49m\u001b[38;5;241;43m.\u001b[39;49m\u001b[43minterpolate\u001b[49m\u001b[43m(\u001b[49m\n\u001b[1;32m  10938\u001b[0m \u001b[43m        \u001b[49m\u001b[43mmethod\u001b[49m\u001b[43m,\u001b[49m\n\u001b[1;32m  10939\u001b[0m \u001b[43m        \u001b[49m\u001b[43maxis\u001b[49m\u001b[43m,\u001b[49m\n\u001b[1;32m  10940\u001b[0m \u001b[43m        \u001b[49m\u001b[43mlimit\u001b[49m\u001b[43m,\u001b[49m\n\u001b[1;32m  10941\u001b[0m \u001b[43m        \u001b[49m\u001b[43minplace\u001b[49m\u001b[43m,\u001b[49m\n\u001b[1;32m  10942\u001b[0m \u001b[43m        \u001b[49m\u001b[43mlimit_direction\u001b[49m\u001b[43m,\u001b[49m\n\u001b[1;32m  10943\u001b[0m \u001b[43m        \u001b[49m\u001b[43mlimit_area\u001b[49m\u001b[43m,\u001b[49m\n\u001b[1;32m  10944\u001b[0m \u001b[43m        \u001b[49m\u001b[43mdowncast\u001b[49m\u001b[43m,\u001b[49m\n\u001b[1;32m  10945\u001b[0m \u001b[43m        \u001b[49m\u001b[38;5;241;43m*\u001b[39;49m\u001b[38;5;241;43m*\u001b[39;49m\u001b[43mkwargs\u001b[49m\u001b[43m,\u001b[49m\n\u001b[1;32m  10946\u001b[0m \u001b[43m    \u001b[49m\u001b[43m)\u001b[49m\n",
      "File \u001b[0;32m/opt/conda/lib/python3.10/site-packages/pandas/core/generic.py:7036\u001b[0m, in \u001b[0;36mNDFrame.interpolate\u001b[0;34m(self, method, axis, limit, inplace, limit_direction, limit_area, downcast, **kwargs)\u001b[0m\n\u001b[1;32m   7030\u001b[0m \u001b[38;5;28;01mif\u001b[39;00m isna(index)\u001b[38;5;241m.\u001b[39many():\n\u001b[1;32m   7031\u001b[0m     \u001b[38;5;28;01mraise\u001b[39;00m \u001b[38;5;167;01mNotImplementedError\u001b[39;00m(\n\u001b[1;32m   7032\u001b[0m         \u001b[38;5;124m\"\u001b[39m\u001b[38;5;124mInterpolation with NaNs in the index \u001b[39m\u001b[38;5;124m\"\u001b[39m\n\u001b[1;32m   7033\u001b[0m         \u001b[38;5;124m\"\u001b[39m\u001b[38;5;124mhas not been implemented. Try filling \u001b[39m\u001b[38;5;124m\"\u001b[39m\n\u001b[1;32m   7034\u001b[0m         \u001b[38;5;124m\"\u001b[39m\u001b[38;5;124mthose NaNs before interpolating.\u001b[39m\u001b[38;5;124m\"\u001b[39m\n\u001b[1;32m   7035\u001b[0m     )\n\u001b[0;32m-> 7036\u001b[0m new_data \u001b[38;5;241m=\u001b[39m \u001b[43mobj\u001b[49m\u001b[38;5;241;43m.\u001b[39;49m\u001b[43m_mgr\u001b[49m\u001b[38;5;241;43m.\u001b[39;49m\u001b[43minterpolate\u001b[49m\u001b[43m(\u001b[49m\n\u001b[1;32m   7037\u001b[0m \u001b[43m    \u001b[49m\u001b[43mmethod\u001b[49m\u001b[38;5;241;43m=\u001b[39;49m\u001b[43mmethod\u001b[49m\u001b[43m,\u001b[49m\n\u001b[1;32m   7038\u001b[0m \u001b[43m    \u001b[49m\u001b[43maxis\u001b[49m\u001b[38;5;241;43m=\u001b[39;49m\u001b[43maxis\u001b[49m\u001b[43m,\u001b[49m\n\u001b[1;32m   7039\u001b[0m \u001b[43m    \u001b[49m\u001b[43mindex\u001b[49m\u001b[38;5;241;43m=\u001b[39;49m\u001b[43mindex\u001b[49m\u001b[43m,\u001b[49m\n\u001b[1;32m   7040\u001b[0m \u001b[43m    \u001b[49m\u001b[43mlimit\u001b[49m\u001b[38;5;241;43m=\u001b[39;49m\u001b[43mlimit\u001b[49m\u001b[43m,\u001b[49m\n\u001b[1;32m   7041\u001b[0m \u001b[43m    \u001b[49m\u001b[43mlimit_direction\u001b[49m\u001b[38;5;241;43m=\u001b[39;49m\u001b[43mlimit_direction\u001b[49m\u001b[43m,\u001b[49m\n\u001b[1;32m   7042\u001b[0m \u001b[43m    \u001b[49m\u001b[43mlimit_area\u001b[49m\u001b[38;5;241;43m=\u001b[39;49m\u001b[43mlimit_area\u001b[49m\u001b[43m,\u001b[49m\n\u001b[1;32m   7043\u001b[0m \u001b[43m    \u001b[49m\u001b[43minplace\u001b[49m\u001b[38;5;241;43m=\u001b[39;49m\u001b[43minplace\u001b[49m\u001b[43m,\u001b[49m\n\u001b[1;32m   7044\u001b[0m \u001b[43m    \u001b[49m\u001b[43mdowncast\u001b[49m\u001b[38;5;241;43m=\u001b[39;49m\u001b[43mdowncast\u001b[49m\u001b[43m,\u001b[49m\n\u001b[1;32m   7045\u001b[0m \u001b[43m    \u001b[49m\u001b[38;5;241;43m*\u001b[39;49m\u001b[38;5;241;43m*\u001b[39;49m\u001b[43mkwargs\u001b[49m\u001b[43m,\u001b[49m\n\u001b[1;32m   7046\u001b[0m \u001b[43m\u001b[49m\u001b[43m)\u001b[49m\n\u001b[1;32m   7048\u001b[0m result \u001b[38;5;241m=\u001b[39m \u001b[38;5;28mself\u001b[39m\u001b[38;5;241m.\u001b[39m_constructor(new_data)\n\u001b[1;32m   7049\u001b[0m \u001b[38;5;28;01mif\u001b[39;00m should_transpose:\n",
      "File \u001b[0;32m/opt/conda/lib/python3.10/site-packages/pandas/core/internals/managers.py:359\u001b[0m, in \u001b[0;36mBaseBlockManager.interpolate\u001b[0;34m(self, **kwargs)\u001b[0m\n\u001b[1;32m    358\u001b[0m \u001b[38;5;28;01mdef\u001b[39;00m \u001b[38;5;21minterpolate\u001b[39m(\u001b[38;5;28mself\u001b[39m: T, \u001b[38;5;241m*\u001b[39m\u001b[38;5;241m*\u001b[39mkwargs) \u001b[38;5;241m-\u001b[39m\u001b[38;5;241m>\u001b[39m T:\n\u001b[0;32m--> 359\u001b[0m     \u001b[38;5;28;01mreturn\u001b[39;00m \u001b[38;5;28;43mself\u001b[39;49m\u001b[38;5;241;43m.\u001b[39;49m\u001b[43mapply\u001b[49m\u001b[43m(\u001b[49m\u001b[38;5;124;43m\"\u001b[39;49m\u001b[38;5;124;43minterpolate\u001b[39;49m\u001b[38;5;124;43m\"\u001b[39;49m\u001b[43m,\u001b[49m\u001b[43m \u001b[49m\u001b[38;5;241;43m*\u001b[39;49m\u001b[38;5;241;43m*\u001b[39;49m\u001b[43mkwargs\u001b[49m\u001b[43m)\u001b[49m\n",
      "File \u001b[0;32m/opt/conda/lib/python3.10/site-packages/pandas/core/internals/managers.py:304\u001b[0m, in \u001b[0;36mBaseBlockManager.apply\u001b[0;34m(self, f, align_keys, ignore_failures, **kwargs)\u001b[0m\n\u001b[1;32m    302\u001b[0m         applied \u001b[38;5;241m=\u001b[39m b\u001b[38;5;241m.\u001b[39mapply(f, \u001b[38;5;241m*\u001b[39m\u001b[38;5;241m*\u001b[39mkwargs)\n\u001b[1;32m    303\u001b[0m     \u001b[38;5;28;01melse\u001b[39;00m:\n\u001b[0;32m--> 304\u001b[0m         applied \u001b[38;5;241m=\u001b[39m \u001b[38;5;28;43mgetattr\u001b[39;49m\u001b[43m(\u001b[49m\u001b[43mb\u001b[49m\u001b[43m,\u001b[49m\u001b[43m \u001b[49m\u001b[43mf\u001b[49m\u001b[43m)\u001b[49m\u001b[43m(\u001b[49m\u001b[38;5;241;43m*\u001b[39;49m\u001b[38;5;241;43m*\u001b[39;49m\u001b[43mkwargs\u001b[49m\u001b[43m)\u001b[49m\n\u001b[1;32m    305\u001b[0m \u001b[38;5;28;01mexcept\u001b[39;00m (\u001b[38;5;167;01mTypeError\u001b[39;00m, \u001b[38;5;167;01mNotImplementedError\u001b[39;00m):\n\u001b[1;32m    306\u001b[0m     \u001b[38;5;28;01mif\u001b[39;00m \u001b[38;5;129;01mnot\u001b[39;00m ignore_failures:\n",
      "File \u001b[0;32m/opt/conda/lib/python3.10/site-packages/pandas/core/internals/blocks.py:1101\u001b[0m, in \u001b[0;36mBlock.interpolate\u001b[0;34m(self, method, axis, index, inplace, limit, limit_direction, limit_area, fill_value, coerce, downcast, **kwargs)\u001b[0m\n\u001b[1;32m   1098\u001b[0m data \u001b[38;5;241m=\u001b[39m \u001b[38;5;28mself\u001b[39m\u001b[38;5;241m.\u001b[39mvalues \u001b[38;5;28;01mif\u001b[39;00m inplace \u001b[38;5;28;01melse\u001b[39;00m \u001b[38;5;28mself\u001b[39m\u001b[38;5;241m.\u001b[39mvalues\u001b[38;5;241m.\u001b[39mcopy()\n\u001b[1;32m   1099\u001b[0m data \u001b[38;5;241m=\u001b[39m cast(np\u001b[38;5;241m.\u001b[39mndarray, data)  \u001b[38;5;66;03m# bc overridden by ExtensionBlock\u001b[39;00m\n\u001b[0;32m-> 1101\u001b[0m \u001b[43mmissing\u001b[49m\u001b[38;5;241;43m.\u001b[39;49m\u001b[43minterpolate_array_2d\u001b[49m\u001b[43m(\u001b[49m\n\u001b[1;32m   1102\u001b[0m \u001b[43m    \u001b[49m\u001b[43mdata\u001b[49m\u001b[43m,\u001b[49m\n\u001b[1;32m   1103\u001b[0m \u001b[43m    \u001b[49m\u001b[43mmethod\u001b[49m\u001b[38;5;241;43m=\u001b[39;49m\u001b[43mmethod\u001b[49m\u001b[43m,\u001b[49m\n\u001b[1;32m   1104\u001b[0m \u001b[43m    \u001b[49m\u001b[43maxis\u001b[49m\u001b[38;5;241;43m=\u001b[39;49m\u001b[43maxis\u001b[49m\u001b[43m,\u001b[49m\n\u001b[1;32m   1105\u001b[0m \u001b[43m    \u001b[49m\u001b[43mindex\u001b[49m\u001b[38;5;241;43m=\u001b[39;49m\u001b[43mindex\u001b[49m\u001b[43m,\u001b[49m\n\u001b[1;32m   1106\u001b[0m \u001b[43m    \u001b[49m\u001b[43mlimit\u001b[49m\u001b[38;5;241;43m=\u001b[39;49m\u001b[43mlimit\u001b[49m\u001b[43m,\u001b[49m\n\u001b[1;32m   1107\u001b[0m \u001b[43m    \u001b[49m\u001b[43mlimit_direction\u001b[49m\u001b[38;5;241;43m=\u001b[39;49m\u001b[43mlimit_direction\u001b[49m\u001b[43m,\u001b[49m\n\u001b[1;32m   1108\u001b[0m \u001b[43m    \u001b[49m\u001b[43mlimit_area\u001b[49m\u001b[38;5;241;43m=\u001b[39;49m\u001b[43mlimit_area\u001b[49m\u001b[43m,\u001b[49m\n\u001b[1;32m   1109\u001b[0m \u001b[43m    \u001b[49m\u001b[43mfill_value\u001b[49m\u001b[38;5;241;43m=\u001b[39;49m\u001b[43mfill_value\u001b[49m\u001b[43m,\u001b[49m\n\u001b[1;32m   1110\u001b[0m \u001b[43m    \u001b[49m\u001b[38;5;241;43m*\u001b[39;49m\u001b[38;5;241;43m*\u001b[39;49m\u001b[43mkwargs\u001b[49m\u001b[43m,\u001b[49m\n\u001b[1;32m   1111\u001b[0m \u001b[43m\u001b[49m\u001b[43m)\u001b[49m\n\u001b[1;32m   1113\u001b[0m nb \u001b[38;5;241m=\u001b[39m \u001b[38;5;28mself\u001b[39m\u001b[38;5;241m.\u001b[39mmake_block_same_class(data)\n\u001b[1;32m   1114\u001b[0m \u001b[38;5;28;01mreturn\u001b[39;00m nb\u001b[38;5;241m.\u001b[39m_maybe_downcast([nb], downcast)\n",
      "File \u001b[0;32m/opt/conda/lib/python3.10/site-packages/pandas/core/missing.py:249\u001b[0m, in \u001b[0;36minterpolate_array_2d\u001b[0;34m(data, method, axis, index, limit, limit_direction, limit_area, fill_value, coerce, downcast, **kwargs)\u001b[0m\n\u001b[1;32m    246\u001b[0m \u001b[38;5;28;01melse\u001b[39;00m:\n\u001b[1;32m    247\u001b[0m     \u001b[38;5;28;01massert\u001b[39;00m index \u001b[38;5;129;01mis\u001b[39;00m \u001b[38;5;129;01mnot\u001b[39;00m \u001b[38;5;28;01mNone\u001b[39;00m  \u001b[38;5;66;03m# for mypy\u001b[39;00m\n\u001b[0;32m--> 249\u001b[0m     \u001b[43m_interpolate_2d_with_fill\u001b[49m\u001b[43m(\u001b[49m\n\u001b[1;32m    250\u001b[0m \u001b[43m        \u001b[49m\u001b[43mdata\u001b[49m\u001b[38;5;241;43m=\u001b[39;49m\u001b[43mdata\u001b[49m\u001b[43m,\u001b[49m\n\u001b[1;32m    251\u001b[0m \u001b[43m        \u001b[49m\u001b[43mindex\u001b[49m\u001b[38;5;241;43m=\u001b[39;49m\u001b[43mindex\u001b[49m\u001b[43m,\u001b[49m\n\u001b[1;32m    252\u001b[0m \u001b[43m        \u001b[49m\u001b[43maxis\u001b[49m\u001b[38;5;241;43m=\u001b[39;49m\u001b[43maxis\u001b[49m\u001b[43m,\u001b[49m\n\u001b[1;32m    253\u001b[0m \u001b[43m        \u001b[49m\u001b[43mmethod\u001b[49m\u001b[38;5;241;43m=\u001b[39;49m\u001b[43mmethod\u001b[49m\u001b[43m,\u001b[49m\n\u001b[1;32m    254\u001b[0m \u001b[43m        \u001b[49m\u001b[43mlimit\u001b[49m\u001b[38;5;241;43m=\u001b[39;49m\u001b[43mlimit\u001b[49m\u001b[43m,\u001b[49m\n\u001b[1;32m    255\u001b[0m \u001b[43m        \u001b[49m\u001b[43mlimit_direction\u001b[49m\u001b[38;5;241;43m=\u001b[39;49m\u001b[43mlimit_direction\u001b[49m\u001b[43m,\u001b[49m\n\u001b[1;32m    256\u001b[0m \u001b[43m        \u001b[49m\u001b[43mlimit_area\u001b[49m\u001b[38;5;241;43m=\u001b[39;49m\u001b[43mlimit_area\u001b[49m\u001b[43m,\u001b[49m\n\u001b[1;32m    257\u001b[0m \u001b[43m        \u001b[49m\u001b[43mfill_value\u001b[49m\u001b[38;5;241;43m=\u001b[39;49m\u001b[43mfill_value\u001b[49m\u001b[43m,\u001b[49m\n\u001b[1;32m    258\u001b[0m \u001b[43m        \u001b[49m\u001b[38;5;241;43m*\u001b[39;49m\u001b[38;5;241;43m*\u001b[39;49m\u001b[43mkwargs\u001b[49m\u001b[43m,\u001b[49m\n\u001b[1;32m    259\u001b[0m \u001b[43m    \u001b[49m\u001b[43m)\u001b[49m\n\u001b[1;32m    260\u001b[0m \u001b[38;5;28;01mreturn\u001b[39;00m\n",
      "File \u001b[0;32m/opt/conda/lib/python3.10/site-packages/pandas/core/missing.py:344\u001b[0m, in \u001b[0;36m_interpolate_2d_with_fill\u001b[0;34m(data, index, axis, method, limit, limit_direction, limit_area, fill_value, **kwargs)\u001b[0m\n\u001b[1;32m    324\u001b[0m     _interpolate_1d(\n\u001b[1;32m    325\u001b[0m         indices\u001b[38;5;241m=\u001b[39mindices,\n\u001b[1;32m    326\u001b[0m         yvalues\u001b[38;5;241m=\u001b[39myvalues,\n\u001b[0;32m   (...)\u001b[0m\n\u001b[1;32m    333\u001b[0m         \u001b[38;5;241m*\u001b[39m\u001b[38;5;241m*\u001b[39mkwargs,\n\u001b[1;32m    334\u001b[0m     )\n\u001b[1;32m    336\u001b[0m \u001b[38;5;66;03m# Argument 1 to \"apply_along_axis\" has incompatible type\u001b[39;00m\n\u001b[1;32m    337\u001b[0m \u001b[38;5;66;03m# \"Callable[[ndarray[Any, Any]], None]\"; expected\u001b[39;00m\n\u001b[1;32m    338\u001b[0m \u001b[38;5;66;03m# \"Callable[..., Union[_SupportsArray[dtype[<nothing>]],\u001b[39;00m\n\u001b[0;32m   (...)\u001b[0m\n\u001b[1;32m    342\u001b[0m \u001b[38;5;66;03m# Sequence[Sequence[Sequence[Sequence[_SupportsArray[dtype[<nothing>]]]]]]]]\"\u001b[39;00m\n\u001b[1;32m    343\u001b[0m \u001b[38;5;66;03m# interp each column independently\u001b[39;00m\n\u001b[0;32m--> 344\u001b[0m \u001b[43mnp\u001b[49m\u001b[38;5;241;43m.\u001b[39;49m\u001b[43mapply_along_axis\u001b[49m\u001b[43m(\u001b[49m\u001b[43mfunc\u001b[49m\u001b[43m,\u001b[49m\u001b[43m \u001b[49m\u001b[43maxis\u001b[49m\u001b[43m,\u001b[49m\u001b[43m \u001b[49m\u001b[43mdata\u001b[49m\u001b[43m)\u001b[49m  \u001b[38;5;66;03m# type: ignore[arg-type]\u001b[39;00m\n\u001b[1;32m    345\u001b[0m \u001b[38;5;28;01mreturn\u001b[39;00m\n",
      "File \u001b[0;32m<__array_function__ internals>:180\u001b[0m, in \u001b[0;36mapply_along_axis\u001b[0;34m(*args, **kwargs)\u001b[0m\n",
      "File \u001b[0;32m/opt/conda/lib/python3.10/site-packages/numpy/lib/shape_base.py:379\u001b[0m, in \u001b[0;36mapply_along_axis\u001b[0;34m(func1d, axis, arr, *args, **kwargs)\u001b[0m\n\u001b[1;32m    375\u001b[0m \u001b[38;5;28;01mexcept\u001b[39;00m \u001b[38;5;167;01mStopIteration\u001b[39;00m \u001b[38;5;28;01mas\u001b[39;00m e:\n\u001b[1;32m    376\u001b[0m     \u001b[38;5;28;01mraise\u001b[39;00m \u001b[38;5;167;01mValueError\u001b[39;00m(\n\u001b[1;32m    377\u001b[0m         \u001b[38;5;124m'\u001b[39m\u001b[38;5;124mCannot apply_along_axis when any iteration dimensions are 0\u001b[39m\u001b[38;5;124m'\u001b[39m\n\u001b[1;32m    378\u001b[0m     ) \u001b[38;5;28;01mfrom\u001b[39;00m \u001b[38;5;28mNone\u001b[39m\n\u001b[0;32m--> 379\u001b[0m res \u001b[38;5;241m=\u001b[39m asanyarray(\u001b[43mfunc1d\u001b[49m\u001b[43m(\u001b[49m\u001b[43minarr_view\u001b[49m\u001b[43m[\u001b[49m\u001b[43mind0\u001b[49m\u001b[43m]\u001b[49m\u001b[43m,\u001b[49m\u001b[43m \u001b[49m\u001b[38;5;241;43m*\u001b[39;49m\u001b[43margs\u001b[49m\u001b[43m,\u001b[49m\u001b[43m \u001b[49m\u001b[38;5;241;43m*\u001b[39;49m\u001b[38;5;241;43m*\u001b[39;49m\u001b[43mkwargs\u001b[49m\u001b[43m)\u001b[49m)\n\u001b[1;32m    381\u001b[0m \u001b[38;5;66;03m# build a buffer for storing evaluations of func1d.\u001b[39;00m\n\u001b[1;32m    382\u001b[0m \u001b[38;5;66;03m# remove the requested axis, and add the new ones on the end.\u001b[39;00m\n\u001b[1;32m    383\u001b[0m \u001b[38;5;66;03m# laid out so that each write is contiguous.\u001b[39;00m\n\u001b[1;32m    384\u001b[0m \u001b[38;5;66;03m# for a tuple index inds, buff[inds] = func1d(inarr_view[inds])\u001b[39;00m\n\u001b[1;32m    385\u001b[0m buff \u001b[38;5;241m=\u001b[39m zeros(inarr_view\u001b[38;5;241m.\u001b[39mshape[:\u001b[38;5;241m-\u001b[39m\u001b[38;5;241m1\u001b[39m] \u001b[38;5;241m+\u001b[39m res\u001b[38;5;241m.\u001b[39mshape, res\u001b[38;5;241m.\u001b[39mdtype)\n",
      "File \u001b[0;32m/opt/conda/lib/python3.10/site-packages/pandas/core/missing.py:324\u001b[0m, in \u001b[0;36m_interpolate_2d_with_fill.<locals>.func\u001b[0;34m(yvalues)\u001b[0m\n\u001b[1;32m    321\u001b[0m \u001b[38;5;28;01mdef\u001b[39;00m \u001b[38;5;21mfunc\u001b[39m(yvalues: np\u001b[38;5;241m.\u001b[39mndarray) \u001b[38;5;241m-\u001b[39m\u001b[38;5;241m>\u001b[39m \u001b[38;5;28;01mNone\u001b[39;00m:\n\u001b[1;32m    322\u001b[0m     \u001b[38;5;66;03m# process 1-d slices in the axis direction\u001b[39;00m\n\u001b[0;32m--> 324\u001b[0m     \u001b[43m_interpolate_1d\u001b[49m\u001b[43m(\u001b[49m\n\u001b[1;32m    325\u001b[0m \u001b[43m        \u001b[49m\u001b[43mindices\u001b[49m\u001b[38;5;241;43m=\u001b[39;49m\u001b[43mindices\u001b[49m\u001b[43m,\u001b[49m\n\u001b[1;32m    326\u001b[0m \u001b[43m        \u001b[49m\u001b[43myvalues\u001b[49m\u001b[38;5;241;43m=\u001b[39;49m\u001b[43myvalues\u001b[49m\u001b[43m,\u001b[49m\n\u001b[1;32m    327\u001b[0m \u001b[43m        \u001b[49m\u001b[43mmethod\u001b[49m\u001b[38;5;241;43m=\u001b[39;49m\u001b[43mmethod\u001b[49m\u001b[43m,\u001b[49m\n\u001b[1;32m    328\u001b[0m \u001b[43m        \u001b[49m\u001b[43mlimit\u001b[49m\u001b[38;5;241;43m=\u001b[39;49m\u001b[43mlimit\u001b[49m\u001b[43m,\u001b[49m\n\u001b[1;32m    329\u001b[0m \u001b[43m        \u001b[49m\u001b[43mlimit_direction\u001b[49m\u001b[38;5;241;43m=\u001b[39;49m\u001b[43mlimit_direction\u001b[49m\u001b[43m,\u001b[49m\n\u001b[1;32m    330\u001b[0m \u001b[43m        \u001b[49m\u001b[43mlimit_area\u001b[49m\u001b[38;5;241;43m=\u001b[39;49m\u001b[43mlimit_area\u001b[49m\u001b[43m,\u001b[49m\n\u001b[1;32m    331\u001b[0m \u001b[43m        \u001b[49m\u001b[43mfill_value\u001b[49m\u001b[38;5;241;43m=\u001b[39;49m\u001b[43mfill_value\u001b[49m\u001b[43m,\u001b[49m\n\u001b[1;32m    332\u001b[0m \u001b[43m        \u001b[49m\u001b[43mbounds_error\u001b[49m\u001b[38;5;241;43m=\u001b[39;49m\u001b[38;5;28;43;01mFalse\u001b[39;49;00m\u001b[43m,\u001b[49m\n\u001b[1;32m    333\u001b[0m \u001b[43m        \u001b[49m\u001b[38;5;241;43m*\u001b[39;49m\u001b[38;5;241;43m*\u001b[39;49m\u001b[43mkwargs\u001b[49m\u001b[43m,\u001b[49m\n\u001b[1;32m    334\u001b[0m \u001b[43m    \u001b[49m\u001b[43m)\u001b[49m\n",
      "File \u001b[0;32m/opt/conda/lib/python3.10/site-packages/pandas/core/missing.py:455\u001b[0m, in \u001b[0;36m_interpolate_1d\u001b[0;34m(indices, yvalues, method, limit, limit_direction, limit_area, fill_value, bounds_error, order, **kwargs)\u001b[0m\n\u001b[1;32m    451\u001b[0m     yvalues[invalid] \u001b[38;5;241m=\u001b[39m np\u001b[38;5;241m.\u001b[39minterp(\n\u001b[1;32m    452\u001b[0m         indices[invalid], indices[valid][indexer], yvalues[valid][indexer]\n\u001b[1;32m    453\u001b[0m     )\n\u001b[1;32m    454\u001b[0m \u001b[38;5;28;01melse\u001b[39;00m:\n\u001b[0;32m--> 455\u001b[0m     yvalues[invalid] \u001b[38;5;241m=\u001b[39m \u001b[43m_interpolate_scipy_wrapper\u001b[49m\u001b[43m(\u001b[49m\n\u001b[1;32m    456\u001b[0m \u001b[43m        \u001b[49m\u001b[43mindices\u001b[49m\u001b[43m[\u001b[49m\u001b[43mvalid\u001b[49m\u001b[43m]\u001b[49m\u001b[43m,\u001b[49m\n\u001b[1;32m    457\u001b[0m \u001b[43m        \u001b[49m\u001b[43myvalues\u001b[49m\u001b[43m[\u001b[49m\u001b[43mvalid\u001b[49m\u001b[43m]\u001b[49m\u001b[43m,\u001b[49m\n\u001b[1;32m    458\u001b[0m \u001b[43m        \u001b[49m\u001b[43mindices\u001b[49m\u001b[43m[\u001b[49m\u001b[43minvalid\u001b[49m\u001b[43m]\u001b[49m\u001b[43m,\u001b[49m\n\u001b[1;32m    459\u001b[0m \u001b[43m        \u001b[49m\u001b[43mmethod\u001b[49m\u001b[38;5;241;43m=\u001b[39;49m\u001b[43mmethod\u001b[49m\u001b[43m,\u001b[49m\n\u001b[1;32m    460\u001b[0m \u001b[43m        \u001b[49m\u001b[43mfill_value\u001b[49m\u001b[38;5;241;43m=\u001b[39;49m\u001b[43mfill_value\u001b[49m\u001b[43m,\u001b[49m\n\u001b[1;32m    461\u001b[0m \u001b[43m        \u001b[49m\u001b[43mbounds_error\u001b[49m\u001b[38;5;241;43m=\u001b[39;49m\u001b[43mbounds_error\u001b[49m\u001b[43m,\u001b[49m\n\u001b[1;32m    462\u001b[0m \u001b[43m        \u001b[49m\u001b[43morder\u001b[49m\u001b[38;5;241;43m=\u001b[39;49m\u001b[43morder\u001b[49m\u001b[43m,\u001b[49m\n\u001b[1;32m    463\u001b[0m \u001b[43m        \u001b[49m\u001b[38;5;241;43m*\u001b[39;49m\u001b[38;5;241;43m*\u001b[39;49m\u001b[43mkwargs\u001b[49m\u001b[43m,\u001b[49m\n\u001b[1;32m    464\u001b[0m \u001b[43m    \u001b[49m\u001b[43m)\u001b[49m\n\u001b[1;32m    466\u001b[0m yvalues[preserve_nans] \u001b[38;5;241m=\u001b[39m np\u001b[38;5;241m.\u001b[39mnan\n\u001b[1;32m    467\u001b[0m \u001b[38;5;28;01mreturn\u001b[39;00m\n",
      "File \u001b[0;32m/opt/conda/lib/python3.10/site-packages/pandas/core/missing.py:514\u001b[0m, in \u001b[0;36m_interpolate_scipy_wrapper\u001b[0;34m(x, y, new_x, method, fill_value, bounds_error, order, **kwargs)\u001b[0m\n\u001b[1;32m    512\u001b[0m     \u001b[38;5;28;01mif\u001b[39;00m method \u001b[38;5;241m==\u001b[39m \u001b[38;5;124m\"\u001b[39m\u001b[38;5;124mpolynomial\u001b[39m\u001b[38;5;124m\"\u001b[39m:\n\u001b[1;32m    513\u001b[0m         method \u001b[38;5;241m=\u001b[39m order\n\u001b[0;32m--> 514\u001b[0m     terp \u001b[38;5;241m=\u001b[39m \u001b[43minterpolate\u001b[49m\u001b[38;5;241;43m.\u001b[39;49m\u001b[43minterp1d\u001b[49m\u001b[43m(\u001b[49m\n\u001b[1;32m    515\u001b[0m \u001b[43m        \u001b[49m\u001b[43mx\u001b[49m\u001b[43m,\u001b[49m\u001b[43m \u001b[49m\u001b[43my\u001b[49m\u001b[43m,\u001b[49m\u001b[43m \u001b[49m\u001b[43mkind\u001b[49m\u001b[38;5;241;43m=\u001b[39;49m\u001b[43mmethod\u001b[49m\u001b[43m,\u001b[49m\u001b[43m \u001b[49m\u001b[43mfill_value\u001b[49m\u001b[38;5;241;43m=\u001b[39;49m\u001b[43mfill_value\u001b[49m\u001b[43m,\u001b[49m\u001b[43m \u001b[49m\u001b[43mbounds_error\u001b[49m\u001b[38;5;241;43m=\u001b[39;49m\u001b[43mbounds_error\u001b[49m\n\u001b[1;32m    516\u001b[0m \u001b[43m    \u001b[49m\u001b[43m)\u001b[49m\n\u001b[1;32m    517\u001b[0m     new_y \u001b[38;5;241m=\u001b[39m terp(new_x)\n\u001b[1;32m    518\u001b[0m \u001b[38;5;28;01melif\u001b[39;00m method \u001b[38;5;241m==\u001b[39m \u001b[38;5;124m\"\u001b[39m\u001b[38;5;124mspline\u001b[39m\u001b[38;5;124m\"\u001b[39m:\n\u001b[1;32m    519\u001b[0m     \u001b[38;5;66;03m# GH #10633, #24014\u001b[39;00m\n",
      "File \u001b[0;32m/opt/conda/lib/python3.10/site-packages/scipy/interpolate/_interpolate.py:564\u001b[0m, in \u001b[0;36minterp1d.__init__\u001b[0;34m(***failed resolving arguments***)\u001b[0m\n\u001b[1;32m    561\u001b[0m         yy \u001b[38;5;241m=\u001b[39m np\u001b[38;5;241m.\u001b[39mones_like(\u001b[38;5;28mself\u001b[39m\u001b[38;5;241m.\u001b[39m_y)\n\u001b[1;32m    562\u001b[0m         rewrite_nan \u001b[38;5;241m=\u001b[39m \u001b[38;5;28;01mTrue\u001b[39;00m\n\u001b[0;32m--> 564\u001b[0m \u001b[38;5;28mself\u001b[39m\u001b[38;5;241m.\u001b[39m_spline \u001b[38;5;241m=\u001b[39m \u001b[43mmake_interp_spline\u001b[49m\u001b[43m(\u001b[49m\u001b[43mxx\u001b[49m\u001b[43m,\u001b[49m\u001b[43m \u001b[49m\u001b[43myy\u001b[49m\u001b[43m,\u001b[49m\u001b[43m \u001b[49m\u001b[43mk\u001b[49m\u001b[38;5;241;43m=\u001b[39;49m\u001b[43morder\u001b[49m\u001b[43m,\u001b[49m\n\u001b[1;32m    565\u001b[0m \u001b[43m                                  \u001b[49m\u001b[43mcheck_finite\u001b[49m\u001b[38;5;241;43m=\u001b[39;49m\u001b[38;5;28;43;01mFalse\u001b[39;49;00m\u001b[43m)\u001b[49m\n\u001b[1;32m    566\u001b[0m \u001b[38;5;28;01mif\u001b[39;00m rewrite_nan:\n\u001b[1;32m    567\u001b[0m     \u001b[38;5;28mself\u001b[39m\u001b[38;5;241m.\u001b[39m_call \u001b[38;5;241m=\u001b[39m \u001b[38;5;28mself\u001b[39m\u001b[38;5;241m.\u001b[39m\u001b[38;5;18m__class__\u001b[39m\u001b[38;5;241m.\u001b[39m_call_nan_spline\n",
      "File \u001b[0;32m/opt/conda/lib/python3.10/site-packages/scipy/interpolate/_bsplines.py:1286\u001b[0m, in \u001b[0;36mmake_interp_spline\u001b[0;34m(x, y, k, t, bc_type, axis, check_finite)\u001b[0m\n\u001b[1;32m   1282\u001b[0m         t \u001b[38;5;241m=\u001b[39m np\u001b[38;5;241m.\u001b[39mr_[(x[\u001b[38;5;241m0\u001b[39m],)\u001b[38;5;241m*\u001b[39m(k\u001b[38;5;241m+\u001b[39m\u001b[38;5;241m1\u001b[39m),\n\u001b[1;32m   1283\u001b[0m                    t[\u001b[38;5;241m1\u001b[39m:\u001b[38;5;241m-\u001b[39m\u001b[38;5;241m1\u001b[39m],\n\u001b[1;32m   1284\u001b[0m                    (x[\u001b[38;5;241m-\u001b[39m\u001b[38;5;241m1\u001b[39m],)\u001b[38;5;241m*\u001b[39m(k\u001b[38;5;241m+\u001b[39m\u001b[38;5;241m1\u001b[39m)]\n\u001b[1;32m   1285\u001b[0m     \u001b[38;5;28;01melse\u001b[39;00m:\n\u001b[0;32m-> 1286\u001b[0m         t \u001b[38;5;241m=\u001b[39m \u001b[43m_not_a_knot\u001b[49m\u001b[43m(\u001b[49m\u001b[43mx\u001b[49m\u001b[43m,\u001b[49m\u001b[43m \u001b[49m\u001b[43mk\u001b[49m\u001b[43m)\u001b[49m\n\u001b[1;32m   1287\u001b[0m \u001b[38;5;28;01melse\u001b[39;00m:\n\u001b[1;32m   1288\u001b[0m     t \u001b[38;5;241m=\u001b[39m _augknt(x, k)\n",
      "File \u001b[0;32m/opt/conda/lib/python3.10/site-packages/scipy/interpolate/_bsplines.py:802\u001b[0m, in \u001b[0;36m_not_a_knot\u001b[0;34m(x, k)\u001b[0m\n\u001b[1;32m    800\u001b[0m x \u001b[38;5;241m=\u001b[39m np\u001b[38;5;241m.\u001b[39masarray(x)\n\u001b[1;32m    801\u001b[0m \u001b[38;5;28;01mif\u001b[39;00m k \u001b[38;5;241m%\u001b[39m \u001b[38;5;241m2\u001b[39m \u001b[38;5;241m!=\u001b[39m \u001b[38;5;241m1\u001b[39m:\n\u001b[0;32m--> 802\u001b[0m     \u001b[38;5;28;01mraise\u001b[39;00m \u001b[38;5;167;01mValueError\u001b[39;00m(\u001b[38;5;124m\"\u001b[39m\u001b[38;5;124mOdd degree for now only. Got \u001b[39m\u001b[38;5;132;01m%s\u001b[39;00m\u001b[38;5;124m.\u001b[39m\u001b[38;5;124m\"\u001b[39m \u001b[38;5;241m%\u001b[39m k)\n\u001b[1;32m    804\u001b[0m m \u001b[38;5;241m=\u001b[39m (k \u001b[38;5;241m-\u001b[39m \u001b[38;5;241m1\u001b[39m) \u001b[38;5;241m/\u001b[39m\u001b[38;5;241m/\u001b[39m \u001b[38;5;241m2\u001b[39m\n\u001b[1;32m    805\u001b[0m t \u001b[38;5;241m=\u001b[39m x[m\u001b[38;5;241m+\u001b[39m\u001b[38;5;241m1\u001b[39m:\u001b[38;5;241m-\u001b[39mm\u001b[38;5;241m-\u001b[39m\u001b[38;5;241m1\u001b[39m]\n",
      "\u001b[0;31mValueError\u001b[0m: Odd degree for now only. Got 4."
     ]
    },
    {
     "data": {
      "image/png": "[encoded data removed]",
      "text/plain": [
       "<Figure size 432x288 with 1 Axes>"
      ]
     },
     "metadata": {
      "needs_background": "light"
     },
     "output_type": "display_data"
    },
    {
     "data": {
      "image/png": "[encoded data removed]",
      "text/plain": [
       "<Figure size 432x288 with 1 Axes>"
      ]
     },
     "metadata": {
      "needs_background": "light"
     },
     "output_type": "display_data"
    },
    {
     "data": {
      "image/png": "[encoded data removed]",
      "text/plain": [
       "<Figure size 432x288 with 1 Axes>"
      ]
     },
     "metadata": {
      "needs_background": "light"
     },
     "output_type": "display_data"
    },
    {
     "data": {
      "image/png": "[encoded data removed]",
      "text/plain": [
       "<Figure size 432x288 with 1 Axes>"
      ]
     },
     "metadata": {
      "needs_background": "light"
     },
     "output_type": "display_data"
    },
    {
     "data": {
      "image/png": "[encoded data removed]",
      "text/plain": [
       "<Figure size 432x288 with 1 Axes>"
      ]
     },
     "metadata": {
      "needs_background": "light"
     },
     "output_type": "display_data"
    },
    {
     "data": {
      "image/png": "[encoded data removed]",
      "text/plain": [
       "<Figure size 432x288 with 1 Axes>"
      ]
     },
     "metadata": {
      "needs_background": "light"
     },
     "output_type": "display_data"
    },
    {
     "data": {
      "image/png": "[encoded data removed]",
      "text/plain": [
       "<Figure size 432x288 with 1 Axes>"
      ]
     },
     "metadata": {
      "needs_background": "light"
     },
     "output_type": "display_data"
    },
    {
     "data": {
      "image/png": "[encoded data removed]",
      "text/plain": [
       "<Figure size 432x288 with 1 Axes>"
      ]
     },
     "metadata": {
      "needs_background": "light"
     },
     "output_type": "display_data"
    },
    {
     "data": {
      "image/png": "[encoded data removed]",
      "text/plain": [
       "<Figure size 432x288 with 1 Axes>"
      ]
     },
     "metadata": {
      "needs_background": "light"
     },
     "output_type": "display_data"
    },
    {
     "data": {
      "image/png": "[encoded data removed]",
      "text/plain": [
       "<Figure size 432x288 with 1 Axes>"
      ]
     },
     "metadata": {
      "needs_background": "light"
     },
     "output_type": "display_data"
    },
    {
     "data": {
      "image/png": "[encoded data removed]",
      "text/plain": [
       "<Figure size 432x288 with 1 Axes>"
      ]
     },
     "metadata": {
      "needs_background": "light"
     },
     "output_type": "display_data"
    },
    {
     "data": {
      "image/png": "[encoded data removed]",
      "text/plain": [
       "<Figure size 432x288 with 1 Axes>"
      ]
     },
     "metadata": {
      "needs_background": "light"
     },
     "output_type": "display_data"
    },
    {
     "data": {
      "image/png": "[encoded data removed]",
      "text/plain": [
       "<Figure size 432x288 with 1 Axes>"
      ]
     },
     "metadata": {
      "needs_background": "light"
     },
     "output_type": "display_data"
    },
    {
     "data": {
      "image/png": "[encoded data removed]",
      "text/plain": [
       "<Figure size 432x288 with 1 Axes>"
      ]
     },
     "metadata": {
      "needs_background": "light"
     },
     "output_type": "display_data"
    }
   ],
   "source": [
    "for method in ['linear', 'index', 'values', 'nearest', 'zero',\n",
    "              'slinear', 'quadratic', 'cubic', 'barycentric', 'krogh'\n",
    "              ,'pchip']: # + 'time'\n",
    "            # 'piecewise_polynomial' produce: ZeroDivisionError: integer division or modulo by zero\n",
    "            print (method)\n",
    "            dff.interpolate(method=method).plot(title=\"method='{}'\".format(method))\n",
    "\n",
    "for method in ['polynomial', 'spline']:\n",
    "    for order in range(1, 5):\n",
    "        print (method, order)\n",
    "        dff.interpolate(method=method, order=order).plot(title=\"method='{}', order={}\".format(method, order))"
   ]
  },
  {
   "cell_type": "code",
   "execution_count": null,
   "metadata": {
    "ExecuteTime": {
     "start_time": "2020-03-20T10:18:52.567Z"
    }
   },
   "outputs": [],
   "source": [
    "help(dff.interpolate)"
   ]
  },
  {
   "cell_type": "code",
   "execution_count": null,
   "metadata": {
    "ExecuteTime": {
     "start_time": "2020-03-20T10:18:52.576Z"
    }
   },
   "outputs": [],
   "source": [
    "# dff.interpolate(method='piecewise_polynomial')\n",
    "# ZeroDivisionError: integer division or modulo by zero\n",
    "# @BUG https://github.com/pydata/pandas/issues/10365"
   ]
  },
  {
   "cell_type": "markdown",
   "metadata": {},
   "source": [
    "##### Krogh"
   ]
  },
  {
   "cell_type": "code",
   "execution_count": null,
   "metadata": {
    "ExecuteTime": {
     "start_time": "2020-03-20T10:18:52.586Z"
    }
   },
   "outputs": [],
   "source": [
    "dff.interpolate(method='krogh')"
   ]
  },
  {
   "cell_type": "code",
   "execution_count": null,
   "metadata": {
    "ExecuteTime": {
     "start_time": "2020-03-20T10:18:52.594Z"
    }
   },
   "outputs": [],
   "source": [
    "features = pandas.read_csv('features.csv', index_col='match_id')\n",
    "features.head()"
   ]
  },
  {
   "cell_type": "code",
   "execution_count": null,
   "metadata": {
    "ExecuteTime": {
     "start_time": "2020-03-20T10:18:52.602Z"
    }
   },
   "outputs": [],
   "source": [
    "# Count Nulls\n",
    "cnt = features.isnull().sum()\n",
    "cnt[cnt > 0]"
   ]
  },
  {
   "cell_type": "code",
   "execution_count": null,
   "metadata": {
    "ExecuteTime": {
     "start_time": "2020-03-20T10:18:52.610Z"
    }
   },
   "outputs": [],
   "source": [
    "features.interpolate(method='krogh', inplace=True)"
   ]
  },
  {
   "cell_type": "code",
   "execution_count": null,
   "metadata": {
    "ExecuteTime": {
     "start_time": "2020-03-20T10:18:52.617Z"
    }
   },
   "outputs": [],
   "source": [
    "# Count Nulls\n",
    "cnt = features.isnull().sum()\n",
    "cnt[cnt > 0]"
   ]
  },
  {
   "cell_type": "markdown",
   "metadata": {},
   "source": [
    "## DataFrame diff\n",
    "\n",
    "http://stackoverflow.com/questions/17095101/outputting-difference-in-two-pandas-dataframes-side-by-side-highlighting-the-d"
   ]
  },
  {
   "cell_type": "code",
   "execution_count": null,
   "metadata": {
    "ExecuteTime": {
     "start_time": "2020-03-20T10:18:52.629Z"
    }
   },
   "outputs": [],
   "source": [
    "a1 = DataFrame(numpy.random.randint(5, 10, size=(7, 3)), columns=list('ABC'))\n",
    "a1.drop(a1.index[[4,5]], inplace=True)\n",
    "a1"
   ]
  },
  {
   "cell_type": "code",
   "execution_count": null,
   "metadata": {
    "ExecuteTime": {
     "start_time": "2020-03-20T10:18:52.636Z"
    }
   },
   "outputs": [],
   "source": [
    "b1 = a1.copy()\n",
    "b1.loc[0,'C'] = numpy.nan\n",
    "b1.loc[1,'A'] = 77\n",
    "b1.loc[3,'B'] = 777\n",
    "#b1.iloc[4,2] = 7777\n",
    "b1.loc[6,'C'] = 7777 # Equivalent to iloc above. Note 4 an 6 row num difference because index not sequential!\n",
    "# Add row will not work: a[a != b]: ValueError: Can only compare identically-labeled DataFrame objects\n",
    "# b.loc[len(b)] = ( 1, 11, 111 )\n",
    "b1"
   ]
  },
  {
   "cell_type": "markdown",
   "metadata": {},
   "source": [
    "### Direct !="
   ]
  },
  {
   "cell_type": "code",
   "execution_count": null,
   "metadata": {
    "ExecuteTime": {
     "start_time": "2020-03-20T10:18:52.647Z"
    }
   },
   "outputs": [],
   "source": [
    "# http://stackoverflow.com/a/17095364/307525\n",
    "a1 != b1"
   ]
  },
  {
   "cell_type": "code",
   "execution_count": null,
   "metadata": {
    "ExecuteTime": {
     "start_time": "2020-03-20T10:18:52.655Z"
    }
   },
   "outputs": [],
   "source": [
    "a1[a1 != b1]"
   ]
  },
  {
   "cell_type": "code",
   "execution_count": null,
   "metadata": {
    "ExecuteTime": {
     "start_time": "2020-03-20T10:18:52.664Z"
    }
   },
   "outputs": [],
   "source": [
    "# Show only rows with diff\n",
    "a1_diff = a1[a1 != b1]\n",
    "a1_diff[a1_diff.notnull().any(axis=1)]"
   ]
  },
  {
   "cell_type": "code",
   "execution_count": null,
   "metadata": {
    "ExecuteTime": {
     "start_time": "2020-03-20T10:18:52.674Z"
    }
   },
   "outputs": [],
   "source": [
    "# Show only rows with diff. One line\n",
    "a1[a1 != b1][numpy.any(a1 != b1, axis=1)]"
   ]
  },
  {
   "cell_type": "code",
   "execution_count": null,
   "metadata": {
    "ExecuteTime": {
     "start_time": "2020-03-20T10:18:52.684Z"
    }
   },
   "outputs": [],
   "source": [
    "a1[a1 != b1][numpy.any(a1 != b1, axis=1)].join(DataFrame('a<->b', index=a1.index, columns=['a<=>b'])).join(\n",
    "        b1[a1 != b1][numpy.any(a1 != b1, axis=1)]\n",
    "        ,lsuffix='_a'\n",
    ").fillna('')"
   ]
  },
  {
   "cell_type": "markdown",
   "metadata": {},
   "source": [
    "#### function DataFrameDiff"
   ]
  },
  {
   "cell_type": "code",
   "execution_count": null,
   "metadata": {},
   "outputs": [],
   "source": []
  },
  {
   "cell_type": "raw",
   "metadata": {},
   "source": []
  },
  {
   "cell_type": "code",
   "execution_count": null,
   "metadata": {
    "ExecuteTime": {
     "start_time": "2020-03-20T10:18:52.952Z"
    }
   },
   "outputs": [],
   "source": [
    "def DataFrameDiff(a_, b_, sep='a<->b', head_n=10, drop_empty_columns=True):\n",
    "    a = a_.sort_index(axis=1)\n",
    "    b = b_.sort_index(axis=1)\n",
    "    diff = a[a != b][numpy.any(a != b, axis=1)].join(DataFrame(sep, index=a.index, columns=['a<=>b'])).join(\n",
    "            b[a != b][numpy.any(a != b, axis=1)]\n",
    "            ,lsuffix='_a'\n",
    "    ).fillna('')\n",
    "\n",
    "    print ('Diff shape: ', diff.shape)\n",
    "    diff = diff.head(head_n)\n",
    "    if drop_empty_columns:\n",
    "        return diff[diff.columns[(diff != '').any()]]\n",
    "    else:\n",
    "        return diff"
   ]
  },
  {
   "cell_type": "code",
   "execution_count": null,
   "metadata": {
    "ExecuteTime": {
     "start_time": "2020-03-20T10:18:52.961Z"
    }
   },
   "outputs": [],
   "source": [
    "DataFrameDiff(a1, b1)"
   ]
  },
  {
   "cell_type": "markdown",
   "metadata": {},
   "source": [
    "### Compare not identical DataFrames\n",
    "\n",
    "http://stackoverflow.com/questions/20225110/comparing-two-dataframes-and-getting-the-differences"
   ]
  },
  {
   "cell_type": "code",
   "execution_count": null,
   "metadata": {
    "ExecuteTime": {
     "start_time": "2020-03-20T10:18:52.974Z"
    }
   },
   "outputs": [],
   "source": [
    "b3 = b2.drop(['C'], axis=1)\n",
    "b3"
   ]
  },
  {
   "cell_type": "code",
   "execution_count": null,
   "metadata": {
    "ExecuteTime": {
     "start_time": "2020-03-20T10:18:52.982Z"
    }
   },
   "outputs": [],
   "source": [
    "# DataFrameDiff(a1, b3)\n",
    "# ValueError: Can only compare identically-labeled DataFrame objects"
   ]
  },
  {
   "cell_type": "code",
   "execution_count": null,
   "metadata": {
    "ExecuteTime": {
     "start_time": "2020-03-20T10:18:52.988Z"
    }
   },
   "outputs": [],
   "source": [
    "df = pandas.concat([a1, b3])\n",
    "df = df.reset_index(drop=True)\n",
    "\n",
    "# group by\n",
    "df_gpby = df.groupby(list(a1.columns))\n",
    "\n",
    "# get index of unique records\n",
    "idx = [x[0] for x in df_gpby.groups.values() if len(x) == 1]\n",
    "\n",
    "# filter\n",
    "df.reindex(idx)\n",
    "\n",
    "#df"
   ]
  },
  {
   "cell_type": "markdown",
   "metadata": {},
   "source": [
    "### Sort columns (Workaround ValueError: Can only compare identically-labeled DataFrame objects)"
   ]
  },
  {
   "cell_type": "code",
   "execution_count": null,
   "metadata": {
    "ExecuteTime": {
     "start_time": "2020-03-20T10:18:52.999Z"
    },
    "scrolled": true
   },
   "outputs": [],
   "source": [
    "# Same data, different column order\n",
    "# NOT dataframe copy, new instead\n",
    "b2 = DataFrame('', index=a1.index, columns=list('CBA'))\n",
    "b2.C = a1.C\n",
    "b2.B = a1.B\n",
    "b2.A = a1.A\n",
    "\n",
    "b2.loc[0,'C'] = numpy.nan\n",
    "b2.loc[1,'A'] = 77\n",
    "b2.loc[3,'A'] = 777\n",
    "#b2.iloc[4,2] = 7777\n",
    "b2.loc[6,'C'] = 7777 # Equivalent to iloc above. Note 4 an 6 row num difference because index not sequential!\n",
    "b2"
   ]
  },
  {
   "cell_type": "code",
   "execution_count": null,
   "metadata": {
    "ExecuteTime": {
     "start_time": "2020-03-20T10:18:53.008Z"
    }
   },
   "outputs": [],
   "source": [
    "# a1 != b2\n",
    "# ValueError: Can only compare identically-labeled DataFrame objects"
   ]
  },
  {
   "cell_type": "code",
   "execution_count": null,
   "metadata": {
    "ExecuteTime": {
     "start_time": "2020-03-20T10:18:53.015Z"
    }
   },
   "outputs": [],
   "source": [
    "a1"
   ]
  },
  {
   "cell_type": "code",
   "execution_count": null,
   "metadata": {
    "ExecuteTime": {
     "start_time": "2020-03-20T10:18:53.022Z"
    }
   },
   "outputs": [],
   "source": [
    "b2.sort_index(axis=1)"
   ]
  },
  {
   "cell_type": "code",
   "execution_count": null,
   "metadata": {
    "ExecuteTime": {
     "start_time": "2020-03-20T10:18:53.030Z"
    }
   },
   "outputs": [],
   "source": [
    "a1 != b2.sort_index(axis=1)"
   ]
  },
  {
   "cell_type": "code",
   "execution_count": null,
   "metadata": {
    "ExecuteTime": {
     "start_time": "2020-03-20T10:18:53.037Z"
    }
   },
   "outputs": [],
   "source": [
    "DataFrameDiff(a1, b1)"
   ]
  },
  {
   "cell_type": "code",
   "execution_count": null,
   "metadata": {
    "ExecuteTime": {
     "start_time": "2020-03-20T10:18:53.045Z"
    }
   },
   "outputs": [],
   "source": [
    "DataFrameDiff(a1, b2)"
   ]
  },
  {
   "cell_type": "markdown",
   "metadata": {},
   "source": [
    "### DataFrame columns correlations\n",
    "\n",
    "Example from: http://stackoverflow.com/questions/24002820/returning-groups-of-correlated-columns-in-pandas-data-frame"
   ]
  },
  {
   "cell_type": "code",
   "execution_count": null,
   "metadata": {
    "ExecuteTime": {
     "start_time": "2020-03-20T10:18:53.056Z"
    }
   },
   "outputs": [],
   "source": [
    "df = pandas.DataFrame( {'one':[0.1, .32, .2, 0.4, 0.8], 'two':[.23, .18, .56, .61, .12], 'three':[.9, .3, .6, .5, .3], 'four':[.34, .75, .91, .19, .21], 'zive': [0.1, .32, .2, 0.4, 0.8], 'six':[.9, .3, .6, .5, .3], 'drive':[.9, .3, .6, .5, .3]})\n",
    "\n",
    "corr = df.corr()\n",
    "corr"
   ]
  },
  {
   "cell_type": "code",
   "execution_count": null,
   "metadata": {
    "ExecuteTime": {
     "start_time": "2020-03-20T10:18:53.064Z"
    }
   },
   "outputs": [],
   "source": [
    "# See PlotSandbox.ipynb\n",
    "import matplotlib.pyplot as plt\n",
    "%matplotlib inline\n",
    "plt.matshow(corr)"
   ]
  },
  {
   "cell_type": "markdown",
   "metadata": {},
   "source": [
    "#### Find tight correlated: Full solution http://stackoverflow.com/questions/24002820/returning-groups-of-correlated-columns-in-pandas-data-frame"
   ]
  },
  {
   "cell_type": "code",
   "execution_count": null,
   "metadata": {
    "ExecuteTime": {
     "start_time": "2020-03-20T10:18:53.075Z"
    }
   },
   "outputs": [],
   "source": [
    "cor = corr\n",
    "cor.loc[:] = numpy.tril(cor, k=-1)\n",
    "cor = cor.stack()\n",
    "cor[cor > 0.9]"
   ]
  },
  {
   "cell_type": "markdown",
   "metadata": {},
   "source": [
    "##### Step-by-step"
   ]
  },
  {
   "cell_type": "code",
   "execution_count": null,
   "metadata": {
    "ExecuteTime": {
     "start_time": "2020-03-20T10:18:53.086Z"
    }
   },
   "outputs": [],
   "source": [
    "cor = corr\n",
    "numpy.tril(cor, k=-1)"
   ]
  },
  {
   "cell_type": "code",
   "execution_count": null,
   "metadata": {
    "ExecuteTime": {
     "start_time": "2020-03-20T10:18:53.095Z"
    }
   },
   "outputs": [],
   "source": [
    "cor.loc[:,:] = numpy.tril(cor, k=-1)\n",
    "cor"
   ]
  },
  {
   "cell_type": "code",
   "execution_count": null,
   "metadata": {
    "ExecuteTime": {
     "start_time": "2020-03-20T10:18:53.103Z"
    }
   },
   "outputs": [],
   "source": [
    "cor = cor.stack()\n",
    "cor"
   ]
  },
  {
   "cell_type": "code",
   "execution_count": null,
   "metadata": {
    "ExecuteTime": {
     "start_time": "2020-03-20T10:18:53.112Z"
    },
    "scrolled": true
   },
   "outputs": [],
   "source": [
    "cor[cor > 0.9]"
   ]
  },
  {
   "cell_type": "markdown",
   "metadata": {},
   "source": [
    "## Statistics statsmodel\n",
    "\n",
    "http://stackoverflow.com/questions/22054964/ols-regression-scikit-vs-statsmodels\n",
    "\n",
    "http://statsmodels.sourceforge.net/devel/example_formulas.html"
   ]
  },
  {
   "cell_type": "code",
   "execution_count": null,
   "metadata": {
    "ExecuteTime": {
     "start_time": "2020-03-20T10:18:53.123Z"
    }
   },
   "outputs": [],
   "source": [
    "import statsmodels.api as sm\n",
    "from sklearn.linear_model import LinearRegression\n",
    "\n",
    "# Generate artificial data (2 regressors + constant)\n",
    "nobs = 100 \n",
    "X = numpy.random.random((nobs, 2)) \n",
    "X = sm.add_constant(X)\n",
    "beta = [1, .1, .5] \n",
    "e = numpy.random.random(nobs)\n",
    "y = numpy.dot(X, beta) + e \n",
    "\n",
    "X"
   ]
  },
  {
   "cell_type": "code",
   "execution_count": null,
   "metadata": {
    "ExecuteTime": {
     "start_time": "2020-03-20T10:18:53.130Z"
    }
   },
   "outputs": [],
   "source": [
    "y"
   ]
  },
  {
   "cell_type": "code",
   "execution_count": null,
   "metadata": {
    "ExecuteTime": {
     "start_time": "2020-03-20T10:18:53.138Z"
    }
   },
   "outputs": [],
   "source": [
    "# Fit regression model\n",
    "sm.OLS(y, X).fit().params\n",
    "#>> array([ 1.4507724 ,  0.08612654,  0.60129898])"
   ]
  },
  {
   "cell_type": "code",
   "execution_count": null,
   "metadata": {
    "ExecuteTime": {
     "start_time": "2020-03-20T10:18:53.146Z"
    }
   },
   "outputs": [],
   "source": [
    "LinearRegression(fit_intercept=False).fit(X, y).coef_\n",
    "#>> array([ 1.4507724 ,  0.08612654,  0.60129898])"
   ]
  },
  {
   "cell_type": "markdown",
   "metadata": {},
   "source": [
    "### Formulas"
   ]
  },
  {
   "cell_type": "code",
   "execution_count": null,
   "metadata": {
    "ExecuteTime": {
     "start_time": "2020-03-20T10:18:53.157Z"
    }
   },
   "outputs": [],
   "source": [
    "res = DataFrame(columns=['n_estimators', 'auc_roc', 'time_elapsed']);\n",
    "res.loc[len(res)] = [ 10, 0.71, 100 ]\n",
    "res.loc[len(res)] = [ 20, 0.72, 200 ]\n",
    "res.loc[len(res)] = [ 30, 0.73, 300 ]\n",
    "res.loc[len(res)+1] = [ 40, 0.74, 400 ]\n",
    "res.loc[len(res)+2] = [ 50, 0.70, 500 ]\n",
    "res"
   ]
  },
  {
   "cell_type": "code",
   "execution_count": null,
   "metadata": {
    "ExecuteTime": {
     "start_time": "2020-03-20T10:18:53.165Z"
    }
   },
   "outputs": [],
   "source": [
    "y, X = dmatrices('levels ~ week + character + guild')"
   ]
  },
  {
   "cell_type": "markdown",
   "metadata": {},
   "source": [
    "# Dict"
   ]
  },
  {
   "cell_type": "code",
   "execution_count": null,
   "metadata": {
    "ExecuteTime": {
     "start_time": "2020-03-20T10:18:53.176Z"
    }
   },
   "outputs": [],
   "source": [
    "result = []\n",
    "result.append({'testName': 'one', 'date': [1, 2, 3], 'desc': 'Some description'})\n",
    "result"
   ]
  },
  {
   "cell_type": "code",
   "execution_count": null,
   "metadata": {
    "ExecuteTime": {
     "start_time": "2020-03-20T10:18:53.183Z"
    }
   },
   "outputs": [],
   "source": [
    "res = {}\n",
    "res['secondTest'] = {'description': 'Some description of data', 'data': [1, 2, 3]}\n",
    "res['thirdTest'] = {'description': 'Some another data', 'data': numpy.round(numpy.random.randn(4), 2)}\n",
    "res"
   ]
  },
  {
   "cell_type": "markdown",
   "metadata": {},
   "source": [
    "## Check key present"
   ]
  },
  {
   "cell_type": "code",
   "execution_count": null,
   "metadata": {
    "ExecuteTime": {
     "start_time": "2020-03-20T10:18:53.194Z"
    }
   },
   "outputs": [],
   "source": [
    "d = {'one': 1, 'two': 2}\n",
    "d"
   ]
  },
  {
   "cell_type": "code",
   "execution_count": null,
   "metadata": {
    "ExecuteTime": {
     "start_time": "2020-03-20T10:18:53.203Z"
    }
   },
   "outputs": [],
   "source": [
    "print ('one' in d)"
   ]
  },
  {
   "cell_type": "markdown",
   "metadata": {},
   "source": [
    "# Series"
   ]
  },
  {
   "cell_type": "markdown",
   "metadata": {},
   "source": [
    "## Indexing\n",
    "\n",
    "http://pandas.pydata.org/pandas-docs/stable/indexing.html#indexing-with-isin\n",
    "found interesting example: `numpy.arange(5)[::-1]`"
   ]
  },
  {
   "cell_type": "code",
   "execution_count": null,
   "metadata": {
    "ExecuteTime": {
     "start_time": "2020-03-20T10:18:53.220Z"
    }
   },
   "outputs": [],
   "source": [
    "numpy.arange(5)[::-1]"
   ]
  },
  {
   "cell_type": "code",
   "execution_count": null,
   "metadata": {
    "ExecuteTime": {
     "start_time": "2020-03-20T10:18:53.229Z"
    }
   },
   "outputs": [],
   "source": [
    "s = numpy.arange(5)\n",
    "s"
   ]
  },
  {
   "cell_type": "code",
   "execution_count": null,
   "metadata": {
    "ExecuteTime": {
     "start_time": "2020-03-20T10:18:53.240Z"
    }
   },
   "outputs": [],
   "source": [
    "s[0]"
   ]
  },
  {
   "cell_type": "code",
   "execution_count": null,
   "metadata": {
    "ExecuteTime": {
     "start_time": "2020-03-20T10:18:53.249Z"
    }
   },
   "outputs": [],
   "source": [
    "s[:]"
   ]
  },
  {
   "cell_type": "code",
   "execution_count": null,
   "metadata": {
    "ExecuteTime": {
     "start_time": "2020-03-20T10:18:53.258Z"
    }
   },
   "outputs": [],
   "source": [
    "s[::]"
   ]
  },
  {
   "cell_type": "code",
   "execution_count": null,
   "metadata": {
    "ExecuteTime": {
     "start_time": "2020-03-20T10:18:53.266Z"
    }
   },
   "outputs": [],
   "source": [
    "s[:-1:]"
   ]
  },
  {
   "cell_type": "code",
   "execution_count": null,
   "metadata": {
    "ExecuteTime": {
     "start_time": "2020-03-20T10:18:53.274Z"
    }
   },
   "outputs": [],
   "source": [
    "s[:3]"
   ]
  },
  {
   "cell_type": "code",
   "execution_count": null,
   "metadata": {
    "ExecuteTime": {
     "start_time": "2020-03-20T10:18:53.283Z"
    }
   },
   "outputs": [],
   "source": [
    "s[::2]"
   ]
  },
  {
   "cell_type": "markdown",
   "metadata": {},
   "source": [
    "### is in\n",
    "\n",
    "http://pandas.pydata.org/pandas-docs/stable/indexing.html#indexing-with-isin"
   ]
  },
  {
   "cell_type": "code",
   "execution_count": null,
   "metadata": {
    "ExecuteTime": {
     "start_time": "2020-03-20T10:18:53.294Z"
    }
   },
   "outputs": [],
   "source": [
    "s = pandas.Series(numpy.arange(5), index=numpy.arange(5)[::-1], dtype='int64')\n",
    "s"
   ]
  },
  {
   "cell_type": "code",
   "execution_count": null,
   "metadata": {
    "ExecuteTime": {
     "start_time": "2020-03-20T10:18:53.303Z"
    }
   },
   "outputs": [],
   "source": [
    "s.isin([2, 4, 6])"
   ]
  },
  {
   "cell_type": "code",
   "execution_count": null,
   "metadata": {
    "ExecuteTime": {
     "start_time": "2020-03-20T10:18:53.310Z"
    }
   },
   "outputs": [],
   "source": [
    "In [130]: s[s.isin([2, 4, 6])]"
   ]
  },
  {
   "cell_type": "markdown",
   "metadata": {},
   "source": [
    "## Random"
   ]
  },
  {
   "cell_type": "code",
   "execution_count": null,
   "metadata": {
    "ExecuteTime": {
     "start_time": "2020-03-20T10:18:53.322Z"
    }
   },
   "outputs": [],
   "source": [
    "numpy.random.randn(5, 3)"
   ]
  },
  {
   "cell_type": "code",
   "execution_count": null,
   "metadata": {
    "ExecuteTime": {
     "start_time": "2020-03-20T10:18:53.332Z"
    }
   },
   "outputs": [],
   "source": [
    "numpy.random.randn(3)"
   ]
  },
  {
   "cell_type": "code",
   "execution_count": null,
   "metadata": {
    "ExecuteTime": {
     "start_time": "2020-03-20T10:18:53.340Z"
    }
   },
   "outputs": [],
   "source": [
    "numpy.random.randn()"
   ]
  },
  {
   "cell_type": "code",
   "execution_count": null,
   "metadata": {
    "ExecuteTime": {
     "start_time": "2020-03-20T10:18:53.350Z"
    }
   },
   "outputs": [],
   "source": [
    "numpy.random.random(5)"
   ]
  },
  {
   "cell_type": "code",
   "execution_count": null,
   "metadata": {
    "ExecuteTime": {
     "start_time": "2020-03-20T10:18:53.359Z"
    }
   },
   "outputs": [],
   "source": [
    "# Example from help: Two-by-four array of samples from N(3, 6.25):\n",
    "2.5 * numpy.random.randn(2, 4) + 3"
   ]
  },
  {
   "cell_type": "code",
   "execution_count": null,
   "metadata": {
    "ExecuteTime": {
     "start_time": "2020-03-20T10:18:53.370Z"
    }
   },
   "outputs": [],
   "source": [
    "numpy.ceil(numpy.random.randn(4))"
   ]
  },
  {
   "cell_type": "code",
   "execution_count": null,
   "metadata": {
    "ExecuteTime": {
     "start_time": "2020-03-20T10:18:53.378Z"
    }
   },
   "outputs": [],
   "source": [
    "numpy.round(numpy.random.randn(4), 2)"
   ]
  },
  {
   "cell_type": "code",
   "execution_count": null,
   "metadata": {
    "ExecuteTime": {
     "start_time": "2020-03-20T10:18:53.386Z"
    }
   },
   "outputs": [],
   "source": [
    "numpy.random.standard_normal()"
   ]
  },
  {
   "cell_type": "code",
   "execution_count": null,
   "metadata": {
    "ExecuteTime": {
     "start_time": "2020-03-20T10:18:53.395Z"
    }
   },
   "outputs": [],
   "source": [
    "numpy.random.standard_normal(3)"
   ]
  },
  {
   "cell_type": "code",
   "execution_count": null,
   "metadata": {
    "ExecuteTime": {
     "start_time": "2020-03-20T10:18:53.405Z"
    }
   },
   "outputs": [],
   "source": [
    "numpy.random.randint(1, 10)"
   ]
  },
  {
   "cell_type": "code",
   "execution_count": null,
   "metadata": {
    "ExecuteTime": {
     "start_time": "2020-03-20T10:18:53.414Z"
    }
   },
   "outputs": [],
   "source": [
    "numpy.random.randint(5, 10, size=(4, 2))"
   ]
  },
  {
   "cell_type": "markdown",
   "metadata": {},
   "source": [
    "## Time series"
   ]
  },
  {
   "cell_type": "code",
   "execution_count": null,
   "metadata": {
    "ExecuteTime": {
     "start_time": "2020-03-20T10:18:53.427Z"
    }
   },
   "outputs": [],
   "source": [
    "# http://stackoverflow.com/questions/23543909/plotting-pandas-timedelta\n",
    "pandas.to_timedelta(numpy.arange(5),unit='s')"
   ]
  },
  {
   "cell_type": "code",
   "execution_count": null,
   "metadata": {
    "ExecuteTime": {
     "start_time": "2020-03-20T10:18:53.437Z"
    }
   },
   "outputs": [],
   "source": [
    "pandas.to_timedelta(abs(numpy.random.randn(5)) * 10, unit='s')"
   ]
  },
  {
   "cell_type": "code",
   "execution_count": null,
   "metadata": {
    "ExecuteTime": {
     "start_time": "2020-03-20T10:18:53.446Z"
    }
   },
   "outputs": [],
   "source": [
    "pandas.to_timedelta(abs(numpy.random.randn()) * 10, unit='s')"
   ]
  },
  {
   "cell_type": "markdown",
   "metadata": {},
   "source": [
    "### Time measure\n",
    "http://stackoverflow.com/questions/85451/python-time-clock-vs-time-time-accuracy\n",
    "\n",
    "https://docs.python.org/3/library/time.html#time.perf_counter\n",
    "\n",
    "https://docs.python.org/3/library/time.html#time.process_time"
   ]
  },
  {
   "cell_type": "code",
   "execution_count": null,
   "metadata": {
    "ExecuteTime": {
     "start_time": "2020-03-20T10:18:53.461Z"
    }
   },
   "outputs": [],
   "source": [
    "# Borrowed from https://gist.github.com/zed/5073409 (http://stackoverflow.com/questions/15176619/timing-the-cpu-time-of-a-python-program)\n",
    "# implementation of process_time function for Python 2 (backport)\n",
    "\"\"\"time.process_time() and time.perf_counter() for Python 2\"\"\"\n",
    "import ctypes\n",
    "import errno\n",
    "from ctypes.util import find_library\n",
    "from functools import partial\n",
    "\n",
    "CLOCK_PROCESS_CPUTIME_ID = 2  # time.h\n",
    "CLOCK_MONOTONIC_RAW = 4\n",
    "\n",
    "clockid_t = ctypes.c_int\n",
    "time_t = ctypes.c_long\n",
    "\n",
    "\n",
    "class timespec(ctypes.Structure):\n",
    "    _fields_ = [\n",
    "        ('tv_sec', time_t),         # seconds\n",
    "        ('tv_nsec', ctypes.c_long)  # nanoseconds\n",
    "    ]\n",
    "_clock_gettime = ctypes.CDLL(find_library('rt'), use_errno=True).clock_gettime\n",
    "_clock_gettime.argtypes = [clockid_t, ctypes.POINTER(timespec)]\n",
    "\n",
    "\n",
    "def clock_gettime(clk_id):\n",
    "    tp = timespec()\n",
    "    if _clock_gettime(clk_id, ctypes.byref(tp)) < 0:\n",
    "        err = ctypes.get_errno()\n",
    "        msg = errno.errorcode[err]\n",
    "        if err == errno.EINVAL:\n",
    "            msg += (\" The clk_id specified is not supported on this system\"\n",
    "                    \" clk_id=%r\") % (clk_id,)\n",
    "        raise OSError(err, msg)\n",
    "    return tp.tv_sec + tp.tv_nsec * 1e-9\n",
    "\n",
    "try:\n",
    "    from time import perf_counter, process_time\n",
    "except ImportError:  # Python <3.3\n",
    "    perf_counter = partial(clock_gettime, CLOCK_MONOTONIC_RAW)\n",
    "    perf_counter.__name__ = 'perf_counter'\n",
    "    process_time = partial(clock_gettime, CLOCK_PROCESS_CPUTIME_ID)\n",
    "    process_time.__name__ = 'process_time'\n",
    "\n",
    "if __name__ == \"__main__\":\n",
    "    import random\n",
    "    import time\n",
    "    from itertools import repeat\n",
    "    from timeit import Timer, default_timer\n",
    "\n",
    "    print(\"process_time() doesn't include time.sleep(2):\")\n",
    "    timers = [default_timer, time.clock, process_time, perf_counter]\n",
    "    start_times = [t() for t in timers]\n",
    "    time.sleep(2)\n",
    "    _ = sum(random.random() - f for f in repeat(.5, 1000000))\n",
    "    for start, timer in zip(start_times, timers):\n",
    "        print(\"\\t%-12s %.3g\" % (timer.__name__, timer() - start))\n",
    "\n",
    "    # measure overhead\n",
    "    print(\"overhead (execute `pass` statement):\")\n",
    "    n = 10000000\n",
    "    for timer in timers:\n",
    "        t = min(Timer(timer=timer).repeat(number=n)) / n\n",
    "        print(\"\\t%-12s  %.2f ns\" % (timer.__name__, t*1e9))"
   ]
  },
  {
   "cell_type": "code",
   "execution_count": null,
   "metadata": {
    "ExecuteTime": {
     "start_time": "2020-03-20T10:18:53.472Z"
    }
   },
   "outputs": [],
   "source": [
    "# Demonstration\n",
    "import datetime\n",
    "\n",
    "start_time = datetime.datetime.now()\n",
    "cpu_start_time = process_time()\n",
    "_ = sum(random.random() - f for f in repeat(.5, 10000000)) # Some \"real\" workload\n",
    "time.sleep(2)\n",
    "cpu_time_diff = process_time() - cpu_start_time\n",
    "time_diff = datetime.datetime.now() - start_time\n",
    "print ('start_time={}, cpu_start_time={}, time_diff={}, cpu_time_diff(seconds)={}, cpu_time_diff(hr)={}'.format(\n",
    "    start_time, cpu_start_time, time_diff, cpu_time_diff, datetime.timedelta(seconds=cpu_time_diff)\n",
    "))"
   ]
  },
  {
   "cell_type": "markdown",
   "metadata": {},
   "source": [
    "## Date, Time"
   ]
  },
  {
   "cell_type": "code",
   "execution_count": null,
   "metadata": {
    "ExecuteTime": {
     "start_time": "2020-03-20T10:18:53.484Z"
    },
    "scrolled": true
   },
   "outputs": [],
   "source": [
    "# Pandas use different timedelta class: http://pandas.pydata.org/pandas-docs/stable/timedeltas.html\n",
    "datetime.timedelta"
   ]
  },
  {
   "cell_type": "code",
   "execution_count": null,
   "metadata": {
    "ExecuteTime": {
     "start_time": "2020-03-20T10:18:53.491Z"
    }
   },
   "outputs": [],
   "source": [
    "start_time = datetime.datetime.now()\n",
    "time.sleep(2)\n",
    "datetime.datetime.now() - start_time\n",
    "start_time"
   ]
  },
  {
   "cell_type": "code",
   "execution_count": null,
   "metadata": {
    "ExecuteTime": {
     "start_time": "2020-03-20T10:18:53.500Z"
    },
    "scrolled": true
   },
   "outputs": [],
   "source": [
    "# http://stackoverflow.com/questions/3694487/python-initialize-a-datetime-object-with-seconds-since-epoch\n",
    "print datetime.datetime.fromtimestamp(1284286794.123)"
   ]
  },
  {
   "cell_type": "markdown",
   "metadata": {},
   "source": [
    "## numpy.zeros"
   ]
  },
  {
   "cell_type": "code",
   "execution_count": null,
   "metadata": {
    "ExecuteTime": {
     "start_time": "2020-03-20T10:18:53.512Z"
    }
   },
   "outputs": [],
   "source": [
    "numpy.zeros((3, 6))"
   ]
  },
  {
   "cell_type": "markdown",
   "metadata": {},
   "source": [
    "## Timedelta\n",
    "\n",
    "Convert timedelta to milliseconds to plot: http://stackoverflow.com/questions/23543909/plotting-pandas-timedelta"
   ]
  },
  {
   "cell_type": "code",
   "execution_count": null,
   "metadata": {
    "ExecuteTime": {
     "start_time": "2020-03-20T10:18:53.523Z"
    }
   },
   "outputs": [],
   "source": [
    "(pandas.to_timedelta(numpy.arange(5),unit='d')+pandas.to_timedelta(1,unit='s')).astype('timedelta64[ms]')"
   ]
  },
  {
   "cell_type": "markdown",
   "metadata": {},
   "source": [
    "## Itertools"
   ]
  },
  {
   "cell_type": "code",
   "execution_count": null,
   "metadata": {
    "ExecuteTime": {
     "start_time": "2020-03-20T10:18:53.537Z"
    }
   },
   "outputs": [],
   "source": [
    "# https://gist.github.com/zed/5073409\n",
    "from itertools import repeat\n",
    "list(repeat(.5, 10))"
   ]
  },
  {
   "cell_type": "code",
   "execution_count": null,
   "metadata": {
    "ExecuteTime": {
     "start_time": "2020-03-20T10:18:53.545Z"
    }
   },
   "outputs": [],
   "source": [
    "numpy.power(10.0, numpy.arange(-3, 3))"
   ]
  },
  {
   "cell_type": "code",
   "execution_count": null,
   "metadata": {
    "ExecuteTime": {
     "start_time": "2020-03-20T10:18:53.555Z"
    }
   },
   "outputs": [],
   "source": [
    "numpy.arange(5)"
   ]
  },
  {
   "cell_type": "code",
   "execution_count": null,
   "metadata": {
    "ExecuteTime": {
     "start_time": "2020-03-20T10:18:53.563Z"
    }
   },
   "outputs": [],
   "source": [
    "list(range(5))"
   ]
  },
  {
   "cell_type": "code",
   "execution_count": null,
   "metadata": {
    "ExecuteTime": {
     "start_time": "2020-03-20T10:18:53.573Z"
    }
   },
   "outputs": [],
   "source": [
    "list(range(3, 5))"
   ]
  },
  {
   "cell_type": "code",
   "execution_count": null,
   "metadata": {
    "ExecuteTime": {
     "start_time": "2020-03-20T10:18:53.583Z"
    }
   },
   "outputs": [],
   "source": [
    "h = ['hero1', 'hero2', 'hero3', 'hero4', 'hero5']\n",
    "list(range(len(h)))"
   ]
  },
  {
   "cell_type": "code",
   "execution_count": null,
   "metadata": {
    "ExecuteTime": {
     "start_time": "2020-03-20T10:18:53.592Z"
    }
   },
   "outputs": [],
   "source": [
    "list( range(1, len(h)+1) )"
   ]
  },
  {
   "cell_type": "code",
   "execution_count": null,
   "metadata": {
    "ExecuteTime": {
     "start_time": "2020-03-20T10:18:53.602Z"
    }
   },
   "outputs": [],
   "source": [
    "ids = [1, 2, 4, 5]\n",
    "list( range(max(ids)+1) )"
   ]
  },
  {
   "cell_type": "markdown",
   "metadata": {},
   "source": [
    "# Lists"
   ]
  },
  {
   "cell_type": "markdown",
   "metadata": {},
   "source": [
    "## Intersection"
   ]
  },
  {
   "cell_type": "code",
   "execution_count": null,
   "metadata": {
    "ExecuteTime": {
     "start_time": "2020-03-20T10:18:53.623Z"
    }
   },
   "outputs": [],
   "source": [
    "l1 = list(\"ABCDEF\")\n",
    "l1\n",
    "l2 = list(\"BDFG\")\n",
    "# List intersection http://stackoverflow.com/questions/642763/python-intersection-of-two-lists\n",
    "set(l1) & set(l2)"
   ]
  },
  {
   "cell_type": "markdown",
   "metadata": {},
   "source": [
    "# Formatting"
   ]
  },
  {
   "cell_type": "markdown",
   "metadata": {},
   "source": [
    "## HTML, %%asmarkdown cell magic"
   ]
  },
  {
   "cell_type": "code",
   "execution_count": null,
   "metadata": {
    "ExecuteTime": {
     "start_time": "2020-03-20T10:18:53.644Z"
    }
   },
   "outputs": [],
   "source": [
    "# http://stackoverflow.com/a/13770691/307525\n",
    "from IPython.core.display import HTML\n",
    "\n",
    "raw_html = \"<i>Yah, rendered HTML</i>\"\n",
    "HTML(raw_html)\n"
   ]
  },
  {
   "cell_type": "code",
   "execution_count": null,
   "metadata": {
    "ExecuteTime": {
     "start_time": "2020-03-20T10:18:53.656Z"
    }
   },
   "outputs": [],
   "source": [
    "# %%asmarkdown cell magic\n",
    "# Borrowed from http://guido.vonrudorff.de/ipython-notebook-code-output-as-markdown/\n",
    "# (http://stackoverflow.com/questions/13770394/make-output-cells-like-markdown)\n",
    "from __future__ import absolute_import\n",
    "from IPython.core.getipython import get_ipython\n",
    "from IPython.core.magic import (Magics, magics_class,  cell_magic)\n",
    "import sys\n",
    "from io import StringIO\n",
    "from markdown import markdown\n",
    "from IPython.core.display import HTML\n",
    "\n",
    "@magics_class\n",
    "class MarkdownMagics(Magics):\n",
    "\n",
    "    @cell_magic\n",
    "    def asmarkdown(self, line, cell):\n",
    "        buffer = StringIO()\n",
    "        stdout = sys.stdout\n",
    "        sys.stdout = buffer\n",
    "        try:\n",
    "            exec(cell, locals(), self.shell.user_ns)\n",
    "        except:\n",
    "            sys.stdout = stdout\n",
    "            raise\n",
    "        sys.stdout = stdout\n",
    "        return HTML(\"<p>{}</p>\".format(markdown(buffer.getvalue(), extensions=['markdown.extensions.extra'])))\n",
    "        return buffer.getvalue() + 'test'\n",
    "\n",
    "get_ipython().register_magics(MarkdownMagics)"
   ]
  },
  {
   "cell_type": "code",
   "execution_count": null,
   "metadata": {
    "ExecuteTime": {
     "start_time": "2020-03-20T10:18:53.666Z"
    },
    "scrolled": true
   },
   "outputs": [],
   "source": [
    "%%asmarkdown\n",
    "print (\"\"\"\n",
    "<h2>Matplotlib's chart gallery (Click a chart to see the code to create it)</h2><br>\n",
    "<div align=\"center\"> <iframe title=\"Matplotlib Gallery\" width=\"950\"\n",
    "height=\"250\" src=\"http://matplotlib.org/gallery.html#api\" frameborder=\"0\"\n",
    "allowfullscreen></iframe></div>\n",
    "\"\"\")"
   ]
  },
  {
   "cell_type": "markdown",
   "metadata": {},
   "source": [
    "## DataFrame formatting\n",
    "\n",
    "http://pandas.pydata.org/pandas-docs/stable/options.html\n",
    "\n",
    "http://stackoverflow.com/questions/15006298/how-to-preview-a-part-of-a-large-pandas-dataframe\n",
    "\n",
    "http://stackoverflow.com/questions/11707586/python-pandas-widen-output-display\n",
    "\n",
    "http://stackoverflow.com/questions/19124601/is-there-a-way-to-pretty-print-the-entire-pandas-series-dataframe"
   ]
  },
  {
   "cell_type": "code",
   "execution_count": null,
   "metadata": {
    "ExecuteTime": {
     "start_time": "2020-03-20T10:18:53.679Z"
    },
    "init_cell": true
   },
   "outputs": [],
   "source": [
    "#import pandas as pd\n",
    "pandas.set_option('display.notebook_repr_html', True)\n",
    "# Both works, but add traing 0\n",
    "#pandas.set_option('display.precision', 20)\n",
    "#pandas.set_option('precision', 15)\n",
    "print(pandas.get_option('display.float_format'))\n",
    "# Do NOT use scentific -E notation before 15 digits in length\n",
    "pandas.set_option('display.float_format', lambda f: '{:,.15f}'.format(f).rstrip('0.'))\n",
    "fdf = pandas.DataFrame(numpy.array([\n",
    "            [2,4,0.01]\n",
    "           ,[4,3,0.000001]\n",
    "           ,[5,9,0.00000000001]]),columns=list('ABC'))\n",
    "#print(HTML(fdf.to_html()))\n",
    "print(fdf)\n",
    "fdf"
   ]
  },
  {
   "cell_type": "code",
   "execution_count": null,
   "metadata": {
    "ExecuteTime": {
     "start_time": "2020-03-20T10:18:53.686Z"
    }
   },
   "outputs": [],
   "source": [
    "'{:,.15f}'.format(0.0000123).rstrip('0')"
   ]
  },
  {
   "cell_type": "code",
   "execution_count": null,
   "metadata": {
    "ExecuteTime": {
     "start_time": "2020-03-20T10:18:53.695Z"
    }
   },
   "outputs": [],
   "source": [
    "# http://pandas.pydata.org/pandas-docs/stable/generated/pandas.describe_option.html#pandas.describe_option\n",
    "pandas.describe_option()"
   ]
  },
  {
   "cell_type": "markdown",
   "metadata": {},
   "source": [
    "# Categorical data\n",
    "\n",
    "http://pandas.pydata.org/pandas-docs/stable/categorical.html\n",
    "\n",
    "http://scikit-learn.org/stable/modules/generated/sklearn.preprocessing.OneHotEncoder.html#sklearn.preprocessing.OneHotEncoder"
   ]
  },
  {
   "cell_type": "markdown",
   "metadata": {},
   "source": [
    "## Cast series"
   ]
  },
  {
   "cell_type": "code",
   "execution_count": null,
   "metadata": {
    "ExecuteTime": {
     "start_time": "2020-03-20T10:18:53.710Z"
    }
   },
   "outputs": [],
   "source": [
    "s = pandas.Series(['foo','bar']*1000)\n",
    "s.head(15)"
   ]
  },
  {
   "cell_type": "markdown",
   "metadata": {},
   "source": [
    "## Cast DataFrame columns\n",
    "\n",
    "Have not found way for multiple columns at once"
   ]
  },
  {
   "cell_type": "code",
   "execution_count": null,
   "metadata": {
    "ExecuteTime": {
     "start_time": "2020-03-20T10:18:53.721Z"
    }
   },
   "outputs": [],
   "source": [
    "cdf = DataFrame(numpy.random.randint(1, 50, size=(10, 4)), columns=list('ABCD'))\n",
    "cdf"
   ]
  },
  {
   "cell_type": "code",
   "execution_count": null,
   "metadata": {
    "ExecuteTime": {
     "start_time": "2020-03-20T10:18:53.729Z"
    }
   },
   "outputs": [],
   "source": [
    "cdf.dtypes"
   ]
  },
  {
   "cell_type": "code",
   "execution_count": null,
   "metadata": {
    "ExecuteTime": {
     "start_time": "2020-03-20T10:18:53.740Z"
    }
   },
   "outputs": [],
   "source": [
    "for col in cdf.loc[:,'C':'D']:\n",
    "    print (col)\n",
    "    cdf[col] = cdf[col].astype('category')\n",
    "\n",
    "cdf.dtypes"
   ]
  },
  {
   "cell_type": "code",
   "execution_count": null,
   "metadata": {
    "ExecuteTime": {
     "start_time": "2020-03-20T10:18:53.750Z"
    }
   },
   "outputs": [],
   "source": [
    "# Try scale\n",
    "from sklearn.preprocessing import StandardScaler\n",
    "scaler = StandardScaler()\n",
    "\n",
    "cdf1 = DataFrame(scaler.fit_transform(cdf))\n",
    "cdf1"
   ]
  },
  {
   "cell_type": "code",
   "execution_count": null,
   "metadata": {
    "ExecuteTime": {
     "start_time": "2020-03-20T10:18:53.761Z"
    }
   },
   "outputs": [],
   "source": [
    "cdf1.dtypes"
   ]
  },
  {
   "cell_type": "markdown",
   "metadata": {},
   "source": [
    "## Pandas get_dummies (words bag)\n",
    "\n",
    "http://stackoverflow.com/questions/15021521/how-to-encode-a-categorical-variable-in-sklearn?lq=1\n",
    "\n",
    "http://pandas.pydata.org/pandas-docs/stable/generated/pandas.get_dummies.html"
   ]
  },
  {
   "cell_type": "code",
   "execution_count": null,
   "metadata": {
    "ExecuteTime": {
     "start_time": "2020-03-20T10:18:53.774Z"
    }
   },
   "outputs": [],
   "source": [
    "pd.get_dummies(cdf.D)"
   ]
  },
  {
   "cell_type": "code",
   "execution_count": null,
   "metadata": {
    "ExecuteTime": {
     "start_time": "2020-03-20T10:18:53.782Z"
    }
   },
   "outputs": [],
   "source": [
    "pd.get_dummies(cdf, columns=['C', 'D'])"
   ]
  },
  {
   "cell_type": "markdown",
   "metadata": {},
   "source": [
    "## sklearn.preprocessing.OneHotEncoder\n",
    "\n",
    "http://scikit-learn.org/stable/modules/generated/sklearn.preprocessing.OneHotEncoder.html#sklearn-preprocessing-onehotencoder"
   ]
  },
  {
   "cell_type": "code",
   "execution_count": null,
   "metadata": {
    "ExecuteTime": {
     "start_time": "2020-03-20T10:18:53.794Z"
    }
   },
   "outputs": [],
   "source": [
    ">>> from sklearn.preprocessing import OneHotEncoder\n",
    ">>> enc = OneHotEncoder()\n",
    ">>> enc.fit([[0, 0, 3], [1, 1, 0], [0, 2, 1], [1, 0, 2]])  \n",
    "\n",
    ">>> enc.n_values_\n",
    "\n",
    ">>> enc.feature_indices_\n",
    "\n",
    ">>> enc.transform([[0, 1, 1]]).toarray()\n"
   ]
  },
  {
   "cell_type": "markdown",
   "metadata": {},
   "source": [
    "## Memory consumption\n",
    "\n",
    "http://pandas.pydata.org/pandas-docs/stable/categorical.html#categorical-memory"
   ]
  },
  {
   "cell_type": "code",
   "execution_count": null,
   "metadata": {
    "ExecuteTime": {
     "start_time": "2020-03-20T10:18:53.805Z"
    }
   },
   "outputs": [],
   "source": [
    "# object dtype\n",
    "s.nbytes"
   ]
  },
  {
   "cell_type": "code",
   "execution_count": null,
   "metadata": {
    "ExecuteTime": {
     "start_time": "2020-03-20T10:18:53.813Z"
    }
   },
   "outputs": [],
   "source": [
    "# category dtype\n",
    "sc = s.astype('category')\n",
    "sc.head(15)"
   ]
  },
  {
   "cell_type": "code",
   "execution_count": null,
   "metadata": {
    "ExecuteTime": {
     "start_time": "2020-03-20T10:18:53.820Z"
    }
   },
   "outputs": [],
   "source": [
    "sc.nbytes"
   ]
  },
  {
   "cell_type": "markdown",
   "metadata": {},
   "source": [
    "## Cut (bucket ranging)"
   ]
  },
  {
   "cell_type": "code",
   "execution_count": null,
   "metadata": {
    "ExecuteTime": {
     "start_time": "2020-03-20T10:18:53.832Z"
    }
   },
   "outputs": [],
   "source": [
    "df = pandas.DataFrame({'value': numpy.random.randint(0, 100, 20)})\n",
    "df"
   ]
  },
  {
   "cell_type": "code",
   "execution_count": null,
   "metadata": {
    "ExecuteTime": {
     "start_time": "2020-03-20T10:18:53.840Z"
    }
   },
   "outputs": [],
   "source": [
    "labels = [ \"{0} - {1}\".format(i, i + 9) for i in range(0, 100, 10) ]\n",
    "labels"
   ]
  },
  {
   "cell_type": "code",
   "execution_count": null,
   "metadata": {
    "ExecuteTime": {
     "start_time": "2020-03-20T10:18:53.847Z"
    }
   },
   "outputs": [],
   "source": [
    "df['group'] = pandas.cut(df.value, range(0, 105, 10), right=False, labels=labels)\n",
    "df.head(10)"
   ]
  },
  {
   "cell_type": "code",
   "execution_count": null,
   "metadata": {
    "ExecuteTime": {
     "start_time": "2020-03-20T10:18:53.854Z"
    }
   },
   "outputs": [],
   "source": [
    "df['group'].dtype"
   ]
  },
  {
   "cell_type": "code",
   "execution_count": null,
   "metadata": {
    "ExecuteTime": {
     "start_time": "2020-03-20T10:18:53.862Z"
    }
   },
   "outputs": [],
   "source": [
    "df"
   ]
  },
  {
   "cell_type": "code",
   "execution_count": null,
   "metadata": {
    "ExecuteTime": {
     "start_time": "2020-03-20T10:18:53.870Z"
    }
   },
   "outputs": [],
   "source": [
    "df.describe()"
   ]
  },
  {
   "cell_type": "code",
   "execution_count": null,
   "metadata": {
    "ExecuteTime": {
     "start_time": "2020-03-20T10:18:53.881Z"
    }
   },
   "outputs": [],
   "source": [
    "df.group.describe()"
   ]
  },
  {
   "cell_type": "markdown",
   "metadata": {},
   "source": [
    "# Fitting\n",
    "\n",
    "My question http://stackoverflow.com/questions/36271166/how-to-get-comparable-and-reproducible-results-from-logisticregressioncv-and-gri\n",
    "\n",
    "Good example how to provide parameters to classifier:\n",
    "http://stackoverflow.com/questions/32889929/gridsearchcv-scoring-parameter-using-scoring-f1-or-scoring-none-by-default-u\n",
    "\n",
    "Some speedup may be with different solvers also:\n",
    "https://kwtrnka.wordpress.com/2015/10/21/feature-scaling-is-important-but-not-how-i-expected/"
   ]
  },
  {
   "cell_type": "code",
   "execution_count": null,
   "metadata": {
    "ExecuteTime": {
     "start_time": "2020-03-20T10:18:53.894Z"
    }
   },
   "outputs": [],
   "source": [
    "import platform; print(platform.platform())\n",
    "import sys; print(\"Python\", sys.version)\n",
    "import numpy; print(\"NumPy\", numpy.__version__)\n",
    "import scipy; print(\"SciPy\", scipy.__version__)\n",
    "import sklearn; print(\"Scikit-Learn\", sklearn.__version__)"
   ]
  },
  {
   "cell_type": "code",
   "execution_count": null,
   "metadata": {
    "ExecuteTime": {
     "start_time": "2020-03-20T10:18:53.901Z"
    }
   },
   "outputs": [],
   "source": [
    "from sklearn import datasets\n",
    "boston = datasets.load_boston()\n",
    "X = boston.data\n",
    "y = boston.target"
   ]
  },
  {
   "cell_type": "code",
   "execution_count": null,
   "metadata": {
    "ExecuteTime": {
     "start_time": "2020-03-20T10:18:53.910Z"
    }
   },
   "outputs": [],
   "source": [
    "y[y <= y.mean()] = 0; y[y > 0] = 1\n",
    "y"
   ]
  },
  {
   "cell_type": "markdown",
   "metadata": {},
   "source": [
    "## GridSearchCV"
   ]
  },
  {
   "cell_type": "code",
   "execution_count": null,
   "metadata": {
    "ExecuteTime": {
     "start_time": "2020-03-20T10:18:53.922Z"
    }
   },
   "outputs": [],
   "source": [
    "import numpy as np\n",
    "from sklearn.cross_validation import KFold\n",
    "from sklearn.linear_model import LogisticRegression\n",
    "from sklearn.grid_search import GridSearchCV\n",
    "import datetime\n",
    "\n",
    "start_time = datetime.datetime.now()\n",
    "\n",
    "grid = {\n",
    "    'C': numpy.power(10.0, numpy.arange(-10, 10))\n",
    "#    , 'solver': ('newton-cg', 'lbfgs', 'liblinear')\n",
    "     ,'solver': ['newton-cg']\n",
    "}\n",
    "fold = KFold(len(y), n_folds=5, shuffle=True, random_state=777)\n",
    "clf = LogisticRegression(penalty='l2', random_state=777, max_iter=10000, tol=(10**-4), solver='netwon-cg')\n",
    "gs = GridSearchCV(clf, grid, scoring='roc_auc', cv=fold, n_jobs=-1, verbose=True)\n",
    "gs.fit(X, y)\n",
    "print ('gs.best_params_:', gs.best_params_)\n",
    "print ('gs.best_score_:', gs.best_score_)\n",
    "print ('Time spent:', datetime.datetime.now() - start_time)\n",
    "gs.grid_scores_"
   ]
  },
  {
   "cell_type": "markdown",
   "metadata": {},
   "source": [
    "## LogisticRegressionCV"
   ]
  },
  {
   "cell_type": "code",
   "execution_count": null,
   "metadata": {
    "ExecuteTime": {
     "start_time": "2020-03-20T10:18:53.934Z"
    }
   },
   "outputs": [],
   "source": [
    "from sklearn.linear_model import LogisticRegressionCV\n",
    "start_time = datetime.datetime.now()\n",
    "\n",
    "fold = KFold(len(y), n_folds=5, shuffle=True, random_state=777)\n",
    "\n",
    "searchCV = LogisticRegressionCV(\n",
    "    Cs=list(numpy.power(10.0, numpy.arange(-10, 10)))\n",
    "    ,penalty='l2'\n",
    "    ,scoring='roc_auc'\n",
    "    ,cv=fold\n",
    "    ,n_jobs=-1\n",
    "    ,verbose=True\n",
    "    ,random_state=777\n",
    "    ,max_iter=10000\n",
    "    ,fit_intercept=True\n",
    "#    ,class_weight='balanced'\n",
    "#    ,dual=True # ValueError: Solver lbfgs,sag,newton-cg supports only dual=False, got dual=True\n",
    "    ,solver='newton-cg'\n",
    "    ,tol=(10**-7)\n",
    ")\n",
    "searchCV.fit(X, y)\n",
    "\n",
    "print ('.coef_:', searchCV.coef_)\n",
    "print ('.intercept_:', searchCV.intercept_)\n",
    "#print ('.Cs_:', searchCV.Cs_)\n",
    "#print ('.coefs_paths_:', searchCV.coefs_paths_)\n",
    "print ('.scores_:', searchCV.scores_)\n",
    "print ('.C_:', searchCV.C_)\n",
    "#print ('.n_iter_:', searchCV.n_iter_)\n",
    "print ('Time spent:', datetime.datetime.now() - start_time)\n",
    "#print ('Max auc_roc:', searchCV.scores_[1].max())  # is wrong see https://github.com/scikit-learn/scikit-learn/issues/6619\n",
    "print ('Max auc_roc:', searchCV.scores_[1].mean(axis=0).max())  # is correct"
   ]
  },
  {
   "cell_type": "markdown",
   "metadata": {},
   "source": [
    "# Serialization\n",
    "\n",
    "https://docs.python.org/3/library/pickle.html#examples\n",
    "\n",
    "http://stackoverflow.com/questions/4529815/saving-an-object-data-persistence-in-python"
   ]
  },
  {
   "cell_type": "markdown",
   "metadata": {},
   "source": [
    "## Pickle"
   ]
  },
  {
   "cell_type": "code",
   "execution_count": null,
   "metadata": {
    "ExecuteTime": {
     "start_time": "2020-03-20T10:18:53.949Z"
    }
   },
   "outputs": [],
   "source": [
    "class CustomClass:\n",
    "    s = 'Some string'\n",
    "    s1 = 's1_'\n",
    "    s2 = 's2_'"
   ]
  },
  {
   "cell_type": "code",
   "execution_count": null,
   "metadata": {
    "ExecuteTime": {
     "start_time": "2020-03-20T10:18:53.958Z"
    }
   },
   "outputs": [],
   "source": [
    "cc = CustomClass()"
   ]
  },
  {
   "cell_type": "code",
   "execution_count": null,
   "metadata": {
    "ExecuteTime": {
     "start_time": "2020-03-20T10:18:53.966Z"
    }
   },
   "outputs": [],
   "source": [
    "# An arbitrary collection of objects supported by pickle.\n",
    "data = {\n",
    "    'a': [1, 2.0, 3, 4+6j],\n",
    "    'b': (\"character string\", b\"byte string\"),\n",
    "    'c': {None, True, False},\n",
    "    'cc': cc\n",
    "}"
   ]
  },
  {
   "cell_type": "code",
   "execution_count": null,
   "metadata": {
    "ExecuteTime": {
     "start_time": "2020-03-20T10:18:53.974Z"
    }
   },
   "outputs": [],
   "source": [
    "import pickle\n",
    "\n",
    "with open('test.pickle', 'wb') as f:\n",
    "    # Pickle the 'data' dictionary using the highest protocol available.\n",
    "    pickle.dump(data, f, pickle.HIGHEST_PROTOCOL)"
   ]
  },
  {
   "cell_type": "code",
   "execution_count": null,
   "metadata": {
    "ExecuteTime": {
     "start_time": "2020-03-20T10:18:53.983Z"
    }
   },
   "outputs": [],
   "source": [
    "# Without protocol specification each time: http://stackoverflow.com/questions/4529815/saving-an-object-data-persistence-in-python\n",
    "import pickle\n",
    "\n",
    "with open('test.pickle', 'wb') as f:\n",
    "    pickler = pickle.Pickler(f, -1)\n",
    "    # Pickle the 'data' dictionary using the highest protocol available.\n",
    "    pickler.dump(data)"
   ]
  },
  {
   "cell_type": "code",
   "execution_count": null,
   "metadata": {
    "ExecuteTime": {
     "start_time": "2020-03-20T10:18:53.992Z"
    }
   },
   "outputs": [],
   "source": [
    "import pickle\n",
    "\n",
    "with open('data.pickle', 'rb') as f:\n",
    "    # The protocol version used is detected automatically, so we do not\n",
    "    # have to specify it.\n",
    "    data = pickle.load(f)\n",
    "\n",
    "data"
   ]
  },
  {
   "cell_type": "markdown",
   "metadata": {},
   "source": [
    "### So, we can't save/restore classes which changed :("
   ]
  },
  {
   "cell_type": "markdown",
   "metadata": {},
   "source": [
    "## Json\n",
    "\n",
    "https://www.safaribooksonline.com/library/view/python-cookbook-3rd/9781449357337/ch06s02.html\n",
    "\n",
    "http://robotfantastic.org/serializing-python-data-to-json-some-edge-cases.html ->\n",
    "    http://jsonpickle.github.io/"
   ]
  },
  {
   "cell_type": "code",
   "execution_count": null,
   "metadata": {
    "ExecuteTime": {
     "start_time": "2020-03-20T10:18:54.010Z"
    }
   },
   "outputs": [],
   "source": [
    "import json\n",
    "\n",
    "# Writing JSON data\n",
    "with open('test.json', 'w') as f:\n",
    "     json.dump(data, f)"
   ]
  },
  {
   "cell_type": "markdown",
   "metadata": {},
   "source": [
    "### jsonpickle"
   ]
  },
  {
   "cell_type": "code",
   "execution_count": null,
   "metadata": {
    "ExecuteTime": {
     "start_time": "2020-03-20T10:18:54.022Z"
    }
   },
   "outputs": [],
   "source": [
    "import jsonpickle\n",
    "\n",
    "print (jsonpickle.encode(data))"
   ]
  },
  {
   "cell_type": "markdown",
   "metadata": {},
   "source": [
    "## Marshal"
   ]
  },
  {
   "cell_type": "code",
   "execution_count": null,
   "metadata": {
    "ExecuteTime": {
     "start_time": "2020-03-20T10:18:54.035Z"
    }
   },
   "outputs": [],
   "source": [
    "import marshal\n",
    "\n",
    "with open('test.marshal', 'w') as f:\n",
    "     marshal.dump(data, f)"
   ]
  },
  {
   "cell_type": "code",
   "execution_count": null,
   "metadata": {},
   "outputs": [],
   "source": []
  },
  {
   "cell_type": "code",
   "execution_count": null,
   "metadata": {},
   "outputs": [],
   "source": []
  },
  {
   "cell_type": "code",
   "execution_count": null,
   "metadata": {},
   "outputs": [],
   "source": []
  },
  {
   "cell_type": "code",
   "execution_count": null,
   "metadata": {},
   "outputs": [],
   "source": []
  },
  {
   "cell_type": "code",
   "execution_count": null,
   "metadata": {},
   "outputs": [],
   "source": []
  },
  {
   "cell_type": "markdown",
   "metadata": {},
   "source": [
    "# Matching vectorize"
   ]
  },
  {
   "cell_type": "code",
   "execution_count": null,
   "metadata": {
    "ExecuteTime": {
     "start_time": "2020-03-20T10:18:54.072Z"
    }
   },
   "outputs": [],
   "source": [
    "text = [\n",
    "    'Алё. Петя, поищи в нашей базе Адольфа Швардсенеггера',\n",
    "    'Вася Уткин, проживающий по адресу г. Санкт-Петербург...',\n",
    "    'гражданин Уткин В., регион СПб...',\n",
    "    'Разум дан человеку для того, чтобы он разумно жил, а не для того только, чтобы он понимал, что он неразумно живет.'\n",
    "]\n",
    "\n",
    "from sklearn.feature_extraction.text import TfidfVectorizer\n",
    "vectorizer = TfidfVectorizer(min_df=1)\n",
    "array = vectorizer.fit_transform(text)\n",
    "array.toarray()"
   ]
  },
  {
   "cell_type": "markdown",
   "metadata": {},
   "source": [
    "## CrossValidationScorer results"
   ]
  },
  {
   "cell_type": "code",
   "execution_count": null,
   "metadata": {
    "ExecuteTime": {
     "start_time": "2020-03-20T10:18:54.085Z"
    }
   },
   "outputs": [],
   "source": [
    "from sklearn.preprocessing import StandardScaler\n",
    "\n",
    "\n",
    "class CrossResults:\n",
    "    '''Based on Results class, but more generalised to store just GridSearchCV instead of custom array of direct loop'''\n",
    "\n",
    "    # All instance vars **must** be difined in constructor: http://localhost:8888/notebooks/final.assignment/Kaggle/FuncSandbox.ipynb#Class,-instance,-static-vars\n",
    "    def __init__(self):\n",
    "        self.res = {}\n",
    "\n",
    "    def put(self, name, description, score, timeSpent):\n",
    "        '''\n",
    "        Store data for next comparations of runs.\n",
    "        Score is just GridSearchCV object after fit() method called\n",
    "        '''\n",
    "        self.res[name] = {\n",
    "            'description': description\n",
    "            ,'spent': timeSpent\n",
    "            ,'score': score\n",
    "            ,'addTime': datetime.datetime.now()\n",
    "        }\n",
    "\n",
    "    def describe(self, comparedTo='init'):\n",
    "        # See http://localhost:8888/notebooks/final.assignment/Kaggle/ArraysSandbox.ipynb#DataFrame.from_records\n",
    "        df = DataFrame(self.res).T\n",
    "        if 0 == len(self.res):\n",
    "            return DataFrame(self.res)\n",
    "\n",
    "        df = df \\\n",
    "            .join(df.score.apply(lambda it: it.best_score_), rsuffix='R') \\\n",
    "            .rename(columns={'scoreR': 'best_auc_roc'}) \\\n",
    "            .join(df.score.apply(lambda it: it.best_params_), rsuffix='R') \\\n",
    "            .rename(columns={'scoreR': 'best_params'}) \\\n",
    "            .drop({'score'}, axis=1) \\\n",
    "            .sort_values(by=['addTime'])\n",
    "\n",
    "        # Add diff column\n",
    "        df['AUC_ROC_diff'] = df.best_auc_roc - df.loc[comparedTo, 'best_auc_roc']\n",
    "        # Move columns AUC_ROC_diff after best_auc_roc:\n",
    "        # http://stackoverflow.com/questions/25122099/move-column-by-name-to-front-of-table-in-pandas\n",
    "        cols = list(df.columns)\n",
    "        cols.insert(cols.index('best_auc_roc') + 1, cols.pop(cols.index('AUC_ROC_diff')))\n",
    "        return df.ix[:, cols]\n",
    "\n",
    "    def describeBest(self, comparedTo='init'):\n",
    "        '''\n",
    "        Return only those tries which are better then one with name 'init'.\n",
    "        Sort by AUC_ROC_diff DESC - Better firest!\n",
    "        '''\n",
    "        df = self.describe()\n",
    "        return df[df.AUC_ROC_diff >=0].sort_values(by=['AUC_ROC_diff'], ascending=False)\n",
    "\n",
    "    def __repr__(self):\n",
    "        return str(self.describe())"
   ]
  },
  {
   "cell_type": "code",
   "execution_count": null,
   "metadata": {
    "ExecuteTime": {
     "start_time": "2020-03-20T10:18:54.093Z"
    }
   },
   "outputs": [],
   "source": [
    "from sklearn.cross_validation import KFold\n",
    "from pandas import DataFrame\n",
    "import pandas\n",
    "import numpy as np\n",
    "import pickle\n",
    "from sklearn.grid_search import GridSearchCV\n",
    "from sklearn.preprocessing import StandardScaler\n",
    "from sklearn.linear_model import LogisticRegression\n",
    "\n",
    "class CrossValidationScorer:\n",
    "    '''\n",
    "    Generilize first attempt LogisticCrossValidationScorer to different type of classifiers, not\n",
    "    only LogisticRegression.\n",
    "    Use GridSearchCV instead of custom parralel implementation. It lack of per loop timing statistic, but more\n",
    "    generic in different parameters grid search!\n",
    "    '''\n",
    "\n",
    "    # All instance vars **must** be difined in constructor: http://localhost:8888/notebooks/final.assignment/Kaggle/FuncSandbox.ipynb#Class,-instance,-static-vars\n",
    "    def __init__(self):\n",
    "        self.features_ = None\n",
    "        self.features_test_ = None\n",
    "\n",
    "        self.X_trn_ = None\n",
    "        self.y_trn_ = None\n",
    "        self.X_tst_ = None\n",
    "\n",
    "        self.c_search_result_ = None\n",
    "\n",
    "        # Grid search instance fited and ready to predict\n",
    "        self.gs = None\n",
    "\n",
    "        # Predicted values from clf_ on test data\n",
    "        self.y_pred_ = None\n",
    "\n",
    "        self.results = CrossResults()\n",
    "\n",
    "    def loadData(self, featuresFile='features.csv', featuresTestFile='features_test.csv'):\n",
    "        # 1) Считайте таблицу с признаками из файла features.csv с помощью кода, приведенного выше.\n",
    "        self.features_ = pandas.read_csv('features.csv', index_col='match_id')\n",
    "        self.features_test_ = pandas.read_csv('features_test.csv', index_col='match_id')\n",
    "        self.dataPrepare()\n",
    "\n",
    "    def dataPrepare(self):\n",
    "        # 1.1) Удалите признаки, связанные с итогами матча (они помечены в описании данных как отсутствующие в\n",
    "        # тестовой выборке).\n",
    "        self.y_trn_ = self.features_.radiant_win\n",
    "        self.X_trn_ = self.features_.loc[:, 'start_time':'dire_first_ward_time']\n",
    "        self.X_tst_ = self.features_test_.loc[:, 'start_time':'dire_first_ward_time']\n",
    "\n",
    "    def getNanCounts(self):\n",
    "        # 2) Проверьте выборку на наличие пропусков с помощью функции count(), которая для каждого столбца\n",
    "        # показывает число заполненных значений. Много ли пропусков в данных? Запишите названия признаков, имеющих\n",
    "        # пропуски, и попробуйте для\n",
    "        # любых двух из них дать обоснование, почему их значения могут быть пропущены.\n",
    "\n",
    "        trn_count = self.X_trn_.count()\n",
    "        trn_with_nan = trn_count[ trn_count < self.X_trn_.shape[0] ]\n",
    "        \n",
    "        # Test data also\n",
    "        tst_count = self.X_tst_.count()\n",
    "        tst_with_nan = tst_count[ tst_count < self.X_tst_.shape[0] ]\n",
    "\n",
    "        #first_blood_time               77677\n",
    "        #first_blood_team               77677\n",
    "        #first_blood_player1            77677\n",
    "        #first_blood_player2            53243\n",
    "        #radiant_bottle_time            81539\n",
    "        #radiant_courier_time           96538\n",
    "        #radiant_flying_courier_time    69751\n",
    "        #radiant_first_ward_time        95394\n",
    "        #dire_bottle_time               81087\n",
    "        #dire_courier_time              96554\n",
    "        #dire_flying_courier_time       71132\n",
    "        #dire_first_ward_time           95404\n",
    "\n",
    "        # Выше приведены признаки, количество значений которых меньше чем в данных результата. Таким образом они\n",
    "        # с пропусками.\n",
    "        # *) Первые 4 признака (first_blood_time, first_blood_team, first_blood_player1, first_blood_player2)\n",
    "        # по описанию могут иметь пропуски: \"Признаки события \"первая кровь\" (first blood). Если событие \"первая\n",
    "        # кровь\" не успело произойти\n",
    "        # за первые 5 минут, то признаки принимают пропущенное значение\". То есть для части матчей оно не произошло.\n",
    "        # *) Следующие: radiant_bottle_time + dire_bottle_time: время первого приобретения командой предмета \"bottle\",\n",
    "        # radiant_courier_time + dire_courier_time: время приобретения предмета \"courier\" radiant_flying_courier_time +\n",
    "        # dire_flying_courier_time: время приобретения предмета \"flying_courier\". Я не играю в эту игру, но вероятнее\n",
    "        # всего покупка данных вещей не является обязательным. То есть эти события могут и не наступать.\n",
    "        # *) radiant_first_ward_time, dire_first_ward_time: время установки командой первого \"наблюдателя\", т.е.\n",
    "        # предмета, который позволяет видеть часть игрового поля. Вероятнее всего это тоже не входит в обязательную\n",
    "        # часть победы и соответственно некоторые игры могут обходиться без этого\n",
    "        return {'train_with_nan': trn_with_nan, 'test_with_nan': tst_with_nan}\n",
    "\n",
    "    def fillNa(self, value=0):\n",
    "        # 3) Замените пропуски на нули с помощью функции fillna(). На самом деле этот способ является предпочтительным\n",
    "        # для логистической регрессии, поскольку он позволит пропущенному значению не вносить никакого вклада в\n",
    "        # предсказание.\n",
    "        # Для деревьев часто лучшим вариантом оказывается замена пропуска на очень большое или очень маленькое значение\n",
    "        # — в этом случае при построении разбиения вершины можно будет отправить объекты с пропусками в отдельную\n",
    "        # ветвь дерева.\n",
    "\n",
    "        # Также есть и другие подходы — например, замена пропуска на среднее значение признака. Мы не требуем этого\n",
    "        # в задании, но при желании попробуйте разные подходы к обработке пропусков и сравните их между собой.\n",
    "\n",
    "        nanCounts = self.getNanCounts()\n",
    "        for i in nanCounts['train_with_nan'].index:\n",
    "            self.X_trn_[i].fillna(value, inplace=True)\n",
    "\n",
    "        for i in nanCounts['test_with_nan'].index:\n",
    "            self.X_tst_[i].fillna(value, inplace=True)\n",
    "\n",
    "    def dropCategorial(self, columns=['lobby_type', 'r1_hero', 'r2_hero', 'r3_hero', 'r4_hero', 'r5_hero', 'd1_hero'\n",
    "                ,'d2_hero', 'd3_hero', 'd4_hero', 'd5_hero']):\n",
    "        # 2) Среди признаков в выборке есть категориальные, которые мы использовали как числовые, что вряд ли\n",
    "        # является хорошей идеей. Категориальных признаков в этой задаче одиннадцать:\n",
    "        # lobby_type и r1_hero, r2_hero, ..., r5_hero, d1_hero, d2_hero, ..., d5_hero.\n",
    "        # Уберите их из выборки, и проведите кросс-валидацию для логистической регрессии на новой выборке с подбором\n",
    "        # лучшего параметра регуляризации.\n",
    "        # Изменилось ли качество? Чем вы можете это объяснить?\n",
    "\n",
    "        # + http://stackoverflow.com/questions/13411544/delete-column-from-pandas-dataframe\n",
    "        self.X_trn_.drop(columns, axis=1, inplace=True)\n",
    "        self.X_tst_.drop(columns, axis=1, inplace=True)\n",
    "\n",
    "    def scale(self, scaler=None):\n",
    "        # Важно: не забывайте, что линейные алгоритмы чувствительны к масштабу признаков! Может пригодиться\n",
    "        # sklearn.preprocessing.StandartScaler.\n",
    "        scaler = scaler if scaler is not None else StandardScaler()\n",
    "\n",
    "        self.X_trn_[self.X_trn_.columns] = scaler.fit_transform(self.X_trn_)\n",
    "        self.X_tst_[self.X_tst_.columns] = scaler.transform(self.X_tst_)\n",
    "\n",
    "    def futuresBag(self\n",
    "                   ,columns=['r1_hero', 'r2_hero', 'r3_hero', 'r4_hero', 'r5_hero', 'd1_hero', 'd2_hero', 'd3_hero'\n",
    "                             , 'd4_hero', 'd5_hero']\n",
    "                   ,patternPositive='r{}_hero', positiveValue=1\n",
    "                   ,patternNegative='d{}_hero', negativeValue=-1\n",
    "                   ,patternBagColumnNames='h{}'):\n",
    "        # 3) На предыдущем шаге мы исключили из выборки признаки rM_hero и dM_hero, которые показывают, какие именно\n",
    "        # герои играли за каждую команду. Это важные признаки — герои имеют разные характеристики, и некоторые из\n",
    "        # них выигрывают чаще, чем другие.\n",
    "        print ('Creating futuresBag')\n",
    "        self.X_trn_ = pandas.concat(\n",
    "            [\n",
    "                self.X_trn_\n",
    "                ,CrossValidationScorer._words_bag(\n",
    "                    self.features_, columns, patternPositive, positiveValue, patternNegative, negativeValue, patternBagColumnNames\n",
    "                )\n",
    "            ]\n",
    "            ,axis=1\n",
    "        )\n",
    "        self.X_tst_ = pandas.concat(\n",
    "            [\n",
    "                self.X_tst_\n",
    "                ,CrossValidationScorer._words_bag(\n",
    "                    self.features_test_, columns, patternPositive, positiveValue, patternNegative, negativeValue, patternBagColumnNames\n",
    "                )\n",
    "            ]\n",
    "            ,axis=1\n",
    "        )\n",
    "\n",
    "    # Мешок слов. Оптимизированный вариант.\n",
    "    # используем numpy.ndarray, но размер делаем не по количеству уникальных элементов, а по максимальному значению.\n",
    "    # Затем конвертируем в DataFrame и удаляем колонки, содержащие только 0\n",
    "    # (http://stackoverflow.com/questions/12411649/filter-columns-of-only-zeros-from-a-pandas-data-frame)\n",
    "    @staticmethod\n",
    "    def _words_bag(df\n",
    "                   ,columns\n",
    "                   ,patternPositive='r{}_hero', positiveValue=1\n",
    "                   ,patternNegative='d{}_hero', negativeValue=-1\n",
    "                   ,patternBagColumnNames='h{}'):\n",
    "\n",
    "        '''\n",
    "        Function for replace categorial data (f.e. ref id) to bag.\n",
    "        F.e.:\n",
    "        r1_hero | r2_hero | d1_hero | d2_hero\n",
    "        1       | 2       | 4       | 6\n",
    "        4       | 3       | 1       | 2\n",
    "        6       | 4       | 1       | 3\n",
    "\n",
    "        will be transformed into:\n",
    "        h1 h2 h3 h4 h6\n",
    "        1  1  0  -1 -1\n",
    "       -1 -1  1  1  0\n",
    "       -1  0 -1  1  1\n",
    "        \n",
    "        Note there no h5 as it was not in incoming data!\n",
    "        Return DataFrame with replaced columns.\n",
    "        '''\n",
    "        bag = numpy.zeros((df.shape[0], df[columns].max().max())) # global max by columns\n",
    "\n",
    "        for i, _id in enumerate(df.index): # i - monotone index (1, 2, 3), _id is real index (1, 3, 8)\n",
    "            for p in range(1, int(len(columns) / 2) + 1): # ???\n",
    "                bag[i, df.ix[_id, patternPositive.format(p)]-1] = positiveValue\n",
    "                bag[i, df.ix[_id, patternNegative.format(p)]-1] = negativeValue\n",
    "\n",
    "        bag = DataFrame(bag, index=df.index)\n",
    "        bag = bag[bag.columns[(bag != 0).any()]]\n",
    "        bag.columns = [patternBagColumnNames.format(h+1) for i,h in enumerate(bag.columns)]\n",
    "        # See http://localhost:8888/notebooks/final.assignment/Kaggle/ArraysSandbox.ipynb#Добавление-нескольких-столбцов-с-РАЗНОЙ-индексацией\n",
    "        bag.index = df.index\n",
    "        return bag\n",
    "\n",
    "    def searchBestParams(self, grid = {'C': numpy.power(10.0, numpy.arange(-10, 30))}, clf = LogisticRegression(penalty='l2', random_state=777)):\n",
    "        '''Search best parameters for classifier'''\n",
    "\n",
    "        print ('Search best parameters for classifier')\n",
    "        start_time = datetime.datetime.now()\n",
    "\n",
    "        fold = KFold(len(self.y_trn_), n_folds=5, shuffle=True, random_state=777)\n",
    "        self.gs = GridSearchCV(clf, grid, scoring='roc_auc', cv=fold, n_jobs=N_JOBS, verbose=True)\n",
    "        self.gs.fit(self.X_trn_, self.y_trn_)\n",
    "        print ('gs.best_params_:', self.gs.best_params_)\n",
    "        print ('gs.best_score_:', self.gs.best_score_)\n",
    "        print ('Time spent:', (datetime.datetime.now() - start_time))\n",
    "\n",
    "    def predict(self):\n",
    "        print ('Predict on test data')\n",
    "        # self.gs.best_estimator_, not self.gs !!!\n",
    "        # http://stackoverflow.com/questions/25949205/sklearn-and-gridsearchcv-is-it-expected-to-return-optimal-parameters/25951666#25951666\n",
    "        self.y_pred_ = self.gs.best_estimator_.predict_proba(self.X_tst_)[:, 1]\n",
    "        print (': y.predict_proba() predicted (min, max, mean): ', self.y_pred_.min(), self.y_pred_.max(), self.y_pred_.mean() )\n",
    "\n",
    "    def writeResultFile(self, result_file='results/kaggle.results.{}.csv'):\n",
    "        print ('Write result into [{}]'.format(result_file.format(self.processedName)))\n",
    "        res = numpy.column_stack( (self.X_tst_.index, self.y_pred_) )\n",
    "        res_df = DataFrame(res, columns=['match_id', 'radiant_win'])\n",
    "        res_df.match_id = res_df.match_id.astype('int') # Is not possible now provide Compound dtypes.\n",
    "        # See http://localhost:8888/notebooks/final.assignment/Kaggle/ArraysSandbox.ipynb#DataFarme-dtypes-on-create\n",
    "        res_df.to_csv(result_file.format(self.processedName), encoding='utf-8', index=False)\n",
    "\n",
    "    def PROCESS(self\n",
    "        ,name, description\n",
    "        ,flow=['loadData', 'fillNa', 'dropCategorial', 'scale', 'futuresBag', 'searchBestParams', 'predict', 'writeResultFile']\n",
    "        ,flow_override={}):\n",
    "        '''\n",
    "        Flow may contain string method name or something which may be callable.\n",
    "        '''\n",
    "\n",
    "        self.processedName = name\n",
    "        start_time = datetime.datetime.now()\n",
    "        print ('Start processing [{}] (\"{}\") at {}'.format(name, description, start_time))\n",
    "\n",
    "        for call in flow:\n",
    "            call = flow_override[call] if call in flow_override else call\n",
    "\n",
    "            if callable(call):\n",
    "                call(self)\n",
    "            else: # Threat as method name. See FuncSandbox.ipynb\n",
    "                getattr(self, call)()\n",
    "\n",
    "        timeSpent = (datetime.datetime.now() - start_time)\n",
    "        self.results.put(\n",
    "            name, description\n",
    "            ,self.gs\n",
    "            ,timeSpent\n",
    "        )\n",
    "        print ('Done processing [{}] ({}). Total time spent: {}'.format(name, description, timeSpent))\n",
    "\n",
    "    def saveResults(self, file='scorer.results.res.pickle'):\n",
    "        with open('scorer.results.res.pickle', 'wb') as file:\n",
    "            pickle.dump(self.results.res, file, pickle.HIGHEST_PROTOCOL)\n",
    "\n",
    "    def loadResults(self, file='scorer.results.res.pickle'):\n",
    "        with open(file, 'rb') as file:\n",
    "            self.results.res = pickle.load(file)\n",
    "\n",
    "# Example of use:\n",
    "#lcv = CrossValidationScorer()\n",
    "#lcv.PROCESS(\n",
    "#    'Test0', 'Just test'\n",
    "#    [\n",
    "#        'loadData'\n",
    "#        ,'fillNa'\n",
    "#        ,'dropCategorial'\n",
    "#        ,'scale'\n",
    "#        ,'futuresBag'\n",
    "#        ,'searchBestParams'\n",
    "#        ,'predict', 'writeResultFile'\n",
    "#    ]\n",
    "#)\n",
    "#lcv.results.describe()\n",
    "#lcv.results.descriptions()\n",
    "#lcv.results.head()\n",
    "#lcv.results.plot()\n",
    "print (\"done\")"
   ]
  },
  {
   "cell_type": "code",
   "execution_count": null,
   "metadata": {
    "ExecuteTime": {
     "start_time": "2020-03-20T10:18:54.103Z"
    }
   },
   "outputs": [],
   "source": [
    "# OR load saved!\n",
    "scorer = CrossValidationScorer()\n",
    "scorer.loadResults()"
   ]
  },
  {
   "cell_type": "markdown",
   "metadata": {},
   "source": [
    "# ↡↡↡↡↡↡↡"
   ]
  },
  {
   "cell_type": "code",
   "execution_count": null,
   "metadata": {
    "ExecuteTime": {
     "start_time": "2020-03-20T10:18:54.114Z"
    }
   },
   "outputs": [],
   "source": [
    "scorer.results.describeBest().filter(regex='^drop_column:.*', axis=0).index"
   ]
  },
  {
   "cell_type": "code",
   "execution_count": null,
   "metadata": {
    "ExecuteTime": {
     "start_time": "2020-03-20T10:18:54.124Z"
    }
   },
   "outputs": [],
   "source": [
    "[ c.replace('drop_column:', '') for c in scorer.results.describeBest().filter(regex='^drop_column:.*', axis=0).index ]"
   ]
  }
 ],
 "metadata": {
  "celltoolbar": "Initialisation Cell",
  "kernelspec": {
   "display_name": "Python 3 (ipykernel)",
   "language": "python",
   "name": "python3"
  },
  "language_info": {
   "codemirror_mode": {
    "name": "ipython",
    "version": 3
   },
   "file_extension": ".py",
   "mimetype": "text/x-python",
   "name": "python",
   "nbconvert_exporter": "python",
   "pygments_lexer": "ipython3",
   "version": "3.10.5"
  },
  "toc": {
   "base_numbering": 1,
   "nav_menu": {},
   "number_sections": true,
   "sideBar": true,
   "skip_h1_title": false,
   "title_cell": "Table of Contents",
   "title_sidebar": "Contents",
   "toc_cell": true,
   "toc_position": {},
   "toc_section_display": false,
   "toc_window_display": true
  },
  "toc_position": {
   "height": "811px",
   "left": "1022px",
   "right": "20px",
   "top": "6px",
   "width": "475px"
  }
 },
 "nbformat": 4,
 "nbformat_minor": 4
}
